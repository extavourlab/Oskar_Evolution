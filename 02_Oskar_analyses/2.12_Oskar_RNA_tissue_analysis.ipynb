{
 "cells": [
  {
   "cell_type": "code",
   "execution_count": 1,
   "source": [],
   "outputs": [],
   "metadata": {}
  },
  {
   "cell_type": "markdown",
   "source": [
    "## 1. Build TSA master file for Aedes aegypti"
   ],
   "metadata": {}
  }
 ],
 "metadata": {
  "orig_nbformat": 4,
  "language_info": {
   "name": "python",
   "version": "3.9.6",
   "mimetype": "text/x-python",
   "codemirror_mode": {
    "name": "ipython",
    "version": 3
   },
   "pygments_lexer": "ipython3",
   "nbconvert_exporter": "python",
   "file_extension": ".py"
  },
  "kernelspec": {
   "name": "python3",
   "display_name": "Python 3.9.6 64-bit ('aligners': conda)"
  },
  "interpreter": {
   "hash": "f06cb2f4cfb4db5c10583a5bf41d9fd4df210895c14e1cb0a7a3c381528b3abc"
  }
 },
 "nbformat": 4,
 "nbformat_minor": 2
}