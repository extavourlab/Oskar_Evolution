{
 "cells": [
  {
   "cell_type": "code",
   "execution_count": 1,
   "metadata": {},
   "outputs": [],
   "source": [
    "import os, subprocess \n",
    "\n",
    "import pandas as pd \n",
    "\n",
    "from ftplib import FTP\n",
    "from tqdm import tqdm "
   ]
  },
  {
   "cell_type": "markdown",
   "metadata": {},
   "source": [
    "## 1. Run kallisto on reads of Aedes aegypti\n",
    "    1. Collect TSA master file \n",
    "    2. Make Kallisto index\n",
    "    3. Write Kallisto quant command lines in a bash script\n",
    "        - $ Run parallel -j 8 < all_kallisto_quant.sh"
   ]
  },
  {
   "cell_type": "code",
   "execution_count": 55,
   "metadata": {},
   "outputs": [],
   "source": [
    "def collect_urls(tsa_id):\n",
    "    url_list = []\n",
    "    prefix = tsa_id[:2]\n",
    "    suffix = tsa_id[2:4]\n",
    "    print('Getting data URLs...')\n",
    "    ftp = FTP('ftp.ncbi.nih.gov')\n",
    "    ftp.login()\n",
    "\n",
    "    url_base = f'/sra/wgs_aux/{prefix}/{suffix}/{tsa_id}/'\n",
    "    ftp.cwd(url_base)\n",
    "    for i in range(2):\n",
    "        i += 1 \n",
    "        url = f'{url_base}{tsa_id}.{i}.fsa_nt.gz'\n",
    "        url_list.append(url)\n",
    "    return url_list\n",
    "\n",
    "        \n",
    "def get_tsa_data(tsa_id, folder_output):\n",
    "    tsa = []\n",
    "    urls = collect_urls(tsa_id)\n",
    "    for url in urls:\n",
    "        file_name = url.split('/')[-1]\n",
    "        print(f'Downloading rsync://ftp.ncbi.nlm.nih.gov{url} {folder_output}')\n",
    "        print(f'rsync --copy-links --recursive --times --verbose rsync://ftp.ncbi.nlm.nih.gov{url} {folder_output}')\n",
    "        tsa.append(file_name)\n",
    "    return tsa \n",
    "\n",
    "\n",
    "def build_tsa_input():\n",
    "    folder_base = '/home/xqua/data/Oskar_Evolution'\n",
    "    folder_output = f'{folder_base}/Data/02_Oskar_analyses/2.12/aedes_aegypti/'\n",
    "    tsa = get_tsa_data('GFNA01', folder_output)\n",
    "\n",
    "    os.chdir('..')\n",
    "    os.chdir(folder_output)\n",
    "    transcript_output = 'GFNA01_transcripts.fasta.gz'\n",
    "    if os.path.isfile(f'{folder_output}{transcript_output}'):\n",
    "        print(f'{transcript_output} already generated')\n",
    "    else: \n",
    "        print('\\n\\nGenerating TSA master file')\n",
    "        cmd = f'zcat {tsa[0]} {tsa[1]} > {transcript_output.replace(\".gz\", \"\")}'\n",
    "        subprocess.run(cmd, shell=True)\n",
    "        subprocess.run(f'gzip {transcript_output.replace(\".gz\", \"\")}', shell=True)\n",
    "        \n",
    "        \n",
    "def run_kallisto_index():\n",
    "    folder_base = '/home/xqua/data/Oskar_Evolution'\n",
    "    folder_output = f'{folder_base}/Data/02_Oskar_analyses/2.12/aedes_aegypti/'\n",
    "    transcripts_gz = 'GFNA01_transcripts.fasta.gz'\n",
    "    transcripts_idx = 'GFNA01_transcripts.idx'\n",
    "    print(f'\\nBuilding index for {transcripts_gz.replace(\".gz\", \"\")}')\n",
    "    cmd = f'kallisto index -i {transcripts_idx} {transcripts_gz}'\n",
    "    print(f'Run ${cmd} in {folder_output} and move to /home/xqua/data/')\n",
    "    # subprocess.run(cmd, shell=True)\n",
    "    \n",
    "            \n",
    "def kallisto_quant_cmds():\n",
    "    os.chdir('/home/xqua/data/')\n",
    "    if not os.path.isdir(f'{os.getcwd()}/quant/'):\n",
    "        os.mkdir(f'{os.getcwd()}/quant/')\n",
    "    index = f'{os.getcwd()}/GFNA01_transcripts.idx'\n",
    "    fastq_folders = '/home/xqua/bucket/'\n",
    "    for folder in tqdm(os.listdir(fastq_folders)):\n",
    "        if '.csv' in folder :\n",
    "            sra_table_info = pd.read_csv(os.path.join(fastq_folders, folder), sep=',')\n",
    "            library_layout = sra_table_info[['Run', 'LibraryLayout']]\n",
    "    print('Writing bash command lines')\n",
    "    f = open(f'{os.getcwd()}/all_kallisto_quant.sh', 'w')\n",
    "    for run, layout in library_layout.values:\n",
    "        fastq = ' '.join([ os.path.join(fastq_folders, run, file) for file in os.listdir(os.path.join(fastq_folders, run)) ])\n",
    "        if layout == 'SINGLE':\n",
    "            cmd = f'kallisto quant -i {index} -o {os.getcwd()}/quant/{run}_output --single -l 200 -s 20 {fastq}'\n",
    "        if layout == 'PAIRED':\n",
    "            cmd = f'kallisto quant -i {index} -o {os.getcwd()}/quant/{run}_output {fastq}'\n",
    "        f.write(f'{cmd} \\n')\n",
    "    f.close()\n",
    "    \n",
    "def check_abundance_file():\n",
    "    quant_path = '/home/xqua/data/quant'\n",
    "    for folder"
   ]
  },
  {
   "cell_type": "code",
   "execution_count": 57,
   "metadata": {},
   "outputs": [],
   "source": [
    "# Main"
   ]
  },
  {
   "cell_type": "code",
   "execution_count": 54,
   "metadata": {},
   "outputs": [
    {
     "name": "stdout",
     "output_type": "stream",
     "text": [
      "Getting data URLs...\n",
      "Downloading /sra/wgs_aux/GF/NA/GFNA01/GFNA01.1.fsa_nt.gz /home/xqua/data/Oskar_Evolution/Data/02_Oskar_analyses/2.12/aedes_aegypti/\n",
      "rsync --copy-links --recursive --times --verbose rsync://ftp.ncbi.nlm.nih.gov/sra/wgs_aux/GF/NA/GFNA01/GFNA01.1.fsa_nt.gz /home/xqua/data/Oskar_Evolution/Data/02_Oskar_analyses/2.12/aedes_aegypti/\n",
      "Downloading /sra/wgs_aux/GF/NA/GFNA01/GFNA01.2.fsa_nt.gz /home/xqua/data/Oskar_Evolution/Data/02_Oskar_analyses/2.12/aedes_aegypti/\n",
      "rsync --copy-links --recursive --times --verbose rsync://ftp.ncbi.nlm.nih.gov/sra/wgs_aux/GF/NA/GFNA01/GFNA01.2.fsa_nt.gz /home/xqua/data/Oskar_Evolution/Data/02_Oskar_analyses/2.12/aedes_aegypti/\n",
      "Generating TSA master file\n"
     ]
    },
    {
     "name": "stderr",
     "output_type": "stream",
     "text": [
      "100%|██████████| 148/148 [00:00<00:00, 20016.03it/s]"
     ]
    },
    {
     "name": "stdout",
     "output_type": "stream",
     "text": [
      "\n",
      "Building index for GFNA01_transcripts.fasta\n",
      "Run $kallisto index -i GFNA01_transcripts.idx GFNA01_transcripts.fasta.gz in /home/xqua/data/Oskar_Evolution/Data/02_Oskar_analyses/2.12/aedes_aegypti/ and move to /home/xqua/data/\n",
      "Writing bash command lines\n"
     ]
    },
    {
     "name": "stderr",
     "output_type": "stream",
     "text": [
      "\n"
     ]
    }
   ],
   "source": [
    "build_tsa_input()\n",
    "run_kallisto_index()\n",
    "kallisto_quant_cmds()"
   ]
  },
  {
   "cell_type": "code",
   "execution_count": 59,
   "metadata": {},
   "outputs": [],
   "source": [
    "#### Check number of abundance.tsv done"
   ]
  },
  {
   "cell_type": "code",
   "execution_count": 62,
   "metadata": {},
   "outputs": [
    {
     "name": "stdout",
     "output_type": "stream",
     "text": [
      "      4       4     216\n"
     ]
    }
   ],
   "source": [
    "!find /home/xqua/data/quant/ -type f -name '*.tsv' -print | wc"
   ]
  },
  {
   "cell_type": "code",
   "execution_count": null,
   "metadata": {},
   "outputs": [],
   "source": []
  }
 ],
 "metadata": {
  "interpreter": {
   "hash": "f06cb2f4cfb4db5c10583a5bf41d9fd4df210895c14e1cb0a7a3c381528b3abc"
  },
  "kernelspec": {
   "display_name": "Python 3",
   "language": "python",
   "name": "python3"
  },
  "language_info": {
   "codemirror_mode": {
    "name": "ipython",
    "version": 3
   },
   "file_extension": ".py",
   "mimetype": "text/x-python",
   "name": "python",
   "nbconvert_exporter": "python",
   "pygments_lexer": "ipython3",
   "version": "3.8.8"
  }
 },
 "nbformat": 4,
 "nbformat_minor": 4
}
