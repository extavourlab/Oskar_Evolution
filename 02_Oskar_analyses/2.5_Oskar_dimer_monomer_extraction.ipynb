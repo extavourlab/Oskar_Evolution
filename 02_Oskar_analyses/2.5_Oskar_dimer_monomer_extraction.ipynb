{
 "cells": [
  {
   "cell_type": "markdown",
   "metadata": {},
   "source": [
    "# Analysis #5: Isolation of oskar sequences according to Jeske 2015 Dimerization status\n",
    "- Author: Savandara BESSE and Leo BLONDEL\n",
    "- Creation: 07-18-2017\n",
    "- Last modification: 12-10-2019\n",
    "\n",
    "### Required inputs\n",
    "- Oskar alignement: `../Data/01_Oskar_identification/oskar_tracker_results/oskar_filtered.aligned.fasta`\n",
    "\n",
    "### Description\n",
    "Creates specific alignments based on conformation of LOTUS (monomer vs. dimer)\n",
    "\n",
    "### Generated outputs\n",
    "Available in `./Data/02_Oskar_analyses/2.4/FASTA/`\n",
    "- OSKAR_holometabola.fasta\n",
    "- LOTUS_holometabola.fasta\n",
    "- OSK_holometabola.fasta\n",
    "- OSKAR_hemimetabola.fasta\n",
    "- LOTUS_hemimetabola.fasta\n",
    "- OSK_hemimetabola.fasta\n"
   ]
  },
  {
   "cell_type": "code",
   "execution_count": 19,
   "metadata": {
    "inputHidden": false,
    "outputHidden": false
   },
   "outputs": [],
   "source": [
    "import os\n",
    "import numpy as np\n",
    "from Bio import SeqIO\n",
    "from Bio.Seq import Seq\n",
    "from Bio.SeqRecord import SeqRecord\n",
    "from Bio.Alphabet import generic_protein"
   ]
  },
  {
   "cell_type": "code",
   "execution_count": 20,
   "metadata": {},
   "outputs": [],
   "source": [
    "handle = SeqIO.parse('../Data/01_Oskar_identification/oskar_tracker_results/oskar_filtered.aligned.fasta', 'fasta')\n",
    "seqs = [s for s in handle]\n",
    "families = np.unique([s.description.split('|')[-3] for s in seqs])"
   ]
  },
  {
   "cell_type": "code",
   "execution_count": 21,
   "metadata": {},
   "outputs": [
    {
     "data": {
      "text/plain": [
       "array(['Adelidae', 'Aeolothripidae', 'Ampulicidae', 'Aphelinidae',\n",
       "       'Asilidae', 'Aulacidae', 'Baetidae', 'Bethylidae', 'Blaberidae',\n",
       "       'Blattidae', 'Bombyliidae', 'Boreidae', 'Bothrideridae',\n",
       "       'Braconidae', 'Calliphoridae', 'Capniidae', 'Carabidae',\n",
       "       'Cecidomyiidae', 'Ceraphronidae', 'Ceratopogonidae', 'Chalcididae',\n",
       "       'Chaoboridae', 'Chironomidae', 'Chloropidae', 'Chrysididae',\n",
       "       'Chrysomelidae', 'Chrysopidae', 'Coccinellidae', 'Cucujidae',\n",
       "       'Culicidae', 'Curculionidae', 'Cylindrotomidae', 'Cynipidae',\n",
       "       'Diapriidae', 'Diprionidae', 'Dolichopodidae', 'Drosophilidae',\n",
       "       'Ectobiidae', 'Encyrtidae', 'Eupelmidae', 'Eurytomidae',\n",
       "       'Evaniidae', 'Figitidae', 'Formicidae', 'Gasteruptiidae',\n",
       "       'Glossinidae', 'Gryllidae', 'Heteropterygidae', 'Hydroptilidae',\n",
       "       'Ichneumonidae', 'Keroplatidae', 'Lepidopsocidae', 'Leuctridae',\n",
       "       'Limnephilidae', 'Liposcelididae', 'Lonchopteridae',\n",
       "       'Megalodontesidae', 'Megaspilidae', 'Megastigmidae', 'Muscidae',\n",
       "       'Mutillidae', 'Mymaridae', 'Mystacinobiidae', 'Nicoletiidae',\n",
       "       'Nitidulidae', 'None', 'Ormyridae', 'Orussidae', 'Palaephatidae',\n",
       "       'Pamphiliidae', 'Panorpidae', 'Pediciidae', 'Pelecinidae',\n",
       "       'Phasmatidae', 'Phlaeothripidae', 'Phoridae', 'Pipunculidae',\n",
       "       'Platypezidae', 'Pompilidae', 'Proctotrupidae', 'Psychodidae',\n",
       "       'Pteromalidae', 'Sapygidae', 'Sarcophagidae', 'Scathophagidae',\n",
       "       'Scatopsidae', 'Scelionidae', 'Siricidae', 'Sphaeropsocidae',\n",
       "       'Stephanidae', 'Syrphidae', 'Tachinidae', 'Tanaostigmatidae',\n",
       "       'Tenthredinidae', 'Tephritidae', 'Thripidae', 'Thynnidae',\n",
       "       'Tiphiidae', 'Torymidae', 'Trichogrammatidae', 'Vespidae',\n",
       "       'Xyelidae'], \n",
       "      dtype='<U17')"
      ]
     },
     "execution_count": 21,
     "metadata": {},
     "output_type": "execute_result"
    }
   ],
   "source": [
    "families"
   ]
  },
  {
   "cell_type": "markdown",
   "metadata": {},
   "source": [
    "## Step 1: Collect sequences from specifc families"
   ]
  },
  {
   "cell_type": "code",
   "execution_count": 22,
   "metadata": {},
   "outputs": [],
   "source": [
    "mapping = {\n",
    "        'Gryllidae':\"monomeric\",\n",
    "        'Formicidae':\"monomeric\",\n",
    "        'Culicidae':\"monomeric\",\n",
    "        'Pteromalidae':\"dimeric\",\n",
    "        'Drosophilidae':\"dimeric\",\n",
    "        'Tephritidae':\"dimeric\"\n",
    "}"
   ]
  },
  {
   "cell_type": "code",
   "execution_count": 23,
   "metadata": {},
   "outputs": [],
   "source": [
    "sequences = {\n",
    "    'monomeric': [],\n",
    "    'dimeric': []\n",
    "}"
   ]
  },
  {
   "cell_type": "code",
   "execution_count": 24,
   "metadata": {},
   "outputs": [],
   "source": [
    "for seq in seqs:\n",
    "    fam = seq.description.split('|')[-3]\n",
    "    if fam in mapping:\n",
    "        sequences[mapping[fam]].append(seq)"
   ]
  },
  {
   "cell_type": "code",
   "execution_count": 25,
   "metadata": {},
   "outputs": [
    {
     "data": {
      "text/plain": [
       "66"
      ]
     },
     "execution_count": 25,
     "metadata": {},
     "output_type": "execute_result"
    }
   ],
   "source": [
    "len(sequences['monomeric'])"
   ]
  },
  {
   "cell_type": "code",
   "execution_count": 26,
   "metadata": {},
   "outputs": [
    {
     "data": {
      "text/plain": [
       "86"
      ]
     },
     "execution_count": 26,
     "metadata": {},
     "output_type": "execute_result"
    }
   ],
   "source": [
    "len(sequences['dimeric'])"
   ]
  },
  {
   "cell_type": "markdown",
   "metadata": {},
   "source": [
    "## Step 2: Save Sequences"
   ]
  },
  {
   "cell_type": "code",
   "execution_count": 18,
   "metadata": {},
   "outputs": [
    {
     "data": {
      "text/plain": [
       "66"
      ]
     },
     "execution_count": 18,
     "metadata": {},
     "output_type": "execute_result"
    }
   ],
   "source": [
    "SeqIO.write(sequences['dimeric'], '../Data/02_Oskar_analyses/2.5/FASTA/OSKAR_Dimeric_alignment.fasta', 'fasta')\n",
    "SeqIO.write(sequences['monomeric'], '../Data/02_Oskar_analyses/2.5/FASTA/OSKAR_Monomeric_alignment.fasta', 'fasta')"
   ]
  },
  {
   "cell_type": "code",
   "execution_count": null,
   "metadata": {},
   "outputs": [],
   "source": []
  }
 ],
 "metadata": {
  "kernel_info": {
   "name": "python3"
  },
  "kernelspec": {
   "display_name": "Python 3",
   "language": "python",
   "name": "python3"
  },
  "language_info": {
   "codemirror_mode": {
    "name": "ipython",
    "version": 3
   },
   "file_extension": ".py",
   "mimetype": "text/x-python",
   "name": "python",
   "nbconvert_exporter": "python",
   "pygments_lexer": "ipython3",
   "version": "3.5.6"
  },
  "widgets": {
   "application/vnd.jupyter.widget-state+json": {
    "state": {},
    "version_major": 2,
    "version_minor": 0
   }
  }
 },
 "nbformat": 4,
 "nbformat_minor": 4
}
