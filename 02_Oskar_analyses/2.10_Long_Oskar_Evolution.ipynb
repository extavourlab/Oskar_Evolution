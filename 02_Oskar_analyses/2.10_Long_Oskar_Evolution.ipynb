{
 "cells": [
  {
   "cell_type": "markdown",
   "metadata": {},
   "source": [
    "# Analysis #10: Long Oskar Evolution\n",
    "- Author: Leo BLONDEL\n",
    "\n",
    "    \n",
    "### Description\n",
    "Generate Figure S5 where is plotted the overall occupancy of a position in the Oskar alignment trimmed for at least 10% overall occupancy at a position across Dipterian families. "
   ]
  },
  {
   "cell_type": "markdown",
   "metadata": {},
   "source": [
    "# Step 1 Filter Diptera Only"
   ]
  },
  {
   "cell_type": "code",
   "execution_count": 2,
   "metadata": {},
   "outputs": [],
   "source": [
    "from Bio import SeqIO"
   ]
  },
  {
   "cell_type": "code",
   "execution_count": 7,
   "metadata": {},
   "outputs": [],
   "source": [
    "handle = SeqIO.parse('../Data/01_Oskar_identification/oskar_tracker_results/oskar_all.fasta', 'fasta')\n",
    "seqs = [s for s in handle if 'Diptera' in s.description]"
   ]
  },
  {
   "cell_type": "code",
   "execution_count": 11,
   "metadata": {},
   "outputs": [
    {
     "data": {
      "text/plain": [
       "193"
      ]
     },
     "execution_count": 11,
     "metadata": {},
     "output_type": "execute_result"
    }
   ],
   "source": [
    "SeqIO.write(seqs, '../Data/02_Oskar_analyses/2.10/OSKAR_Diptera.fasta', 'fasta')"
   ]
  },
  {
   "cell_type": "code",
   "execution_count": 12,
   "metadata": {},
   "outputs": [
    {
     "name": "stdout",
     "output_type": "stream",
     "text": [
      "\n",
      "MUSCLE v3.8.31 by Robert C. Edgar\n",
      "\n",
      "http://www.drive5.com/muscle\n",
      "This software is donated to the public domain.\n",
      "Please cite: Edgar, R.C. Nucleic Acids Res 32(5), 1792-97.\n",
      "\n",
      "OSKAR_Diptera 193 seqs, max length 1160, avg  length 575\n",
      "00:00:00    24 MB(-2%)  Iter   1  100.00%  K-mer dist pass 1\n",
      "00:00:00    24 MB(-2%)  Iter   1  100.00%  K-mer dist pass 2\n",
      "00:00:02   118 MB(-8%)  Iter   1  100.00%  Align node       \n",
      "00:00:02   119 MB(-8%)  Iter   1  100.00%  Root alignment\n",
      "00:00:04   120 MB(-8%)  Iter   2  100.00%  Refine tree   \n",
      "00:00:04   120 MB(-8%)  Iter   2  100.00%  Root alignment\n",
      "00:00:04   120 MB(-8%)  Iter   2  100.00%  Root alignment\n",
      "00:00:13   120 MB(-8%)  Iter   3  100.00%  Refine biparts\n",
      "00:00:21   120 MB(-8%)  Iter   4  100.00%  Refine biparts\n",
      "00:00:29   120 MB(-8%)  Iter   5  100.00%  Refine biparts\n",
      "00:00:32   120 MB(-8%)  Iter   6  100.00%  Refine biparts\n",
      "00:00:32   120 MB(-8%)  Iter   6  100.00%  Refine biparts\n",
      "00:00:40   120 MB(-8%)  Iter   7  100.00%  Refine biparts\n",
      "00:00:47   120 MB(-8%)  Iter   8  100.00%  Refine biparts\n",
      "00:00:47   120 MB(-8%)  Iter   9  100.00%  Refine biparts\n",
      "00:00:47   120 MB(-8%)  Iter   9  100.00%  Refine biparts\n"
     ]
    }
   ],
   "source": [
    "!muscle -in ../Data/02_Oskar_analyses/2.10/OSKAR_Diptera.fasta -out ../Data/02_Oskar_analyses/2.10/OSKAR_Diptera.align.fasta"
   ]
  },
  {
   "cell_type": "code",
   "execution_count": 156,
   "metadata": {},
   "outputs": [],
   "source": [
    "! trimal \\\n",
    "-in ../Data/02_Oskar_analyses/2.10/OSKAR_Diptera.align.fasta \\\n",
    "-out ../Data/02_Oskar_analyses/2.10/OSKAR_Diptera.align.trimmed_0.1.fasta \\\n",
    "-gt 0.1 -fasta -keepheader\n"
   ]
  },
  {
   "cell_type": "markdown",
   "metadata": {},
   "source": [
    "# Calculate occupancy per familly"
   ]
  },
  {
   "cell_type": "code",
   "execution_count": 179,
   "metadata": {},
   "outputs": [],
   "source": [
    "import numpy as np\n",
    "from tqdm import tqdm_notebook as tqdm"
   ]
  },
  {
   "cell_type": "code",
   "execution_count": 158,
   "metadata": {},
   "outputs": [],
   "source": [
    "handle = SeqIO.parse('../Data/02_Oskar_analyses/2.10/OSKAR_Diptera.align.trimmed_0.1.fasta', 'fasta')\n",
    "seqs = [s for s in handle]"
   ]
  },
  {
   "cell_type": "code",
   "execution_count": 186,
   "metadata": {},
   "outputs": [
    {
     "data": {
      "application/vnd.jupyter.widget-view+json": {
       "model_id": "e4bf804f48414bd4a76fd97d1b4663b5",
       "version_major": 2,
       "version_minor": 0
      },
      "text/plain": [
       "HBox(children=(IntProgress(value=0, max=31), HTML(value='')))"
      ]
     },
     "metadata": {},
     "output_type": "display_data"
    },
    {
     "data": {
      "application/vnd.jupyter.widget-view+json": {
       "model_id": "bb071be37be34d10a0587ff49ee59b40",
       "version_major": 2,
       "version_minor": 0
      },
      "text/plain": [
       "HBox(children=(IntProgress(value=0, max=883), HTML(value='')))"
      ]
     },
     "metadata": {},
     "output_type": "display_data"
    },
    {
     "name": "stdout",
     "output_type": "stream",
     "text": [
      "\n"
     ]
    },
    {
     "data": {
      "application/vnd.jupyter.widget-view+json": {
       "model_id": "ab667e116b6442d1a91500fd57bb0bbd",
       "version_major": 2,
       "version_minor": 0
      },
      "text/plain": [
       "HBox(children=(IntProgress(value=0, max=883), HTML(value='')))"
      ]
     },
     "metadata": {},
     "output_type": "display_data"
    },
    {
     "name": "stdout",
     "output_type": "stream",
     "text": [
      "\n"
     ]
    },
    {
     "data": {
      "application/vnd.jupyter.widget-view+json": {
       "model_id": "558b824de9e44638bc81f7836d7d883c",
       "version_major": 2,
       "version_minor": 0
      },
      "text/plain": [
       "HBox(children=(IntProgress(value=0, max=883), HTML(value='')))"
      ]
     },
     "metadata": {},
     "output_type": "display_data"
    },
    {
     "name": "stdout",
     "output_type": "stream",
     "text": [
      "\n"
     ]
    },
    {
     "data": {
      "application/vnd.jupyter.widget-view+json": {
       "model_id": "ecfbb5f21b424626801787161d350b57",
       "version_major": 2,
       "version_minor": 0
      },
      "text/plain": [
       "HBox(children=(IntProgress(value=0, max=883), HTML(value='')))"
      ]
     },
     "metadata": {},
     "output_type": "display_data"
    },
    {
     "name": "stdout",
     "output_type": "stream",
     "text": [
      "\n"
     ]
    },
    {
     "data": {
      "application/vnd.jupyter.widget-view+json": {
       "model_id": "7446a919751f482a91d01c02adcd785f",
       "version_major": 2,
       "version_minor": 0
      },
      "text/plain": [
       "HBox(children=(IntProgress(value=0, max=883), HTML(value='')))"
      ]
     },
     "metadata": {},
     "output_type": "display_data"
    },
    {
     "name": "stdout",
     "output_type": "stream",
     "text": [
      "\n"
     ]
    },
    {
     "data": {
      "application/vnd.jupyter.widget-view+json": {
       "model_id": "8b43942fb2664cfcb3bbd9bfacab2d32",
       "version_major": 2,
       "version_minor": 0
      },
      "text/plain": [
       "HBox(children=(IntProgress(value=0, max=883), HTML(value='')))"
      ]
     },
     "metadata": {},
     "output_type": "display_data"
    },
    {
     "name": "stdout",
     "output_type": "stream",
     "text": [
      "\n"
     ]
    },
    {
     "data": {
      "application/vnd.jupyter.widget-view+json": {
       "model_id": "297628961ca74cbbb44fd337cfcae5bf",
       "version_major": 2,
       "version_minor": 0
      },
      "text/plain": [
       "HBox(children=(IntProgress(value=0, max=883), HTML(value='')))"
      ]
     },
     "metadata": {},
     "output_type": "display_data"
    },
    {
     "name": "stdout",
     "output_type": "stream",
     "text": [
      "\n"
     ]
    },
    {
     "data": {
      "application/vnd.jupyter.widget-view+json": {
       "model_id": "04d05ddcad7a4e0b9e66f63c9adec5f5",
       "version_major": 2,
       "version_minor": 0
      },
      "text/plain": [
       "HBox(children=(IntProgress(value=0, max=883), HTML(value='')))"
      ]
     },
     "metadata": {},
     "output_type": "display_data"
    },
    {
     "name": "stdout",
     "output_type": "stream",
     "text": [
      "\n"
     ]
    },
    {
     "data": {
      "application/vnd.jupyter.widget-view+json": {
       "model_id": "347562e426cc4fb1ae8af90f46aebe29",
       "version_major": 2,
       "version_minor": 0
      },
      "text/plain": [
       "HBox(children=(IntProgress(value=0, max=883), HTML(value='')))"
      ]
     },
     "metadata": {},
     "output_type": "display_data"
    },
    {
     "name": "stdout",
     "output_type": "stream",
     "text": [
      "\n"
     ]
    },
    {
     "data": {
      "application/vnd.jupyter.widget-view+json": {
       "model_id": "a805e1c0fb4741d2a911efa290e842ba",
       "version_major": 2,
       "version_minor": 0
      },
      "text/plain": [
       "HBox(children=(IntProgress(value=0, max=883), HTML(value='')))"
      ]
     },
     "metadata": {},
     "output_type": "display_data"
    },
    {
     "name": "stdout",
     "output_type": "stream",
     "text": [
      "\n"
     ]
    },
    {
     "data": {
      "application/vnd.jupyter.widget-view+json": {
       "model_id": "5e5b7298c0834098bb9932b17d2d6e4a",
       "version_major": 2,
       "version_minor": 0
      },
      "text/plain": [
       "HBox(children=(IntProgress(value=0, max=883), HTML(value='')))"
      ]
     },
     "metadata": {},
     "output_type": "display_data"
    },
    {
     "name": "stdout",
     "output_type": "stream",
     "text": [
      "\n"
     ]
    },
    {
     "data": {
      "application/vnd.jupyter.widget-view+json": {
       "model_id": "77c73ec7029345d381803097d6502cb5",
       "version_major": 2,
       "version_minor": 0
      },
      "text/plain": [
       "HBox(children=(IntProgress(value=0, max=883), HTML(value='')))"
      ]
     },
     "metadata": {},
     "output_type": "display_data"
    },
    {
     "name": "stdout",
     "output_type": "stream",
     "text": [
      "\n"
     ]
    },
    {
     "data": {
      "application/vnd.jupyter.widget-view+json": {
       "model_id": "0a6f5ce425ce475dbd9da7a371807edb",
       "version_major": 2,
       "version_minor": 0
      },
      "text/plain": [
       "HBox(children=(IntProgress(value=0, max=883), HTML(value='')))"
      ]
     },
     "metadata": {},
     "output_type": "display_data"
    },
    {
     "name": "stdout",
     "output_type": "stream",
     "text": [
      "\n"
     ]
    },
    {
     "data": {
      "application/vnd.jupyter.widget-view+json": {
       "model_id": "d6d97485a5bc4032ab2ab435f3e7867d",
       "version_major": 2,
       "version_minor": 0
      },
      "text/plain": [
       "HBox(children=(IntProgress(value=0, max=883), HTML(value='')))"
      ]
     },
     "metadata": {},
     "output_type": "display_data"
    },
    {
     "name": "stdout",
     "output_type": "stream",
     "text": [
      "\n"
     ]
    },
    {
     "data": {
      "application/vnd.jupyter.widget-view+json": {
       "model_id": "487bad9703da411d99859c883a86cf61",
       "version_major": 2,
       "version_minor": 0
      },
      "text/plain": [
       "HBox(children=(IntProgress(value=0, max=883), HTML(value='')))"
      ]
     },
     "metadata": {},
     "output_type": "display_data"
    },
    {
     "name": "stdout",
     "output_type": "stream",
     "text": [
      "\n"
     ]
    },
    {
     "data": {
      "application/vnd.jupyter.widget-view+json": {
       "model_id": "fb5af83bb6f64893bd519fe972627102",
       "version_major": 2,
       "version_minor": 0
      },
      "text/plain": [
       "HBox(children=(IntProgress(value=0, max=883), HTML(value='')))"
      ]
     },
     "metadata": {},
     "output_type": "display_data"
    },
    {
     "name": "stdout",
     "output_type": "stream",
     "text": [
      "\n"
     ]
    },
    {
     "data": {
      "application/vnd.jupyter.widget-view+json": {
       "model_id": "b9d2948809db40c99dbd25deb8bf338e",
       "version_major": 2,
       "version_minor": 0
      },
      "text/plain": [
       "HBox(children=(IntProgress(value=0, max=883), HTML(value='')))"
      ]
     },
     "metadata": {},
     "output_type": "display_data"
    },
    {
     "name": "stdout",
     "output_type": "stream",
     "text": [
      "\n"
     ]
    },
    {
     "data": {
      "application/vnd.jupyter.widget-view+json": {
       "model_id": "4ef24024f9b44bc2adaf951616c6546d",
       "version_major": 2,
       "version_minor": 0
      },
      "text/plain": [
       "HBox(children=(IntProgress(value=0, max=883), HTML(value='')))"
      ]
     },
     "metadata": {},
     "output_type": "display_data"
    },
    {
     "name": "stdout",
     "output_type": "stream",
     "text": [
      "\n"
     ]
    },
    {
     "data": {
      "application/vnd.jupyter.widget-view+json": {
       "model_id": "e8839766913a4f599aae579af6fc5dcc",
       "version_major": 2,
       "version_minor": 0
      },
      "text/plain": [
       "HBox(children=(IntProgress(value=0, max=883), HTML(value='')))"
      ]
     },
     "metadata": {},
     "output_type": "display_data"
    },
    {
     "name": "stdout",
     "output_type": "stream",
     "text": [
      "\n"
     ]
    },
    {
     "data": {
      "application/vnd.jupyter.widget-view+json": {
       "model_id": "c8b5fa23e318415cada4e93819125330",
       "version_major": 2,
       "version_minor": 0
      },
      "text/plain": [
       "HBox(children=(IntProgress(value=0, max=883), HTML(value='')))"
      ]
     },
     "metadata": {},
     "output_type": "display_data"
    },
    {
     "name": "stdout",
     "output_type": "stream",
     "text": [
      "\n"
     ]
    },
    {
     "data": {
      "application/vnd.jupyter.widget-view+json": {
       "model_id": "e04cfc50f7484aa49cc1329208126f0f",
       "version_major": 2,
       "version_minor": 0
      },
      "text/plain": [
       "HBox(children=(IntProgress(value=0, max=883), HTML(value='')))"
      ]
     },
     "metadata": {},
     "output_type": "display_data"
    },
    {
     "name": "stdout",
     "output_type": "stream",
     "text": [
      "\n"
     ]
    },
    {
     "data": {
      "application/vnd.jupyter.widget-view+json": {
       "model_id": "0cedbd0047e2410fae714c6638ff21dd",
       "version_major": 2,
       "version_minor": 0
      },
      "text/plain": [
       "HBox(children=(IntProgress(value=0, max=883), HTML(value='')))"
      ]
     },
     "metadata": {},
     "output_type": "display_data"
    },
    {
     "name": "stdout",
     "output_type": "stream",
     "text": [
      "\n"
     ]
    },
    {
     "data": {
      "application/vnd.jupyter.widget-view+json": {
       "model_id": "b98f63c97dc14bd98b59b0f37ed78be0",
       "version_major": 2,
       "version_minor": 0
      },
      "text/plain": [
       "HBox(children=(IntProgress(value=0, max=883), HTML(value='')))"
      ]
     },
     "metadata": {},
     "output_type": "display_data"
    },
    {
     "name": "stdout",
     "output_type": "stream",
     "text": [
      "\n"
     ]
    },
    {
     "data": {
      "application/vnd.jupyter.widget-view+json": {
       "model_id": "a8a7b9d2f972447481eb9be883827b97",
       "version_major": 2,
       "version_minor": 0
      },
      "text/plain": [
       "HBox(children=(IntProgress(value=0, max=883), HTML(value='')))"
      ]
     },
     "metadata": {},
     "output_type": "display_data"
    },
    {
     "name": "stdout",
     "output_type": "stream",
     "text": [
      "\n"
     ]
    },
    {
     "data": {
      "application/vnd.jupyter.widget-view+json": {
       "model_id": "1cf23c441fd5462985a7a7fb13521ab5",
       "version_major": 2,
       "version_minor": 0
      },
      "text/plain": [
       "HBox(children=(IntProgress(value=0, max=883), HTML(value='')))"
      ]
     },
     "metadata": {},
     "output_type": "display_data"
    },
    {
     "name": "stdout",
     "output_type": "stream",
     "text": [
      "\n"
     ]
    },
    {
     "data": {
      "application/vnd.jupyter.widget-view+json": {
       "model_id": "4d29708b34ba416c955b5db4729dbcf8",
       "version_major": 2,
       "version_minor": 0
      },
      "text/plain": [
       "HBox(children=(IntProgress(value=0, max=883), HTML(value='')))"
      ]
     },
     "metadata": {},
     "output_type": "display_data"
    },
    {
     "name": "stdout",
     "output_type": "stream",
     "text": [
      "\n"
     ]
    },
    {
     "data": {
      "application/vnd.jupyter.widget-view+json": {
       "model_id": "8948754929714aa89f891b6a3b92c1dd",
       "version_major": 2,
       "version_minor": 0
      },
      "text/plain": [
       "HBox(children=(IntProgress(value=0, max=883), HTML(value='')))"
      ]
     },
     "metadata": {},
     "output_type": "display_data"
    },
    {
     "name": "stdout",
     "output_type": "stream",
     "text": [
      "\n"
     ]
    },
    {
     "data": {
      "application/vnd.jupyter.widget-view+json": {
       "model_id": "bee14c4191cc4bc9bdd2ac186731f1ce",
       "version_major": 2,
       "version_minor": 0
      },
      "text/plain": [
       "HBox(children=(IntProgress(value=0, max=883), HTML(value='')))"
      ]
     },
     "metadata": {},
     "output_type": "display_data"
    },
    {
     "name": "stdout",
     "output_type": "stream",
     "text": [
      "\n"
     ]
    },
    {
     "data": {
      "application/vnd.jupyter.widget-view+json": {
       "model_id": "2e4286a913df4a27ad60dafe02c85dd0",
       "version_major": 2,
       "version_minor": 0
      },
      "text/plain": [
       "HBox(children=(IntProgress(value=0, max=883), HTML(value='')))"
      ]
     },
     "metadata": {},
     "output_type": "display_data"
    },
    {
     "name": "stdout",
     "output_type": "stream",
     "text": [
      "\n"
     ]
    },
    {
     "data": {
      "application/vnd.jupyter.widget-view+json": {
       "model_id": "5ae8c862fc2240859bc86b1e37087bd1",
       "version_major": 2,
       "version_minor": 0
      },
      "text/plain": [
       "HBox(children=(IntProgress(value=0, max=883), HTML(value='')))"
      ]
     },
     "metadata": {},
     "output_type": "display_data"
    },
    {
     "name": "stdout",
     "output_type": "stream",
     "text": [
      "\n"
     ]
    },
    {
     "data": {
      "application/vnd.jupyter.widget-view+json": {
       "model_id": "f8d7ad38e7664378be40126bf78545c2",
       "version_major": 2,
       "version_minor": 0
      },
      "text/plain": [
       "HBox(children=(IntProgress(value=0, max=883), HTML(value='')))"
      ]
     },
     "metadata": {},
     "output_type": "display_data"
    },
    {
     "name": "stdout",
     "output_type": "stream",
     "text": [
      "\n",
      "\n"
     ]
    }
   ],
   "source": [
    "sequence_groups = {}\n",
    "for seq in seqs:\n",
    "    family = seq.description.split('|')[-3]\n",
    "    if family not in sequence_groups:\n",
    "        sequence_groups[family] = []\n",
    "    sequence_groups[family].append(seq)\n",
    "    \n",
    "occupancy = {}\n",
    "for family in tqdm(sequence_groups):\n",
    "    occupancy[family] = []\n",
    "    for i in tqdm(range(len(sequence_groups[family][0]))):\n",
    "        col = np.array(sequence_groups[family])[:, i]\n",
    "        occ = (len(col) - ''.join(col).count('-')) / len(col)\n",
    "        occupancy[family].append(occ)"
   ]
  },
  {
   "cell_type": "markdown",
   "metadata": {},
   "source": [
    "# Plot Occupancy"
   ]
  },
  {
   "cell_type": "code",
   "execution_count": 190,
   "metadata": {},
   "outputs": [],
   "source": [
    "import matplotlib.pyplot as plt\n",
    "\n",
    "%matplotlib inline"
   ]
  },
  {
   "cell_type": "code",
   "execution_count": 194,
   "metadata": {},
   "outputs": [],
   "source": [
    "family_order = [\"Pediciidae\",\n",
    "\"Cylindrotomidae\",\n",
    "\"Psychodidae\",\n",
    "\"Ceratopogonidae\",\n",
    "\"Chironomidae\",\n",
    "\"Culicidae\",\n",
    "\"Chaoboridae\",\n",
    "\"Scatopsidae\",\n",
    "\"Cecidomyiidae\",\n",
    "\"Keroplatidae\",\n",
    "\"Bombyliidae\",\n",
    "\"Asilidae\",\n",
    "\"Platypezidae\",\n",
    "\"Dolichopodidae\",\n",
    "\"Lonchopteridae\",\n",
    "\"Syrphidae\",\n",
    "\"Pipunculidae\",\n",
    "\"Tephritidae\",\n",
    "\"Chloropidae\",\n",
    "\"Diopsidae\",\n",
    "\"Agromyzidae\",\n",
    "\"Drosophilidae\",\n",
    "\"Glossinidae\",\n",
    "\"Muscidae\",\n",
    "\"Scathophagidae\",\n",
    "\"Sarcophagidae\",\n",
    "\"Mystacinobiidae\",\n",
    "\"Calliphoridae\",\n",
    "\"Tachinidae\"]"
   ]
  },
  {
   "cell_type": "code",
   "execution_count": 200,
   "metadata": {},
   "outputs": [],
   "source": [
    "matrix = []\n",
    "for fam in family_order:\n",
    "    matrix.append(occupancy[fam])\n",
    "matrix = np.array(matrix)\n",
    "# matrix = matrix>0"
   ]
  },
  {
   "cell_type": "code",
   "execution_count": 208,
   "metadata": {},
   "outputs": [
    {
     "data": {
      "text/plain": [
       "([<matplotlib.axis.YTick at 0x7f32481019e8>,\n",
       "  <matplotlib.axis.YTick at 0x7f3244200cf8>,\n",
       "  <matplotlib.axis.YTick at 0x7f32441f0a58>,\n",
       "  <matplotlib.axis.YTick at 0x7f324434b198>,\n",
       "  <matplotlib.axis.YTick at 0x7f324434b588>,\n",
       "  <matplotlib.axis.YTick at 0x7f324434ba58>,\n",
       "  <matplotlib.axis.YTick at 0x7f324434bf28>,\n",
       "  <matplotlib.axis.YTick at 0x7f3244259438>,\n",
       "  <matplotlib.axis.YTick at 0x7f32441ec9e8>,\n",
       "  <matplotlib.axis.YTick at 0x7f3244259da0>,\n",
       "  <matplotlib.axis.YTick at 0x7f324426b2b0>,\n",
       "  <matplotlib.axis.YTick at 0x7f3244259390>,\n",
       "  <matplotlib.axis.YTick at 0x7f324434b400>,\n",
       "  <matplotlib.axis.YTick at 0x7f324426b128>,\n",
       "  <matplotlib.axis.YTick at 0x7f324426b8d0>,\n",
       "  <matplotlib.axis.YTick at 0x7f324426bda0>,\n",
       "  <matplotlib.axis.YTick at 0x7f32442782b0>,\n",
       "  <matplotlib.axis.YTick at 0x7f3244278780>,\n",
       "  <matplotlib.axis.YTick at 0x7f3244278c50>,\n",
       "  <matplotlib.axis.YTick at 0x7f324427e198>,\n",
       "  <matplotlib.axis.YTick at 0x7f3244278860>,\n",
       "  <matplotlib.axis.YTick at 0x7f324426b978>,\n",
       "  <matplotlib.axis.YTick at 0x7f3244259780>,\n",
       "  <matplotlib.axis.YTick at 0x7f324427e128>,\n",
       "  <matplotlib.axis.YTick at 0x7f324427eda0>,\n",
       "  <matplotlib.axis.YTick at 0x7f32442922b0>,\n",
       "  <matplotlib.axis.YTick at 0x7f3244292780>,\n",
       "  <matplotlib.axis.YTick at 0x7f3244292c50>,\n",
       "  <matplotlib.axis.YTick at 0x7f32740ee198>],\n",
       " <a list of 29 Text yticklabel objects>)"
      ]
     },
     "execution_count": 208,
     "metadata": {},
     "output_type": "execute_result"
    },
    {
     "data": {
      "image/png": "[encoded data removed]",
      "text/plain": [
       "<Figure size 720x720 with 1 Axes>"
      ]
     },
     "metadata": {
      "needs_background": "light"
     },
     "output_type": "display_data"
    }
   ],
   "source": [
    "fig = plt.figure(figsize=(10,10))\n",
    "\n",
    "plt.imshow(matrix, cmap='binary', aspect=20)\n",
    "locs, labs = plt.yticks()\n",
    "plt.yticks(range(len(family_order)), family_order)"
   ]
  },
  {
   "cell_type": "markdown",
   "metadata": {},
   "source": [
    "# Phylogeny Tree plotting\n",
    "\n",
    "Phylogeny extracted from \n",
    "https://www.pnas.org/content/pnas/108/14/5690.full.pdf\n",
    "\n",
    "and The Tree of Life Project"
   ]
  },
  {
   "cell_type": "code",
   "execution_count": 59,
   "metadata": {},
   "outputs": [],
   "source": [
    "import pandas as pd\n",
    "import ete3 "
   ]
  },
  {
   "cell_type": "code",
   "execution_count": 15,
   "metadata": {},
   "outputs": [],
   "source": [
    "search_results = pd.read_csv('../Data/01_Oskar_identification/oskar_tracker_results/search_results.csv')"
   ]
  },
  {
   "cell_type": "code",
   "execution_count": 21,
   "metadata": {},
   "outputs": [],
   "source": [
    "families = search_results[(search_results['order_name'] == 'Diptera') & (search_results['hits'] > 0)]['family_name'].unique()"
   ]
  },
  {
   "cell_type": "code",
   "execution_count": 230,
   "metadata": {},
   "outputs": [],
   "source": [
    "diptera_newick = \"\"\"\n",
    "(\n",
    "((Pediciidae, Cylindrotomidae),\n",
    "    ((Psychodidae,(Ceratopogonidae,(Chironomidae,(Culicidae,Chaoboridae)))),\n",
    "        ((Scatopsidae, (Cecidomyiidae, Keroplatidae)),\n",
    "            ((Bombyliidae, Asilidae),\n",
    "                ((Platypezidae,Phoridae),\n",
    "                    (Dolichopodidae,\n",
    "                        (Lonchopteridae,\n",
    "                            (Syrphidae,\n",
    "                                (Pipunculidae,\n",
    "                                ((Tephritidae,\n",
    "                                    (Chloropidae)),        \n",
    "                                    (Drosophilidae,\n",
    "                                        (Glossinidae,\n",
    "                                            (Muscidae,\n",
    "                                                (Scathophagidae,\n",
    "                                                    (Sarcophagidae,\n",
    "                                                        (Mystacinobiidae,\n",
    "                                                            (Calliphoridae,\n",
    "                                                            Tachinidae)))))))))))))))))\n",
    ");\n",
    "\"\"\""
   ]
  },
  {
   "cell_type": "code",
   "execution_count": 253,
   "metadata": {},
   "outputs": [],
   "source": [
    "def pie_face(node, source, col):\n",
    "    tmp = lepi_metadatas[lepi_metadatas['source'] == source]\n",
    "    if node.name in tmp['family_name'].values:\n",
    "        prop = tmp[tmp['family_name'] == node.name]['found_prop'].values[0]\n",
    "        count = tmp[tmp['family_name'] == node.name]['filtered_hits'].values[0]\n",
    "        color = colormap.order(\"Lepidoptera\")\n",
    "        percents = [min(100*prop, 100), max(0, (1-prop)*100)]\n",
    "        if prop != 0:\n",
    "            colors = [color, colormap.gray]\n",
    "            text_color = \"black\"\n",
    "        else:\n",
    "            colors = [color, colormap.light_gray]\n",
    "            text_color = colormap.gray\n",
    "        F = ete3.PieChartFace(percents, 20, 20, colors=colors, line_color=None)\n",
    "        F.margin_left = 5\n",
    "        F.hz_align=1\n",
    "        ete3.faces.add_face_to_node(F, node, col, aligned=True)\n",
    "        T = ete3.TextFace(\"{} | {}%\".format(int(count), int(min(100*prop, 100))), fgcolor=text_color)\n",
    "        T.margin_left = 5\n",
    "        T.hz_align=1\n",
    "        ete3.faces.add_face_to_node(T, node, col +1 , aligned=True)\n",
    "    return col + 2\n",
    "     \n",
    "def count_face(node, col):\n",
    "    if node.name in lepi_metadatas['family_name'].values:\n",
    "        tmp = lepi_metadatas.groupby('family_name', as_index=False).sum()\n",
    "\n",
    "        count = tmp[(tmp['family_name'] == node.name)]['index'].values[0]\n",
    "        \n",
    "        T = ete3.TextFace(count, fgcolor='black')\n",
    "        T.margin_left = 5\n",
    "        T.hz_align = 1\n",
    "        ete3.faces.add_face_to_node(T, node, col, aligned=True)\n",
    "        \n",
    "    return col + 1\n",
    "\n",
    "def total_oskar_found_face(node, col):\n",
    "    if node.name in lepi_metadatas['family_name'].values:\n",
    "        tmp = lepi_metadatas.groupby('family_name',as_index=False).sum()\n",
    "        tmp['found_prop'] = tmp['filtered_hits'] / tmp['index']\n",
    "        prop = tmp[tmp['family_name'] == node.name]['found_prop'].values[0]\n",
    "        count = tmp[tmp['family_name'] == node.name]['filtered_hits'].values[0]\n",
    "        if prop != 0:\n",
    "            color = colormap.order(\"Lepidoptera\")\n",
    "            colors = [color, colormap.gray]\n",
    "            percents = [min(100*prop, 100), max(0, (1-prop)*100)]\n",
    "            text_color = \"black\"\n",
    "        else:\n",
    "            colors = [colormap.light_gray]\n",
    "            percents = [100]\n",
    "            text_color = colormap.gray\n",
    "        F = ete3.StackedBarFace(percents, 70, 20, colors=colors, line_color=None)\n",
    "        F.margin_left = 15\n",
    "        F.hz_align=0\n",
    "        ete3.faces.add_face_to_node(F, node, col, aligned=True)\n",
    "        T = ete3.TextFace(\"{} | {}%\".format(int(count), int(min(100*prop, 100))), fgcolor=text_color)\n",
    "        T.margin_left = 5\n",
    "        T.margin_right = 15        \n",
    "        T.hz_align=2\n",
    "        ete3.faces.add_face_to_node(T, node, col + 1 , aligned=True)\n",
    "    return col + 2\n",
    "    \n",
    "def color_code_face(node, col):\n",
    "    if (lepi_metadatas[lepi_metadatas['family_name'] == node.name]['filtered_hits'].values > 0).any():\n",
    "        color = colormap.order('Lepidoptera')\n",
    "    else:\n",
    "        color = colormap.order('Other')\n",
    "    F = ete3.RectFace(20, 22, color, color)\n",
    "    F.margin_left = 5\n",
    "    F.margin_top=2    \n",
    "    ete3.faces.add_face_to_node(F, node, col, aligned=True)\n",
    "\n",
    "    return col + 1\n",
    "\n",
    "def header(node, text, col):\n",
    "    # Handlding the headers, we run it once on Crustacea\n",
    "    if node.name == 'Agathiphagidae':\n",
    "        T = ete3.TextFace(text, fgcolor=\"#000000\")\n",
    "        T.hz_align=1\n",
    "        T.margin_left = 5\n",
    "        ts.aligned_header.add_face(T, col)\n",
    "\n",
    "def plot_heatmap(node, col):\n",
    "    occ = np.array(occupancy[node.name])\n",
    "#     occ *= occ > 0.5\n",
    "    node.profile = occ + 0.0001\n",
    "    node.deviation = [0]*len(occ)\n",
    "    P = ete3.ProfileFace(1, -1, 0, width=len(occ), values_vector=occ, style='heatmap', colorscheme=0)\n",
    "#     P.hz_align=1\n",
    "    P.margin_left = 5\n",
    "    ete3.faces.add_face_to_node(P, node, col, aligned=True)\n",
    "    return col + 1\n",
    "        \n",
    "def layout(node):\n",
    "    if node.is_leaf():\n",
    "        # Add node name to laef nodes\n",
    "        N = ete3.AttrFace(\"name\", fsize=14, fgcolor=\"black\")\n",
    "        N.vt_align = 1\n",
    "        N.margin_left = 5\n",
    "        ete3.faces.add_face_to_node(N, node, 0, aligned=True)\n",
    "        col = 1\n",
    "        \n",
    "        col = plot_heatmap(node, col)\n",
    "#         col = color_code_face(node, col)\n",
    "        \n",
    "#         header(node, \"# of\\ndataset\\nsearched\", col)\n",
    "#         col = count_face(node, col)\n",
    "        \n",
    "#         header(node, \"% of \\noskar\\nfound\", col)\n",
    "#         col = total_oskar_found_face(node, col)        \n",
    "        \n",
    "#         header(node, \"% of\\nhits in\\nRefSeq\", col)\n",
    "#         col = pie_face(node, 'GCF', col)\n",
    "#         header(node, \"% of\\nhits in\\nGenbank\", col)\n",
    "#         col = pie_face(node, 'GCA', col)\n",
    "#         header(node, \"% of\\nhits in\\nTSA\", col)\n",
    "#         col = pie_face(node, 'TSA', col)\n",
    "        \n",
    "    nstyle = ete3.NodeStyle()\n",
    "    nstyle[\"size\"] = 0\n",
    "    nstyle[\"fgcolor\"] = \"black\"\n",
    "    node.set_style(nstyle)"
   ]
  },
  {
   "cell_type": "code",
   "execution_count": 254,
   "metadata": {},
   "outputs": [],
   "source": [
    "#Define the tree style\n",
    "ts = ete3.TreeStyle()\n",
    "ts.show_leaf_name = False\n",
    "ts.show_branch_length = False\n",
    "ts.show_branch_support = False\n",
    "ts.draw_aligned_faces_as_table = True\n",
    "ts.draw_guiding_lines = True\n",
    "ts.show_scale = False\n",
    "ts.scale=10\n",
    "ts.guiding_lines_type = 0\n",
    "ts.guiding_lines_color = 'black'\n",
    "ts.layout_fn = layout"
   ]
  },
  {
   "cell_type": "code",
   "execution_count": 255,
   "metadata": {},
   "outputs": [],
   "source": [
    "T = ete3.Tree(diptera_newick)"
   ]
  },
  {
   "cell_type": "code",
   "execution_count": 256,
   "metadata": {},
   "outputs": [
    {
     "data": {
      "image/png": "[encoded data removed]",
      "text/plain": [
       "<IPython.core.display.Image object>"
      ]
     },
     "execution_count": 256,
     "metadata": {},
     "output_type": "execute_result"
    }
   ],
   "source": [
    "T.render('%%inline', tree_style=ts)"
   ]
  },
  {
   "cell_type": "code",
   "execution_count": 257,
   "metadata": {
    "scrolled": true
   },
   "outputs": [
    {
     "data": {
      "text/plain": [
       "{'nodes': [],\n",
       " 'faces': [[186.0, 9.0, 281.0, 33.0, 3, 'Pediciidae'],\n",
       "  [353.0, 1.0, 1236.0, 41.0, 3, None],\n",
       "  [186.0, 49.0, 342.0, 73.0, 4, 'Cylindrotomidae'],\n",
       "  [353.0, 41.0, 1236.0, 81.0, 4, None],\n",
       "  [186.0, 89.0, 304.0, 113.0, 7, 'Psychodidae'],\n",
       "  [353.0, 81.0, 1236.0, 121.0, 7, None],\n",
       "  [186.0, 129.0, 348.0, 153.0, 9, 'Ceratopogonidae'],\n",
       "  [353.0, 121.0, 1236.0, 161.0, 9, None],\n",
       "  [186.0, 169.0, 318.0, 193.0, 11, 'Chironomidae'],\n",
       "  [353.0, 161.0, 1236.0, 201.0, 11, None],\n",
       "  [186.0, 209.0, 272.0, 233.0, 13, 'Culicidae'],\n",
       "  [353.0, 201.0, 1236.0, 241.0, 13, None],\n",
       "  [186.0, 249.0, 306.0, 273.0, 14, 'Chaoboridae'],\n",
       "  [353.0, 241.0, 1236.0, 281.0, 14, None],\n",
       "  [186.0, 289.0, 301.0, 313.0, 17, 'Scatopsidae'],\n",
       "  [353.0, 281.0, 1236.0, 321.0, 17, None],\n",
       "  [186.0, 329.0, 324.0, 353.0, 19, 'Cecidomyiidae'],\n",
       "  [353.0, 321.0, 1236.0, 361.0, 19, None],\n",
       "  [186.0, 369.0, 306.0, 393.0, 20, 'Keroplatidae'],\n",
       "  [353.0, 361.0, 1236.0, 401.0, 20, None],\n",
       "  [186.0, 409.0, 303.0, 433.0, 23, 'Bombyliidae'],\n",
       "  [353.0, 401.0, 1236.0, 441.0, 23, None],\n",
       "  [186.0, 449.0, 260.0, 473.0, 24, 'Asilidae'],\n",
       "  [353.0, 441.0, 1236.0, 481.0, 24, None],\n",
       "  [186.0, 489.0, 306.0, 513.0, 27, 'Platypezidae'],\n",
       "  [353.0, 481.0, 1236.0, 521.0, 27, None],\n",
       "  [186.0, 529.0, 269.0, 553.0, 28, 'Phoridae'],\n",
       "  [353.0, 521.0, 1236.0, 561.0, 28, None],\n",
       "  [186.0, 569.0, 331.0, 593.0, 30, 'Dolichopodidae'],\n",
       "  [353.0, 561.0, 1236.0, 601.0, 30, None],\n",
       "  [186.0, 609.0, 333.0, 633.0, 32, 'Lonchopteridae'],\n",
       "  [353.0, 601.0, 1236.0, 641.0, 32, None],\n",
       "  [186.0, 649.0, 282.0, 673.0, 34, 'Syrphidae'],\n",
       "  [353.0, 641.0, 1236.0, 681.0, 34, None],\n",
       "  [186.0, 689.0, 306.0, 713.0, 36, 'Pipunculidae'],\n",
       "  [353.0, 681.0, 1236.0, 721.0, 36, None],\n",
       "  [186.0, 729.0, 292.0, 753.0, 39, 'Tephritidae'],\n",
       "  [353.0, 721.0, 1236.0, 761.0, 39, None],\n",
       "  [186.0, 769.0, 300.0, 793.0, 41, 'Chloropidae'],\n",
       "  [353.0, 761.0, 1236.0, 801.0, 41, None],\n",
       "  [186.0, 809.0, 316.0, 833.0, 43, 'Drosophilidae'],\n",
       "  [353.0, 801.0, 1236.0, 841.0, 43, None],\n",
       "  [186.0, 849.0, 295.0, 873.0, 45, 'Glossinidae'],\n",
       "  [353.0, 841.0, 1236.0, 881.0, 45, None],\n",
       "  [186.0, 889.0, 274.0, 913.0, 47, 'Muscidae'],\n",
       "  [353.0, 881.0, 1236.0, 921.0, 47, None],\n",
       "  [186.0, 929.0, 339.0, 953.0, 49, 'Scathophagidae'],\n",
       "  [353.0, 921.0, 1236.0, 961.0, 49, None],\n",
       "  [186.0, 969.0, 327.0, 993.0, 51, 'Sarcophagidae'],\n",
       "  [353.0, 961.0, 1236.0, 1001.0, 51, None],\n",
       "  [186.0, 1009.0, 338.0, 1033.0, 53, 'Mystacinobiidae'],\n",
       "  [353.0, 1001.0, 1236.0, 1041.0, 53, None],\n",
       "  [186.0, 1049.0, 310.0, 1073.0, 55, 'Calliphoridae'],\n",
       "  [353.0, 1041.0, 1236.0, 1081.0, 55, None],\n",
       "  [186.0, 1089.0, 286.0, 1113.0, 56, 'Tachinidae'],\n",
       "  [353.0, 1081.0, 1236.0, 1121.0, 56, None]],\n",
       " 'node_areas': {0: [1.0, 1.0, 181.0, 1121.0],\n",
       "  1: [1.0, 1.0, 181.0, 1121.0],\n",
       "  2: [11.0, 1.0, 31.0, 81.0],\n",
       "  3: [21.0, 1.0, 31.0, 41.0],\n",
       "  4: [21.0, 41.0, 31.0, 81.0],\n",
       "  5: [11.0, 81.0, 181.0, 1121.0],\n",
       "  6: [21.0, 81.0, 71.0, 281.0],\n",
       "  7: [31.0, 81.0, 41.0, 121.0],\n",
       "  8: [31.0, 121.0, 71.0, 281.0],\n",
       "  9: [41.0, 121.0, 51.0, 161.0],\n",
       "  10: [41.0, 161.0, 71.0, 281.0],\n",
       "  11: [51.0, 161.0, 61.0, 201.0],\n",
       "  12: [51.0, 201.0, 71.0, 281.0],\n",
       "  13: [61.0, 201.0, 71.0, 241.0],\n",
       "  14: [61.0, 241.0, 71.0, 281.0],\n",
       "  15: [21.0, 281.0, 181.0, 1121.0],\n",
       "  16: [31.0, 281.0, 61.0, 401.0],\n",
       "  17: [41.0, 281.0, 51.0, 321.0],\n",
       "  18: [41.0, 321.0, 61.0, 401.0],\n",
       "  19: [51.0, 321.0, 61.0, 361.0],\n",
       "  20: [51.0, 361.0, 61.0, 401.0],\n",
       "  21: [31.0, 401.0, 181.0, 1121.0],\n",
       "  22: [41.0, 401.0, 61.0, 481.0],\n",
       "  23: [51.0, 401.0, 61.0, 441.0],\n",
       "  24: [51.0, 441.0, 61.0, 481.0],\n",
       "  25: [41.0, 481.0, 181.0, 1121.0],\n",
       "  26: [51.0, 481.0, 71.0, 561.0],\n",
       "  27: [61.0, 481.0, 71.0, 521.0],\n",
       "  28: [61.0, 521.0, 71.0, 561.0],\n",
       "  29: [51.0, 561.0, 181.0, 1121.0],\n",
       "  30: [61.0, 561.0, 71.0, 601.0],\n",
       "  31: [61.0, 601.0, 181.0, 1121.0],\n",
       "  32: [71.0, 601.0, 81.0, 641.0],\n",
       "  33: [71.0, 641.0, 181.0, 1121.0],\n",
       "  34: [81.0, 641.0, 91.0, 681.0],\n",
       "  35: [81.0, 681.0, 181.0, 1121.0],\n",
       "  36: [91.0, 681.0, 101.0, 721.0],\n",
       "  37: [91.0, 721.0, 181.0, 1121.0],\n",
       "  38: [101.0, 721.0, 131.0, 801.0],\n",
       "  39: [111.0, 721.0, 121.0, 761.0],\n",
       "  40: [111.0, 761.0, 131.0, 801.0],\n",
       "  41: [121.0, 761.0, 131.0, 801.0],\n",
       "  42: [101.0, 801.0, 181.0, 1121.0],\n",
       "  43: [111.0, 801.0, 121.0, 841.0],\n",
       "  44: [111.0, 841.0, 181.0, 1121.0],\n",
       "  45: [121.0, 841.0, 131.0, 881.0],\n",
       "  46: [121.0, 881.0, 181.0, 1121.0],\n",
       "  47: [131.0, 881.0, 141.0, 921.0],\n",
       "  48: [131.0, 921.0, 181.0, 1121.0],\n",
       "  49: [141.0, 921.0, 151.0, 961.0],\n",
       "  50: [141.0, 961.0, 181.0, 1121.0],\n",
       "  51: [151.0, 961.0, 161.0, 1001.0],\n",
       "  52: [151.0, 1001.0, 181.0, 1121.0],\n",
       "  53: [161.0, 1001.0, 171.0, 1041.0],\n",
       "  54: [161.0, 1041.0, 181.0, 1121.0],\n",
       "  55: [171.0, 1041.0, 181.0, 1081.0],\n",
       "  56: [171.0, 1081.0, 181.0, 1121.0]}}"
      ]
     },
     "execution_count": 257,
     "metadata": {},
     "output_type": "execute_result"
    }
   ],
   "source": [
    "T.render('../Figures/RAW/Diptera_tree.svg', tree_style=ts)"
   ]
  },
  {
   "cell_type": "code",
   "execution_count": null,
   "metadata": {},
   "outputs": [],
   "source": []
  }
 ],
 "metadata": {
  "kernelspec": {
   "display_name": "Python 3",
   "language": "python",
   "name": "python3"
  },
  "language_info": {
   "codemirror_mode": {
    "name": "ipython",
    "version": 3
   },
   "file_extension": ".py",
   "mimetype": "text/x-python",
   "name": "python",
   "nbconvert_exporter": "python",
   "pygments_lexer": "ipython3",
   "version": "3.5.6"
  },
  "widgets": {
   "application/vnd.jupyter.widget-state+json": {
    "state": {
     "001a01e3a51845949b26aee37b2b619c": {
      "model_module": "@jupyter-widgets/base",
      "model_module_version": "1.2.0",
      "model_name": "LayoutModel",
      "state": {}
     },
     "026b82a308c84e14b27a66446a6a45bc": {
      "model_module": "@jupyter-widgets/base",
      "model_module_version": "1.2.0",
      "model_name": "LayoutModel",
      "state": {}
     },
     "03060caecd0945f7a373e91fa51618bb": {
      "model_module": "@jupyter-widgets/base",
      "model_module_version": "1.2.0",
      "model_name": "LayoutModel",
      "state": {}
     },
     "032eb0fa5cc149a197506bbc12820a60": {
      "model_module": "@jupyter-widgets/controls",
      "model_module_version": "1.5.0",
      "model_name": "HTMLModel",
      "state": {
       "layout": "IPY_MODEL_56df4d181d8c4258b5e11da465f62861",
       "style": "IPY_MODEL_e8c07d5954c3453592653a5c02a63b94",
       "value": " 883/883 [00:08&lt;00:00, 101.20it/s]"
      }
     },
     "034875d41ab14fdd943a88c4e68bff74": {
      "model_module": "@jupyter-widgets/controls",
      "model_module_version": "1.5.0",
      "model_name": "HTMLModel",
      "state": {
       "layout": "IPY_MODEL_2161857fb8f64d48a8e3d9669bf1058e",
       "style": "IPY_MODEL_40c084fe08694a35bc9ad3bf504bf929",
       "value": " 883/883 [00:41&lt;00:00, 21.24it/s]"
      }
     },
     "03ba6801873f45e096d6f2a650779e48": {
      "model_module": "@jupyter-widgets/base",
      "model_module_version": "1.2.0",
      "model_name": "LayoutModel",
      "state": {}
     },
     "0433cad96ccc4214b3e61ead4e737f0a": {
      "model_module": "@jupyter-widgets/controls",
      "model_module_version": "1.5.0",
      "model_name": "HBoxModel",
      "state": {
       "children": [
        "IPY_MODEL_81ed492aaee44ceb909bfcaa63d552a4",
        "IPY_MODEL_d7ec79c41a694821b6674e8de68ff231"
       ],
       "layout": "IPY_MODEL_86fda116e76e41d987eef743af48032b"
      }
     },
     "043cb0ff9d7e42dead3f278c76fb9da0": {
      "model_module": "@jupyter-widgets/base",
      "model_module_version": "1.2.0",
      "model_name": "LayoutModel",
      "state": {}
     },
     "04bb8b73567e4981a3013fcb8ad090ec": {
      "model_module": "@jupyter-widgets/base",
      "model_module_version": "1.2.0",
      "model_name": "LayoutModel",
      "state": {}
     },
     "04c1efd2a3044a50a691e75e3399b016": {
      "model_module": "@jupyter-widgets/controls",
      "model_module_version": "1.5.0",
      "model_name": "DescriptionStyleModel",
      "state": {
       "description_width": ""
      }
     },
     "04d05ddcad7a4e0b9e66f63c9adec5f5": {
      "model_module": "@jupyter-widgets/controls",
      "model_module_version": "1.5.0",
      "model_name": "HBoxModel",
      "state": {
       "children": [
        "IPY_MODEL_314aea4acabb40eb90821b5ade857b61",
        "IPY_MODEL_64339df408204c11b1a587434a70d530"
       ],
       "layout": "IPY_MODEL_dfe3142398154bfd9ea10a716dbe9f6f"
      }
     },
     "04eb555a55ad4049acb7ea988c54ee68": {
      "model_module": "@jupyter-widgets/controls",
      "model_module_version": "1.5.0",
      "model_name": "HTMLModel",
      "state": {
       "layout": "IPY_MODEL_df6d776a21b44427970d604001754a14",
       "style": "IPY_MODEL_3b5d67e754d84d5281de254f390f0256",
       "value": " 10/31 [00:17&lt;00:18,  1.12it/s]"
      }
     },
     "05164b278f824a6ba83f41a5e6cf0e10": {
      "model_module": "@jupyter-widgets/base",
      "model_module_version": "1.2.0",
      "model_name": "LayoutModel",
      "state": {}
     },
     "05897a51b1fc404cae9e931ff31d5d6c": {
      "model_module": "@jupyter-widgets/controls",
      "model_module_version": "1.5.0",
      "model_name": "IntProgressModel",
      "state": {
       "bar_style": "success",
       "description": "100%",
       "layout": "IPY_MODEL_3daae47265634060a193da2a767bdbcc",
       "max": 883,
       "style": "IPY_MODEL_fb20080e057943859672142efb68cf27",
       "value": 883
      }
     },
     "05b7e3fe517f486aa7d39663fda04c9d": {
      "model_module": "@jupyter-widgets/base",
      "model_module_version": "1.2.0",
      "model_name": "LayoutModel",
      "state": {}
     },
     "062a5ad87d194a4295111bd86657a327": {
      "model_module": "@jupyter-widgets/controls",
      "model_module_version": "1.5.0",
      "model_name": "DescriptionStyleModel",
      "state": {
       "description_width": ""
      }
     },
     "063b7290ac8a449287675e4f18952a12": {
      "model_module": "@jupyter-widgets/controls",
      "model_module_version": "1.5.0",
      "model_name": "HTMLModel",
      "state": {
       "layout": "IPY_MODEL_154c626ef3624868adef3b5e30d708a0",
       "style": "IPY_MODEL_97f6b6fc2efa4f70ad485e0a98e97c2d",
       "value": " 883/883 [00:01&lt;00:00, 656.13it/s]"
      }
     },
     "0655340741b44b29a795c2aaf52281cd": {
      "model_module": "@jupyter-widgets/controls",
      "model_module_version": "1.5.0",
      "model_name": "HBoxModel",
      "state": {
       "children": [
        "IPY_MODEL_fafe1ac625e445388ba12fa8750a40e6",
        "IPY_MODEL_f7f7c0e247ad497db08ce0ccb8b6c21d"
       ],
       "layout": "IPY_MODEL_e66a1d15293648e28e26815b84407755"
      }
     },
     "07e1618af65744e294a20c4eaa8b6613": {
      "model_module": "@jupyter-widgets/base",
      "model_module_version": "1.2.0",
      "model_name": "LayoutModel",
      "state": {}
     },
     "08290e1d651e41baaac934361d277dc8": {
      "model_module": "@jupyter-widgets/controls",
      "model_module_version": "1.5.0",
      "model_name": "DescriptionStyleModel",
      "state": {
       "description_width": ""
      }
     },
     "08944c14a289495d89587d5be312541d": {
      "model_module": "@jupyter-widgets/base",
      "model_module_version": "1.2.0",
      "model_name": "LayoutModel",
      "state": {}
     },
     "08a16901b03941a3965f99cbdf25e135": {
      "model_module": "@jupyter-widgets/controls",
      "model_module_version": "1.5.0",
      "model_name": "ProgressStyleModel",
      "state": {
       "description_width": "initial"
      }
     },
     "08b0b68dd14f4762ab35cb1d6aacc820": {
      "model_module": "@jupyter-widgets/base",
      "model_module_version": "1.2.0",
      "model_name": "LayoutModel",
      "state": {}
     },
     "08fbf521c8254ae2b5c67166d45ee573": {
      "model_module": "@jupyter-widgets/controls",
      "model_module_version": "1.5.0",
      "model_name": "HBoxModel",
      "state": {
       "children": [
        "IPY_MODEL_5df4bf9428be400898613b0dbcc1ec95",
        "IPY_MODEL_4355b63271ed4f5da127f60e88dac51a"
       ],
       "layout": "IPY_MODEL_5dda8fd9719c47a2bf49b8e4a2f4faaf"
      }
     },
     "0998ea47bbf94280b39e8a206b8d6a0e": {
      "model_module": "@jupyter-widgets/controls",
      "model_module_version": "1.5.0",
      "model_name": "HTMLModel",
      "state": {
       "layout": "IPY_MODEL_e2b251dc0678478cbf297824af07c2d5",
       "style": "IPY_MODEL_f86b1e46997d4731a5196acbca10b1a2",
       "value": " 883/883 [03:11&lt;00:00,  4.61it/s]"
      }
     },
     "09d7b909396c4b7092326323647f8e52": {
      "model_module": "@jupyter-widgets/base",
      "model_module_version": "1.2.0",
      "model_name": "LayoutModel",
      "state": {}
     },
     "0a056ebbf1e2421787459109273809ab": {
      "model_module": "@jupyter-widgets/controls",
      "model_module_version": "1.5.0",
      "model_name": "DescriptionStyleModel",
      "state": {
       "description_width": ""
      }
     },
     "0a14c9b238f247bda720b619e26867dd": {
      "model_module": "@jupyter-widgets/controls",
      "model_module_version": "1.5.0",
      "model_name": "IntProgressModel",
      "state": {
       "bar_style": "success",
       "description": "100%",
       "layout": "IPY_MODEL_05164b278f824a6ba83f41a5e6cf0e10",
       "max": 883,
       "style": "IPY_MODEL_e9e4969ce3224c6d9e2ffdf85d88214a",
       "value": 883
      }
     },
     "0a6f5ce425ce475dbd9da7a371807edb": {
      "model_module": "@jupyter-widgets/controls",
      "model_module_version": "1.5.0",
      "model_name": "HBoxModel",
      "state": {
       "children": [
        "IPY_MODEL_b613ea341ed64975ac1c32461532bba1",
        "IPY_MODEL_ebabc3346485422a8806c1a5679ceb21"
       ],
       "layout": "IPY_MODEL_62d22125b34c4d168485d1bcb1935be2"
      }
     },
     "0aa6ee670d6941b2886f1fc4ec0a947f": {
      "model_module": "@jupyter-widgets/controls",
      "model_module_version": "1.5.0",
      "model_name": "IntProgressModel",
      "state": {
       "bar_style": "success",
       "description": "100%",
       "layout": "IPY_MODEL_3a6abea85bc74c7fa4e5d67e2c1cee73",
       "max": 883,
       "style": "IPY_MODEL_ca235b875399453da1e564d92fab51f9",
       "value": 883
      }
     },
     "0ae10c3fb8f441108a2bb631e8e7adf8": {
      "model_module": "@jupyter-widgets/base",
      "model_module_version": "1.2.0",
      "model_name": "LayoutModel",
      "state": {}
     },
     "0c61737703c54fb8a0d95d0b4a1938f2": {
      "model_module": "@jupyter-widgets/controls",
      "model_module_version": "1.5.0",
      "model_name": "HTMLModel",
      "state": {
       "layout": "IPY_MODEL_1b1705fd181c400b830c4f4eba07479e",
       "style": "IPY_MODEL_ca023ea76c5442a6ab8eff23d0d928d2",
       "value": " 883/883 [01:10&lt;00:00, 12.57it/s]"
      }
     },
     "0c85e64598094848bab1d3b71318c5b0": {
      "model_module": "@jupyter-widgets/base",
      "model_module_version": "1.2.0",
      "model_name": "LayoutModel",
      "state": {}
     },
     "0ce71f8468344e6c81473dd11255a30d": {
      "model_module": "@jupyter-widgets/controls",
      "model_module_version": "1.5.0",
      "model_name": "HTMLModel",
      "state": {
       "layout": "IPY_MODEL_a4525f0bdf654ed6b5bb7b206ee285d8",
       "style": "IPY_MODEL_a13902d19c7b46a9bb4a09e06f22f1ee",
       "value": " 883/883 [00:02&lt;00:00, 339.71it/s]"
      }
     },
     "0cedbd0047e2410fae714c6638ff21dd": {
      "model_module": "@jupyter-widgets/controls",
      "model_module_version": "1.5.0",
      "model_name": "HBoxModel",
      "state": {
       "children": [
        "IPY_MODEL_b56cd62f40b144778de608452ebc0145",
        "IPY_MODEL_367e9a40cc434772a84bf4b62b09f548"
       ],
       "layout": "IPY_MODEL_30bf4322f2f3487d89418b3ab2fd5381"
      }
     },
     "0d3337a743d840b199a2b66e47432617": {
      "model_module": "@jupyter-widgets/base",
      "model_module_version": "1.2.0",
      "model_name": "LayoutModel",
      "state": {}
     },
     "0d570e866bc84523b3b977e2b2a0793d": {
      "model_module": "@jupyter-widgets/controls",
      "model_module_version": "1.5.0",
      "model_name": "ProgressStyleModel",
      "state": {
       "description_width": "initial"
      }
     },
     "0eeadd52fdfd49d6b560ef64f3792cf7": {
      "model_module": "@jupyter-widgets/controls",
      "model_module_version": "1.5.0",
      "model_name": "HBoxModel",
      "state": {
       "children": [
        "IPY_MODEL_9095f3e9a8664f0298ca27faf2562600",
        "IPY_MODEL_d32103861ce14e8cb6f7a1fa7437a8f6"
       ],
       "layout": "IPY_MODEL_d01e97ce65224bc18a0222867df9ee4c"
      }
     },
     "10d39a7e0b8241a0bd7c083900f16c19": {
      "model_module": "@jupyter-widgets/controls",
      "model_module_version": "1.5.0",
      "model_name": "ProgressStyleModel",
      "state": {
       "description_width": "initial"
      }
     },
     "118533b33ac44e37af3ef5a05e8bd8b2": {
      "model_module": "@jupyter-widgets/controls",
      "model_module_version": "1.5.0",
      "model_name": "ProgressStyleModel",
      "state": {
       "description_width": "initial"
      }
     },
     "13895dbce7e14f0988d239f7df29307b": {
      "model_module": "@jupyter-widgets/base",
      "model_module_version": "1.2.0",
      "model_name": "LayoutModel",
      "state": {}
     },
     "13bdc03e7a2a42a2858bca7073f49545": {
      "model_module": "@jupyter-widgets/controls",
      "model_module_version": "1.5.0",
      "model_name": "DescriptionStyleModel",
      "state": {
       "description_width": ""
      }
     },
     "142f25bfacbd49d785953a7dcbbd7ed7": {
      "model_module": "@jupyter-widgets/controls",
      "model_module_version": "1.5.0",
      "model_name": "DescriptionStyleModel",
      "state": {
       "description_width": ""
      }
     },
     "1454da590ae347a28b68c6d6f0574aaf": {
      "model_module": "@jupyter-widgets/base",
      "model_module_version": "1.2.0",
      "model_name": "LayoutModel",
      "state": {}
     },
     "14802b46538748d4842a0fe94aafc9a5": {
      "model_module": "@jupyter-widgets/controls",
      "model_module_version": "1.5.0",
      "model_name": "HTMLModel",
      "state": {
       "layout": "IPY_MODEL_975a57107837435eb9e328ff911aef18",
       "style": "IPY_MODEL_18a031f5cc2d4414a349f422e84ee9c0",
       "value": " 883/883 [00:52&lt;00:00, 16.68it/s]"
      }
     },
     "154b9fc32b92440e808057efd2296b1d": {
      "model_module": "@jupyter-widgets/base",
      "model_module_version": "1.2.0",
      "model_name": "LayoutModel",
      "state": {}
     },
     "154c626ef3624868adef3b5e30d708a0": {
      "model_module": "@jupyter-widgets/base",
      "model_module_version": "1.2.0",
      "model_name": "LayoutModel",
      "state": {}
     },
     "1618051b8cf843c19d75cb4503bedb99": {
      "model_module": "@jupyter-widgets/base",
      "model_module_version": "1.2.0",
      "model_name": "LayoutModel",
      "state": {}
     },
     "1628cfc238eb4d7ea3c543b1d7f9762a": {
      "model_module": "@jupyter-widgets/base",
      "model_module_version": "1.2.0",
      "model_name": "LayoutModel",
      "state": {}
     },
     "1629182fc7c642a8b714105ee6948e3f": {
      "model_module": "@jupyter-widgets/controls",
      "model_module_version": "1.5.0",
      "model_name": "DescriptionStyleModel",
      "state": {
       "description_width": ""
      }
     },
     "177f656cca1a4666866850cf41542674": {
      "model_module": "@jupyter-widgets/controls",
      "model_module_version": "1.5.0",
      "model_name": "HBoxModel",
      "state": {
       "children": [
        "IPY_MODEL_3f61a24cd1ce4dfbb512f1b33ac60002",
        "IPY_MODEL_5021ad254f724dbe870d24ea1e0cb98d"
       ],
       "layout": "IPY_MODEL_4f1a5b55dab24ef8ac358868569c45db"
      }
     },
     "18a031f5cc2d4414a349f422e84ee9c0": {
      "model_module": "@jupyter-widgets/controls",
      "model_module_version": "1.5.0",
      "model_name": "DescriptionStyleModel",
      "state": {
       "description_width": ""
      }
     },
     "1925715753a44c308d9929ca6cd06a93": {
      "model_module": "@jupyter-widgets/controls",
      "model_module_version": "1.5.0",
      "model_name": "IntProgressModel",
      "state": {
       "bar_style": "success",
       "description": "100%",
       "layout": "IPY_MODEL_8674b8d9773e4d01bd4c65f248f80f5a",
       "max": 883,
       "style": "IPY_MODEL_8b88270fbe3d49de8b4f02957ef5076e",
       "value": 883
      }
     },
     "19afc3c91c4745b4ba67ae9555c35986": {
      "model_module": "@jupyter-widgets/controls",
      "model_module_version": "1.5.0",
      "model_name": "ProgressStyleModel",
      "state": {
       "description_width": "initial"
      }
     },
     "1ae9386f34de4969ba7c2d615b1bc9bb": {
      "model_module": "@jupyter-widgets/controls",
      "model_module_version": "1.5.0",
      "model_name": "HBoxModel",
      "state": {
       "children": [
        "IPY_MODEL_314fd20ff3184c8681329d71701ef8a0",
        "IPY_MODEL_1dbd0648f16942aeaba6efb690e09ea9"
       ],
       "layout": "IPY_MODEL_440e8fca8e244af081b6b3f779389e44"
      }
     },
     "1b1705fd181c400b830c4f4eba07479e": {
      "model_module": "@jupyter-widgets/base",
      "model_module_version": "1.2.0",
      "model_name": "LayoutModel",
      "state": {}
     },
     "1cee132066e64f1d811fe285f0d4f3f5": {
      "model_module": "@jupyter-widgets/controls",
      "model_module_version": "1.5.0",
      "model_name": "ProgressStyleModel",
      "state": {
       "description_width": "initial"
      }
     },
     "1cf23c441fd5462985a7a7fb13521ab5": {
      "model_module": "@jupyter-widgets/controls",
      "model_module_version": "1.5.0",
      "model_name": "HBoxModel",
      "state": {
       "children": [
        "IPY_MODEL_47c18d8b81704798ba47c377f159ee33",
        "IPY_MODEL_655903c20e2d4ccdabba8c8bb204313c"
       ],
       "layout": "IPY_MODEL_b3ae722a1a9b49dabbe78b4710a3dd19"
      }
     },
     "1dbd0648f16942aeaba6efb690e09ea9": {
      "model_module": "@jupyter-widgets/controls",
      "model_module_version": "1.5.0",
      "model_name": "HTMLModel",
      "state": {
       "layout": "IPY_MODEL_e7bebfbe6dd745179837489ad9c0bb13",
       "style": "IPY_MODEL_dca6aaad72684706a83287807eab24fa",
       "value": " 883/883 [00:05&lt;00:00, 148.40it/s]"
      }
     },
     "1e5d24f4ff724f708f7f77b20e352289": {
      "model_module": "@jupyter-widgets/base",
      "model_module_version": "1.2.0",
      "model_name": "LayoutModel",
      "state": {}
     },
     "1e973bdbdcc542a888c59f8c4fcfe18a": {
      "model_module": "@jupyter-widgets/base",
      "model_module_version": "1.2.0",
      "model_name": "LayoutModel",
      "state": {}
     },
     "1f41f0f409cc473e85a32ad720f4bbfb": {
      "model_module": "@jupyter-widgets/controls",
      "model_module_version": "1.5.0",
      "model_name": "HTMLModel",
      "state": {
       "layout": "IPY_MODEL_886b951373e942229f5c7bdc1ea40361",
       "style": "IPY_MODEL_573dcb205dc14005bedb5a18f71712be",
       "value": " 883/883 [00:00&lt;00:00, 1639.26it/s]"
      }
     },
     "206aa473d00342ca98cd337d9f6a1503": {
      "model_module": "@jupyter-widgets/controls",
      "model_module_version": "1.5.0",
      "model_name": "HTMLModel",
      "state": {
       "layout": "IPY_MODEL_8ca3284f3cbc4b168ec4256cfcc8bae5",
       "style": "IPY_MODEL_c6ac4b6bd662442686464870444ac331",
       "value": " 883/883 [00:19&lt;00:00, 46.10it/s]"
      }
     },
     "2161857fb8f64d48a8e3d9669bf1058e": {
      "model_module": "@jupyter-widgets/base",
      "model_module_version": "1.2.0",
      "model_name": "LayoutModel",
      "state": {}
     },
     "218b09a110fd4d9ca45ea66f186ac93e": {
      "model_module": "@jupyter-widgets/controls",
      "model_module_version": "1.5.0",
      "model_name": "HBoxModel",
      "state": {
       "children": [
        "IPY_MODEL_5c310b30120b4769ae156fc888e30313",
        "IPY_MODEL_74a1cd6b778b41b68a91670f66696f3a"
       ],
       "layout": "IPY_MODEL_ead3529660be43e288f297f705ae7f56"
      }
     },
     "221b610b7182404c96fee2cdba80680f": {
      "model_module": "@jupyter-widgets/base",
      "model_module_version": "1.2.0",
      "model_name": "LayoutModel",
      "state": {}
     },
     "22bb3f12705e4187a183b58acee9e5a7": {
      "model_module": "@jupyter-widgets/base",
      "model_module_version": "1.2.0",
      "model_name": "LayoutModel",
      "state": {}
     },
     "23eb0a19d2e44ae28c486cda4addb61d": {
      "model_module": "@jupyter-widgets/controls",
      "model_module_version": "1.5.0",
      "model_name": "HTMLModel",
      "state": {
       "layout": "IPY_MODEL_cc07e83a754045b79e4d845131220a7d",
       "style": "IPY_MODEL_cadca6b3040942338a0bbd2263a31616",
       "value": " 883/883 [02:29&lt;00:00,  5.89it/s]"
      }
     },
     "2401910bc6b542089e38d3fe6e7f7ac4": {
      "model_module": "@jupyter-widgets/controls",
      "model_module_version": "1.5.0",
      "model_name": "DescriptionStyleModel",
      "state": {
       "description_width": ""
      }
     },
     "24264992d37a4c27ac7090a03170f746": {
      "model_module": "@jupyter-widgets/controls",
      "model_module_version": "1.5.0",
      "model_name": "DescriptionStyleModel",
      "state": {
       "description_width": ""
      }
     },
     "25267e611ac546e78bd55b6b0bfb116a": {
      "model_module": "@jupyter-widgets/base",
      "model_module_version": "1.2.0",
      "model_name": "LayoutModel",
      "state": {}
     },
     "25f6fe9dd8d74b04a0016358ce3b93d0": {
      "model_module": "@jupyter-widgets/controls",
      "model_module_version": "1.5.0",
      "model_name": "DescriptionStyleModel",
      "state": {
       "description_width": ""
      }
     },
     "277f3b66f2414277a769a171ef839d28": {
      "model_module": "@jupyter-widgets/base",
      "model_module_version": "1.2.0",
      "model_name": "LayoutModel",
      "state": {}
     },
     "2820be5282a044c0be4460377c1562da": {
      "model_module": "@jupyter-widgets/controls",
      "model_module_version": "1.5.0",
      "model_name": "DescriptionStyleModel",
      "state": {
       "description_width": ""
      }
     },
     "284c831b4e964026a3da6798f62725c6": {
      "model_module": "@jupyter-widgets/controls",
      "model_module_version": "1.5.0",
      "model_name": "HBoxModel",
      "state": {
       "children": [
        "IPY_MODEL_a65ffca77a634018920e77f0343bfb20",
        "IPY_MODEL_2ea89fd1294e4e53950400f900da8987"
       ],
       "layout": "IPY_MODEL_0c85e64598094848bab1d3b71318c5b0"
      }
     },
     "285f2b41016745ddba6f1ba9cdc700a9": {
      "model_module": "@jupyter-widgets/controls",
      "model_module_version": "1.5.0",
      "model_name": "ProgressStyleModel",
      "state": {
       "description_width": "initial"
      }
     },
     "28d0c55cb9cd4a5daf4ef80d6a662da8": {
      "model_module": "@jupyter-widgets/controls",
      "model_module_version": "1.5.0",
      "model_name": "HBoxModel",
      "state": {
       "children": [
        "IPY_MODEL_307e4423ffaf45e4bcafeb95dde88def",
        "IPY_MODEL_fadae5da3f7342db8f00f8349d7f79ef"
       ],
       "layout": "IPY_MODEL_7553d20c45904f1fad2043100ee0be18"
      }
     },
     "297628961ca74cbbb44fd337cfcae5bf": {
      "model_module": "@jupyter-widgets/controls",
      "model_module_version": "1.5.0",
      "model_name": "HBoxModel",
      "state": {
       "children": [
        "IPY_MODEL_92afe5a5bcae4b45945e9b983bf7026a",
        "IPY_MODEL_2c9be8e89db546eb876d48167186d27d"
       ],
       "layout": "IPY_MODEL_e03392e2147a4026954da6ccff375667"
      }
     },
     "297b3c22cf0f467c9e2dc55091d7349b": {
      "model_module": "@jupyter-widgets/base",
      "model_module_version": "1.2.0",
      "model_name": "LayoutModel",
      "state": {}
     },
     "29e1c26fa76f43a5a0f490cb660d5693": {
      "model_module": "@jupyter-widgets/base",
      "model_module_version": "1.2.0",
      "model_name": "LayoutModel",
      "state": {}
     },
     "2adb0263b9d8426385c5a986fb8447d6": {
      "model_module": "@jupyter-widgets/base",
      "model_module_version": "1.2.0",
      "model_name": "LayoutModel",
      "state": {}
     },
     "2bbd1ec4becf4f0aa0c0177f674f76c9": {
      "model_module": "@jupyter-widgets/base",
      "model_module_version": "1.2.0",
      "model_name": "LayoutModel",
      "state": {}
     },
     "2bff1f41114444c4b5e011f27c43ac57": {
      "model_module": "@jupyter-widgets/controls",
      "model_module_version": "1.5.0",
      "model_name": "DescriptionStyleModel",
      "state": {
       "description_width": ""
      }
     },
     "2c079aa868d041ba89d1140550db7d4b": {
      "model_module": "@jupyter-widgets/base",
      "model_module_version": "1.2.0",
      "model_name": "LayoutModel",
      "state": {}
     },
     "2c9be8e89db546eb876d48167186d27d": {
      "model_module": "@jupyter-widgets/controls",
      "model_module_version": "1.5.0",
      "model_name": "HTMLModel",
      "state": {
       "layout": "IPY_MODEL_6f765141d2d343188330a96cf3d3f1c7",
       "style": "IPY_MODEL_346a3cd11c2d4a3e8e215106a3485026",
       "value": " 883/883 [00:00&lt;00:00, 1646.93it/s]"
      }
     },
     "2d8091d12f18457087ebee16ca2c6927": {
      "model_module": "@jupyter-widgets/base",
      "model_module_version": "1.2.0",
      "model_name": "LayoutModel",
      "state": {}
     },
     "2e4286a913df4a27ad60dafe02c85dd0": {
      "model_module": "@jupyter-widgets/controls",
      "model_module_version": "1.5.0",
      "model_name": "HBoxModel",
      "state": {
       "children": [
        "IPY_MODEL_a78d121e0dc54e3da41899ab3fd8d8a7",
        "IPY_MODEL_c7eedfb6bb534a94bc2cf6f11fbb566b"
       ],
       "layout": "IPY_MODEL_a17444d2529d427f99e47c80b5a82089"
      }
     },
     "2e9233b2827647bfa8b0ab8a92e725d0": {
      "model_module": "@jupyter-widgets/controls",
      "model_module_version": "1.5.0",
      "model_name": "HTMLModel",
      "state": {
       "layout": "IPY_MODEL_1454da590ae347a28b68c6d6f0574aaf",
       "style": "IPY_MODEL_37b6db7b7d594c448055a55e2e02447d",
       "value": " 883/883 [00:01&lt;00:00, 780.02it/s]"
      }
     },
     "2ea89fd1294e4e53950400f900da8987": {
      "model_module": "@jupyter-widgets/controls",
      "model_module_version": "1.5.0",
      "model_name": "HTMLModel",
      "state": {
       "layout": "IPY_MODEL_a44c73d4e34347e9bfa72d9824260a15",
       "style": "IPY_MODEL_5244db243adb4230a5328ac2e02fe742",
       "value": " 883/883 [00:00&lt;00:00, 1387.68it/s]"
      }
     },
     "2f0b76007c954cba9763c4774f59ba4c": {
      "model_module": "@jupyter-widgets/controls",
      "model_module_version": "1.5.0",
      "model_name": "IntProgressModel",
      "state": {
       "bar_style": "success",
       "description": "100%",
       "layout": "IPY_MODEL_fce71b9013004b7a8ef6cfbaeb52e527",
       "max": 883,
       "style": "IPY_MODEL_4d0cff3a7b54488e8cfd73ff1af249b9",
       "value": 883
      }
     },
     "307e4423ffaf45e4bcafeb95dde88def": {
      "model_module": "@jupyter-widgets/controls",
      "model_module_version": "1.5.0",
      "model_name": "IntProgressModel",
      "state": {
       "bar_style": "success",
       "description": "100%",
       "layout": "IPY_MODEL_f429834368b34870b2c96f6eabc495dc",
       "max": 883,
       "style": "IPY_MODEL_e636ea0539ea4a2aae88e5bec17a9553",
       "value": 883
      }
     },
     "308fef40f27843e3b8411d82ff92c25b": {
      "model_module": "@jupyter-widgets/controls",
      "model_module_version": "1.5.0",
      "model_name": "HTMLModel",
      "state": {
       "layout": "IPY_MODEL_7f202cf661a941dd86ba13000abf75ed",
       "style": "IPY_MODEL_cc47f4ee631b45749045b4f9915f2d41",
       "value": " 883/883 [08:35&lt;00:00,  1.71it/s]"
      }
     },
     "30a8b254464a4e9ba3f81a04342f9fcd": {
      "model_module": "@jupyter-widgets/controls",
      "model_module_version": "1.5.0",
      "model_name": "DescriptionStyleModel",
      "state": {
       "description_width": ""
      }
     },
     "30bf4322f2f3487d89418b3ab2fd5381": {
      "model_module": "@jupyter-widgets/base",
      "model_module_version": "1.2.0",
      "model_name": "LayoutModel",
      "state": {}
     },
     "312ef46bbb2340ba8e2fb1eca7ed7f63": {
      "model_module": "@jupyter-widgets/base",
      "model_module_version": "1.2.0",
      "model_name": "LayoutModel",
      "state": {}
     },
     "314aea4acabb40eb90821b5ade857b61": {
      "model_module": "@jupyter-widgets/controls",
      "model_module_version": "1.5.0",
      "model_name": "IntProgressModel",
      "state": {
       "bar_style": "success",
       "description": "100%",
       "layout": "IPY_MODEL_983f5e84a1474dc98ccfd1b8709e055d",
       "max": 883,
       "style": "IPY_MODEL_9ce4daee8fbc4f10975162ad188227f4",
       "value": 883
      }
     },
     "314fd20ff3184c8681329d71701ef8a0": {
      "model_module": "@jupyter-widgets/controls",
      "model_module_version": "1.5.0",
      "model_name": "IntProgressModel",
      "state": {
       "bar_style": "success",
       "description": "100%",
       "layout": "IPY_MODEL_be79ec98fcc74dea944426e97b98a8cf",
       "max": 883,
       "style": "IPY_MODEL_1cee132066e64f1d811fe285f0d4f3f5",
       "value": 883
      }
     },
     "326b6bbf34f14dc9a8af32197d10b0f6": {
      "model_module": "@jupyter-widgets/controls",
      "model_module_version": "1.5.0",
      "model_name": "IntProgressModel",
      "state": {
       "bar_style": "success",
       "description": "100%",
       "layout": "IPY_MODEL_bebcab2abbf5447c8028410628f43670",
       "max": 883,
       "style": "IPY_MODEL_aaa4efab96e54a5b8a03b7e904d427c1",
       "value": 883
      }
     },
     "3271313abbac4f74b12d0cc93c045330": {
      "model_module": "@jupyter-widgets/base",
      "model_module_version": "1.2.0",
      "model_name": "LayoutModel",
      "state": {}
     },
     "33147c2a05494b9cb3429b05fd77207e": {
      "model_module": "@jupyter-widgets/controls",
      "model_module_version": "1.5.0",
      "model_name": "HTMLModel",
      "state": {
       "layout": "IPY_MODEL_09d7b909396c4b7092326323647f8e52",
       "style": "IPY_MODEL_55a67be71a5e4edf851573ffaa9bf9ba",
       "value": " 883/883 [00:16&lt;00:00, 52.76it/s]"
      }
     },
     "3319b58d4c294f0a8ce0f187970f41a2": {
      "model_module": "@jupyter-widgets/base",
      "model_module_version": "1.2.0",
      "model_name": "LayoutModel",
      "state": {}
     },
     "3462a19b199a46b19a4a3902ba38edee": {
      "model_module": "@jupyter-widgets/controls",
      "model_module_version": "1.5.0",
      "model_name": "HBoxModel",
      "state": {
       "children": [
        "IPY_MODEL_7f8ba39a90e741db80c602cb7f96692c",
        "IPY_MODEL_206aa473d00342ca98cd337d9f6a1503"
       ],
       "layout": "IPY_MODEL_70a7c356c2f14d2aa0c779cf8203a9e6"
      }
     },
     "346a3cd11c2d4a3e8e215106a3485026": {
      "model_module": "@jupyter-widgets/controls",
      "model_module_version": "1.5.0",
      "model_name": "DescriptionStyleModel",
      "state": {
       "description_width": ""
      }
     },
     "347562e426cc4fb1ae8af90f46aebe29": {
      "model_module": "@jupyter-widgets/controls",
      "model_module_version": "1.5.0",
      "model_name": "HBoxModel",
      "state": {
       "children": [
        "IPY_MODEL_6052bc1337c14c5bbcca3a7545315e25",
        "IPY_MODEL_952924bdef294a65bada3ca38c1b5a71"
       ],
       "layout": "IPY_MODEL_9658723938644dfaba2872ed0b3efff3"
      }
     },
     "367a901662ca417d90533d7061ff3eaa": {
      "model_module": "@jupyter-widgets/controls",
      "model_module_version": "1.5.0",
      "model_name": "ProgressStyleModel",
      "state": {
       "description_width": "initial"
      }
     },
     "367e9a40cc434772a84bf4b62b09f548": {
      "model_module": "@jupyter-widgets/controls",
      "model_module_version": "1.5.0",
      "model_name": "HTMLModel",
      "state": {
       "layout": "IPY_MODEL_2d8091d12f18457087ebee16ca2c6927",
       "style": "IPY_MODEL_1629182fc7c642a8b714105ee6948e3f",
       "value": " 883/883 [00:01&lt;00:00, 451.81it/s]"
      }
     },
     "36beeb3f727e4621840d09ca5cf0fc5d": {
      "model_module": "@jupyter-widgets/controls",
      "model_module_version": "1.5.0",
      "model_name": "IntProgressModel",
      "state": {
       "bar_style": "success",
       "description": "100%",
       "layout": "IPY_MODEL_ea51cc828363471184407570c5c131d7",
       "max": 883,
       "style": "IPY_MODEL_7cf4c914c7684fe68cd507d4261fd826",
       "value": 883
      }
     },
     "3733d67bf4364753b85bcb235cdf265f": {
      "model_module": "@jupyter-widgets/base",
      "model_module_version": "1.2.0",
      "model_name": "LayoutModel",
      "state": {}
     },
     "37b6db7b7d594c448055a55e2e02447d": {
      "model_module": "@jupyter-widgets/controls",
      "model_module_version": "1.5.0",
      "model_name": "DescriptionStyleModel",
      "state": {
       "description_width": ""
      }
     },
     "37e927bd1b384a8d9968ea0d63ce55e2": {
      "model_module": "@jupyter-widgets/base",
      "model_module_version": "1.2.0",
      "model_name": "LayoutModel",
      "state": {}
     },
     "37f4084bf31a4b93a04f59fefeea2e3f": {
      "model_module": "@jupyter-widgets/base",
      "model_module_version": "1.2.0",
      "model_name": "LayoutModel",
      "state": {}
     },
     "37f84e9255494b528fdf9f21e80eb6c1": {
      "model_module": "@jupyter-widgets/base",
      "model_module_version": "1.2.0",
      "model_name": "LayoutModel",
      "state": {}
     },
     "39c23c298a0a4934a3660504f955f7ad": {
      "model_module": "@jupyter-widgets/controls",
      "model_module_version": "1.5.0",
      "model_name": "HBoxModel",
      "state": {
       "children": [
        "IPY_MODEL_ef457a89f5044596bc06634f4a38ba0c",
        "IPY_MODEL_fd0469dc890248698773c85d7d798b29"
       ],
       "layout": "IPY_MODEL_2adb0263b9d8426385c5a986fb8447d6"
      }
     },
     "3a6abea85bc74c7fa4e5d67e2c1cee73": {
      "model_module": "@jupyter-widgets/base",
      "model_module_version": "1.2.0",
      "model_name": "LayoutModel",
      "state": {}
     },
     "3b01e1b9008e494a84c2fc72f16e1237": {
      "model_module": "@jupyter-widgets/controls",
      "model_module_version": "1.5.0",
      "model_name": "DescriptionStyleModel",
      "state": {
       "description_width": ""
      }
     },
     "3b5d67e754d84d5281de254f390f0256": {
      "model_module": "@jupyter-widgets/controls",
      "model_module_version": "1.5.0",
      "model_name": "DescriptionStyleModel",
      "state": {
       "description_width": ""
      }
     },
     "3bb03f3bd521459fa04f018940c1b2c3": {
      "model_module": "@jupyter-widgets/controls",
      "model_module_version": "1.5.0",
      "model_name": "HBoxModel",
      "state": {
       "children": [
        "IPY_MODEL_f80549ea60474db49a19317fbecee558",
        "IPY_MODEL_93d3e5e7597d4763b237ccd13e8727fa"
       ],
       "layout": "IPY_MODEL_05b7e3fe517f486aa7d39663fda04c9d"
      }
     },
     "3bd90808cd7148769c60917716631225": {
      "model_module": "@jupyter-widgets/controls",
      "model_module_version": "1.5.0",
      "model_name": "HTMLModel",
      "state": {
       "layout": "IPY_MODEL_bc44aef084ba49f8acc710a9d33e179d",
       "style": "IPY_MODEL_08290e1d651e41baaac934361d277dc8",
       "value": " 883/883 [00:00&lt;00:00, 1476.82it/s]"
      }
     },
     "3d137544d4cc4459a5ef941ae938e222": {
      "model_module": "@jupyter-widgets/base",
      "model_module_version": "1.2.0",
      "model_name": "LayoutModel",
      "state": {}
     },
     "3d690a2bc12c49999d2387fefcd92d25": {
      "model_module": "@jupyter-widgets/controls",
      "model_module_version": "1.5.0",
      "model_name": "DescriptionStyleModel",
      "state": {
       "description_width": ""
      }
     },
     "3daae47265634060a193da2a767bdbcc": {
      "model_module": "@jupyter-widgets/base",
      "model_module_version": "1.2.0",
      "model_name": "LayoutModel",
      "state": {}
     },
     "3e5d695b561c4ecf96388bf4e0683127": {
      "model_module": "@jupyter-widgets/controls",
      "model_module_version": "1.5.0",
      "model_name": "DescriptionStyleModel",
      "state": {
       "description_width": ""
      }
     },
     "3f529d03e55d44d2b716405d5480d133": {
      "model_module": "@jupyter-widgets/base",
      "model_module_version": "1.2.0",
      "model_name": "LayoutModel",
      "state": {}
     },
     "3f613ab1c4854704b3f94a7a4426ca68": {
      "model_module": "@jupyter-widgets/base",
      "model_module_version": "1.2.0",
      "model_name": "LayoutModel",
      "state": {}
     },
     "3f61a24cd1ce4dfbb512f1b33ac60002": {
      "model_module": "@jupyter-widgets/controls",
      "model_module_version": "1.5.0",
      "model_name": "IntProgressModel",
      "state": {
       "bar_style": "success",
       "description": "100%",
       "layout": "IPY_MODEL_cf1de0e5ca3142fe93a8321c3dddface",
       "max": 883,
       "style": "IPY_MODEL_84062578de94464da9abe6b509f9163d",
       "value": 883
      }
     },
     "3fb84ea2802a48f2805b1f5601bc93a5": {
      "model_module": "@jupyter-widgets/base",
      "model_module_version": "1.2.0",
      "model_name": "LayoutModel",
      "state": {}
     },
     "3fdbf7cb8bb7441a9175450088e218ce": {
      "model_module": "@jupyter-widgets/controls",
      "model_module_version": "1.5.0",
      "model_name": "HTMLModel",
      "state": {
       "layout": "IPY_MODEL_9d435f46649a450e97c7c962f45a0096",
       "style": "IPY_MODEL_6fa496ab9ca74bddbeed21841e1605ba",
       "value": " 883/883 [02:38&lt;00:00,  5.56it/s]"
      }
     },
     "40904e446fcd4e4bbedf5c9c8f84e217": {
      "model_module": "@jupyter-widgets/base",
      "model_module_version": "1.2.0",
      "model_name": "LayoutModel",
      "state": {}
     },
     "40ba9f7e4e614dacbda2100c2cfa1c44": {
      "model_module": "@jupyter-widgets/controls",
      "model_module_version": "1.5.0",
      "model_name": "IntProgressModel",
      "state": {
       "bar_style": "success",
       "description": "100%",
       "layout": "IPY_MODEL_96d1acf351c443029aec4febfe7b7f8c",
       "max": 883,
       "style": "IPY_MODEL_e48d8dc4080347698c9bf481e4c17547",
       "value": 883
      }
     },
     "40c084fe08694a35bc9ad3bf504bf929": {
      "model_module": "@jupyter-widgets/controls",
      "model_module_version": "1.5.0",
      "model_name": "DescriptionStyleModel",
      "state": {
       "description_width": ""
      }
     },
     "419e6602d26f455f81b12cf47786d337": {
      "model_module": "@jupyter-widgets/controls",
      "model_module_version": "1.5.0",
      "model_name": "IntProgressModel",
      "state": {
       "bar_style": "success",
       "description": "100%",
       "layout": "IPY_MODEL_29e1c26fa76f43a5a0f490cb660d5693",
       "max": 883,
       "style": "IPY_MODEL_8eb682cafcb84b1298b3d58d6154a432",
       "value": 883
      }
     },
     "41aaa95e5d664e00825372115c5273e4": {
      "model_module": "@jupyter-widgets/controls",
      "model_module_version": "1.5.0",
      "model_name": "IntProgressModel",
      "state": {
       "bar_style": "success",
       "description": "100%",
       "layout": "IPY_MODEL_e58b76c690be4dcf8cfbb3f110cc3ab2",
       "max": 883,
       "style": "IPY_MODEL_118533b33ac44e37af3ef5a05e8bd8b2",
       "value": 883
      }
     },
     "41ad748b836341b993adeb6c418e76e8": {
      "model_module": "@jupyter-widgets/base",
      "model_module_version": "1.2.0",
      "model_name": "LayoutModel",
      "state": {}
     },
     "431874f236544014a232aa7c0dd9a1ce": {
      "model_module": "@jupyter-widgets/base",
      "model_module_version": "1.2.0",
      "model_name": "LayoutModel",
      "state": {}
     },
     "4348c28e4bc14c7e8de0b445a9726303": {
      "model_module": "@jupyter-widgets/controls",
      "model_module_version": "1.5.0",
      "model_name": "HTMLModel",
      "state": {
       "layout": "IPY_MODEL_37f4084bf31a4b93a04f59fefeea2e3f",
       "style": "IPY_MODEL_2820be5282a044c0be4460377c1562da",
       "value": " 883/883 [00:01&lt;00:00, 825.77it/s]"
      }
     },
     "4355b63271ed4f5da127f60e88dac51a": {
      "model_module": "@jupyter-widgets/controls",
      "model_module_version": "1.5.0",
      "model_name": "HTMLModel",
      "state": {
       "layout": "IPY_MODEL_844019c9c45c45f09d955d3fcdc0292a",
       "style": "IPY_MODEL_d9d99a46883a4a0d93b5e5caa965a68a",
       "value": " 883/883 [00:02&lt;00:00, 372.70it/s]"
      }
     },
     "4380cf586f834df78ac5109079061e11": {
      "model_module": "@jupyter-widgets/controls",
      "model_module_version": "1.5.0",
      "model_name": "DescriptionStyleModel",
      "state": {
       "description_width": ""
      }
     },
     "43e4cf2694cb40a3a1317b3b33c8cfc2": {
      "model_module": "@jupyter-widgets/controls",
      "model_module_version": "1.5.0",
      "model_name": "HBoxModel",
      "state": {
       "children": [
        "IPY_MODEL_326b6bbf34f14dc9a8af32197d10b0f6",
        "IPY_MODEL_5c553f58bbec4a82a89893985d68eb5e"
       ],
       "layout": "IPY_MODEL_5d84203028f245f18733673c009aadda"
      }
     },
     "440e8fca8e244af081b6b3f779389e44": {
      "model_module": "@jupyter-widgets/base",
      "model_module_version": "1.2.0",
      "model_name": "LayoutModel",
      "state": {}
     },
     "44e05fe3ac0f4c2fa6cf02a0e6cc3558": {
      "model_module": "@jupyter-widgets/base",
      "model_module_version": "1.2.0",
      "model_name": "LayoutModel",
      "state": {}
     },
     "469464b8d77f4a10a5b7da71640eaab3": {
      "model_module": "@jupyter-widgets/controls",
      "model_module_version": "1.5.0",
      "model_name": "HTMLModel",
      "state": {
       "layout": "IPY_MODEL_84bbfbaa36b24baaa69fd811342925c0",
       "style": "IPY_MODEL_4ce3e42de7a8459b831fd97f299b0be1",
       "value": " 883/883 [00:16&lt;00:00, 52.34it/s]"
      }
     },
     "46a1ab7afe05428cb8107318375a954c": {
      "model_module": "@jupyter-widgets/base",
      "model_module_version": "1.2.0",
      "model_name": "LayoutModel",
      "state": {}
     },
     "46fbad911cf84b97afc694450909c380": {
      "model_module": "@jupyter-widgets/controls",
      "model_module_version": "1.5.0",
      "model_name": "HBoxModel",
      "state": {
       "children": [
        "IPY_MODEL_a2155821ecab4b22aae885f7601bfa04",
        "IPY_MODEL_8cd49f1ef9d94919a9e9b0b031f0a8db"
       ],
       "layout": "IPY_MODEL_03060caecd0945f7a373e91fa51618bb"
      }
     },
     "478fbc0156044077bbf100a0aa040473": {
      "model_module": "@jupyter-widgets/base",
      "model_module_version": "1.2.0",
      "model_name": "LayoutModel",
      "state": {}
     },
     "4795b9e9832b4ba8b9acc373a3ed712e": {
      "model_module": "@jupyter-widgets/controls",
      "model_module_version": "1.5.0",
      "model_name": "IntProgressModel",
      "state": {
       "bar_style": "success",
       "description": "100%",
       "layout": "IPY_MODEL_79dcb20c820f40cdbd383d592145ea2f",
       "max": 883,
       "style": "IPY_MODEL_5d13da9072334faea62963a1be9993fe",
       "value": 883
      }
     },
     "47c18d8b81704798ba47c377f159ee33": {
      "model_module": "@jupyter-widgets/controls",
      "model_module_version": "1.5.0",
      "model_name": "IntProgressModel",
      "state": {
       "bar_style": "success",
       "description": "100%",
       "layout": "IPY_MODEL_abe1d2656008489f812cc66fc0446b3b",
       "max": 883,
       "style": "IPY_MODEL_f9f4b62589974a3ab9c5b0421125e47e",
       "value": 883
      }
     },
     "4874d4d353ba425781129fc449496207": {
      "model_module": "@jupyter-widgets/controls",
      "model_module_version": "1.5.0",
      "model_name": "HTMLModel",
      "state": {
       "layout": "IPY_MODEL_91724757c8624a909a31d903518a46ec",
       "style": "IPY_MODEL_04c1efd2a3044a50a691e75e3399b016",
       "value": " 883/883 [00:01&lt;00:00, 658.19it/s]"
      }
     },
     "487bad9703da411d99859c883a86cf61": {
      "model_module": "@jupyter-widgets/controls",
      "model_module_version": "1.5.0",
      "model_name": "HBoxModel",
      "state": {
       "children": [
        "IPY_MODEL_8d372e3f09a943b0b8bfbffd1ba1ac8f",
        "IPY_MODEL_d8b3b1aef17647758c664dca594cd9b6"
       ],
       "layout": "IPY_MODEL_93bcbd464d1745fcb6732161acbb5a11"
      }
     },
     "494f7bbcffc64f6a8d6b4f56b7015efa": {
      "model_module": "@jupyter-widgets/controls",
      "model_module_version": "1.5.0",
      "model_name": "DescriptionStyleModel",
      "state": {
       "description_width": ""
      }
     },
     "4a451bc95e7e443bbbde413debcb417f": {
      "model_module": "@jupyter-widgets/controls",
      "model_module_version": "1.5.0",
      "model_name": "IntProgressModel",
      "state": {
       "bar_style": "success",
       "description": "100%",
       "layout": "IPY_MODEL_73cef3931d0040a79ef32f7c153b91ca",
       "max": 883,
       "style": "IPY_MODEL_52950b2447ce42799033eff41a3d4b98",
       "value": 883
      }
     },
     "4a69d75531f64d8ba0a14f38f9473893": {
      "model_module": "@jupyter-widgets/controls",
      "model_module_version": "1.5.0",
      "model_name": "ProgressStyleModel",
      "state": {
       "description_width": "initial"
      }
     },
     "4c6b22598b5b475d834fed0cde08018d": {
      "model_module": "@jupyter-widgets/base",
      "model_module_version": "1.2.0",
      "model_name": "LayoutModel",
      "state": {}
     },
     "4ce3e42de7a8459b831fd97f299b0be1": {
      "model_module": "@jupyter-widgets/controls",
      "model_module_version": "1.5.0",
      "model_name": "DescriptionStyleModel",
      "state": {
       "description_width": ""
      }
     },
     "4d0cff3a7b54488e8cfd73ff1af249b9": {
      "model_module": "@jupyter-widgets/controls",
      "model_module_version": "1.5.0",
      "model_name": "ProgressStyleModel",
      "state": {
       "description_width": "initial"
      }
     },
     "4d29708b34ba416c955b5db4729dbcf8": {
      "model_module": "@jupyter-widgets/controls",
      "model_module_version": "1.5.0",
      "model_name": "HBoxModel",
      "state": {
       "children": [
        "IPY_MODEL_d07687486d524533adb535f4a5c1d12a",
        "IPY_MODEL_2e9233b2827647bfa8b0ab8a92e725d0"
       ],
       "layout": "IPY_MODEL_312ef46bbb2340ba8e2fb1eca7ed7f63"
      }
     },
     "4d5bb861343d4ee0a0796b4fc0a0d5f5": {
      "model_module": "@jupyter-widgets/controls",
      "model_module_version": "1.5.0",
      "model_name": "DescriptionStyleModel",
      "state": {
       "description_width": ""
      }
     },
     "4d6e18cb7d6f46dc80c479df3eefb399": {
      "model_module": "@jupyter-widgets/controls",
      "model_module_version": "1.5.0",
      "model_name": "HBoxModel",
      "state": {
       "children": [
        "IPY_MODEL_d243ff8128e043288865b7b25b022f07",
        "IPY_MODEL_9403524bcbca481d968abe0d29525032"
       ],
       "layout": "IPY_MODEL_4f790e69465e46518619a91d661c52da"
      }
     },
     "4dfd70b95c154f4eadab99e1f933420c": {
      "model_module": "@jupyter-widgets/controls",
      "model_module_version": "1.5.0",
      "model_name": "HBoxModel",
      "state": {
       "children": [
        "IPY_MODEL_970e36e8d5ab4e389f736f31aa2b3589",
        "IPY_MODEL_23eb0a19d2e44ae28c486cda4addb61d"
       ],
       "layout": "IPY_MODEL_8b29c66d69ee447ea12e65c3889f0f27"
      }
     },
     "4ec673d6726345b8b9c485a641e6e3f4": {
      "model_module": "@jupyter-widgets/controls",
      "model_module_version": "1.5.0",
      "model_name": "DescriptionStyleModel",
      "state": {
       "description_width": ""
      }
     },
     "4ef24024f9b44bc2adaf951616c6546d": {
      "model_module": "@jupyter-widgets/controls",
      "model_module_version": "1.5.0",
      "model_name": "HBoxModel",
      "state": {
       "children": [
        "IPY_MODEL_40ba9f7e4e614dacbda2100c2cfa1c44",
        "IPY_MODEL_034875d41ab14fdd943a88c4e68bff74"
       ],
       "layout": "IPY_MODEL_fc330a2e381b471fb06badce8398c39c"
      }
     },
     "4f1a5b55dab24ef8ac358868569c45db": {
      "model_module": "@jupyter-widgets/base",
      "model_module_version": "1.2.0",
      "model_name": "LayoutModel",
      "state": {}
     },
     "4f790e69465e46518619a91d661c52da": {
      "model_module": "@jupyter-widgets/base",
      "model_module_version": "1.2.0",
      "model_name": "LayoutModel",
      "state": {}
     },
     "4fd81b8b2f364ae99dc51020dc49a5b0": {
      "model_module": "@jupyter-widgets/base",
      "model_module_version": "1.2.0",
      "model_name": "LayoutModel",
      "state": {}
     },
     "500147731b424b5381c8dfa3737cf19f": {
      "model_module": "@jupyter-widgets/controls",
      "model_module_version": "1.5.0",
      "model_name": "DescriptionStyleModel",
      "state": {
       "description_width": ""
      }
     },
     "5021ad254f724dbe870d24ea1e0cb98d": {
      "model_module": "@jupyter-widgets/controls",
      "model_module_version": "1.5.0",
      "model_name": "HTMLModel",
      "state": {
       "layout": "IPY_MODEL_e6d56a8f1fae412b9fdceb78f064dcd7",
       "style": "IPY_MODEL_4ec673d6726345b8b9c485a641e6e3f4",
       "value": " 883/883 [00:01&lt;00:00, 749.73it/s]"
      }
     },
     "5062b460fbcd4ab89f215c66ba8e8662": {
      "model_module": "@jupyter-widgets/controls",
      "model_module_version": "1.5.0",
      "model_name": "ProgressStyleModel",
      "state": {
       "description_width": "initial"
      }
     },
     "5244db243adb4230a5328ac2e02fe742": {
      "model_module": "@jupyter-widgets/controls",
      "model_module_version": "1.5.0",
      "model_name": "DescriptionStyleModel",
      "state": {
       "description_width": ""
      }
     },
     "5251ca6a72904690a1b8bad4d59f3cb5": {
      "model_module": "@jupyter-widgets/controls",
      "model_module_version": "1.5.0",
      "model_name": "DescriptionStyleModel",
      "state": {
       "description_width": ""
      }
     },
     "528e7800b2c8459e9c9eba2b802befa0": {
      "model_module": "@jupyter-widgets/base",
      "model_module_version": "1.2.0",
      "model_name": "LayoutModel",
      "state": {}
     },
     "52950b2447ce42799033eff41a3d4b98": {
      "model_module": "@jupyter-widgets/controls",
      "model_module_version": "1.5.0",
      "model_name": "ProgressStyleModel",
      "state": {
       "description_width": "initial"
      }
     },
     "5301d7a2f99f45eeb66cb68e689b8765": {
      "model_module": "@jupyter-widgets/base",
      "model_module_version": "1.2.0",
      "model_name": "LayoutModel",
      "state": {}
     },
     "53208ca4eb2a4f89bb0f208fe6b03c4a": {
      "model_module": "@jupyter-widgets/controls",
      "model_module_version": "1.5.0",
      "model_name": "IntProgressModel",
      "state": {
       "bar_style": "success",
       "description": "100%",
       "layout": "IPY_MODEL_478fbc0156044077bbf100a0aa040473",
       "max": 883,
       "style": "IPY_MODEL_e7c57f5bae6b43df933a0cbbffa8175d",
       "value": 883
      }
     },
     "5555590e477945bcb1a2ee3a2f80093a": {
      "model_module": "@jupyter-widgets/controls",
      "model_module_version": "1.5.0",
      "model_name": "HBoxModel",
      "state": {
       "children": [
        "IPY_MODEL_f97dd02c5b584311a71dba98a7893387",
        "IPY_MODEL_dab061bdc67a412ba5c4d9f25db1ff59"
       ],
       "layout": "IPY_MODEL_b5ca0dceda9a47df8b34dec704ba4028"
      }
     },
     "558b824de9e44638bc81f7836d7d883c": {
      "model_module": "@jupyter-widgets/controls",
      "model_module_version": "1.5.0",
      "model_name": "HBoxModel",
      "state": {
       "children": [
        "IPY_MODEL_d4955403089242a588b76f4deed83e69",
        "IPY_MODEL_1f41f0f409cc473e85a32ad720f4bbfb"
       ],
       "layout": "IPY_MODEL_cb74d27a4a3045a887d7a296f7a04cbf"
      }
     },
     "55a67be71a5e4edf851573ffaa9bf9ba": {
      "model_module": "@jupyter-widgets/controls",
      "model_module_version": "1.5.0",
      "model_name": "DescriptionStyleModel",
      "state": {
       "description_width": ""
      }
     },
     "56df4d181d8c4258b5e11da465f62861": {
      "model_module": "@jupyter-widgets/base",
      "model_module_version": "1.2.0",
      "model_name": "LayoutModel",
      "state": {}
     },
     "573dcb205dc14005bedb5a18f71712be": {
      "model_module": "@jupyter-widgets/controls",
      "model_module_version": "1.5.0",
      "model_name": "DescriptionStyleModel",
      "state": {
       "description_width": ""
      }
     },
     "5833da79d4cc4e3daf11014ef0bfc24c": {
      "model_module": "@jupyter-widgets/controls",
      "model_module_version": "1.5.0",
      "model_name": "ProgressStyleModel",
      "state": {
       "description_width": "initial"
      }
     },
     "588b7c747f8e4b498638a5b9c9343b48": {
      "model_module": "@jupyter-widgets/base",
      "model_module_version": "1.2.0",
      "model_name": "LayoutModel",
      "state": {}
     },
     "5ae8c862fc2240859bc86b1e37087bd1": {
      "model_module": "@jupyter-widgets/controls",
      "model_module_version": "1.5.0",
      "model_name": "HBoxModel",
      "state": {
       "children": [
        "IPY_MODEL_0a14c9b238f247bda720b619e26867dd",
        "IPY_MODEL_a75b9d83b1ba44198bfacbd54a1acc08"
       ],
       "layout": "IPY_MODEL_3733d67bf4364753b85bcb235cdf265f"
      }
     },
     "5c310b30120b4769ae156fc888e30313": {
      "model_module": "@jupyter-widgets/controls",
      "model_module_version": "1.5.0",
      "model_name": "IntProgressModel",
      "state": {
       "bar_style": "success",
       "description": "100%",
       "layout": "IPY_MODEL_89b1ce74acab4321868b7e93b3422512",
       "max": 883,
       "style": "IPY_MODEL_d0f90daad0c5428daed5ca60fc384dfb",
       "value": 883
      }
     },
     "5c553f58bbec4a82a89893985d68eb5e": {
      "model_module": "@jupyter-widgets/controls",
      "model_module_version": "1.5.0",
      "model_name": "HTMLModel",
      "state": {
       "layout": "IPY_MODEL_bffb46cbc0c04766b252b7cf0c945e19",
       "style": "IPY_MODEL_30a8b254464a4e9ba3f81a04342f9fcd",
       "value": " 883/883 [00:01&lt;00:00, 821.25it/s]"
      }
     },
     "5c809abbb492419e9a2a235bb5a438fa": {
      "model_module": "@jupyter-widgets/controls",
      "model_module_version": "1.5.0",
      "model_name": "ProgressStyleModel",
      "state": {
       "description_width": "initial"
      }
     },
     "5d13da9072334faea62963a1be9993fe": {
      "model_module": "@jupyter-widgets/controls",
      "model_module_version": "1.5.0",
      "model_name": "ProgressStyleModel",
      "state": {
       "description_width": "initial"
      }
     },
     "5d1762c6a85f47b983ba8c06773276c1": {
      "model_module": "@jupyter-widgets/controls",
      "model_module_version": "1.5.0",
      "model_name": "HBoxModel",
      "state": {
       "children": [
        "IPY_MODEL_1925715753a44c308d9929ca6cd06a93",
        "IPY_MODEL_063b7290ac8a449287675e4f18952a12"
       ],
       "layout": "IPY_MODEL_9012bce49e164b3bb2b0bac280295a17"
      }
     },
     "5d4a673e27924c1eb73e62a2dce02320": {
      "model_module": "@jupyter-widgets/controls",
      "model_module_version": "1.5.0",
      "model_name": "HTMLModel",
      "state": {
       "layout": "IPY_MODEL_44e05fe3ac0f4c2fa6cf02a0e6cc3558",
       "style": "IPY_MODEL_74bf377ab7334472b6cb8f83f2a0f9d6",
       "value": " 883/883 [00:01&lt;00:00, 546.93it/s]"
      }
     },
     "5d84203028f245f18733673c009aadda": {
      "model_module": "@jupyter-widgets/base",
      "model_module_version": "1.2.0",
      "model_name": "LayoutModel",
      "state": {}
     },
     "5dda8fd9719c47a2bf49b8e4a2f4faaf": {
      "model_module": "@jupyter-widgets/base",
      "model_module_version": "1.2.0",
      "model_name": "LayoutModel",
      "state": {}
     },
     "5df4bf9428be400898613b0dbcc1ec95": {
      "model_module": "@jupyter-widgets/controls",
      "model_module_version": "1.5.0",
      "model_name": "IntProgressModel",
      "state": {
       "bar_style": "success",
       "description": "100%",
       "layout": "IPY_MODEL_e06cb8726cb04f0eb27d24433a2b311f",
       "max": 883,
       "style": "IPY_MODEL_5c809abbb492419e9a2a235bb5a438fa",
       "value": 883
      }
     },
     "5e5b7298c0834098bb9932b17d2d6e4a": {
      "model_module": "@jupyter-widgets/controls",
      "model_module_version": "1.5.0",
      "model_name": "HBoxModel",
      "state": {
       "children": [
        "IPY_MODEL_9375796782f44e5ea7b662ed0ec026f7",
        "IPY_MODEL_0c61737703c54fb8a0d95d0b4a1938f2"
       ],
       "layout": "IPY_MODEL_22bb3f12705e4187a183b58acee9e5a7"
      }
     },
     "5fa47f1402a341d394b4ba8d2e8b4bec": {
      "model_module": "@jupyter-widgets/base",
      "model_module_version": "1.2.0",
      "model_name": "LayoutModel",
      "state": {}
     },
     "5fbf0199a28f443e8e1c516db6b34053": {
      "model_module": "@jupyter-widgets/base",
      "model_module_version": "1.2.0",
      "model_name": "LayoutModel",
      "state": {}
     },
     "5ffe772c0eab434198de7b20efc5b647": {
      "model_module": "@jupyter-widgets/base",
      "model_module_version": "1.2.0",
      "model_name": "LayoutModel",
      "state": {}
     },
     "6052bc1337c14c5bbcca3a7545315e25": {
      "model_module": "@jupyter-widgets/controls",
      "model_module_version": "1.5.0",
      "model_name": "IntProgressModel",
      "state": {
       "bar_style": "success",
       "description": "100%",
       "layout": "IPY_MODEL_a78501cce3574fd2b48c35420f4078b8",
       "max": 883,
       "style": "IPY_MODEL_8f58500c51314edd80e936cfeb88f76e",
       "value": 883
      }
     },
     "608e2186e6994313864c8420f8f49cf7": {
      "model_module": "@jupyter-widgets/controls",
      "model_module_version": "1.5.0",
      "model_name": "HTMLModel",
      "state": {
       "layout": "IPY_MODEL_5fa47f1402a341d394b4ba8d2e8b4bec",
       "style": "IPY_MODEL_fbba4b06d8444920a53fe34fe2004124",
       "value": " 31/31 [09:54&lt;00:00, 19.19s/it]"
      }
     },
     "62538a50abdf413ca56e28af1cec966f": {
      "model_module": "@jupyter-widgets/controls",
      "model_module_version": "1.5.0",
      "model_name": "DescriptionStyleModel",
      "state": {
       "description_width": ""
      }
     },
     "62d22125b34c4d168485d1bcb1935be2": {
      "model_module": "@jupyter-widgets/base",
      "model_module_version": "1.2.0",
      "model_name": "LayoutModel",
      "state": {}
     },
     "6306794d38e34278aaac76fcade823fa": {
      "model_module": "@jupyter-widgets/controls",
      "model_module_version": "1.5.0",
      "model_name": "HTMLModel",
      "state": {
       "layout": "IPY_MODEL_bed9ed643d2e4888a50c3ff995afc249",
       "style": "IPY_MODEL_b9e1fe091e384b15bcced10776c03259",
       "value": " 883/883 [00:02&lt;00:00, 350.18it/s]"
      }
     },
     "63295a76df9e4303b4282c2b6894f862": {
      "model_module": "@jupyter-widgets/controls",
      "model_module_version": "1.5.0",
      "model_name": "IntProgressModel",
      "state": {
       "bar_style": "success",
       "description": "100%",
       "layout": "IPY_MODEL_826e102a5c0f411f8dd9c4ae4960858b",
       "max": 883,
       "style": "IPY_MODEL_e86d385af33a459ab8c1b083ae50028f",
       "value": 883
      }
     },
     "63559065274945b187858882fca4170c": {
      "model_module": "@jupyter-widgets/controls",
      "model_module_version": "1.5.0",
      "model_name": "DescriptionStyleModel",
      "state": {
       "description_width": ""
      }
     },
     "64200b51668f4e508dd3d1943fcac4f4": {
      "model_module": "@jupyter-widgets/base",
      "model_module_version": "1.2.0",
      "model_name": "LayoutModel",
      "state": {}
     },
     "64339df408204c11b1a587434a70d530": {
      "model_module": "@jupyter-widgets/controls",
      "model_module_version": "1.5.0",
      "model_name": "HTMLModel",
      "state": {
       "layout": "IPY_MODEL_3f529d03e55d44d2b716405d5480d133",
       "style": "IPY_MODEL_25f6fe9dd8d74b04a0016358ce3b93d0",
       "value": " 883/883 [01:13&lt;00:00, 12.03it/s]"
      }
     },
     "6546ab8db9614e9f8289ed581619d9f6": {
      "model_module": "@jupyter-widgets/controls",
      "model_module_version": "1.5.0",
      "model_name": "DescriptionStyleModel",
      "state": {
       "description_width": ""
      }
     },
     "655903c20e2d4ccdabba8c8bb204313c": {
      "model_module": "@jupyter-widgets/controls",
      "model_module_version": "1.5.0",
      "model_name": "HTMLModel",
      "state": {
       "layout": "IPY_MODEL_64200b51668f4e508dd3d1943fcac4f4",
       "style": "IPY_MODEL_8ddbd3d2ca4342f2a472a9b97d8c0a36",
       "value": " 883/883 [00:02&lt;00:00, 429.37it/s]"
      }
     },
     "65b36a80cf9d46b38824893e8615a575": {
      "model_module": "@jupyter-widgets/controls",
      "model_module_version": "1.5.0",
      "model_name": "DescriptionStyleModel",
      "state": {
       "description_width": ""
      }
     },
     "685475cb34b44bea9cb0bbc128a66a4b": {
      "model_module": "@jupyter-widgets/controls",
      "model_module_version": "1.5.0",
      "model_name": "IntProgressModel",
      "state": {
       "bar_style": "success",
       "description": "100%",
       "layout": "IPY_MODEL_026b82a308c84e14b27a66446a6a45bc",
       "max": 883,
       "style": "IPY_MODEL_c6cb36e551b44d5e8cc144aeb57b81c4",
       "value": 883
      }
     },
     "6965af8b0d8247359bd2c41e2f142f5f": {
      "model_module": "@jupyter-widgets/base",
      "model_module_version": "1.2.0",
      "model_name": "LayoutModel",
      "state": {}
     },
     "69850efe75c8498db31bb495b2016123": {
      "model_module": "@jupyter-widgets/controls",
      "model_module_version": "1.5.0",
      "model_name": "IntProgressModel",
      "state": {
       "bar_style": "success",
       "description": "100%",
       "layout": "IPY_MODEL_ee4480c6eaf441fd98dfe5ead72618d7",
       "max": 883,
       "style": "IPY_MODEL_6a06fe9c35ab4bccb275042b452002e3",
       "value": 883
      }
     },
     "6a06fe9c35ab4bccb275042b452002e3": {
      "model_module": "@jupyter-widgets/controls",
      "model_module_version": "1.5.0",
      "model_name": "ProgressStyleModel",
      "state": {
       "description_width": "initial"
      }
     },
     "6a14956780ed444e9b364a0ad134b99e": {
      "model_module": "@jupyter-widgets/controls",
      "model_module_version": "1.5.0",
      "model_name": "HTMLModel",
      "state": {
       "layout": "IPY_MODEL_08944c14a289495d89587d5be312541d",
       "style": "IPY_MODEL_7571961026bd4883ae75407101c6add1",
       "value": " 883/883 [00:03&lt;00:00, 234.10it/s]"
      }
     },
     "6d46a6519b654cff9c348d7e69531eee": {
      "model_module": "@jupyter-widgets/controls",
      "model_module_version": "1.5.0",
      "model_name": "IntProgressModel",
      "state": {
       "bar_style": "success",
       "description": "100%",
       "layout": "IPY_MODEL_07e1618af65744e294a20c4eaa8b6613",
       "max": 883,
       "style": "IPY_MODEL_e433bc42f4e2494e982db6ec4fd549c1",
       "value": 883
      }
     },
     "6d46d95410ce406798b4fead20f1af05": {
      "model_module": "@jupyter-widgets/controls",
      "model_module_version": "1.5.0",
      "model_name": "IntProgressModel",
      "state": {
       "bar_style": "success",
       "description": "100%",
       "layout": "IPY_MODEL_a8838d769a334ff0914051d2bc5b55b4",
       "max": 883,
       "style": "IPY_MODEL_6ebee732b9ca45f9a5304849f4f62fff",
       "value": 883
      }
     },
     "6ebee732b9ca45f9a5304849f4f62fff": {
      "model_module": "@jupyter-widgets/controls",
      "model_module_version": "1.5.0",
      "model_name": "ProgressStyleModel",
      "state": {
       "description_width": "initial"
      }
     },
     "6f5ced9337c245a5b420ae1aee307ea4": {
      "model_module": "@jupyter-widgets/controls",
      "model_module_version": "1.5.0",
      "model_name": "DescriptionStyleModel",
      "state": {
       "description_width": ""
      }
     },
     "6f765141d2d343188330a96cf3d3f1c7": {
      "model_module": "@jupyter-widgets/base",
      "model_module_version": "1.2.0",
      "model_name": "LayoutModel",
      "state": {}
     },
     "6fa496ab9ca74bddbeed21841e1605ba": {
      "model_module": "@jupyter-widgets/controls",
      "model_module_version": "1.5.0",
      "model_name": "DescriptionStyleModel",
      "state": {
       "description_width": ""
      }
     },
     "6fa878579bed456588fca478d24ad742": {
      "model_module": "@jupyter-widgets/controls",
      "model_module_version": "1.5.0",
      "model_name": "ProgressStyleModel",
      "state": {
       "description_width": "initial"
      }
     },
     "70414a7bd608405998209b866920674a": {
      "model_module": "@jupyter-widgets/controls",
      "model_module_version": "1.5.0",
      "model_name": "HTMLModel",
      "state": {
       "layout": "IPY_MODEL_f16d028d30124ab392c3d88588f59842",
       "style": "IPY_MODEL_6f5ced9337c245a5b420ae1aee307ea4",
       "value": " 883/883 [01:19&lt;00:00, 11.14it/s]"
      }
     },
     "70a7c356c2f14d2aa0c779cf8203a9e6": {
      "model_module": "@jupyter-widgets/base",
      "model_module_version": "1.2.0",
      "model_name": "LayoutModel",
      "state": {}
     },
     "71a74215ff704782b273df3e6039dc10": {
      "model_module": "@jupyter-widgets/base",
      "model_module_version": "1.2.0",
      "model_name": "LayoutModel",
      "state": {}
     },
     "71bb05099f764762b50e2f927b01253e": {
      "model_module": "@jupyter-widgets/controls",
      "model_module_version": "1.5.0",
      "model_name": "IntProgressModel",
      "state": {
       "bar_style": "success",
       "description": "100%",
       "layout": "IPY_MODEL_cbe1e4d1395f4bcdaabd1a111b7e8f69",
       "max": 883,
       "style": "IPY_MODEL_367a901662ca417d90533d7061ff3eaa",
       "value": 883
      }
     },
     "72b9df7737a54fbba9ac19a0eba6f49b": {
      "model_module": "@jupyter-widgets/controls",
      "model_module_version": "1.5.0",
      "model_name": "IntProgressModel",
      "state": {
       "bar_style": "success",
       "description": "100%",
       "layout": "IPY_MODEL_f522a5bad2f844d1b72f35cccf979908",
       "max": 883,
       "style": "IPY_MODEL_6fa878579bed456588fca478d24ad742",
       "value": 883
      }
     },
     "7325e90978d04cdf99e0a98472eddf74": {
      "model_module": "@jupyter-widgets/base",
      "model_module_version": "1.2.0",
      "model_name": "LayoutModel",
      "state": {}
     },
     "73cef3931d0040a79ef32f7c153b91ca": {
      "model_module": "@jupyter-widgets/base",
      "model_module_version": "1.2.0",
      "model_name": "LayoutModel",
      "state": {}
     },
     "7446a919751f482a91d01c02adcd785f": {
      "model_module": "@jupyter-widgets/controls",
      "model_module_version": "1.5.0",
      "model_name": "HBoxModel",
      "state": {
       "children": [
        "IPY_MODEL_0aa6ee670d6941b2886f1fc4ec0a947f",
        "IPY_MODEL_5d4a673e27924c1eb73e62a2dce02320"
       ],
       "layout": "IPY_MODEL_ec13b585f2c948ed9ced143ac999e9d6"
      }
     },
     "749dc509d8804c049fcf4c7370011294": {
      "model_module": "@jupyter-widgets/controls",
      "model_module_version": "1.5.0",
      "model_name": "HTMLModel",
      "state": {
       "layout": "IPY_MODEL_90ec7040aaf946dc953f8d688fe1a95c",
       "style": "IPY_MODEL_13bdc03e7a2a42a2858bca7073f49545",
       "value": " 883/883 [01:16&lt;00:00, 11.50it/s]"
      }
     },
     "74a1cd6b778b41b68a91670f66696f3a": {
      "model_module": "@jupyter-widgets/controls",
      "model_module_version": "1.5.0",
      "model_name": "HTMLModel",
      "state": {
       "layout": "IPY_MODEL_25267e611ac546e78bd55b6b0bfb116a",
       "style": "IPY_MODEL_65b36a80cf9d46b38824893e8615a575",
       "value": " 883/883 [00:01&lt;00:00, 680.63it/s]"
      }
     },
     "74bf377ab7334472b6cb8f83f2a0f9d6": {
      "model_module": "@jupyter-widgets/controls",
      "model_module_version": "1.5.0",
      "model_name": "DescriptionStyleModel",
      "state": {
       "description_width": ""
      }
     },
     "750b5c7cc0c040649daf9475a7c697e1": {
      "model_module": "@jupyter-widgets/controls",
      "model_module_version": "1.5.0",
      "model_name": "HBoxModel",
      "state": {
       "children": [
        "IPY_MODEL_b7e3cd8b5a9e446995eb09efea6330cb",
        "IPY_MODEL_af49b0b0f1ce494e902316a0dcae3672"
       ],
       "layout": "IPY_MODEL_ee83463a84ea48f59ba4d39f989b7185"
      }
     },
     "7553d20c45904f1fad2043100ee0be18": {
      "model_module": "@jupyter-widgets/base",
      "model_module_version": "1.2.0",
      "model_name": "LayoutModel",
      "state": {}
     },
     "7560af132bf341b19c0a9f40fbcd995f": {
      "model_module": "@jupyter-widgets/controls",
      "model_module_version": "1.5.0",
      "model_name": "HTMLModel",
      "state": {
       "layout": "IPY_MODEL_88b64bf0fac7481eb81e7046090408b4",
       "style": "IPY_MODEL_7b84d77ad157404e86001e62baa59091",
       "value": " 883/883 [00:00&lt;00:00, 1591.70it/s]"
      }
     },
     "7571961026bd4883ae75407101c6add1": {
      "model_module": "@jupyter-widgets/controls",
      "model_module_version": "1.5.0",
      "model_name": "DescriptionStyleModel",
      "state": {
       "description_width": ""
      }
     },
     "75d111152ff34318a16ebcabe6fb3a07": {
      "model_module": "@jupyter-widgets/base",
      "model_module_version": "1.2.0",
      "model_name": "LayoutModel",
      "state": {}
     },
     "7728661f5dff4cd28de204ce5e8fe768": {
      "model_module": "@jupyter-widgets/controls",
      "model_module_version": "1.5.0",
      "model_name": "HBoxModel",
      "state": {
       "children": [
        "IPY_MODEL_63295a76df9e4303b4282c2b6894f862",
        "IPY_MODEL_7f54926a56bb4f8291504cfb484b26ba"
       ],
       "layout": "IPY_MODEL_08b0b68dd14f4762ab35cb1d6aacc820"
      }
     },
     "7791439d0223467598a61b2dcd4e6cfc": {
      "model_module": "@jupyter-widgets/controls",
      "model_module_version": "1.5.0",
      "model_name": "IntProgressModel",
      "state": {
       "bar_style": "success",
       "description": "100%",
       "layout": "IPY_MODEL_89f048c5d8f743baa93d51bc1b8d21a2",
       "max": 883,
       "style": "IPY_MODEL_ff03590ac11f424da185db793e7452af",
       "value": 883
      }
     },
     "77c73ec7029345d381803097d6502cb5": {
      "model_module": "@jupyter-widgets/controls",
      "model_module_version": "1.5.0",
      "model_name": "HBoxModel",
      "state": {
       "children": [
        "IPY_MODEL_4795b9e9832b4ba8b9acc373a3ed712e",
        "IPY_MODEL_cc01d5dd052f4a44b58c54bf4fdb784e"
       ],
       "layout": "IPY_MODEL_7325e90978d04cdf99e0a98472eddf74"
      }
     },
     "79a595d42424483e94fbd5665ecf369b": {
      "model_module": "@jupyter-widgets/controls",
      "model_module_version": "1.5.0",
      "model_name": "HBoxModel",
      "state": {
       "children": [
        "IPY_MODEL_8969124d79584d9fbeb4df06fb660ab8",
        "IPY_MODEL_b35ade3f42d24e41b3292ed59b68bdc0"
       ],
       "layout": "IPY_MODEL_001a01e3a51845949b26aee37b2b619c"
      }
     },
     "79dcb20c820f40cdbd383d592145ea2f": {
      "model_module": "@jupyter-widgets/base",
      "model_module_version": "1.2.0",
      "model_name": "LayoutModel",
      "state": {}
     },
     "7b72af312f584922a432cd182743165a": {
      "model_module": "@jupyter-widgets/base",
      "model_module_version": "1.2.0",
      "model_name": "LayoutModel",
      "state": {}
     },
     "7b84d77ad157404e86001e62baa59091": {
      "model_module": "@jupyter-widgets/controls",
      "model_module_version": "1.5.0",
      "model_name": "DescriptionStyleModel",
      "state": {
       "description_width": ""
      }
     },
     "7c9d10bfd20d4989876ea650712e131b": {
      "model_module": "@jupyter-widgets/base",
      "model_module_version": "1.2.0",
      "model_name": "LayoutModel",
      "state": {}
     },
     "7cf4c914c7684fe68cd507d4261fd826": {
      "model_module": "@jupyter-widgets/controls",
      "model_module_version": "1.5.0",
      "model_name": "ProgressStyleModel",
      "state": {
       "description_width": "initial"
      }
     },
     "7ddcad54985444a78238dd0f5a1cc1cc": {
      "model_module": "@jupyter-widgets/controls",
      "model_module_version": "1.5.0",
      "model_name": "IntProgressModel",
      "state": {
       "bar_style": "success",
       "description": "100%",
       "layout": "IPY_MODEL_bb7daeda10404976ad855d6e5cf3256e",
       "max": 883,
       "style": "IPY_MODEL_bd0351cf7acb43319c0e474478cf680d",
       "value": 883
      }
     },
     "7e05f0e80fd142ea9de0d76e0a7c161b": {
      "model_module": "@jupyter-widgets/controls",
      "model_module_version": "1.5.0",
      "model_name": "IntProgressModel",
      "state": {
       "bar_style": "success",
       "description": "100%",
       "layout": "IPY_MODEL_d20f73925dbe49d18c12152b80a75dd4",
       "max": 883,
       "style": "IPY_MODEL_f871446463024c48b7349ad4a34ac3bd",
       "value": 883
      }
     },
     "7f202cf661a941dd86ba13000abf75ed": {
      "model_module": "@jupyter-widgets/base",
      "model_module_version": "1.2.0",
      "model_name": "LayoutModel",
      "state": {}
     },
     "7f54926a56bb4f8291504cfb484b26ba": {
      "model_module": "@jupyter-widgets/controls",
      "model_module_version": "1.5.0",
      "model_name": "HTMLModel",
      "state": {
       "layout": "IPY_MODEL_fb86b0234da444d6ad17b7846a10962d",
       "style": "IPY_MODEL_500147731b424b5381c8dfa3737cf19f",
       "value": " 883/883 [02:35&lt;00:00,  5.69it/s]"
      }
     },
     "7f8ba39a90e741db80c602cb7f96692c": {
      "model_module": "@jupyter-widgets/controls",
      "model_module_version": "1.5.0",
      "model_name": "IntProgressModel",
      "state": {
       "bar_style": "success",
       "description": "100%",
       "layout": "IPY_MODEL_3d137544d4cc4459a5ef941ae938e222",
       "max": 883,
       "style": "IPY_MODEL_871609dba44b4c4f91e37fe465c9b584",
       "value": 883
      }
     },
     "7f97d297b6e24f5f92d2e6083fbfd3ff": {
      "model_module": "@jupyter-widgets/controls",
      "model_module_version": "1.5.0",
      "model_name": "HTMLModel",
      "state": {
       "layout": "IPY_MODEL_ca5f49e2b50d43b490617c77bec7a7cd",
       "style": "IPY_MODEL_62538a50abdf413ca56e28af1cec966f",
       "value": " 883/883 [00:01&lt;00:00, 482.37it/s]"
      }
     },
     "7fa73fca8c104b3aa9ec6bab99d8e1bc": {
      "model_module": "@jupyter-widgets/controls",
      "model_module_version": "1.5.0",
      "model_name": "HTMLModel",
      "state": {
       "layout": "IPY_MODEL_40904e446fcd4e4bbedf5c9c8f84e217",
       "style": "IPY_MODEL_3e5d695b561c4ecf96388bf4e0683127",
       "value": " 883/883 [00:01&lt;00:00, 820.16it/s]"
      }
     },
     "80d55ed62be34f3f88bd09548512f32b": {
      "model_module": "@jupyter-widgets/base",
      "model_module_version": "1.2.0",
      "model_name": "LayoutModel",
      "state": {}
     },
     "81ed492aaee44ceb909bfcaa63d552a4": {
      "model_module": "@jupyter-widgets/controls",
      "model_module_version": "1.5.0",
      "model_name": "IntProgressModel",
      "state": {
       "bar_style": "success",
       "description": "100%",
       "layout": "IPY_MODEL_ab162e51f9f04912abb725ebbc48f203",
       "max": 883,
       "style": "IPY_MODEL_08a16901b03941a3965f99cbdf25e135",
       "value": 883
      }
     },
     "820d2d599c944eb6b14d153f393af89b": {
      "model_module": "@jupyter-widgets/base",
      "model_module_version": "1.2.0",
      "model_name": "LayoutModel",
      "state": {}
     },
     "82350d4ea0d6481b8945b40c21f11cba": {
      "model_module": "@jupyter-widgets/controls",
      "model_module_version": "1.5.0",
      "model_name": "DescriptionStyleModel",
      "state": {
       "description_width": ""
      }
     },
     "824a4b25867242a1b642f2a02b50fdaf": {
      "model_module": "@jupyter-widgets/controls",
      "model_module_version": "1.5.0",
      "model_name": "ProgressStyleModel",
      "state": {
       "description_width": "initial"
      }
     },
     "82561499a003431299636f536791b3e9": {
      "model_module": "@jupyter-widgets/base",
      "model_module_version": "1.2.0",
      "model_name": "LayoutModel",
      "state": {}
     },
     "826e102a5c0f411f8dd9c4ae4960858b": {
      "model_module": "@jupyter-widgets/base",
      "model_module_version": "1.2.0",
      "model_name": "LayoutModel",
      "state": {}
     },
     "82b5e45cd8e944598ef1b0f83055ac4f": {
      "model_module": "@jupyter-widgets/controls",
      "model_module_version": "1.5.0",
      "model_name": "HTMLModel",
      "state": {
       "layout": "IPY_MODEL_5fbf0199a28f443e8e1c516db6b34053",
       "style": "IPY_MODEL_6546ab8db9614e9f8289ed581619d9f6",
       "value": " 883/883 [02:32&lt;00:00,  5.78it/s]"
      }
     },
     "83cc9347732c4699ac3af4c18bf217fa": {
      "model_module": "@jupyter-widgets/base",
      "model_module_version": "1.2.0",
      "model_name": "LayoutModel",
      "state": {}
     },
     "84062578de94464da9abe6b509f9163d": {
      "model_module": "@jupyter-widgets/controls",
      "model_module_version": "1.5.0",
      "model_name": "ProgressStyleModel",
      "state": {
       "description_width": "initial"
      }
     },
     "843ca7a18b9841b59fbe3678f231e18e": {
      "model_module": "@jupyter-widgets/base",
      "model_module_version": "1.2.0",
      "model_name": "LayoutModel",
      "state": {}
     },
     "844019c9c45c45f09d955d3fcdc0292a": {
      "model_module": "@jupyter-widgets/base",
      "model_module_version": "1.2.0",
      "model_name": "LayoutModel",
      "state": {}
     },
     "84462f147e5a483ebaf2310ebe9fe630": {
      "model_module": "@jupyter-widgets/controls",
      "model_module_version": "1.5.0",
      "model_name": "ProgressStyleModel",
      "state": {
       "description_width": "initial"
      }
     },
     "84b407f5f45f4778ad6eaa3f8b0f118b": {
      "model_module": "@jupyter-widgets/controls",
      "model_module_version": "1.5.0",
      "model_name": "HBoxModel",
      "state": {
       "children": [
        "IPY_MODEL_419e6602d26f455f81b12cf47786d337",
        "IPY_MODEL_fc065bed455f4faba98e96d9e7011e5a"
       ],
       "layout": "IPY_MODEL_431874f236544014a232aa7c0dd9a1ce"
      }
     },
     "84bbfbaa36b24baaa69fd811342925c0": {
      "model_module": "@jupyter-widgets/base",
      "model_module_version": "1.2.0",
      "model_name": "LayoutModel",
      "state": {}
     },
     "8674b8d9773e4d01bd4c65f248f80f5a": {
      "model_module": "@jupyter-widgets/base",
      "model_module_version": "1.2.0",
      "model_name": "LayoutModel",
      "state": {}
     },
     "86daebb6f63b405f918b9d16422b8b10": {
      "model_module": "@jupyter-widgets/controls",
      "model_module_version": "1.5.0",
      "model_name": "IntProgressModel",
      "state": {
       "bar_style": "success",
       "description": "100%",
       "layout": "IPY_MODEL_2bbd1ec4becf4f0aa0c0177f674f76c9",
       "max": 31,
       "style": "IPY_MODEL_9a359a37a8ea4da5a57874573cef2ca5",
       "value": 31
      }
     },
     "86fda116e76e41d987eef743af48032b": {
      "model_module": "@jupyter-widgets/base",
      "model_module_version": "1.2.0",
      "model_name": "LayoutModel",
      "state": {}
     },
     "86fe83ef937845859ebdfc279b587a56": {
      "model_module": "@jupyter-widgets/controls",
      "model_module_version": "1.5.0",
      "model_name": "ProgressStyleModel",
      "state": {
       "description_width": "initial"
      }
     },
     "871609dba44b4c4f91e37fe465c9b584": {
      "model_module": "@jupyter-widgets/controls",
      "model_module_version": "1.5.0",
      "model_name": "ProgressStyleModel",
      "state": {
       "description_width": "initial"
      }
     },
     "8851b827a79a42e4a367c89f62b06888": {
      "model_module": "@jupyter-widgets/base",
      "model_module_version": "1.2.0",
      "model_name": "LayoutModel",
      "state": {}
     },
     "886125ea3b34401a8ed1c4d33aad411d": {
      "model_module": "@jupyter-widgets/controls",
      "model_module_version": "1.5.0",
      "model_name": "IntProgressModel",
      "state": {
       "bar_style": "success",
       "description": "100%",
       "layout": "IPY_MODEL_e1b14074c1f44607bbff592e49fd566a",
       "max": 883,
       "style": "IPY_MODEL_b895b76204284a48aca3f6a01e876210",
       "value": 883
      }
     },
     "886b951373e942229f5c7bdc1ea40361": {
      "model_module": "@jupyter-widgets/base",
      "model_module_version": "1.2.0",
      "model_name": "LayoutModel",
      "state": {}
     },
     "887ce78914054e148e8405ec20135d7d": {
      "model_module": "@jupyter-widgets/controls",
      "model_module_version": "1.5.0",
      "model_name": "HBoxModel",
      "state": {
       "children": [
        "IPY_MODEL_efa1c0f615754c8fa37c40335de2e35f",
        "IPY_MODEL_3fdbf7cb8bb7441a9175450088e218ce"
       ],
       "layout": "IPY_MODEL_820d2d599c944eb6b14d153f393af89b"
      }
     },
     "88b64bf0fac7481eb81e7046090408b4": {
      "model_module": "@jupyter-widgets/base",
      "model_module_version": "1.2.0",
      "model_name": "LayoutModel",
      "state": {}
     },
     "8948754929714aa89f891b6a3b92c1dd": {
      "model_module": "@jupyter-widgets/controls",
      "model_module_version": "1.5.0",
      "model_name": "HBoxModel",
      "state": {
       "children": [
        "IPY_MODEL_7ddcad54985444a78238dd0f5a1cc1cc",
        "IPY_MODEL_3bd90808cd7148769c60917716631225"
       ],
       "layout": "IPY_MODEL_dd6460919c6644a18812cac661a9e8e5"
      }
     },
     "8969124d79584d9fbeb4df06fb660ab8": {
      "model_module": "@jupyter-widgets/controls",
      "model_module_version": "1.5.0",
      "model_name": "IntProgressModel",
      "state": {
       "bar_style": "success",
       "description": "100%",
       "layout": "IPY_MODEL_297b3c22cf0f467c9e2dc55091d7349b",
       "max": 883,
       "style": "IPY_MODEL_b907a17703dd42758cb6b41300bb049e",
       "value": 883
      }
     },
     "89b1ce74acab4321868b7e93b3422512": {
      "model_module": "@jupyter-widgets/base",
      "model_module_version": "1.2.0",
      "model_name": "LayoutModel",
      "state": {}
     },
     "89eab558af204d32a02f1d26cb113f33": {
      "model_module": "@jupyter-widgets/controls",
      "model_module_version": "1.5.0",
      "model_name": "DescriptionStyleModel",
      "state": {
       "description_width": ""
      }
     },
     "89f048c5d8f743baa93d51bc1b8d21a2": {
      "model_module": "@jupyter-widgets/base",
      "model_module_version": "1.2.0",
      "model_name": "LayoutModel",
      "state": {}
     },
     "8b29c66d69ee447ea12e65c3889f0f27": {
      "model_module": "@jupyter-widgets/base",
      "model_module_version": "1.2.0",
      "model_name": "LayoutModel",
      "state": {}
     },
     "8b43942fb2664cfcb3bbd9bfacab2d32": {
      "model_module": "@jupyter-widgets/controls",
      "model_module_version": "1.5.0",
      "model_name": "HBoxModel",
      "state": {
       "children": [
        "IPY_MODEL_6d46a6519b654cff9c348d7e69531eee",
        "IPY_MODEL_7fa73fca8c104b3aa9ec6bab99d8e1bc"
       ],
       "layout": "IPY_MODEL_71a74215ff704782b273df3e6039dc10"
      }
     },
     "8b84f6a299ea43a48bec44e90dfdb1fa": {
      "model_module": "@jupyter-widgets/controls",
      "model_module_version": "1.5.0",
      "model_name": "DescriptionStyleModel",
      "state": {
       "description_width": ""
      }
     },
     "8b88270fbe3d49de8b4f02957ef5076e": {
      "model_module": "@jupyter-widgets/controls",
      "model_module_version": "1.5.0",
      "model_name": "ProgressStyleModel",
      "state": {
       "description_width": "initial"
      }
     },
     "8b9d6ac87f83491d9c1702db09f06b27": {
      "model_module": "@jupyter-widgets/base",
      "model_module_version": "1.2.0",
      "model_name": "LayoutModel",
      "state": {}
     },
     "8ca3284f3cbc4b168ec4256cfcc8bae5": {
      "model_module": "@jupyter-widgets/base",
      "model_module_version": "1.2.0",
      "model_name": "LayoutModel",
      "state": {}
     },
     "8cd49f1ef9d94919a9e9b0b031f0a8db": {
      "model_module": "@jupyter-widgets/controls",
      "model_module_version": "1.5.0",
      "model_name": "HTMLModel",
      "state": {
       "layout": "IPY_MODEL_03ba6801873f45e096d6f2a650779e48",
       "style": "IPY_MODEL_ae7fa77e856546f8a257a99b31dc30a4",
       "value": " 883/883 [00:02&lt;00:00, 295.45it/s]"
      }
     },
     "8d372e3f09a943b0b8bfbffd1ba1ac8f": {
      "model_module": "@jupyter-widgets/controls",
      "model_module_version": "1.5.0",
      "model_name": "IntProgressModel",
      "state": {
       "bar_style": "success",
       "description": "100%",
       "layout": "IPY_MODEL_fa3871bb2cba439a9618ea57a7685523",
       "max": 883,
       "style": "IPY_MODEL_d2f46021b52f4f29bcec970cd8bc9512",
       "value": 883
      }
     },
     "8d8a84e412784b8d86f0ea915ffde4a5": {
      "model_module": "@jupyter-widgets/controls",
      "model_module_version": "1.5.0",
      "model_name": "IntProgressModel",
      "state": {
       "bar_style": "success",
       "description": "100%",
       "layout": "IPY_MODEL_ab6f3840823e4301be4cc015d3804129",
       "max": 883,
       "style": "IPY_MODEL_c294ffa0581949558b816a7d1e205386",
       "value": 883
      }
     },
     "8ddbd3d2ca4342f2a472a9b97d8c0a36": {
      "model_module": "@jupyter-widgets/controls",
      "model_module_version": "1.5.0",
      "model_name": "DescriptionStyleModel",
      "state": {
       "description_width": ""
      }
     },
     "8eb682cafcb84b1298b3d58d6154a432": {
      "model_module": "@jupyter-widgets/controls",
      "model_module_version": "1.5.0",
      "model_name": "ProgressStyleModel",
      "state": {
       "description_width": "initial"
      }
     },
     "8f512244c5324187b18c1c5efcab4558": {
      "model_module": "@jupyter-widgets/base",
      "model_module_version": "1.2.0",
      "model_name": "LayoutModel",
      "state": {}
     },
     "8f58500c51314edd80e936cfeb88f76e": {
      "model_module": "@jupyter-widgets/controls",
      "model_module_version": "1.5.0",
      "model_name": "ProgressStyleModel",
      "state": {
       "description_width": "initial"
      }
     },
     "9012bce49e164b3bb2b0bac280295a17": {
      "model_module": "@jupyter-widgets/base",
      "model_module_version": "1.2.0",
      "model_name": "LayoutModel",
      "state": {}
     },
     "9057f01ae103418fbd0545ec7d353216": {
      "model_module": "@jupyter-widgets/base",
      "model_module_version": "1.2.0",
      "model_name": "LayoutModel",
      "state": {}
     },
     "9095f3e9a8664f0298ca27faf2562600": {
      "model_module": "@jupyter-widgets/controls",
      "model_module_version": "1.5.0",
      "model_name": "IntProgressModel",
      "state": {
       "bar_style": "success",
       "description": "100%",
       "layout": "IPY_MODEL_9057f01ae103418fbd0545ec7d353216",
       "max": 883,
       "style": "IPY_MODEL_f2569e3990af45e8af7e9ac1e66f9540",
       "value": 883
      }
     },
     "90ec7040aaf946dc953f8d688fe1a95c": {
      "model_module": "@jupyter-widgets/base",
      "model_module_version": "1.2.0",
      "model_name": "LayoutModel",
      "state": {}
     },
     "91724757c8624a909a31d903518a46ec": {
      "model_module": "@jupyter-widgets/base",
      "model_module_version": "1.2.0",
      "model_name": "LayoutModel",
      "state": {}
     },
     "91a387e77b334b5dba0fc7432af72183": {
      "model_module": "@jupyter-widgets/controls",
      "model_module_version": "1.5.0",
      "model_name": "IntProgressModel",
      "state": {
       "bar_style": "success",
       "description": "100%",
       "layout": "IPY_MODEL_46a1ab7afe05428cb8107318375a954c",
       "max": 883,
       "style": "IPY_MODEL_10d39a7e0b8241a0bd7c083900f16c19",
       "value": 883
      }
     },
     "92afe5a5bcae4b45945e9b983bf7026a": {
      "model_module": "@jupyter-widgets/controls",
      "model_module_version": "1.5.0",
      "model_name": "IntProgressModel",
      "state": {
       "bar_style": "success",
       "description": "100%",
       "layout": "IPY_MODEL_af354dfea6554edb95be50436e54ec97",
       "max": 883,
       "style": "IPY_MODEL_f359d8e508234f3ebe65a4d7572ee424",
       "value": 883
      }
     },
     "9375796782f44e5ea7b662ed0ec026f7": {
      "model_module": "@jupyter-widgets/controls",
      "model_module_version": "1.5.0",
      "model_name": "IntProgressModel",
      "state": {
       "bar_style": "success",
       "description": "100%",
       "layout": "IPY_MODEL_e2b545e729d7409da4221fb70bc4dfa0",
       "max": 883,
       "style": "IPY_MODEL_5833da79d4cc4e3daf11014ef0bfc24c",
       "value": 883
      }
     },
     "93bcbd464d1745fcb6732161acbb5a11": {
      "model_module": "@jupyter-widgets/base",
      "model_module_version": "1.2.0",
      "model_name": "LayoutModel",
      "state": {}
     },
     "93d3e5e7597d4763b237ccd13e8727fa": {
      "model_module": "@jupyter-widgets/controls",
      "model_module_version": "1.5.0",
      "model_name": "HTMLModel",
      "state": {
       "layout": "IPY_MODEL_04bb8b73567e4981a3013fcb8ad090ec",
       "style": "IPY_MODEL_2401910bc6b542089e38d3fe6e7f7ac4",
       "value": " 883/883 [00:03&lt;00:00, 232.47it/s]"
      }
     },
     "93fec900a0be4d30a73d4746599b55ee": {
      "model_module": "@jupyter-widgets/base",
      "model_module_version": "1.2.0",
      "model_name": "LayoutModel",
      "state": {}
     },
     "9403524bcbca481d968abe0d29525032": {
      "model_module": "@jupyter-widgets/controls",
      "model_module_version": "1.5.0",
      "model_name": "HTMLModel",
      "state": {
       "layout": "IPY_MODEL_1618051b8cf843c19d75cb4503bedb99",
       "style": "IPY_MODEL_94071234881b4ec4a02cbc2c4cc55b84",
       "value": " 883/883 [00:01&lt;00:00, 732.08it/s]"
      }
     },
     "94071234881b4ec4a02cbc2c4cc55b84": {
      "model_module": "@jupyter-widgets/controls",
      "model_module_version": "1.5.0",
      "model_name": "DescriptionStyleModel",
      "state": {
       "description_width": ""
      }
     },
     "952924bdef294a65bada3ca38c1b5a71": {
      "model_module": "@jupyter-widgets/controls",
      "model_module_version": "1.5.0",
      "model_name": "HTMLModel",
      "state": {
       "layout": "IPY_MODEL_a801f0def5cd49c5bd43cf1ad2bdec75",
       "style": "IPY_MODEL_3d690a2bc12c49999d2387fefcd92d25",
       "value": " 883/883 [00:17&lt;00:00, 49.98it/s]"
      }
     },
     "9658723938644dfaba2872ed0b3efff3": {
      "model_module": "@jupyter-widgets/base",
      "model_module_version": "1.2.0",
      "model_name": "LayoutModel",
      "state": {}
     },
     "96d1acf351c443029aec4febfe7b7f8c": {
      "model_module": "@jupyter-widgets/base",
      "model_module_version": "1.2.0",
      "model_name": "LayoutModel",
      "state": {}
     },
     "970e36e8d5ab4e389f736f31aa2b3589": {
      "model_module": "@jupyter-widgets/controls",
      "model_module_version": "1.5.0",
      "model_name": "IntProgressModel",
      "state": {
       "bar_style": "success",
       "description": "100%",
       "layout": "IPY_MODEL_1628cfc238eb4d7ea3c543b1d7f9762a",
       "max": 883,
       "style": "IPY_MODEL_fc6a3bf6d2ed4cc89a66d1377a032d37",
       "value": 883
      }
     },
     "970ece64f4614e548e7ce9f0557d521b": {
      "model_module": "@jupyter-widgets/controls",
      "model_module_version": "1.5.0",
      "model_name": "ProgressStyleModel",
      "state": {
       "description_width": "initial"
      }
     },
     "975a57107837435eb9e328ff911aef18": {
      "model_module": "@jupyter-widgets/base",
      "model_module_version": "1.2.0",
      "model_name": "LayoutModel",
      "state": {}
     },
     "97f6b6fc2efa4f70ad485e0a98e97c2d": {
      "model_module": "@jupyter-widgets/controls",
      "model_module_version": "1.5.0",
      "model_name": "DescriptionStyleModel",
      "state": {
       "description_width": ""
      }
     },
     "9805bdfd652d49c0b68efe84bf095530": {
      "model_module": "@jupyter-widgets/base",
      "model_module_version": "1.2.0",
      "model_name": "LayoutModel",
      "state": {}
     },
     "983f5e84a1474dc98ccfd1b8709e055d": {
      "model_module": "@jupyter-widgets/base",
      "model_module_version": "1.2.0",
      "model_name": "LayoutModel",
      "state": {}
     },
     "98fafd24e3db49bb9da1e8a59334b53c": {
      "model_module": "@jupyter-widgets/controls",
      "model_module_version": "1.5.0",
      "model_name": "DescriptionStyleModel",
      "state": {
       "description_width": ""
      }
     },
     "9a022da6044748cdbfade93f30def72b": {
      "model_module": "@jupyter-widgets/controls",
      "model_module_version": "1.5.0",
      "model_name": "HBoxModel",
      "state": {
       "children": [
        "IPY_MODEL_ae132e2edcde4db78e100faf4bbae8e3",
        "IPY_MODEL_04eb555a55ad4049acb7ea988c54ee68"
       ],
       "layout": "IPY_MODEL_3f613ab1c4854704b3f94a7a4426ca68"
      }
     },
     "9a359a37a8ea4da5a57874573cef2ca5": {
      "model_module": "@jupyter-widgets/controls",
      "model_module_version": "1.5.0",
      "model_name": "ProgressStyleModel",
      "state": {
       "description_width": "initial"
      }
     },
     "9a40cbb117df481ca904aeb8108195a8": {
      "model_module": "@jupyter-widgets/controls",
      "model_module_version": "1.5.0",
      "model_name": "ProgressStyleModel",
      "state": {
       "description_width": "initial"
      }
     },
     "9b11fc90dc154735847ca8674f39ec3d": {
      "model_module": "@jupyter-widgets/base",
      "model_module_version": "1.2.0",
      "model_name": "LayoutModel",
      "state": {}
     },
     "9c0d5b8cc0cf4eb59226e48256ecc428": {
      "model_module": "@jupyter-widgets/base",
      "model_module_version": "1.2.0",
      "model_name": "LayoutModel",
      "state": {}
     },
     "9ce4daee8fbc4f10975162ad188227f4": {
      "model_module": "@jupyter-widgets/controls",
      "model_module_version": "1.5.0",
      "model_name": "ProgressStyleModel",
      "state": {
       "description_width": "initial"
      }
     },
     "9d435f46649a450e97c7c962f45a0096": {
      "model_module": "@jupyter-widgets/base",
      "model_module_version": "1.2.0",
      "model_name": "LayoutModel",
      "state": {}
     },
     "a124bdc8e6aa43f7a031a83082259298": {
      "model_module": "@jupyter-widgets/controls",
      "model_module_version": "1.5.0",
      "model_name": "HBoxModel",
      "state": {
       "children": [
        "IPY_MODEL_41aaa95e5d664e00825372115c5273e4",
        "IPY_MODEL_7f97d297b6e24f5f92d2e6083fbfd3ff"
       ],
       "layout": "IPY_MODEL_c9c3a760a13243a78dbf66b75d8246e0"
      }
     },
     "a13902d19c7b46a9bb4a09e06f22f1ee": {
      "model_module": "@jupyter-widgets/controls",
      "model_module_version": "1.5.0",
      "model_name": "DescriptionStyleModel",
      "state": {
       "description_width": ""
      }
     },
     "a17444d2529d427f99e47c80b5a82089": {
      "model_module": "@jupyter-widgets/base",
      "model_module_version": "1.2.0",
      "model_name": "LayoutModel",
      "state": {}
     },
     "a2155821ecab4b22aae885f7601bfa04": {
      "model_module": "@jupyter-widgets/controls",
      "model_module_version": "1.5.0",
      "model_name": "IntProgressModel",
      "state": {
       "bar_style": "success",
       "description": "100%",
       "layout": "IPY_MODEL_bbadccb0be9d4a72bc6b7085568c5e05",
       "max": 883,
       "style": "IPY_MODEL_d9b49165f1ef4993b64faa70400c477a",
       "value": 883
      }
     },
     "a277b2ccfbd04e11a8260094ac3b165f": {
      "model_module": "@jupyter-widgets/controls",
      "model_module_version": "1.5.0",
      "model_name": "ProgressStyleModel",
      "state": {
       "description_width": "initial"
      }
     },
     "a389005c2862478688bc3388e514ca79": {
      "model_module": "@jupyter-widgets/base",
      "model_module_version": "1.2.0",
      "model_name": "LayoutModel",
      "state": {}
     },
     "a3f04bbda5e2409ba59b7e95d9802c94": {
      "model_module": "@jupyter-widgets/controls",
      "model_module_version": "1.5.0",
      "model_name": "IntProgressModel",
      "state": {
       "bar_style": "success",
       "description": "100%",
       "layout": "IPY_MODEL_f058aee1e53a4e269371cfc3003e66d3",
       "max": 883,
       "style": "IPY_MODEL_285f2b41016745ddba6f1ba9cdc700a9",
       "value": 883
      }
     },
     "a3f80d5b8a9e4464af5a54f2396fe53a": {
      "model_module": "@jupyter-widgets/controls",
      "model_module_version": "1.5.0",
      "model_name": "ProgressStyleModel",
      "state": {
       "description_width": "initial"
      }
     },
     "a44c73d4e34347e9bfa72d9824260a15": {
      "model_module": "@jupyter-widgets/base",
      "model_module_version": "1.2.0",
      "model_name": "LayoutModel",
      "state": {}
     },
     "a4525f0bdf654ed6b5bb7b206ee285d8": {
      "model_module": "@jupyter-widgets/base",
      "model_module_version": "1.2.0",
      "model_name": "LayoutModel",
      "state": {}
     },
     "a53a500d580a4f0bbbe32564ef4e4c6c": {
      "model_module": "@jupyter-widgets/base",
      "model_module_version": "1.2.0",
      "model_name": "LayoutModel",
      "state": {}
     },
     "a5ba642340a74e0aa5dc33425ee25b3a": {
      "model_module": "@jupyter-widgets/controls",
      "model_module_version": "1.5.0",
      "model_name": "HBoxModel",
      "state": {
       "children": [
        "IPY_MODEL_2f0b76007c954cba9763c4774f59ba4c",
        "IPY_MODEL_469464b8d77f4a10a5b7da71640eaab3"
       ],
       "layout": "IPY_MODEL_4c6b22598b5b475d834fed0cde08018d"
      }
     },
     "a6158929ce6a4426bc67f1ae463fdff4": {
      "model_module": "@jupyter-widgets/base",
      "model_module_version": "1.2.0",
      "model_name": "LayoutModel",
      "state": {}
     },
     "a65ffca77a634018920e77f0343bfb20": {
      "model_module": "@jupyter-widgets/controls",
      "model_module_version": "1.5.0",
      "model_name": "IntProgressModel",
      "state": {
       "bar_style": "success",
       "description": "100%",
       "layout": "IPY_MODEL_c21e3f78661d47f3a0685460ff596a14",
       "max": 883,
       "style": "IPY_MODEL_a3f80d5b8a9e4464af5a54f2396fe53a",
       "value": 883
      }
     },
     "a69a1db549f14844a408eeba10a276dd": {
      "model_module": "@jupyter-widgets/controls",
      "model_module_version": "1.5.0",
      "model_name": "DescriptionStyleModel",
      "state": {
       "description_width": ""
      }
     },
     "a6c00d8f565c43ae864d743b30e2e85a": {
      "model_module": "@jupyter-widgets/controls",
      "model_module_version": "1.5.0",
      "model_name": "HTMLModel",
      "state": {
       "layout": "IPY_MODEL_0d3337a743d840b199a2b66e47432617",
       "style": "IPY_MODEL_062a5ad87d194a4295111bd86657a327",
       "value": " 883/883 [00:17&lt;00:00, 49.57it/s]"
      }
     },
     "a75b9d83b1ba44198bfacbd54a1acc08": {
      "model_module": "@jupyter-widgets/controls",
      "model_module_version": "1.5.0",
      "model_name": "HTMLModel",
      "state": {
       "layout": "IPY_MODEL_cde9978f172144b193346677b149b4d1",
       "style": "IPY_MODEL_ad6b1a782de84dcfa9bdd62fd0440eb7",
       "value": " 883/883 [00:30&lt;00:00, 28.90it/s]"
      }
     },
     "a78501cce3574fd2b48c35420f4078b8": {
      "model_module": "@jupyter-widgets/base",
      "model_module_version": "1.2.0",
      "model_name": "LayoutModel",
      "state": {}
     },
     "a789fa546fa64b888a86bab2341af013": {
      "model_module": "@jupyter-widgets/controls",
      "model_module_version": "1.5.0",
      "model_name": "ProgressStyleModel",
      "state": {
       "description_width": "initial"
      }
     },
     "a78d121e0dc54e3da41899ab3fd8d8a7": {
      "model_module": "@jupyter-widgets/controls",
      "model_module_version": "1.5.0",
      "model_name": "IntProgressModel",
      "state": {
       "bar_style": "success",
       "description": "100%",
       "layout": "IPY_MODEL_9b11fc90dc154735847ca8674f39ec3d",
       "max": 883,
       "style": "IPY_MODEL_0d570e866bc84523b3b977e2b2a0793d",
       "value": 883
      }
     },
     "a801f0def5cd49c5bd43cf1ad2bdec75": {
      "model_module": "@jupyter-widgets/base",
      "model_module_version": "1.2.0",
      "model_name": "LayoutModel",
      "state": {}
     },
     "a805e1c0fb4741d2a911efa290e842ba": {
      "model_module": "@jupyter-widgets/controls",
      "model_module_version": "1.5.0",
      "model_name": "HBoxModel",
      "state": {
       "children": [
        "IPY_MODEL_71bb05099f764762b50e2f927b01253e",
        "IPY_MODEL_33147c2a05494b9cb3429b05fd77207e"
       ],
       "layout": "IPY_MODEL_d99f5e4804af497fb726b7d240221b5b"
      }
     },
     "a87fb7d471234e6abc51ad086d8d5e0f": {
      "model_module": "@jupyter-widgets/controls",
      "model_module_version": "1.5.0",
      "model_name": "ProgressStyleModel",
      "state": {
       "description_width": "initial"
      }
     },
     "a8838d769a334ff0914051d2bc5b55b4": {
      "model_module": "@jupyter-widgets/base",
      "model_module_version": "1.2.0",
      "model_name": "LayoutModel",
      "state": {}
     },
     "a8a7b9d2f972447481eb9be883827b97": {
      "model_module": "@jupyter-widgets/controls",
      "model_module_version": "1.5.0",
      "model_name": "HBoxModel",
      "state": {
       "children": [
        "IPY_MODEL_f22b6f378179433ca2db4b531ae41075",
        "IPY_MODEL_0ce71f8468344e6c81473dd11255a30d"
       ],
       "layout": "IPY_MODEL_0ae10c3fb8f441108a2bb631e8e7adf8"
      }
     },
     "a95f4a4331074330a43f67ca653ecfff": {
      "model_module": "@jupyter-widgets/controls",
      "model_module_version": "1.5.0",
      "model_name": "IntProgressModel",
      "state": {
       "bar_style": "success",
       "description": "100%",
       "layout": "IPY_MODEL_4fd81b8b2f364ae99dc51020dc49a5b0",
       "max": 883,
       "style": "IPY_MODEL_d42f617672034d6ea17d6906b4ca3ab6",
       "value": 883
      }
     },
     "a9d92e34e9aa44da981af0fcf913c048": {
      "model_module": "@jupyter-widgets/controls",
      "model_module_version": "1.5.0",
      "model_name": "HBoxModel",
      "state": {
       "children": [
        "IPY_MODEL_a95f4a4331074330a43f67ca653ecfff",
        "IPY_MODEL_f76d9ec23e4c44eaa56798d151b6c353"
       ],
       "layout": "IPY_MODEL_d1d13f300dcb461880f558208f966287"
      }
     },
     "aa0de1df9aba481a90dbcd98c3450635": {
      "model_module": "@jupyter-widgets/base",
      "model_module_version": "1.2.0",
      "model_name": "LayoutModel",
      "state": {}
     },
     "aa42bb8cc7f24be6862cfae3242e7820": {
      "model_module": "@jupyter-widgets/base",
      "model_module_version": "1.2.0",
      "model_name": "LayoutModel",
      "state": {}
     },
     "aaa4efab96e54a5b8a03b7e904d427c1": {
      "model_module": "@jupyter-widgets/controls",
      "model_module_version": "1.5.0",
      "model_name": "ProgressStyleModel",
      "state": {
       "description_width": "initial"
      }
     },
     "ab162e51f9f04912abb725ebbc48f203": {
      "model_module": "@jupyter-widgets/base",
      "model_module_version": "1.2.0",
      "model_name": "LayoutModel",
      "state": {}
     },
     "ab667e116b6442d1a91500fd57bb0bbd": {
      "model_module": "@jupyter-widgets/controls",
      "model_module_version": "1.5.0",
      "model_name": "HBoxModel",
      "state": {
       "children": [
        "IPY_MODEL_c6aa62b945e34edaad0c0049ce331305",
        "IPY_MODEL_4348c28e4bc14c7e8de0b445a9726303"
       ],
       "layout": "IPY_MODEL_ccf36e9ffd0b41408a6d11a541d570b0"
      }
     },
     "ab6f3840823e4301be4cc015d3804129": {
      "model_module": "@jupyter-widgets/base",
      "model_module_version": "1.2.0",
      "model_name": "LayoutModel",
      "state": {}
     },
     "abc7bfedaf8e4c78b2ca31a7ec8327fe": {
      "model_module": "@jupyter-widgets/base",
      "model_module_version": "1.2.0",
      "model_name": "LayoutModel",
      "state": {}
     },
     "abe1d2656008489f812cc66fc0446b3b": {
      "model_module": "@jupyter-widgets/base",
      "model_module_version": "1.2.0",
      "model_name": "LayoutModel",
      "state": {}
     },
     "ad6b1a782de84dcfa9bdd62fd0440eb7": {
      "model_module": "@jupyter-widgets/controls",
      "model_module_version": "1.5.0",
      "model_name": "DescriptionStyleModel",
      "state": {
       "description_width": ""
      }
     },
     "ae132e2edcde4db78e100faf4bbae8e3": {
      "model_module": "@jupyter-widgets/controls",
      "model_module_version": "1.5.0",
      "model_name": "IntProgressModel",
      "state": {
       "bar_style": "danger",
       "description": " 32%",
       "layout": "IPY_MODEL_82561499a003431299636f536791b3e9",
       "max": 31,
       "style": "IPY_MODEL_e61818e9367c44f4a0c576757e4e4cea",
       "value": 10
      }
     },
     "ae7fa77e856546f8a257a99b31dc30a4": {
      "model_module": "@jupyter-widgets/controls",
      "model_module_version": "1.5.0",
      "model_name": "DescriptionStyleModel",
      "state": {
       "description_width": ""
      }
     },
     "af264ec172f84626921227517f91a871": {
      "model_module": "@jupyter-widgets/base",
      "model_module_version": "1.2.0",
      "model_name": "LayoutModel",
      "state": {}
     },
     "af354dfea6554edb95be50436e54ec97": {
      "model_module": "@jupyter-widgets/base",
      "model_module_version": "1.2.0",
      "model_name": "LayoutModel",
      "state": {}
     },
     "af49b0b0f1ce494e902316a0dcae3672": {
      "model_module": "@jupyter-widgets/controls",
      "model_module_version": "1.5.0",
      "model_name": "HTMLModel",
      "state": {
       "layout": "IPY_MODEL_154b9fc32b92440e808057efd2296b1d",
       "style": "IPY_MODEL_98fafd24e3db49bb9da1e8a59334b53c",
       "value": " 883/883 [14:28&lt;00:00,  1.02it/s]"
      }
     },
     "af82363414e84f1396657e1a01128926": {
      "model_module": "@jupyter-widgets/base",
      "model_module_version": "1.2.0",
      "model_name": "LayoutModel",
      "state": {}
     },
     "b044591bbcfa41708f94da0f231651c2": {
      "model_module": "@jupyter-widgets/base",
      "model_module_version": "1.2.0",
      "model_name": "LayoutModel",
      "state": {}
     },
     "b2f2acaf7b0a4fc59eb0242e50c978ac": {
      "model_module": "@jupyter-widgets/controls",
      "model_module_version": "1.5.0",
      "model_name": "ProgressStyleModel",
      "state": {
       "description_width": "initial"
      }
     },
     "b35ade3f42d24e41b3292ed59b68bdc0": {
      "model_module": "@jupyter-widgets/controls",
      "model_module_version": "1.5.0",
      "model_name": "HTMLModel",
      "state": {
       "layout": "IPY_MODEL_3271313abbac4f74b12d0cc93c045330",
       "style": "IPY_MODEL_eb6faad561634e4291b946a6e550429e",
       "value": " 883/883 [00:02&lt;00:00, 385.54it/s]"
      }
     },
     "b3ae722a1a9b49dabbe78b4710a3dd19": {
      "model_module": "@jupyter-widgets/base",
      "model_module_version": "1.2.0",
      "model_name": "LayoutModel",
      "state": {}
     },
     "b427e1899d7a49e8990369585986295d": {
      "model_module": "@jupyter-widgets/base",
      "model_module_version": "1.2.0",
      "model_name": "LayoutModel",
      "state": {}
     },
     "b56cd62f40b144778de608452ebc0145": {
      "model_module": "@jupyter-widgets/controls",
      "model_module_version": "1.5.0",
      "model_name": "IntProgressModel",
      "state": {
       "bar_style": "success",
       "description": "100%",
       "layout": "IPY_MODEL_f7886a33da604a739f5e5a7f9086b65f",
       "max": 883,
       "style": "IPY_MODEL_a789fa546fa64b888a86bab2341af013",
       "value": 883
      }
     },
     "b5b082a6ece04007ab87084c7bdc3b1b": {
      "model_module": "@jupyter-widgets/controls",
      "model_module_version": "1.5.0",
      "model_name": "ProgressStyleModel",
      "state": {
       "description_width": "initial"
      }
     },
     "b5ca0dceda9a47df8b34dec704ba4028": {
      "model_module": "@jupyter-widgets/base",
      "model_module_version": "1.2.0",
      "model_name": "LayoutModel",
      "state": {}
     },
     "b613ea341ed64975ac1c32461532bba1": {
      "model_module": "@jupyter-widgets/controls",
      "model_module_version": "1.5.0",
      "model_name": "IntProgressModel",
      "state": {
       "bar_style": "success",
       "description": "100%",
       "layout": "IPY_MODEL_3fb84ea2802a48f2805b1f5601bc93a5",
       "max": 883,
       "style": "IPY_MODEL_a277b2ccfbd04e11a8260094ac3b165f",
       "value": 883
      }
     },
     "b7e3cd8b5a9e446995eb09efea6330cb": {
      "model_module": "@jupyter-widgets/controls",
      "model_module_version": "1.5.0",
      "model_name": "IntProgressModel",
      "state": {
       "bar_style": "success",
       "description": "100%",
       "layout": "IPY_MODEL_aa42bb8cc7f24be6862cfae3242e7820",
       "max": 883,
       "style": "IPY_MODEL_e78638edecf2442eb9137c2019c4e2b4",
       "value": 883
      }
     },
     "b895b76204284a48aca3f6a01e876210": {
      "model_module": "@jupyter-widgets/controls",
      "model_module_version": "1.5.0",
      "model_name": "ProgressStyleModel",
      "state": {
       "description_width": "initial"
      }
     },
     "b907a17703dd42758cb6b41300bb049e": {
      "model_module": "@jupyter-widgets/controls",
      "model_module_version": "1.5.0",
      "model_name": "ProgressStyleModel",
      "state": {
       "description_width": "initial"
      }
     },
     "b98f63c97dc14bd98b59b0f37ed78be0": {
      "model_module": "@jupyter-widgets/controls",
      "model_module_version": "1.5.0",
      "model_name": "HBoxModel",
      "state": {
       "children": [
        "IPY_MODEL_7791439d0223467598a61b2dcd4e6cfc",
        "IPY_MODEL_bcbe6da124e94fec9231673c0e805208"
       ],
       "layout": "IPY_MODEL_588b7c747f8e4b498638a5b9c9343b48"
      }
     },
     "b9d2948809db40c99dbd25deb8bf338e": {
      "model_module": "@jupyter-widgets/controls",
      "model_module_version": "1.5.0",
      "model_name": "HBoxModel",
      "state": {
       "children": [
        "IPY_MODEL_6d46d95410ce406798b4fead20f1af05",
        "IPY_MODEL_4874d4d353ba425781129fc449496207"
       ],
       "layout": "IPY_MODEL_3319b58d4c294f0a8ce0f187970f41a2"
      }
     },
     "b9e1fe091e384b15bcced10776c03259": {
      "model_module": "@jupyter-widgets/controls",
      "model_module_version": "1.5.0",
      "model_name": "DescriptionStyleModel",
      "state": {
       "description_width": ""
      }
     },
     "bb071be37be34d10a0587ff49ee59b40": {
      "model_module": "@jupyter-widgets/controls",
      "model_module_version": "1.5.0",
      "model_name": "HBoxModel",
      "state": {
       "children": [
        "IPY_MODEL_8d8a84e412784b8d86f0ea915ffde4a5",
        "IPY_MODEL_70414a7bd608405998209b866920674a"
       ],
       "layout": "IPY_MODEL_80d55ed62be34f3f88bd09548512f32b"
      }
     },
     "bb7daeda10404976ad855d6e5cf3256e": {
      "model_module": "@jupyter-widgets/base",
      "model_module_version": "1.2.0",
      "model_name": "LayoutModel",
      "state": {}
     },
     "bbadccb0be9d4a72bc6b7085568c5e05": {
      "model_module": "@jupyter-widgets/base",
      "model_module_version": "1.2.0",
      "model_name": "LayoutModel",
      "state": {}
     },
     "bc44aef084ba49f8acc710a9d33e179d": {
      "model_module": "@jupyter-widgets/base",
      "model_module_version": "1.2.0",
      "model_name": "LayoutModel",
      "state": {}
     },
     "bc8d9b75dff149c9878a87ed508e2571": {
      "model_module": "@jupyter-widgets/controls",
      "model_module_version": "1.5.0",
      "model_name": "DescriptionStyleModel",
      "state": {
       "description_width": ""
      }
     },
     "bcbe6da124e94fec9231673c0e805208": {
      "model_module": "@jupyter-widgets/controls",
      "model_module_version": "1.5.0",
      "model_name": "HTMLModel",
      "state": {
       "layout": "IPY_MODEL_af264ec172f84626921227517f91a871",
       "style": "IPY_MODEL_494f7bbcffc64f6a8d6b4f56b7015efa",
       "value": " 883/883 [08:39&lt;00:00,  1.70it/s]"
      }
     },
     "bd0351cf7acb43319c0e474478cf680d": {
      "model_module": "@jupyter-widgets/controls",
      "model_module_version": "1.5.0",
      "model_name": "ProgressStyleModel",
      "state": {
       "description_width": "initial"
      }
     },
     "bdd730f4991a494fadab16b09de50ea6": {
      "model_module": "@jupyter-widgets/base",
      "model_module_version": "1.2.0",
      "model_name": "LayoutModel",
      "state": {}
     },
     "be79ec98fcc74dea944426e97b98a8cf": {
      "model_module": "@jupyter-widgets/base",
      "model_module_version": "1.2.0",
      "model_name": "LayoutModel",
      "state": {}
     },
     "bebcab2abbf5447c8028410628f43670": {
      "model_module": "@jupyter-widgets/base",
      "model_module_version": "1.2.0",
      "model_name": "LayoutModel",
      "state": {}
     },
     "bed345f4eeb94e11b61c57061e3c09bc": {
      "model_module": "@jupyter-widgets/controls",
      "model_module_version": "1.5.0",
      "model_name": "HBoxModel",
      "state": {
       "children": [
        "IPY_MODEL_36beeb3f727e4621840d09ca5cf0fc5d",
        "IPY_MODEL_82b5e45cd8e944598ef1b0f83055ac4f"
       ],
       "layout": "IPY_MODEL_5301d7a2f99f45eeb66cb68e689b8765"
      }
     },
     "bed9ed643d2e4888a50c3ff995afc249": {
      "model_module": "@jupyter-widgets/base",
      "model_module_version": "1.2.0",
      "model_name": "LayoutModel",
      "state": {}
     },
     "bee14c4191cc4bc9bdd2ac186731f1ce": {
      "model_module": "@jupyter-widgets/controls",
      "model_module_version": "1.5.0",
      "model_name": "HBoxModel",
      "state": {
       "children": [
        "IPY_MODEL_72b9df7737a54fbba9ac19a0eba6f49b",
        "IPY_MODEL_308fef40f27843e3b8411d82ff92c25b"
       ],
       "layout": "IPY_MODEL_ea725c98739b4420896d618b19b32bb9"
      }
     },
     "bf3cbc51910146c1849207785b967c83": {
      "model_module": "@jupyter-widgets/controls",
      "model_module_version": "1.5.0",
      "model_name": "HBoxModel",
      "state": {
       "children": [
        "IPY_MODEL_69850efe75c8498db31bb495b2016123",
        "IPY_MODEL_a6c00d8f565c43ae864d743b30e2e85a"
       ],
       "layout": "IPY_MODEL_8b9d6ac87f83491d9c1702db09f06b27"
      }
     },
     "bffb46cbc0c04766b252b7cf0c945e19": {
      "model_module": "@jupyter-widgets/base",
      "model_module_version": "1.2.0",
      "model_name": "LayoutModel",
      "state": {}
     },
     "c21e3f78661d47f3a0685460ff596a14": {
      "model_module": "@jupyter-widgets/base",
      "model_module_version": "1.2.0",
      "model_name": "LayoutModel",
      "state": {}
     },
     "c294ffa0581949558b816a7d1e205386": {
      "model_module": "@jupyter-widgets/controls",
      "model_module_version": "1.5.0",
      "model_name": "ProgressStyleModel",
      "state": {
       "description_width": "initial"
      }
     },
     "c33898969efe44aab344e6774647cd59": {
      "model_module": "@jupyter-widgets/base",
      "model_module_version": "1.2.0",
      "model_name": "LayoutModel",
      "state": {}
     },
     "c42b73a9ec7b4aecadd32846bf9fa819": {
      "model_module": "@jupyter-widgets/controls",
      "model_module_version": "1.5.0",
      "model_name": "IntProgressModel",
      "state": {
       "bar_style": "success",
       "description": "100%",
       "layout": "IPY_MODEL_2c079aa868d041ba89d1140550db7d4b",
       "max": 883,
       "style": "IPY_MODEL_b5b082a6ece04007ab87084c7bdc3b1b",
       "value": 883
      }
     },
     "c6aa62b945e34edaad0c0049ce331305": {
      "model_module": "@jupyter-widgets/controls",
      "model_module_version": "1.5.0",
      "model_name": "IntProgressModel",
      "state": {
       "bar_style": "success",
       "description": "100%",
       "layout": "IPY_MODEL_7b72af312f584922a432cd182743165a",
       "max": 883,
       "style": "IPY_MODEL_de750d5cc81145768c97f50f2aa0ec2b",
       "value": 883
      }
     },
     "c6ac4b6bd662442686464870444ac331": {
      "model_module": "@jupyter-widgets/controls",
      "model_module_version": "1.5.0",
      "model_name": "DescriptionStyleModel",
      "state": {
       "description_width": ""
      }
     },
     "c6cb36e551b44d5e8cc144aeb57b81c4": {
      "model_module": "@jupyter-widgets/controls",
      "model_module_version": "1.5.0",
      "model_name": "ProgressStyleModel",
      "state": {
       "description_width": "initial"
      }
     },
     "c77b995a1e5c44718873ebd9b3279306": {
      "model_module": "@jupyter-widgets/base",
      "model_module_version": "1.2.0",
      "model_name": "LayoutModel",
      "state": {}
     },
     "c7eedfb6bb534a94bc2cf6f11fbb566b": {
      "model_module": "@jupyter-widgets/controls",
      "model_module_version": "1.5.0",
      "model_name": "HTMLModel",
      "state": {
       "layout": "IPY_MODEL_b427e1899d7a49e8990369585986295d",
       "style": "IPY_MODEL_f97a98bf52de4da0bfaaa361815ca236",
       "value": " 883/883 [00:32&lt;00:00, 27.03it/s]"
      }
     },
     "c8b5fa23e318415cada4e93819125330": {
      "model_module": "@jupyter-widgets/controls",
      "model_module_version": "1.5.0",
      "model_name": "HBoxModel",
      "state": {
       "children": [
        "IPY_MODEL_4a451bc95e7e443bbbde413debcb417f",
        "IPY_MODEL_032eb0fa5cc149a197506bbc12820a60"
       ],
       "layout": "IPY_MODEL_9c0d5b8cc0cf4eb59226e48256ecc428"
      }
     },
     "c9c3a760a13243a78dbf66b75d8246e0": {
      "model_module": "@jupyter-widgets/base",
      "model_module_version": "1.2.0",
      "model_name": "LayoutModel",
      "state": {}
     },
     "ca023ea76c5442a6ab8eff23d0d928d2": {
      "model_module": "@jupyter-widgets/controls",
      "model_module_version": "1.5.0",
      "model_name": "DescriptionStyleModel",
      "state": {
       "description_width": ""
      }
     },
     "ca235b875399453da1e564d92fab51f9": {
      "model_module": "@jupyter-widgets/controls",
      "model_module_version": "1.5.0",
      "model_name": "ProgressStyleModel",
      "state": {
       "description_width": "initial"
      }
     },
     "ca5f49e2b50d43b490617c77bec7a7cd": {
      "model_module": "@jupyter-widgets/base",
      "model_module_version": "1.2.0",
      "model_name": "LayoutModel",
      "state": {}
     },
     "cadca6b3040942338a0bbd2263a31616": {
      "model_module": "@jupyter-widgets/controls",
      "model_module_version": "1.5.0",
      "model_name": "DescriptionStyleModel",
      "state": {
       "description_width": ""
      }
     },
     "cb74d27a4a3045a887d7a296f7a04cbf": {
      "model_module": "@jupyter-widgets/base",
      "model_module_version": "1.2.0",
      "model_name": "LayoutModel",
      "state": {}
     },
     "cbe1e4d1395f4bcdaabd1a111b7e8f69": {
      "model_module": "@jupyter-widgets/base",
      "model_module_version": "1.2.0",
      "model_name": "LayoutModel",
      "state": {}
     },
     "cc01d5dd052f4a44b58c54bf4fdb784e": {
      "model_module": "@jupyter-widgets/controls",
      "model_module_version": "1.5.0",
      "model_name": "HTMLModel",
      "state": {
       "layout": "IPY_MODEL_f31cd5ffb52d4a1485ef8b4378376245",
       "style": "IPY_MODEL_89eab558af204d32a02f1d26cb113f33",
       "value": " 883/883 [00:54&lt;00:00, 16.22it/s]"
      }
     },
     "cc07e83a754045b79e4d845131220a7d": {
      "model_module": "@jupyter-widgets/base",
      "model_module_version": "1.2.0",
      "model_name": "LayoutModel",
      "state": {}
     },
     "cc47f4ee631b45749045b4f9915f2d41": {
      "model_module": "@jupyter-widgets/controls",
      "model_module_version": "1.5.0",
      "model_name": "DescriptionStyleModel",
      "state": {
       "description_width": ""
      }
     },
     "ccf36e9ffd0b41408a6d11a541d570b0": {
      "model_module": "@jupyter-widgets/base",
      "model_module_version": "1.2.0",
      "model_name": "LayoutModel",
      "state": {}
     },
     "cde9978f172144b193346677b149b4d1": {
      "model_module": "@jupyter-widgets/base",
      "model_module_version": "1.2.0",
      "model_name": "LayoutModel",
      "state": {}
     },
     "cec3889fa9cb4cc786a10f0fa9de8e1c": {
      "model_module": "@jupyter-widgets/controls",
      "model_module_version": "1.5.0",
      "model_name": "HBoxModel",
      "state": {
       "children": [
        "IPY_MODEL_d5a6292b74654eb0b1b904901daf7805",
        "IPY_MODEL_7560af132bf341b19c0a9f40fbcd995f"
       ],
       "layout": "IPY_MODEL_8851b827a79a42e4a367c89f62b06888"
      }
     },
     "cf1de0e5ca3142fe93a8321c3dddface": {
      "model_module": "@jupyter-widgets/base",
      "model_module_version": "1.2.0",
      "model_name": "LayoutModel",
      "state": {}
     },
     "d01e97ce65224bc18a0222867df9ee4c": {
      "model_module": "@jupyter-widgets/base",
      "model_module_version": "1.2.0",
      "model_name": "LayoutModel",
      "state": {}
     },
     "d066678b1d0e4e4a98458cadaefafa08": {
      "model_module": "@jupyter-widgets/base",
      "model_module_version": "1.2.0",
      "model_name": "LayoutModel",
      "state": {}
     },
     "d07687486d524533adb535f4a5c1d12a": {
      "model_module": "@jupyter-widgets/controls",
      "model_module_version": "1.5.0",
      "model_name": "IntProgressModel",
      "state": {
       "bar_style": "success",
       "description": "100%",
       "layout": "IPY_MODEL_1e973bdbdcc542a888c59f8c4fcfe18a",
       "max": 883,
       "style": "IPY_MODEL_84462f147e5a483ebaf2310ebe9fe630",
       "value": 883
      }
     },
     "d0f90daad0c5428daed5ca60fc384dfb": {
      "model_module": "@jupyter-widgets/controls",
      "model_module_version": "1.5.0",
      "model_name": "ProgressStyleModel",
      "state": {
       "description_width": "initial"
      }
     },
     "d1d13f300dcb461880f558208f966287": {
      "model_module": "@jupyter-widgets/base",
      "model_module_version": "1.2.0",
      "model_name": "LayoutModel",
      "state": {}
     },
     "d20f73925dbe49d18c12152b80a75dd4": {
      "model_module": "@jupyter-widgets/base",
      "model_module_version": "1.2.0",
      "model_name": "LayoutModel",
      "state": {}
     },
     "d243ff8128e043288865b7b25b022f07": {
      "model_module": "@jupyter-widgets/controls",
      "model_module_version": "1.5.0",
      "model_name": "IntProgressModel",
      "state": {
       "bar_style": "success",
       "description": "100%",
       "layout": "IPY_MODEL_277f3b66f2414277a769a171ef839d28",
       "max": 883,
       "style": "IPY_MODEL_824a4b25867242a1b642f2a02b50fdaf",
       "value": 883
      }
     },
     "d2f46021b52f4f29bcec970cd8bc9512": {
      "model_module": "@jupyter-widgets/controls",
      "model_module_version": "1.5.0",
      "model_name": "ProgressStyleModel",
      "state": {
       "description_width": "initial"
      }
     },
     "d32103861ce14e8cb6f7a1fa7437a8f6": {
      "model_module": "@jupyter-widgets/controls",
      "model_module_version": "1.5.0",
      "model_name": "HTMLModel",
      "state": {
       "layout": "IPY_MODEL_a389005c2862478688bc3388e514ca79",
       "style": "IPY_MODEL_3b01e1b9008e494a84c2fc72f16e1237",
       "value": " 883/883 [00:01&lt;00:00, 466.26it/s]"
      }
     },
     "d42f617672034d6ea17d6906b4ca3ab6": {
      "model_module": "@jupyter-widgets/controls",
      "model_module_version": "1.5.0",
      "model_name": "ProgressStyleModel",
      "state": {
       "description_width": "initial"
      }
     },
     "d4955403089242a588b76f4deed83e69": {
      "model_module": "@jupyter-widgets/controls",
      "model_module_version": "1.5.0",
      "model_name": "IntProgressModel",
      "state": {
       "bar_style": "success",
       "description": "100%",
       "layout": "IPY_MODEL_eff4be863b854b2dbc453a32aabef940",
       "max": 883,
       "style": "IPY_MODEL_970ece64f4614e548e7ce9f0557d521b",
       "value": 883
      }
     },
     "d59ee74555294848abafeb64355023c4": {
      "model_module": "@jupyter-widgets/controls",
      "model_module_version": "1.5.0",
      "model_name": "IntProgressModel",
      "state": {
       "bar_style": "success",
       "description": "100%",
       "layout": "IPY_MODEL_75d111152ff34318a16ebcabe6fb3a07",
       "max": 883,
       "style": "IPY_MODEL_a87fb7d471234e6abc51ad086d8d5e0f",
       "value": 883
      }
     },
     "d5a6292b74654eb0b1b904901daf7805": {
      "model_module": "@jupyter-widgets/controls",
      "model_module_version": "1.5.0",
      "model_name": "IntProgressModel",
      "state": {
       "bar_style": "success",
       "description": "100%",
       "layout": "IPY_MODEL_f56e87376f7b425ba5fe1e62985529ff",
       "max": 883,
       "style": "IPY_MODEL_df25c40c6e144592bddee145284b16d5",
       "value": 883
      }
     },
     "d6d97485a5bc4032ab2ab435f3e7867d": {
      "model_module": "@jupyter-widgets/controls",
      "model_module_version": "1.5.0",
      "model_name": "HBoxModel",
      "state": {
       "children": [
        "IPY_MODEL_685475cb34b44bea9cb0bbc128a66a4b",
        "IPY_MODEL_14802b46538748d4842a0fe94aafc9a5"
       ],
       "layout": "IPY_MODEL_d066678b1d0e4e4a98458cadaefafa08"
      }
     },
     "d7ec79c41a694821b6674e8de68ff231": {
      "model_module": "@jupyter-widgets/controls",
      "model_module_version": "1.5.0",
      "model_name": "HTMLModel",
      "state": {
       "layout": "IPY_MODEL_6965af8b0d8247359bd2c41e2f142f5f",
       "style": "IPY_MODEL_f01b639939914ca8b5eea8dbf6833f1b",
       "value": " 883/883 [03:22&lt;00:00,  4.36it/s]"
      }
     },
     "d8b3b1aef17647758c664dca594cd9b6": {
      "model_module": "@jupyter-widgets/controls",
      "model_module_version": "1.5.0",
      "model_name": "HTMLModel",
      "state": {
       "layout": "IPY_MODEL_7c9d10bfd20d4989876ea650712e131b",
       "style": "IPY_MODEL_24264992d37a4c27ac7090a03170f746",
       "value": " 883/883 [00:02&lt;00:00, 342.31it/s]"
      }
     },
     "d8f79f76bbaa435a9d8784a666d4d4f9": {
      "model_module": "@jupyter-widgets/controls",
      "model_module_version": "1.5.0",
      "model_name": "HBoxModel",
      "state": {
       "children": [
        "IPY_MODEL_91a387e77b334b5dba0fc7432af72183",
        "IPY_MODEL_0998ea47bbf94280b39e8a206b8d6a0e"
       ],
       "layout": "IPY_MODEL_93fec900a0be4d30a73d4746599b55ee"
      }
     },
     "d99f5e4804af497fb726b7d240221b5b": {
      "model_module": "@jupyter-widgets/base",
      "model_module_version": "1.2.0",
      "model_name": "LayoutModel",
      "state": {}
     },
     "d9b49165f1ef4993b64faa70400c477a": {
      "model_module": "@jupyter-widgets/controls",
      "model_module_version": "1.5.0",
      "model_name": "ProgressStyleModel",
      "state": {
       "description_width": "initial"
      }
     },
     "d9d99a46883a4a0d93b5e5caa965a68a": {
      "model_module": "@jupyter-widgets/controls",
      "model_module_version": "1.5.0",
      "model_name": "DescriptionStyleModel",
      "state": {
       "description_width": ""
      }
     },
     "da4373edecda4c41a4104e2e7bf0e9dc": {
      "model_module": "@jupyter-widgets/base",
      "model_module_version": "1.2.0",
      "model_name": "LayoutModel",
      "state": {}
     },
     "dab061bdc67a412ba5c4d9f25db1ff59": {
      "model_module": "@jupyter-widgets/controls",
      "model_module_version": "1.5.0",
      "model_name": "HTMLModel",
      "state": {
       "layout": "IPY_MODEL_221b610b7182404c96fee2cdba80680f",
       "style": "IPY_MODEL_5251ca6a72904690a1b8bad4d59f3cb5",
       "value": " 883/883 [00:01&lt;00:00, 515.93it/s]"
      }
     },
     "dbfa1ebd3e9844d2bf9fec274105c675": {
      "model_module": "@jupyter-widgets/controls",
      "model_module_version": "1.5.0",
      "model_name": "HBoxModel",
      "state": {
       "children": [
        "IPY_MODEL_05897a51b1fc404cae9e931ff31d5d6c",
        "IPY_MODEL_6a14956780ed444e9b364a0ad134b99e"
       ],
       "layout": "IPY_MODEL_843ca7a18b9841b59fbe3678f231e18e"
      }
     },
     "dca6aaad72684706a83287807eab24fa": {
      "model_module": "@jupyter-widgets/controls",
      "model_module_version": "1.5.0",
      "model_name": "DescriptionStyleModel",
      "state": {
       "description_width": ""
      }
     },
     "dd6460919c6644a18812cac661a9e8e5": {
      "model_module": "@jupyter-widgets/base",
      "model_module_version": "1.2.0",
      "model_name": "LayoutModel",
      "state": {}
     },
     "ddbc0fa30efe4817ae0033aa5325c824": {
      "model_module": "@jupyter-widgets/controls",
      "model_module_version": "1.5.0",
      "model_name": "HBoxModel",
      "state": {
       "children": [
        "IPY_MODEL_53208ca4eb2a4f89bb0f208fe6b03c4a",
        "IPY_MODEL_f084f54bf3e84bf8a15c57eb4dfe951c"
       ],
       "layout": "IPY_MODEL_a53a500d580a4f0bbbe32564ef4e4c6c"
      }
     },
     "de750d5cc81145768c97f50f2aa0ec2b": {
      "model_module": "@jupyter-widgets/controls",
      "model_module_version": "1.5.0",
      "model_name": "ProgressStyleModel",
      "state": {
       "description_width": "initial"
      }
     },
     "df25c40c6e144592bddee145284b16d5": {
      "model_module": "@jupyter-widgets/controls",
      "model_module_version": "1.5.0",
      "model_name": "ProgressStyleModel",
      "state": {
       "description_width": "initial"
      }
     },
     "df6d776a21b44427970d604001754a14": {
      "model_module": "@jupyter-widgets/base",
      "model_module_version": "1.2.0",
      "model_name": "LayoutModel",
      "state": {}
     },
     "dfe3142398154bfd9ea10a716dbe9f6f": {
      "model_module": "@jupyter-widgets/base",
      "model_module_version": "1.2.0",
      "model_name": "LayoutModel",
      "state": {}
     },
     "e03392e2147a4026954da6ccff375667": {
      "model_module": "@jupyter-widgets/base",
      "model_module_version": "1.2.0",
      "model_name": "LayoutModel",
      "state": {}
     },
     "e04cfc50f7484aa49cc1329208126f0f": {
      "model_module": "@jupyter-widgets/controls",
      "model_module_version": "1.5.0",
      "model_name": "HBoxModel",
      "state": {
       "children": [
        "IPY_MODEL_c42b73a9ec7b4aecadd32846bf9fa819",
        "IPY_MODEL_6306794d38e34278aaac76fcade823fa"
       ],
       "layout": "IPY_MODEL_f33c44c00e37475e9bee384832a46599"
      }
     },
     "e06cb8726cb04f0eb27d24433a2b311f": {
      "model_module": "@jupyter-widgets/base",
      "model_module_version": "1.2.0",
      "model_name": "LayoutModel",
      "state": {}
     },
     "e1b14074c1f44607bbff592e49fd566a": {
      "model_module": "@jupyter-widgets/base",
      "model_module_version": "1.2.0",
      "model_name": "LayoutModel",
      "state": {}
     },
     "e2b251dc0678478cbf297824af07c2d5": {
      "model_module": "@jupyter-widgets/base",
      "model_module_version": "1.2.0",
      "model_name": "LayoutModel",
      "state": {}
     },
     "e2b545e729d7409da4221fb70bc4dfa0": {
      "model_module": "@jupyter-widgets/base",
      "model_module_version": "1.2.0",
      "model_name": "LayoutModel",
      "state": {}
     },
     "e433bc42f4e2494e982db6ec4fd549c1": {
      "model_module": "@jupyter-widgets/controls",
      "model_module_version": "1.5.0",
      "model_name": "ProgressStyleModel",
      "state": {
       "description_width": "initial"
      }
     },
     "e48d8dc4080347698c9bf481e4c17547": {
      "model_module": "@jupyter-widgets/controls",
      "model_module_version": "1.5.0",
      "model_name": "ProgressStyleModel",
      "state": {
       "description_width": "initial"
      }
     },
     "e4bf804f48414bd4a76fd97d1b4663b5": {
      "model_module": "@jupyter-widgets/controls",
      "model_module_version": "1.5.0",
      "model_name": "HBoxModel",
      "state": {
       "children": [
        "IPY_MODEL_86daebb6f63b405f918b9d16422b8b10",
        "IPY_MODEL_608e2186e6994313864c8420f8f49cf7"
       ],
       "layout": "IPY_MODEL_37e927bd1b384a8d9968ea0d63ce55e2"
      }
     },
     "e58b76c690be4dcf8cfbb3f110cc3ab2": {
      "model_module": "@jupyter-widgets/base",
      "model_module_version": "1.2.0",
      "model_name": "LayoutModel",
      "state": {}
     },
     "e61818e9367c44f4a0c576757e4e4cea": {
      "model_module": "@jupyter-widgets/controls",
      "model_module_version": "1.5.0",
      "model_name": "ProgressStyleModel",
      "state": {
       "description_width": "initial"
      }
     },
     "e636ea0539ea4a2aae88e5bec17a9553": {
      "model_module": "@jupyter-widgets/controls",
      "model_module_version": "1.5.0",
      "model_name": "ProgressStyleModel",
      "state": {
       "description_width": "initial"
      }
     },
     "e66a1d15293648e28e26815b84407755": {
      "model_module": "@jupyter-widgets/base",
      "model_module_version": "1.2.0",
      "model_name": "LayoutModel",
      "state": {}
     },
     "e6c71a70a3af4486b00b032d0ad6710e": {
      "model_module": "@jupyter-widgets/base",
      "model_module_version": "1.2.0",
      "model_name": "LayoutModel",
      "state": {}
     },
     "e6d56a8f1fae412b9fdceb78f064dcd7": {
      "model_module": "@jupyter-widgets/base",
      "model_module_version": "1.2.0",
      "model_name": "LayoutModel",
      "state": {}
     },
     "e78638edecf2442eb9137c2019c4e2b4": {
      "model_module": "@jupyter-widgets/controls",
      "model_module_version": "1.5.0",
      "model_name": "ProgressStyleModel",
      "state": {
       "description_width": "initial"
      }
     },
     "e7bebfbe6dd745179837489ad9c0bb13": {
      "model_module": "@jupyter-widgets/base",
      "model_module_version": "1.2.0",
      "model_name": "LayoutModel",
      "state": {}
     },
     "e7c57f5bae6b43df933a0cbbffa8175d": {
      "model_module": "@jupyter-widgets/controls",
      "model_module_version": "1.5.0",
      "model_name": "ProgressStyleModel",
      "state": {
       "description_width": "initial"
      }
     },
     "e86d385af33a459ab8c1b083ae50028f": {
      "model_module": "@jupyter-widgets/controls",
      "model_module_version": "1.5.0",
      "model_name": "ProgressStyleModel",
      "state": {
       "description_width": "initial"
      }
     },
     "e8839766913a4f599aae579af6fc5dcc": {
      "model_module": "@jupyter-widgets/controls",
      "model_module_version": "1.5.0",
      "model_name": "HBoxModel",
      "state": {
       "children": [
        "IPY_MODEL_d59ee74555294848abafeb64355023c4",
        "IPY_MODEL_f948b979d42446bb9810ff959c24881e"
       ],
       "layout": "IPY_MODEL_bdd730f4991a494fadab16b09de50ea6"
      }
     },
     "e8c07d5954c3453592653a5c02a63b94": {
      "model_module": "@jupyter-widgets/controls",
      "model_module_version": "1.5.0",
      "model_name": "DescriptionStyleModel",
      "state": {
       "description_width": ""
      }
     },
     "e9e4969ce3224c6d9e2ffdf85d88214a": {
      "model_module": "@jupyter-widgets/controls",
      "model_module_version": "1.5.0",
      "model_name": "ProgressStyleModel",
      "state": {
       "description_width": "initial"
      }
     },
     "ea51cc828363471184407570c5c131d7": {
      "model_module": "@jupyter-widgets/base",
      "model_module_version": "1.2.0",
      "model_name": "LayoutModel",
      "state": {}
     },
     "ea725c98739b4420896d618b19b32bb9": {
      "model_module": "@jupyter-widgets/base",
      "model_module_version": "1.2.0",
      "model_name": "LayoutModel",
      "state": {}
     },
     "ead3529660be43e288f297f705ae7f56": {
      "model_module": "@jupyter-widgets/base",
      "model_module_version": "1.2.0",
      "model_name": "LayoutModel",
      "state": {}
     },
     "eb6faad561634e4291b946a6e550429e": {
      "model_module": "@jupyter-widgets/controls",
      "model_module_version": "1.5.0",
      "model_name": "DescriptionStyleModel",
      "state": {
       "description_width": ""
      }
     },
     "ebabc3346485422a8806c1a5679ceb21": {
      "model_module": "@jupyter-widgets/controls",
      "model_module_version": "1.5.0",
      "model_name": "HTMLModel",
      "state": {
       "layout": "IPY_MODEL_83cc9347732c4699ac3af4c18bf217fa",
       "style": "IPY_MODEL_142f25bfacbd49d785953a7dcbbd7ed7",
       "value": " 883/883 [00:53&lt;00:00, 16.51it/s]"
      }
     },
     "ec13b585f2c948ed9ced143ac999e9d6": {
      "model_module": "@jupyter-widgets/base",
      "model_module_version": "1.2.0",
      "model_name": "LayoutModel",
      "state": {}
     },
     "ecfbb5f21b424626801787161d350b57": {
      "model_module": "@jupyter-widgets/controls",
      "model_module_version": "1.5.0",
      "model_name": "HBoxModel",
      "state": {
       "children": [
        "IPY_MODEL_a3f04bbda5e2409ba59b7e95d9802c94",
        "IPY_MODEL_749dc509d8804c049fcf4c7370011294"
       ],
       "layout": "IPY_MODEL_e6c71a70a3af4486b00b032d0ad6710e"
      }
     },
     "ee4480c6eaf441fd98dfe5ead72618d7": {
      "model_module": "@jupyter-widgets/base",
      "model_module_version": "1.2.0",
      "model_name": "LayoutModel",
      "state": {}
     },
     "ee83463a84ea48f59ba4d39f989b7185": {
      "model_module": "@jupyter-widgets/base",
      "model_module_version": "1.2.0",
      "model_name": "LayoutModel",
      "state": {}
     },
     "ef457a89f5044596bc06634f4a38ba0c": {
      "model_module": "@jupyter-widgets/controls",
      "model_module_version": "1.5.0",
      "model_name": "IntProgressModel",
      "state": {
       "bar_style": "success",
       "description": "100%",
       "layout": "IPY_MODEL_043cb0ff9d7e42dead3f278c76fb9da0",
       "max": 883,
       "style": "IPY_MODEL_5062b460fbcd4ab89f215c66ba8e8662",
       "value": 883
      }
     },
     "efa1c0f615754c8fa37c40335de2e35f": {
      "model_module": "@jupyter-widgets/controls",
      "model_module_version": "1.5.0",
      "model_name": "IntProgressModel",
      "state": {
       "bar_style": "success",
       "description": "100%",
       "layout": "IPY_MODEL_af82363414e84f1396657e1a01128926",
       "max": 883,
       "style": "IPY_MODEL_b2f2acaf7b0a4fc59eb0242e50c978ac",
       "value": 883
      }
     },
     "eff4be863b854b2dbc453a32aabef940": {
      "model_module": "@jupyter-widgets/base",
      "model_module_version": "1.2.0",
      "model_name": "LayoutModel",
      "state": {}
     },
     "f01b639939914ca8b5eea8dbf6833f1b": {
      "model_module": "@jupyter-widgets/controls",
      "model_module_version": "1.5.0",
      "model_name": "DescriptionStyleModel",
      "state": {
       "description_width": ""
      }
     },
     "f058aee1e53a4e269371cfc3003e66d3": {
      "model_module": "@jupyter-widgets/base",
      "model_module_version": "1.2.0",
      "model_name": "LayoutModel",
      "state": {}
     },
     "f084f54bf3e84bf8a15c57eb4dfe951c": {
      "model_module": "@jupyter-widgets/controls",
      "model_module_version": "1.5.0",
      "model_name": "HTMLModel",
      "state": {
       "layout": "IPY_MODEL_9805bdfd652d49c0b68efe84bf095530",
       "style": "IPY_MODEL_8b84f6a299ea43a48bec44e90dfdb1fa",
       "value": " 883/883 [00:00&lt;00:00, 913.26it/s]"
      }
     },
     "f16d028d30124ab392c3d88588f59842": {
      "model_module": "@jupyter-widgets/base",
      "model_module_version": "1.2.0",
      "model_name": "LayoutModel",
      "state": {}
     },
     "f22b6f378179433ca2db4b531ae41075": {
      "model_module": "@jupyter-widgets/controls",
      "model_module_version": "1.5.0",
      "model_name": "IntProgressModel",
      "state": {
       "bar_style": "success",
       "description": "100%",
       "layout": "IPY_MODEL_c77b995a1e5c44718873ebd9b3279306",
       "max": 883,
       "style": "IPY_MODEL_86fe83ef937845859ebdfc279b587a56",
       "value": 883
      }
     },
     "f2569e3990af45e8af7e9ac1e66f9540": {
      "model_module": "@jupyter-widgets/controls",
      "model_module_version": "1.5.0",
      "model_name": "ProgressStyleModel",
      "state": {
       "description_width": "initial"
      }
     },
     "f31cd5ffb52d4a1485ef8b4378376245": {
      "model_module": "@jupyter-widgets/base",
      "model_module_version": "1.2.0",
      "model_name": "LayoutModel",
      "state": {}
     },
     "f33c44c00e37475e9bee384832a46599": {
      "model_module": "@jupyter-widgets/base",
      "model_module_version": "1.2.0",
      "model_name": "LayoutModel",
      "state": {}
     },
     "f359d8e508234f3ebe65a4d7572ee424": {
      "model_module": "@jupyter-widgets/controls",
      "model_module_version": "1.5.0",
      "model_name": "ProgressStyleModel",
      "state": {
       "description_width": "initial"
      }
     },
     "f429834368b34870b2c96f6eabc495dc": {
      "model_module": "@jupyter-widgets/base",
      "model_module_version": "1.2.0",
      "model_name": "LayoutModel",
      "state": {}
     },
     "f522a5bad2f844d1b72f35cccf979908": {
      "model_module": "@jupyter-widgets/base",
      "model_module_version": "1.2.0",
      "model_name": "LayoutModel",
      "state": {}
     },
     "f56e87376f7b425ba5fe1e62985529ff": {
      "model_module": "@jupyter-widgets/base",
      "model_module_version": "1.2.0",
      "model_name": "LayoutModel",
      "state": {}
     },
     "f76d9ec23e4c44eaa56798d151b6c353": {
      "model_module": "@jupyter-widgets/controls",
      "model_module_version": "1.5.0",
      "model_name": "HTMLModel",
      "state": {
       "layout": "IPY_MODEL_aa0de1df9aba481a90dbcd98c3450635",
       "style": "IPY_MODEL_a69a1db549f14844a408eeba10a276dd",
       "value": " 883/883 [14:44&lt;00:00,  1.00s/it]"
      }
     },
     "f7886a33da604a739f5e5a7f9086b65f": {
      "model_module": "@jupyter-widgets/base",
      "model_module_version": "1.2.0",
      "model_name": "LayoutModel",
      "state": {}
     },
     "f7f7c0e247ad497db08ce0ccb8b6c21d": {
      "model_module": "@jupyter-widgets/controls",
      "model_module_version": "1.5.0",
      "model_name": "HTMLModel",
      "state": {
       "layout": "IPY_MODEL_8f512244c5324187b18c1c5efcab4558",
       "style": "IPY_MODEL_2bff1f41114444c4b5e011f27c43ac57",
       "value": " 31/31 [14:53&lt;00:00, 28.82s/it]"
      }
     },
     "f80549ea60474db49a19317fbecee558": {
      "model_module": "@jupyter-widgets/controls",
      "model_module_version": "1.5.0",
      "model_name": "IntProgressModel",
      "state": {
       "bar_style": "success",
       "description": "100%",
       "layout": "IPY_MODEL_c33898969efe44aab344e6774647cd59",
       "max": 883,
       "style": "IPY_MODEL_4a69d75531f64d8ba0a14f38f9473893",
       "value": 883
      }
     },
     "f86b1e46997d4731a5196acbca10b1a2": {
      "model_module": "@jupyter-widgets/controls",
      "model_module_version": "1.5.0",
      "model_name": "DescriptionStyleModel",
      "state": {
       "description_width": ""
      }
     },
     "f871446463024c48b7349ad4a34ac3bd": {
      "model_module": "@jupyter-widgets/controls",
      "model_module_version": "1.5.0",
      "model_name": "ProgressStyleModel",
      "state": {
       "description_width": "initial"
      }
     },
     "f8d7ad38e7664378be40126bf78545c2": {
      "model_module": "@jupyter-widgets/controls",
      "model_module_version": "1.5.0",
      "model_name": "HBoxModel",
      "state": {
       "children": [
        "IPY_MODEL_886125ea3b34401a8ed1c4d33aad411d",
        "IPY_MODEL_fbc05a450618413aa2407112135d4389"
       ],
       "layout": "IPY_MODEL_37f84e9255494b528fdf9f21e80eb6c1"
      }
     },
     "f948b979d42446bb9810ff959c24881e": {
      "model_module": "@jupyter-widgets/controls",
      "model_module_version": "1.5.0",
      "model_name": "HTMLModel",
      "state": {
       "layout": "IPY_MODEL_13895dbce7e14f0988d239f7df29307b",
       "style": "IPY_MODEL_82350d4ea0d6481b8945b40c21f11cba",
       "value": " 883/883 [00:03&lt;00:00, 291.32it/s]"
      }
     },
     "f97a98bf52de4da0bfaaa361815ca236": {
      "model_module": "@jupyter-widgets/controls",
      "model_module_version": "1.5.0",
      "model_name": "DescriptionStyleModel",
      "state": {
       "description_width": ""
      }
     },
     "f97dd02c5b584311a71dba98a7893387": {
      "model_module": "@jupyter-widgets/controls",
      "model_module_version": "1.5.0",
      "model_name": "IntProgressModel",
      "state": {
       "bar_style": "success",
       "description": "100%",
       "layout": "IPY_MODEL_5ffe772c0eab434198de7b20efc5b647",
       "max": 883,
       "style": "IPY_MODEL_19afc3c91c4745b4ba67ae9555c35986",
       "value": 883
      }
     },
     "f9f4b62589974a3ab9c5b0421125e47e": {
      "model_module": "@jupyter-widgets/controls",
      "model_module_version": "1.5.0",
      "model_name": "ProgressStyleModel",
      "state": {
       "description_width": "initial"
      }
     },
     "fa3871bb2cba439a9618ea57a7685523": {
      "model_module": "@jupyter-widgets/base",
      "model_module_version": "1.2.0",
      "model_name": "LayoutModel",
      "state": {}
     },
     "fadae5da3f7342db8f00f8349d7f79ef": {
      "model_module": "@jupyter-widgets/controls",
      "model_module_version": "1.5.0",
      "model_name": "HTMLModel",
      "state": {
       "layout": "IPY_MODEL_1e5d24f4ff724f708f7f77b20e352289",
       "style": "IPY_MODEL_63559065274945b187858882fca4170c",
       "value": " 883/883 [00:22&lt;00:00, 39.12it/s]"
      }
     },
     "fafe1ac625e445388ba12fa8750a40e6": {
      "model_module": "@jupyter-widgets/controls",
      "model_module_version": "1.5.0",
      "model_name": "IntProgressModel",
      "state": {
       "bar_style": "success",
       "description": "100%",
       "layout": "IPY_MODEL_b044591bbcfa41708f94da0f231651c2",
       "max": 31,
       "style": "IPY_MODEL_9a40cbb117df481ca904aeb8108195a8",
       "value": 31
      }
     },
     "fb20080e057943859672142efb68cf27": {
      "model_module": "@jupyter-widgets/controls",
      "model_module_version": "1.5.0",
      "model_name": "ProgressStyleModel",
      "state": {
       "description_width": "initial"
      }
     },
     "fb5af83bb6f64893bd519fe972627102": {
      "model_module": "@jupyter-widgets/controls",
      "model_module_version": "1.5.0",
      "model_name": "HBoxModel",
      "state": {
       "children": [
        "IPY_MODEL_7e05f0e80fd142ea9de0d76e0a7c161b",
        "IPY_MODEL_fc487b65c88f474f85cae29585a27a37"
       ],
       "layout": "IPY_MODEL_a6158929ce6a4426bc67f1ae463fdff4"
      }
     },
     "fb86b0234da444d6ad17b7846a10962d": {
      "model_module": "@jupyter-widgets/base",
      "model_module_version": "1.2.0",
      "model_name": "LayoutModel",
      "state": {}
     },
     "fbba4b06d8444920a53fe34fe2004124": {
      "model_module": "@jupyter-widgets/controls",
      "model_module_version": "1.5.0",
      "model_name": "DescriptionStyleModel",
      "state": {
       "description_width": ""
      }
     },
     "fbc05a450618413aa2407112135d4389": {
      "model_module": "@jupyter-widgets/controls",
      "model_module_version": "1.5.0",
      "model_name": "HTMLModel",
      "state": {
       "layout": "IPY_MODEL_abc7bfedaf8e4c78b2ca31a7ec8327fe",
       "style": "IPY_MODEL_4d5bb861343d4ee0a0796b4fc0a0d5f5",
       "value": " 883/883 [00:29&lt;00:00, 29.44it/s]"
      }
     },
     "fc065bed455f4faba98e96d9e7011e5a": {
      "model_module": "@jupyter-widgets/controls",
      "model_module_version": "1.5.0",
      "model_name": "HTMLModel",
      "state": {
       "layout": "IPY_MODEL_41ad748b836341b993adeb6c418e76e8",
       "style": "IPY_MODEL_4380cf586f834df78ac5109079061e11",
       "value": " 883/883 [00:00&lt;00:00, 1632.34it/s]"
      }
     },
     "fc330a2e381b471fb06badce8398c39c": {
      "model_module": "@jupyter-widgets/base",
      "model_module_version": "1.2.0",
      "model_name": "LayoutModel",
      "state": {}
     },
     "fc487b65c88f474f85cae29585a27a37": {
      "model_module": "@jupyter-widgets/controls",
      "model_module_version": "1.5.0",
      "model_name": "HTMLModel",
      "state": {
       "layout": "IPY_MODEL_528e7800b2c8459e9c9eba2b802befa0",
       "style": "IPY_MODEL_bc8d9b75dff149c9878a87ed508e2571",
       "value": " 883/883 [00:43&lt;00:00, 20.30it/s]"
      }
     },
     "fc6a3bf6d2ed4cc89a66d1377a032d37": {
      "model_module": "@jupyter-widgets/controls",
      "model_module_version": "1.5.0",
      "model_name": "ProgressStyleModel",
      "state": {
       "description_width": "initial"
      }
     },
     "fce71b9013004b7a8ef6cfbaeb52e527": {
      "model_module": "@jupyter-widgets/base",
      "model_module_version": "1.2.0",
      "model_name": "LayoutModel",
      "state": {}
     },
     "fd0469dc890248698773c85d7d798b29": {
      "model_module": "@jupyter-widgets/controls",
      "model_module_version": "1.5.0",
      "model_name": "HTMLModel",
      "state": {
       "layout": "IPY_MODEL_da4373edecda4c41a4104e2e7bf0e9dc",
       "style": "IPY_MODEL_0a056ebbf1e2421787459109273809ab",
       "value": " 883/883 [00:01&lt;00:00, 537.57it/s]"
      }
     },
     "ff03590ac11f424da185db793e7452af": {
      "model_module": "@jupyter-widgets/controls",
      "model_module_version": "1.5.0",
      "model_name": "ProgressStyleModel",
      "state": {
       "description_width": "initial"
      }
     }
    },
    "version_major": 2,
    "version_minor": 0
   }
  }
 },
 "nbformat": 4,
 "nbformat_minor": 4
}
