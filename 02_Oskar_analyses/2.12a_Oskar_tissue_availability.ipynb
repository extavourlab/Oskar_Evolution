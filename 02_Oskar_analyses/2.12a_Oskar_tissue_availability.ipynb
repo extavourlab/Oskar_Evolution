{
 "metadata": {
  "language_info": {
   "codemirror_mode": {
    "name": "ipython",
    "version": 3
   },
   "file_extension": ".py",
   "mimetype": "text/x-python",
   "name": "python",
   "nbconvert_exporter": "python",
   "pygments_lexer": "ipython3",
   "version": "3.8.5"
  },
  "orig_nbformat": 4,
  "kernelspec": {
   "name": "python3",
   "display_name": "Python 3.8.5 64-bit ('bioinfo_3.8': conda)"
  },
  "interpreter": {
   "hash": "52454c618a4204657519cbab42273bb942d0a30f08c27de48ae386072d003f99"
  }
 },
 "nbformat": 4,
 "nbformat_minor": 2,
 "cells": [
  {
   "cell_type": "code",
   "execution_count": 1,
   "metadata": {},
   "outputs": [],
   "source": [
    "import time \n",
    "import numpy as np\n",
    "import pandas as pd\n",
    "\n",
    "from tqdm import tqdm\n",
    "from Bio import Entrez\n",
    "from bs4 import BeautifulSoup\n",
    "Entrez.email = 'savandara.besse@gmail.com' #Use your own email"
   ]
  },
  {
   "cell_type": "code",
   "execution_count": 2,
   "metadata": {},
   "outputs": [],
   "source": [
    "from IPython.display import display, HTML"
   ]
  },
  {
   "cell_type": "code",
   "execution_count": 3,
   "metadata": {},
   "outputs": [],
   "source": [
    "oskar_hits_tissue_mapping = pd.read_csv('../Data/02_Oskar_analyses/2.12/tissue_stage_binned_with_oskar_results.csv')"
   ]
  },
  {
   "cell_type": "code",
   "execution_count": 5,
   "metadata": {},
   "outputs": [
    {
     "output_type": "execute_result",
     "data": {
      "text/plain": [
       "2224"
      ]
     },
     "metadata": {},
     "execution_count": 5
    }
   ],
   "source": [
    "len(oskar_hits_tissue_mapping)"
   ]
  },
  {
   "cell_type": "code",
   "execution_count": 6,
   "metadata": {},
   "outputs": [
    {
     "output_type": "execute_result",
     "data": {
      "text/plain": [
       "914"
      ]
     },
     "metadata": {},
     "execution_count": 6
    }
   ],
   "source": [
    "#### Number of bioproject\n",
    "len(np.unique(oskar_hits_tissue_mapping['bioproject'], return_counts=True)[0])"
   ]
  },
  {
   "cell_type": "code",
   "execution_count": 7,
   "metadata": {},
   "outputs": [
    {
     "output_type": "execute_result",
     "data": {
      "text/plain": [
       "949"
      ]
     },
     "metadata": {},
     "execution_count": 7
    }
   ],
   "source": [
    "#### Number of species available from the transcriptome analysis\n",
    "len(np.unique(oskar_hits_tissue_mapping['species'], return_counts=True)[0])"
   ]
  },
  {
   "cell_type": "code",
   "execution_count": 8,
   "metadata": {},
   "outputs": [],
   "source": [
    "def oskar_double_hits(x):\n",
    "    TMP = oskar_hits_tissue_mapping[oskar_hits_tissue_mapping['bioproject'] == x ]\n",
    "    metadata = list(TMP[['bioproject', 'tax_id', 'species', 'order_name', 'family_name']].values[0]) \n",
    "    brain_count = len(TMP[TMP['brain'] == 1])\n",
    "    metadata.append(brain_count)\n",
    "    germline_count = len(TMP[TMP['germline'] == 1])\n",
    "    metadata.append(germline_count)\n",
    "    tsa_ids = ','.join(list(np.unique(TMP['tsa_id'].values)))\n",
    "    metadata.append(tsa_ids)\n",
    "    return metadata"
   ]
  },
  {
   "cell_type": "code",
   "execution_count": 9,
   "metadata": {},
   "outputs": [
    {
     "output_type": "stream",
     "name": "stderr",
     "text": [
      "100%|██████████| 914/914 [00:02<00:00, 436.51it/s]CPU times: user 2.25 s, sys: 0 ns, total: 2.25 s\n",
      "Wall time: 2.15 s\n",
      "\n"
     ]
    }
   ],
   "source": [
    "%%time \n",
    "oskar_tissue_combined_count = [ oskar_double_hits(bioproject) for bioproject in tqdm(np.unique(oskar_hits_tissue_mapping['bioproject']))]\n",
    "oskar_per_tissue = pd.DataFrame(oskar_tissue_combined_count, columns = ['bioproject', 'tax_id', 'species', 'order_name', 'family_name', 'combined_brain', 'combined_germline', 'tsa_ids']).sort_values(['order_name', 'family_name'])"
   ]
  },
  {
   "cell_type": "code",
   "execution_count": 10,
   "metadata": {},
   "outputs": [],
   "source": [
    "#### Species with brain tissue and germline tissue\n",
    "species_with_double_hits = oskar_per_tissue[(oskar_per_tissue['combined_brain'] >= 1) & (oskar_per_tissue['combined_germline'] >= 1)]\n",
    "species_with_double_hits.to_csv('../Data/02_Oskar_analyses/2.12/oskar_double_hits.csv', index=False)"
   ]
  },
  {
   "cell_type": "code",
   "execution_count": 11,
   "metadata": {},
   "outputs": [
    {
     "output_type": "stream",
     "name": "stdout",
     "text": [
      "(4, 8)\n"
     ]
    },
    {
     "output_type": "execute_result",
     "data": {
      "text/plain": [
       "      bioproject  tax_id             species   order_name family_name  \\\n",
       "190  PRJNA236239    7159       Aedes aegypti      Diptera   Culicidae   \n",
       "202  PRJNA240197  139649  Teleopsis dalmanni      Diptera   Diopsidae   \n",
       "695  PRJNA282469  115081   Megalopta genalis  Hymenoptera  Halictidae   \n",
       "913   PRJNA81039    7130       Manduca sexta  Lepidoptera  Sphingidae   \n",
       "\n",
       "     combined_brain  combined_germline         tsa_ids  \n",
       "190              19                  7  GFNA00000000.1  \n",
       "202               2                  1  GBBP00000000.1  \n",
       "695               1                  1  GELL00000000.1  \n",
       "913              11                 12  GETI00000000.1  "
      ],
      "text/html": "<div>\n<style scoped>\n    .dataframe tbody tr th:only-of-type {\n        vertical-align: middle;\n    }\n\n    .dataframe tbody tr th {\n        vertical-align: top;\n    }\n\n    .dataframe thead th {\n        text-align: right;\n    }\n</style>\n<table border=\"1\" class=\"dataframe\">\n  <thead>\n    <tr style=\"text-align: right;\">\n      <th></th>\n      <th>bioproject</th>\n      <th>tax_id</th>\n      <th>species</th>\n      <th>order_name</th>\n      <th>family_name</th>\n      <th>combined_brain</th>\n      <th>combined_germline</th>\n      <th>tsa_ids</th>\n    </tr>\n  </thead>\n  <tbody>\n    <tr>\n      <th>190</th>\n      <td>PRJNA236239</td>\n      <td>7159</td>\n      <td>Aedes aegypti</td>\n      <td>Diptera</td>\n      <td>Culicidae</td>\n      <td>19</td>\n      <td>7</td>\n      <td>GFNA00000000.1</td>\n    </tr>\n    <tr>\n      <th>202</th>\n      <td>PRJNA240197</td>\n      <td>139649</td>\n      <td>Teleopsis dalmanni</td>\n      <td>Diptera</td>\n      <td>Diopsidae</td>\n      <td>2</td>\n      <td>1</td>\n      <td>GBBP00000000.1</td>\n    </tr>\n    <tr>\n      <th>695</th>\n      <td>PRJNA282469</td>\n      <td>115081</td>\n      <td>Megalopta genalis</td>\n      <td>Hymenoptera</td>\n      <td>Halictidae</td>\n      <td>1</td>\n      <td>1</td>\n      <td>GELL00000000.1</td>\n    </tr>\n    <tr>\n      <th>913</th>\n      <td>PRJNA81039</td>\n      <td>7130</td>\n      <td>Manduca sexta</td>\n      <td>Lepidoptera</td>\n      <td>Sphingidae</td>\n      <td>11</td>\n      <td>12</td>\n      <td>GETI00000000.1</td>\n    </tr>\n  </tbody>\n</table>\n</div>"
     },
     "metadata": {},
     "execution_count": 11
    }
   ],
   "source": [
    "print(species_with_double_hits.shape)\n",
    "species_with_double_hits"
   ]
  },
  {
   "cell_type": "code",
   "execution_count": 13,
   "metadata": {},
   "outputs": [],
   "source": [
    "#### Oskar presence in these species"
   ]
  },
  {
   "cell_type": "code",
   "execution_count": 12,
   "metadata": {},
   "outputs": [
    {
     "output_type": "stream",
     "name": "stdout",
     "text": [
      "Aedes aegypti\n"
     ]
    },
    {
     "output_type": "display_data",
     "data": {
      "text/plain": "<IPython.core.display.HTML object>",
      "text/html": "<table border=\"1\" class=\"dataframe\">\n  <thead>\n    <tr style=\"text-align: right;\">\n      <th></th>\n      <th>tsa_id</th>\n      <th>bioproject</th>\n      <th>biosample</th>\n      <th>raw_tissue</th>\n      <th>brain</th>\n      <th>germline</th>\n      <th>oskar</th>\n    </tr>\n  </thead>\n  <tbody>\n    <tr>\n      <th>1893</th>\n      <td>GFNA00000000.1</td>\n      <td>PRJNA236239</td>\n      <td>SAMN02628830</td>\n      <td>brains</td>\n      <td>1</td>\n      <td>0</td>\n      <td>found</td>\n    </tr>\n    <tr>\n      <th>1894</th>\n      <td>GFNA00000000.1</td>\n      <td>PRJNA236239</td>\n      <td>SAMN02628831</td>\n      <td>brains</td>\n      <td>1</td>\n      <td>0</td>\n      <td>found</td>\n    </tr>\n    <tr>\n      <th>1895</th>\n      <td>GFNA00000000.1</td>\n      <td>PRJNA236239</td>\n      <td>SAMN02628832</td>\n      <td>brains</td>\n      <td>1</td>\n      <td>0</td>\n      <td>found</td>\n    </tr>\n    <tr>\n      <th>1896</th>\n      <td>GFNA00000000.1</td>\n      <td>PRJNA236239</td>\n      <td>SAMN02628833</td>\n      <td>brains</td>\n      <td>1</td>\n      <td>0</td>\n      <td>found</td>\n    </tr>\n    <tr>\n      <th>1897</th>\n      <td>GFNA00000000.1</td>\n      <td>PRJNA236239</td>\n      <td>SAMN02628834</td>\n      <td>brains</td>\n      <td>1</td>\n      <td>0</td>\n      <td>found</td>\n    </tr>\n    <tr>\n      <th>1898</th>\n      <td>GFNA00000000.1</td>\n      <td>PRJNA236239</td>\n      <td>SAMN02628835</td>\n      <td>brains</td>\n      <td>1</td>\n      <td>0</td>\n      <td>found</td>\n    </tr>\n    <tr>\n      <th>1899</th>\n      <td>GFNA00000000.1</td>\n      <td>PRJNA236239</td>\n      <td>SAMN02628836</td>\n      <td>brains</td>\n      <td>1</td>\n      <td>0</td>\n      <td>found</td>\n    </tr>\n    <tr>\n      <th>1900</th>\n      <td>GFNA00000000.1</td>\n      <td>PRJNA236239</td>\n      <td>SAMN02628837</td>\n      <td>brains</td>\n      <td>1</td>\n      <td>0</td>\n      <td>found</td>\n    </tr>\n    <tr>\n      <th>1901</th>\n      <td>GFNA00000000.1</td>\n      <td>PRJNA236239</td>\n      <td>SAMN02628879</td>\n      <td>brains</td>\n      <td>1</td>\n      <td>0</td>\n      <td>found</td>\n    </tr>\n    <tr>\n      <th>1902</th>\n      <td>GFNA00000000.1</td>\n      <td>PRJNA236239</td>\n      <td>SAMN02628880</td>\n      <td>brains</td>\n      <td>1</td>\n      <td>0</td>\n      <td>found</td>\n    </tr>\n    <tr>\n      <th>1903</th>\n      <td>GFNA00000000.1</td>\n      <td>PRJNA236239</td>\n      <td>SAMN02628881</td>\n      <td>brains</td>\n      <td>1</td>\n      <td>0</td>\n      <td>found</td>\n    </tr>\n    <tr>\n      <th>1904</th>\n      <td>GFNA00000000.1</td>\n      <td>PRJNA236239</td>\n      <td>SAMN02628882</td>\n      <td>brains</td>\n      <td>1</td>\n      <td>0</td>\n      <td>found</td>\n    </tr>\n    <tr>\n      <th>1905</th>\n      <td>GFNA00000000.1</td>\n      <td>PRJNA236239</td>\n      <td>SAMN02628916</td>\n      <td>brains</td>\n      <td>1</td>\n      <td>0</td>\n      <td>found</td>\n    </tr>\n    <tr>\n      <th>1906</th>\n      <td>GFNA00000000.1</td>\n      <td>PRJNA236239</td>\n      <td>SAMN02628917</td>\n      <td>brains</td>\n      <td>1</td>\n      <td>0</td>\n      <td>found</td>\n    </tr>\n    <tr>\n      <th>1907</th>\n      <td>GFNA00000000.1</td>\n      <td>PRJNA236239</td>\n      <td>SAMN02628918</td>\n      <td>brains</td>\n      <td>1</td>\n      <td>0</td>\n      <td>found</td>\n    </tr>\n    <tr>\n      <th>1908</th>\n      <td>GFNA00000000.1</td>\n      <td>PRJNA236239</td>\n      <td>SAMN02628919</td>\n      <td>brains</td>\n      <td>1</td>\n      <td>0</td>\n      <td>found</td>\n    </tr>\n    <tr>\n      <th>1909</th>\n      <td>GFNA00000000.1</td>\n      <td>PRJNA236239</td>\n      <td>SAMN02628927</td>\n      <td>brains</td>\n      <td>1</td>\n      <td>0</td>\n      <td>found</td>\n    </tr>\n    <tr>\n      <th>1910</th>\n      <td>GFNA00000000.1</td>\n      <td>PRJNA236239</td>\n      <td>SAMN02628928</td>\n      <td>brains</td>\n      <td>1</td>\n      <td>0</td>\n      <td>found</td>\n    </tr>\n    <tr>\n      <th>1911</th>\n      <td>GFNA00000000.1</td>\n      <td>PRJNA236239</td>\n      <td>SAMN02628929</td>\n      <td>brains</td>\n      <td>1</td>\n      <td>0</td>\n      <td>found</td>\n    </tr>\n    <tr>\n      <th>1992</th>\n      <td>GFNA00000000.1</td>\n      <td>PRJNA236239</td>\n      <td>SAMN02628865</td>\n      <td>ovaries</td>\n      <td>0</td>\n      <td>1</td>\n      <td>found</td>\n    </tr>\n    <tr>\n      <th>1993</th>\n      <td>GFNA00000000.1</td>\n      <td>PRJNA236239</td>\n      <td>SAMN02628866</td>\n      <td>ovaries</td>\n      <td>0</td>\n      <td>1</td>\n      <td>found</td>\n    </tr>\n    <tr>\n      <th>1994</th>\n      <td>GFNA00000000.1</td>\n      <td>PRJNA236239</td>\n      <td>SAMN02628867</td>\n      <td>ovaries</td>\n      <td>0</td>\n      <td>1</td>\n      <td>found</td>\n    </tr>\n    <tr>\n      <th>1995</th>\n      <td>GFNA00000000.1</td>\n      <td>PRJNA236239</td>\n      <td>SAMN02628920</td>\n      <td>ovaries</td>\n      <td>0</td>\n      <td>1</td>\n      <td>found</td>\n    </tr>\n    <tr>\n      <th>1996</th>\n      <td>GFNA00000000.1</td>\n      <td>PRJNA236239</td>\n      <td>SAMN02628921</td>\n      <td>ovaries</td>\n      <td>0</td>\n      <td>1</td>\n      <td>found</td>\n    </tr>\n    <tr>\n      <th>1997</th>\n      <td>GFNA00000000.1</td>\n      <td>PRJNA236239</td>\n      <td>SAMN02628922</td>\n      <td>ovaries</td>\n      <td>0</td>\n      <td>1</td>\n      <td>found</td>\n    </tr>\n    <tr>\n      <th>1998</th>\n      <td>GFNA00000000.1</td>\n      <td>PRJNA236239</td>\n      <td>SAMN02628923</td>\n      <td>ovaries</td>\n      <td>0</td>\n      <td>1</td>\n      <td>found</td>\n    </tr>\n  </tbody>\n</table>"
     },
     "metadata": {}
    }
   ],
   "source": [
    "custom_columns = ['tsa_id', 'bioproject', 'biosample', 'raw_tissue', 'brain', 'germline', 'oskar']\n",
    "for species in species_with_double_hits['species'].values:\n",
    "    TMP = oskar_hits_tissue_mapping[(oskar_hits_tissue_mapping['species'] == species)][custom_columns]\n",
    "    OSKAR = TMP[(TMP['oskar'] == 'found')]\n",
    "    WHERE_IS_OSKAR = OSKAR[(OSKAR['germline'] != 0) | (OSKAR['brain'] != 0) ]\n",
    "    if len(WHERE_IS_OSKAR) != 0 : \n",
    "        print(species)\n",
    "        display(HTML(WHERE_IS_OSKAR.to_html()))"
   ]
  },
  {
   "cell_type": "code",
   "execution_count": null,
   "metadata": {},
   "outputs": [],
   "source": []
  }
 ]
}