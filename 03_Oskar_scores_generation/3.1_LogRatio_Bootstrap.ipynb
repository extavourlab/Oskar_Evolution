{
 "cells": [
  {
   "cell_type": "markdown",
   "metadata": {},
   "source": [
    "# Analysis #1: LOTUS and OSK comparison in Holometabola and Hemimetabola groups\n",
    "\n",
    "- Author: Leo BLONDEL\n",
    "\n",
    "### Required inputs\n",
    "- ../Data/02_Oskar_analyses/2.4/FASTA/OSKAR_holometabola.fasta\n",
    "- ../Data/02_Oskar_analyses/2.4/FASTA/OSKAR_hemimetabola.fasta\n",
    "\n",
    "\n",
    "### Description\n",
    "Generates Holometabola alignment after bootstrapping step in order to compare it to Hemimetabola alignment. Calculates LogRatio score based on Valdar conservation measures. \n",
    "Create the plot shown in Figure 4."
   ]
  },
  {
   "cell_type": "code",
   "execution_count": 1,
   "metadata": {},
   "outputs": [],
   "source": [
    "import numpy as np\n",
    "import pandas as pd\n",
    "from Bio import SeqIO, AlignIO\n",
    "import sys\n",
    "import os\n",
    "import besse_blondel_conservation_scores\n",
    "\n",
    "import matplotlib.pyplot as plt\n",
    "import seaborn as sns\n",
    "sns.set()\n",
    "\n",
    "%matplotlib inline"
   ]
  },
  {
   "cell_type": "markdown",
   "metadata": {},
   "source": [
    "# Generate Mapping table between Alignement And Structure"
   ]
  },
  {
   "cell_type": "code",
   "execution_count": null,
   "metadata": {},
   "outputs": [],
   "source": [
    "OskarAlignPath = \"../Data/01_Oskar_identification/oskar_tracker_results/oskar_filtered.aligned.fasta\"\n",
    "OskarAlign = SeqIO.parse(OskarAlignPath,'fasta')\n",
    "OskarSeqs = [seq for seq in OskarAlign]"
   ]
  },
  {
   "cell_type": "code",
   "execution_count": null,
   "metadata": {},
   "outputs": [],
   "source": [
    "for l in OskarSeqs:\n",
    "    if 'melanogaster' in l.description:\n",
    "        dmel = l"
   ]
  },
  {
   "cell_type": "code",
   "execution_count": null,
   "metadata": {},
   "outputs": [],
   "source": [
    "for l in OskarSeqs:\n",
    "    if 'Zyg' in l.description:\n",
    "        print(l)"
   ]
  },
  {
   "cell_type": "code",
   "execution_count": null,
   "metadata": {},
   "outputs": [],
   "source": [
    "mapping = pd.read_csv(\"../Data/03_Oskar_scores_generation/CSV/mapping.csv\")"
   ]
  },
  {
   "cell_type": "code",
   "execution_count": null,
   "metadata": {},
   "outputs": [],
   "source": [
    "LOTUS_start = dmel.seq.find(\"YISV\")\n",
    "OSK_start = dmel.seq.find(\"ILTS\")"
   ]
  },
  {
   "cell_type": "code",
   "execution_count": null,
   "metadata": {},
   "outputs": [],
   "source": [
    "pos = 0\n",
    "LOTUS_map = []\n",
    "OSK_map = []\n",
    "for p in range(len(dmel.seq)):\n",
    "    if p >= LOTUS_start and len(LOTUS_map) < len(mapping[mapping['domain'] == \"LOTUSVASA\"][\"Dmel_Seq\"].values):\n",
    "        l = dmel.seq[p]\n",
    "        if l != '-':\n",
    "            LOTUS_map.append(p)\n",
    "    if p >= OSK_start and len(OSK_map) < len(mapping[mapping['domain'] == \"OSK\"][\"Dmel_Seq\"].values):\n",
    "        l = dmel.seq[p]\n",
    "        if l != '-':\n",
    "            OSK_map.append(p)  "
   ]
  },
  {
   "cell_type": "code",
   "execution_count": 33,
   "metadata": {},
   "outputs": [],
   "source": [
    "mapping['alignment'] = OSK_map + LOTUS_map"
   ]
  },
  {
   "cell_type": "code",
   "execution_count": 34,
   "metadata": {},
   "outputs": [],
   "source": [
    "mapping.to_csv(\"../Data/03_Oskar_scores_generation/CSV/mapping.csv\", index=False)"
   ]
  },
  {
   "cell_type": "markdown",
   "metadata": {},
   "source": [
    "# Compute Holo and Hemi metabola conservation scores"
   ]
  },
  {
   "cell_type": "code",
   "execution_count": 2,
   "metadata": {},
   "outputs": [],
   "source": [
    "holoAlignPath = \"../Data/02_Oskar_analyses/2.4/FASTA/OSKAR_holometabola.fasta\"\n",
    "holoAlign = SeqIO.parse(holoAlignPath,'fasta')\n",
    "holoSeqs = [seq for seq in holoAlign]\n",
    "\n",
    "hemiAlignPath = \"../Data/02_Oskar_analyses/2.4/FASTA/OSKAR_hemimetabola.fasta\"\n",
    "hemiAlign = SeqIO.parse(hemiAlignPath,'fasta')\n",
    "hemiSeqs = [seq for seq in hemiAlign]"
   ]
  },
  {
   "cell_type": "code",
   "execution_count": 3,
   "metadata": {},
   "outputs": [
    {
     "data": {
      "text/plain": [
       "32"
      ]
     },
     "execution_count": 3,
     "metadata": {},
     "output_type": "execute_result"
    }
   ],
   "source": [
    "len(hemiSeqs)"
   ]
  },
  {
   "cell_type": "code",
   "execution_count": 68,
   "metadata": {
    "scrolled": true
   },
   "outputs": [
    {
     "name": "stderr",
     "output_type": "stream",
     "text": [
      " [Elapsed Time: 0:00:00] |                                  | (ETA:  --:--:--) "
     ]
    },
    {
     "name": "stdout",
     "output_type": "stream",
     "text": [
      "Computing Scores\n",
      "Calculating Weights...\n"
     ]
    },
    {
     "name": "stderr",
     "output_type": "stream",
     "text": [
      " [Elapsed Time: 0:00:15] |##################################| (Time:  0:00:15) \n",
      " [Elapsed Time: 0:00:00] |                                  | (ETA:  --:--:--) "
     ]
    },
    {
     "name": "stdout",
     "output_type": "stream",
     "text": [
      "Computing Scores\n",
      "Calculating Weights...\n"
     ]
    },
    {
     "name": "stderr",
     "output_type": "stream",
     "text": [
      " [Elapsed Time: 0:00:14] |##################################| (Time:  0:00:14) \n",
      " [Elapsed Time: 0:00:00] |                                  | (ETA:  --:--:--) "
     ]
    },
    {
     "name": "stdout",
     "output_type": "stream",
     "text": [
      "Computing Scores\n",
      "Calculating Weights...\n"
     ]
    },
    {
     "name": "stderr",
     "output_type": "stream",
     "text": [
      " [Elapsed Time: 0:00:15] |##################################| (Time:  0:00:15) \n",
      " [Elapsed Time: 0:00:00] |                                  | (ETA:  --:--:--) "
     ]
    },
    {
     "name": "stdout",
     "output_type": "stream",
     "text": [
      "Computing Scores\n",
      "Calculating Weights...\n"
     ]
    },
    {
     "name": "stderr",
     "output_type": "stream",
     "text": [
      " [Elapsed Time: 0:00:15] |##################################| (Time:  0:00:15) \n",
      " [Elapsed Time: 0:00:00] |                                  | (ETA:  --:--:--) "
     ]
    },
    {
     "name": "stdout",
     "output_type": "stream",
     "text": [
      "Computing Scores\n",
      "Calculating Weights...\n"
     ]
    },
    {
     "name": "stderr",
     "output_type": "stream",
     "text": [
      " [Elapsed Time: 0:00:14] |##################################| (Time:  0:00:14) \n",
      " [Elapsed Time: 0:00:00] |                                  | (ETA:  --:--:--) "
     ]
    },
    {
     "name": "stdout",
     "output_type": "stream",
     "text": [
      "Computing Scores\n",
      "Calculating Weights...\n"
     ]
    },
    {
     "name": "stderr",
     "output_type": "stream",
     "text": [
      " [Elapsed Time: 0:00:14] |##################################| (Time:  0:00:14) \n",
      " [Elapsed Time: 0:00:00] |                                  | (ETA:  --:--:--) "
     ]
    },
    {
     "name": "stdout",
     "output_type": "stream",
     "text": [
      "Computing Scores\n",
      "Calculating Weights...\n"
     ]
    },
    {
     "name": "stderr",
     "output_type": "stream",
     "text": [
      " [Elapsed Time: 0:00:15] |##################################| (Time:  0:00:15) \n",
      " [Elapsed Time: 0:00:00] |                                  | (ETA:  --:--:--) "
     ]
    },
    {
     "name": "stdout",
     "output_type": "stream",
     "text": [
      "Computing Scores\n",
      "Calculating Weights...\n"
     ]
    },
    {
     "name": "stderr",
     "output_type": "stream",
     "text": [
      " [Elapsed Time: 0:00:14] |##################################| (Time:  0:00:14) \n",
      " [Elapsed Time: 0:00:00] |                                  | (ETA:  --:--:--) "
     ]
    },
    {
     "name": "stdout",
     "output_type": "stream",
     "text": [
      "Computing Scores\n",
      "Calculating Weights...\n"
     ]
    },
    {
     "name": "stderr",
     "output_type": "stream",
     "text": [
      " [Elapsed Time: 0:00:14] |##################################| (Time:  0:00:14) \n",
      " [Elapsed Time: 0:00:00] |                                  | (ETA:  --:--:--) "
     ]
    },
    {
     "name": "stdout",
     "output_type": "stream",
     "text": [
      "Computing Scores\n",
      "Calculating Weights...\n"
     ]
    },
    {
     "name": "stderr",
     "output_type": "stream",
     "text": [
      " [Elapsed Time: 0:00:14] |##################################| (Time:  0:00:14) \n",
      " [Elapsed Time: 0:00:00] |                                  | (ETA:  --:--:--) "
     ]
    },
    {
     "name": "stdout",
     "output_type": "stream",
     "text": [
      "Computing Scores\n",
      "Calculating Weights...\n"
     ]
    },
    {
     "name": "stderr",
     "output_type": "stream",
     "text": [
      " [Elapsed Time: 0:00:14] |##################################| (Time:  0:00:14) \n",
      " [Elapsed Time: 0:00:00] |                                  | (ETA:  --:--:--) "
     ]
    },
    {
     "name": "stdout",
     "output_type": "stream",
     "text": [
      "Computing Scores\n",
      "Calculating Weights...\n"
     ]
    },
    {
     "name": "stderr",
     "output_type": "stream",
     "text": [
      " [Elapsed Time: 0:00:14] |##################################| (Time:  0:00:14) \n",
      " [Elapsed Time: 0:00:00] |                                  | (ETA:  --:--:--) "
     ]
    },
    {
     "name": "stdout",
     "output_type": "stream",
     "text": [
      "Computing Scores\n",
      "Calculating Weights...\n"
     ]
    },
    {
     "name": "stderr",
     "output_type": "stream",
     "text": [
      " [Elapsed Time: 0:00:14] |##################################| (Time:  0:00:14) \n",
      " [Elapsed Time: 0:00:00] |                                  | (ETA:  --:--:--) "
     ]
    },
    {
     "name": "stdout",
     "output_type": "stream",
     "text": [
      "Computing Scores\n",
      "Calculating Weights...\n"
     ]
    },
    {
     "name": "stderr",
     "output_type": "stream",
     "text": [
      " [Elapsed Time: 0:00:15] |##################################| (Time:  0:00:15) \n",
      " [Elapsed Time: 0:00:00] |                                  | (ETA:  --:--:--) "
     ]
    },
    {
     "name": "stdout",
     "output_type": "stream",
     "text": [
      "Computing Scores\n",
      "Calculating Weights...\n"
     ]
    },
    {
     "name": "stderr",
     "output_type": "stream",
     "text": [
      " [Elapsed Time: 0:00:14] |##################################| (Time:  0:00:14) \n",
      " [Elapsed Time: 0:00:00] |                                  | (ETA:  --:--:--) "
     ]
    },
    {
     "name": "stdout",
     "output_type": "stream",
     "text": [
      "Computing Scores\n",
      "Calculating Weights...\n"
     ]
    },
    {
     "name": "stderr",
     "output_type": "stream",
     "text": [
      " [Elapsed Time: 0:00:14] |##################################| (Time:  0:00:14) \n",
      " [Elapsed Time: 0:00:00] |                                  | (ETA:  --:--:--) "
     ]
    },
    {
     "name": "stdout",
     "output_type": "stream",
     "text": [
      "Computing Scores\n",
      "Calculating Weights...\n"
     ]
    },
    {
     "name": "stderr",
     "output_type": "stream",
     "text": [
      " [Elapsed Time: 0:00:14] |##################################| (Time:  0:00:14) \n",
      " [Elapsed Time: 0:00:00] |                                  | (ETA:  --:--:--) "
     ]
    },
    {
     "name": "stdout",
     "output_type": "stream",
     "text": [
      "Computing Scores\n",
      "Calculating Weights...\n"
     ]
    },
    {
     "name": "stderr",
     "output_type": "stream",
     "text": [
      " [Elapsed Time: 0:00:14] |##################################| (Time:  0:00:14) \n",
      " [Elapsed Time: 0:00:00] |                                  | (ETA:  --:--:--) "
     ]
    },
    {
     "name": "stdout",
     "output_type": "stream",
     "text": [
      "Computing Scores\n",
      "Calculating Weights...\n"
     ]
    },
    {
     "name": "stderr",
     "output_type": "stream",
     "text": [
      " [Elapsed Time: 0:00:14] |##################################| (Time:  0:00:14) \n",
      " [Elapsed Time: 0:00:00] |                                  | (ETA:  --:--:--) "
     ]
    },
    {
     "name": "stdout",
     "output_type": "stream",
     "text": [
      "Computing Scores\n",
      "Calculating Weights...\n"
     ]
    },
    {
     "name": "stderr",
     "output_type": "stream",
     "text": [
      " [Elapsed Time: 0:00:14] |##################################| (Time:  0:00:14) \n",
      " [Elapsed Time: 0:00:00] |                                  | (ETA:  --:--:--) "
     ]
    },
    {
     "name": "stdout",
     "output_type": "stream",
     "text": [
      "Computing Scores\n",
      "Calculating Weights...\n"
     ]
    },
    {
     "name": "stderr",
     "output_type": "stream",
     "text": [
      " [Elapsed Time: 0:00:14] |##################################| (Time:  0:00:14) \n",
      " [Elapsed Time: 0:00:00] |                                  | (ETA:  --:--:--) "
     ]
    },
    {
     "name": "stdout",
     "output_type": "stream",
     "text": [
      "Computing Scores\n",
      "Calculating Weights...\n"
     ]
    },
    {
     "name": "stderr",
     "output_type": "stream",
     "text": [
      " [Elapsed Time: 0:00:14] |##################################| (Time:  0:00:14) \n",
      " [Elapsed Time: 0:00:00] |                                  | (ETA:  --:--:--) "
     ]
    },
    {
     "name": "stdout",
     "output_type": "stream",
     "text": [
      "Computing Scores\n",
      "Calculating Weights...\n"
     ]
    },
    {
     "name": "stderr",
     "output_type": "stream",
     "text": [
      " [Elapsed Time: 0:00:14] |##################################| (Time:  0:00:14) \n",
      " [Elapsed Time: 0:00:00] |                                  | (ETA:  --:--:--) "
     ]
    },
    {
     "name": "stdout",
     "output_type": "stream",
     "text": [
      "Computing Scores\n",
      "Calculating Weights...\n"
     ]
    },
    {
     "name": "stderr",
     "output_type": "stream",
     "text": [
      " [Elapsed Time: 0:00:14] |##################################| (Time:  0:00:14) \n",
      " [Elapsed Time: 0:00:00] |                                  | (ETA:  --:--:--) "
     ]
    },
    {
     "name": "stdout",
     "output_type": "stream",
     "text": [
      "Computing Scores\n",
      "Calculating Weights...\n"
     ]
    },
    {
     "name": "stderr",
     "output_type": "stream",
     "text": [
      " [Elapsed Time: 0:00:14] |##################################| (Time:  0:00:14) \n",
      " [Elapsed Time: 0:00:00] |                                  | (ETA:  --:--:--) "
     ]
    },
    {
     "name": "stdout",
     "output_type": "stream",
     "text": [
      "Computing Scores\n",
      "Calculating Weights...\n"
     ]
    },
    {
     "name": "stderr",
     "output_type": "stream",
     "text": [
      " [Elapsed Time: 0:00:14] |##################################| (Time:  0:00:14) \n",
      " [Elapsed Time: 0:00:00] |                                  | (ETA:  --:--:--) "
     ]
    },
    {
     "name": "stdout",
     "output_type": "stream",
     "text": [
      "Computing Scores\n",
      "Calculating Weights...\n"
     ]
    },
    {
     "name": "stderr",
     "output_type": "stream",
     "text": [
      " [Elapsed Time: 0:00:14] |##################################| (Time:  0:00:14) \n",
      " [Elapsed Time: 0:00:00] |                                  | (ETA:  --:--:--) "
     ]
    },
    {
     "name": "stdout",
     "output_type": "stream",
     "text": [
      "Computing Scores\n",
      "Calculating Weights...\n"
     ]
    },
    {
     "name": "stderr",
     "output_type": "stream",
     "text": [
      " [Elapsed Time: 0:00:15] |##################################| (Time:  0:00:15) \n",
      " [Elapsed Time: 0:00:00] |                                  | (ETA:  --:--:--) "
     ]
    },
    {
     "name": "stdout",
     "output_type": "stream",
     "text": [
      "Computing Scores\n",
      "Calculating Weights...\n"
     ]
    },
    {
     "name": "stderr",
     "output_type": "stream",
     "text": [
      " [Elapsed Time: 0:00:14] |##################################| (Time:  0:00:14) \n",
      " [Elapsed Time: 0:00:00] |                                  | (ETA:  --:--:--) "
     ]
    },
    {
     "name": "stdout",
     "output_type": "stream",
     "text": [
      "Computing Scores\n",
      "Calculating Weights...\n"
     ]
    },
    {
     "name": "stderr",
     "output_type": "stream",
     "text": [
      " [Elapsed Time: 0:00:15] |##################################| (Time:  0:00:15) \n",
      " [Elapsed Time: 0:00:00] |                                  | (ETA:  --:--:--) "
     ]
    },
    {
     "name": "stdout",
     "output_type": "stream",
     "text": [
      "Computing Scores\n",
      "Calculating Weights...\n"
     ]
    },
    {
     "name": "stderr",
     "output_type": "stream",
     "text": [
      " [Elapsed Time: 0:00:15] |##################################| (Time:  0:00:15) \n",
      " [Elapsed Time: 0:00:00] |                                  | (ETA:  --:--:--) "
     ]
    },
    {
     "name": "stdout",
     "output_type": "stream",
     "text": [
      "Computing Scores\n",
      "Calculating Weights...\n"
     ]
    },
    {
     "name": "stderr",
     "output_type": "stream",
     "text": [
      " [Elapsed Time: 0:00:15] |##################################| (Time:  0:00:15) \n",
      " [Elapsed Time: 0:00:00] |                                  | (ETA:  --:--:--) "
     ]
    },
    {
     "name": "stdout",
     "output_type": "stream",
     "text": [
      "Computing Scores\n",
      "Calculating Weights...\n"
     ]
    },
    {
     "name": "stderr",
     "output_type": "stream",
     "text": [
      " [Elapsed Time: 0:00:15] |##################################| (Time:  0:00:15) \n",
      " [Elapsed Time: 0:00:00] |                                  | (ETA:  --:--:--) "
     ]
    },
    {
     "name": "stdout",
     "output_type": "stream",
     "text": [
      "Computing Scores\n",
      "Calculating Weights...\n"
     ]
    },
    {
     "name": "stderr",
     "output_type": "stream",
     "text": [
      " [Elapsed Time: 0:00:14] |##################################| (Time:  0:00:14) \n",
      " [Elapsed Time: 0:00:00] |                                  | (ETA:  --:--:--) "
     ]
    },
    {
     "name": "stdout",
     "output_type": "stream",
     "text": [
      "Computing Scores\n",
      "Calculating Weights...\n"
     ]
    },
    {
     "name": "stderr",
     "output_type": "stream",
     "text": [
      " [Elapsed Time: 0:00:14] |##################################| (Time:  0:00:14) \n",
      " [Elapsed Time: 0:00:00] |                                  | (ETA:  --:--:--) "
     ]
    },
    {
     "name": "stdout",
     "output_type": "stream",
     "text": [
      "Computing Scores\n",
      "Calculating Weights...\n"
     ]
    },
    {
     "name": "stderr",
     "output_type": "stream",
     "text": [
      " [Elapsed Time: 0:00:14] |##################################| (Time:  0:00:14) \n",
      " [Elapsed Time: 0:00:00] |                                  | (ETA:  --:--:--) "
     ]
    },
    {
     "name": "stdout",
     "output_type": "stream",
     "text": [
      "Computing Scores\n",
      "Calculating Weights...\n"
     ]
    },
    {
     "name": "stderr",
     "output_type": "stream",
     "text": [
      " [Elapsed Time: 0:00:14] |##################################| (Time:  0:00:14) \n",
      " [Elapsed Time: 0:00:00] |                                  | (ETA:  --:--:--) "
     ]
    },
    {
     "name": "stdout",
     "output_type": "stream",
     "text": [
      "Computing Scores\n",
      "Calculating Weights...\n"
     ]
    },
    {
     "name": "stderr",
     "output_type": "stream",
     "text": [
      " [Elapsed Time: 0:00:14] |##################################| (Time:  0:00:14) \n",
      " [Elapsed Time: 0:00:00] |                                  | (ETA:  --:--:--) "
     ]
    },
    {
     "name": "stdout",
     "output_type": "stream",
     "text": [
      "Computing Scores\n",
      "Calculating Weights...\n"
     ]
    },
    {
     "name": "stderr",
     "output_type": "stream",
     "text": [
      " [Elapsed Time: 0:00:14] |##################################| (Time:  0:00:14) \n",
      " [Elapsed Time: 0:00:00] |                                  | (ETA:  --:--:--) "
     ]
    },
    {
     "name": "stdout",
     "output_type": "stream",
     "text": [
      "Computing Scores\n",
      "Calculating Weights...\n"
     ]
    },
    {
     "name": "stderr",
     "output_type": "stream",
     "text": [
      " [Elapsed Time: 0:00:14] |##################################| (Time:  0:00:14) \n",
      " [Elapsed Time: 0:00:00] |                                  | (ETA:  --:--:--) "
     ]
    },
    {
     "name": "stdout",
     "output_type": "stream",
     "text": [
      "Computing Scores\n",
      "Calculating Weights...\n"
     ]
    },
    {
     "name": "stderr",
     "output_type": "stream",
     "text": [
      " [Elapsed Time: 0:00:14] |##################################| (Time:  0:00:14) \n",
      " [Elapsed Time: 0:00:00] |                                  | (ETA:  --:--:--) "
     ]
    },
    {
     "name": "stdout",
     "output_type": "stream",
     "text": [
      "Computing Scores\n",
      "Calculating Weights...\n"
     ]
    },
    {
     "name": "stderr",
     "output_type": "stream",
     "text": [
      " [Elapsed Time: 0:00:14] |##################################| (Time:  0:00:14) \n",
      " [Elapsed Time: 0:00:00] |                                  | (ETA:  --:--:--) "
     ]
    },
    {
     "name": "stdout",
     "output_type": "stream",
     "text": [
      "Computing Scores\n",
      "Calculating Weights...\n"
     ]
    },
    {
     "name": "stderr",
     "output_type": "stream",
     "text": [
      " [Elapsed Time: 0:00:14] |##################################| (Time:  0:00:14) \n",
      " [Elapsed Time: 0:00:00] |                                  | (ETA:  --:--:--) "
     ]
    },
    {
     "name": "stdout",
     "output_type": "stream",
     "text": [
      "Computing Scores\n",
      "Calculating Weights...\n"
     ]
    },
    {
     "name": "stderr",
     "output_type": "stream",
     "text": [
      " [Elapsed Time: 0:00:15] |##################################| (Time:  0:00:15) \n",
      " [Elapsed Time: 0:00:00] |                                  | (ETA:  --:--:--) "
     ]
    },
    {
     "name": "stdout",
     "output_type": "stream",
     "text": [
      "Computing Scores\n",
      "Calculating Weights...\n"
     ]
    },
    {
     "name": "stderr",
     "output_type": "stream",
     "text": [
      " [Elapsed Time: 0:00:15] |##################################| (Time:  0:00:15) \n",
      " [Elapsed Time: 0:00:00] |                                  | (ETA:  --:--:--) "
     ]
    },
    {
     "name": "stdout",
     "output_type": "stream",
     "text": [
      "Computing Scores\n",
      "Calculating Weights...\n"
     ]
    },
    {
     "name": "stderr",
     "output_type": "stream",
     "text": [
      " [Elapsed Time: 0:00:15] |##################################| (Time:  0:00:15) \n",
      " [Elapsed Time: 0:00:00] |                                  | (ETA:  --:--:--) "
     ]
    },
    {
     "name": "stdout",
     "output_type": "stream",
     "text": [
      "Computing Scores\n",
      "Calculating Weights...\n"
     ]
    },
    {
     "name": "stderr",
     "output_type": "stream",
     "text": [
      " [Elapsed Time: 0:00:15] |##################################| (Time:  0:00:15) \n",
      " [Elapsed Time: 0:00:00] |                                  | (ETA:  --:--:--) "
     ]
    },
    {
     "name": "stdout",
     "output_type": "stream",
     "text": [
      "Computing Scores\n",
      "Calculating Weights...\n"
     ]
    },
    {
     "name": "stderr",
     "output_type": "stream",
     "text": [
      " [Elapsed Time: 0:00:14] |##################################| (Time:  0:00:14) \n",
      " [Elapsed Time: 0:00:00] |                                  | (ETA:  --:--:--) "
     ]
    },
    {
     "name": "stdout",
     "output_type": "stream",
     "text": [
      "Computing Scores\n",
      "Calculating Weights...\n"
     ]
    },
    {
     "name": "stderr",
     "output_type": "stream",
     "text": [
      " [Elapsed Time: 0:00:15] |##################################| (Time:  0:00:15) \n",
      " [Elapsed Time: 0:00:00] |                                  | (ETA:  --:--:--) "
     ]
    },
    {
     "name": "stdout",
     "output_type": "stream",
     "text": [
      "Computing Scores\n",
      "Calculating Weights...\n"
     ]
    },
    {
     "name": "stderr",
     "output_type": "stream",
     "text": [
      " [Elapsed Time: 0:00:15] |##################################| (Time:  0:00:15) \n",
      " [Elapsed Time: 0:00:00] |                                  | (ETA:  --:--:--) "
     ]
    },
    {
     "name": "stdout",
     "output_type": "stream",
     "text": [
      "Computing Scores\n",
      "Calculating Weights...\n"
     ]
    },
    {
     "name": "stderr",
     "output_type": "stream",
     "text": [
      " [Elapsed Time: 0:00:15] |##################################| (Time:  0:00:15) \n",
      " [Elapsed Time: 0:00:00] |                                  | (ETA:  --:--:--) "
     ]
    },
    {
     "name": "stdout",
     "output_type": "stream",
     "text": [
      "Computing Scores\n",
      "Calculating Weights...\n"
     ]
    },
    {
     "name": "stderr",
     "output_type": "stream",
     "text": [
      " [Elapsed Time: 0:00:15] |##################################| (Time:  0:00:15) \n",
      " [Elapsed Time: 0:00:00] |                                  | (ETA:  --:--:--) "
     ]
    },
    {
     "name": "stdout",
     "output_type": "stream",
     "text": [
      "Computing Scores\n",
      "Calculating Weights...\n"
     ]
    },
    {
     "name": "stderr",
     "output_type": "stream",
     "text": [
      " [Elapsed Time: 0:00:15] |##################################| (Time:  0:00:15) \n",
      " [Elapsed Time: 0:00:00] |                                  | (ETA:  --:--:--) "
     ]
    },
    {
     "name": "stdout",
     "output_type": "stream",
     "text": [
      "Computing Scores\n",
      "Calculating Weights...\n"
     ]
    },
    {
     "name": "stderr",
     "output_type": "stream",
     "text": [
      " [Elapsed Time: 0:00:14] |##################################| (Time:  0:00:14) \n",
      " [Elapsed Time: 0:00:00] |                                  | (ETA:  --:--:--) "
     ]
    },
    {
     "name": "stdout",
     "output_type": "stream",
     "text": [
      "Computing Scores\n",
      "Calculating Weights...\n"
     ]
    },
    {
     "name": "stderr",
     "output_type": "stream",
     "text": [
      " [Elapsed Time: 0:00:14] |##################################| (Time:  0:00:14) \n",
      " [Elapsed Time: 0:00:00] |                                  | (ETA:  --:--:--) "
     ]
    },
    {
     "name": "stdout",
     "output_type": "stream",
     "text": [
      "Computing Scores\n",
      "Calculating Weights...\n"
     ]
    },
    {
     "name": "stderr",
     "output_type": "stream",
     "text": [
      " [Elapsed Time: 0:00:15] |##################################| (Time:  0:00:15) \n",
      " [Elapsed Time: 0:00:00] |                                  | (ETA:  --:--:--) "
     ]
    },
    {
     "name": "stdout",
     "output_type": "stream",
     "text": [
      "Computing Scores\n",
      "Calculating Weights...\n"
     ]
    },
    {
     "name": "stderr",
     "output_type": "stream",
     "text": [
      " [Elapsed Time: 0:00:14] |##################################| (Time:  0:00:14) \n",
      " [Elapsed Time: 0:00:00] |                                  | (ETA:  --:--:--) "
     ]
    },
    {
     "name": "stdout",
     "output_type": "stream",
     "text": [
      "Computing Scores\n",
      "Calculating Weights...\n"
     ]
    },
    {
     "name": "stderr",
     "output_type": "stream",
     "text": [
      " [Elapsed Time: 0:00:15] |##################################| (Time:  0:00:15) \n",
      " [Elapsed Time: 0:00:00] |                                  | (ETA:  --:--:--) "
     ]
    },
    {
     "name": "stdout",
     "output_type": "stream",
     "text": [
      "Computing Scores\n",
      "Calculating Weights...\n"
     ]
    },
    {
     "name": "stderr",
     "output_type": "stream",
     "text": [
      " [Elapsed Time: 0:00:14] |##################################| (Time:  0:00:14) \n",
      " [Elapsed Time: 0:00:00] |                                  | (ETA:  --:--:--) "
     ]
    },
    {
     "name": "stdout",
     "output_type": "stream",
     "text": [
      "Computing Scores\n",
      "Calculating Weights...\n"
     ]
    },
    {
     "name": "stderr",
     "output_type": "stream",
     "text": [
      " [Elapsed Time: 0:00:14] |##################################| (Time:  0:00:14) \n",
      " [Elapsed Time: 0:00:00] |                                  | (ETA:  --:--:--) "
     ]
    },
    {
     "name": "stdout",
     "output_type": "stream",
     "text": [
      "Computing Scores\n",
      "Calculating Weights...\n"
     ]
    },
    {
     "name": "stderr",
     "output_type": "stream",
     "text": [
      " [Elapsed Time: 0:00:15] |##################################| (Time:  0:00:15) \n",
      " [Elapsed Time: 0:00:00] |                                  | (ETA:  --:--:--) "
     ]
    },
    {
     "name": "stdout",
     "output_type": "stream",
     "text": [
      "Computing Scores\n",
      "Calculating Weights...\n"
     ]
    },
    {
     "name": "stderr",
     "output_type": "stream",
     "text": [
      " [Elapsed Time: 0:00:14] |##################################| (Time:  0:00:14) \n",
      " [Elapsed Time: 0:00:00] |                                  | (ETA:  --:--:--) "
     ]
    },
    {
     "name": "stdout",
     "output_type": "stream",
     "text": [
      "Computing Scores\n",
      "Calculating Weights...\n"
     ]
    },
    {
     "name": "stderr",
     "output_type": "stream",
     "text": [
      " [Elapsed Time: 0:00:14] |##################################| (Time:  0:00:14) \n",
      " [Elapsed Time: 0:00:00] |                                  | (ETA:  --:--:--) "
     ]
    },
    {
     "name": "stdout",
     "output_type": "stream",
     "text": [
      "Computing Scores\n",
      "Calculating Weights...\n"
     ]
    },
    {
     "name": "stderr",
     "output_type": "stream",
     "text": [
      " [Elapsed Time: 0:00:14] |##################################| (Time:  0:00:14) \n",
      " [Elapsed Time: 0:00:00] |                                  | (ETA:  --:--:--) "
     ]
    },
    {
     "name": "stdout",
     "output_type": "stream",
     "text": [
      "Computing Scores\n",
      "Calculating Weights...\n"
     ]
    },
    {
     "name": "stderr",
     "output_type": "stream",
     "text": [
      " [Elapsed Time: 0:00:14] |##################################| (Time:  0:00:14) \n",
      " [Elapsed Time: 0:00:00] |                                  | (ETA:  --:--:--) "
     ]
    },
    {
     "name": "stdout",
     "output_type": "stream",
     "text": [
      "Computing Scores\n",
      "Calculating Weights...\n"
     ]
    },
    {
     "name": "stderr",
     "output_type": "stream",
     "text": [
      " [Elapsed Time: 0:00:15] |##################################| (Time:  0:00:15) \n",
      " [Elapsed Time: 0:00:00] |                                  | (ETA:  --:--:--) "
     ]
    },
    {
     "name": "stdout",
     "output_type": "stream",
     "text": [
      "Computing Scores\n",
      "Calculating Weights...\n"
     ]
    },
    {
     "name": "stderr",
     "output_type": "stream",
     "text": [
      " [Elapsed Time: 0:00:14] |##################################| (Time:  0:00:14) \n",
      " [Elapsed Time: 0:00:00] |                                  | (ETA:  --:--:--) "
     ]
    },
    {
     "name": "stdout",
     "output_type": "stream",
     "text": [
      "Computing Scores\n",
      "Calculating Weights...\n"
     ]
    },
    {
     "name": "stderr",
     "output_type": "stream",
     "text": [
      " [Elapsed Time: 0:00:15] |##################################| (Time:  0:00:15) \n",
      " [Elapsed Time: 0:00:00] |                                  | (ETA:  --:--:--) "
     ]
    },
    {
     "name": "stdout",
     "output_type": "stream",
     "text": [
      "Computing Scores\n",
      "Calculating Weights...\n"
     ]
    },
    {
     "name": "stderr",
     "output_type": "stream",
     "text": [
      " [Elapsed Time: 0:00:14] |##################################| (Time:  0:00:14) \n",
      " [Elapsed Time: 0:00:00] |                                  | (ETA:  --:--:--) "
     ]
    },
    {
     "name": "stdout",
     "output_type": "stream",
     "text": [
      "Computing Scores\n",
      "Calculating Weights...\n"
     ]
    },
    {
     "name": "stderr",
     "output_type": "stream",
     "text": [
      " [Elapsed Time: 0:00:14] |##################################| (Time:  0:00:14) \n",
      " [Elapsed Time: 0:00:00] |                                  | (ETA:  --:--:--) "
     ]
    },
    {
     "name": "stdout",
     "output_type": "stream",
     "text": [
      "Computing Scores\n",
      "Calculating Weights...\n"
     ]
    },
    {
     "name": "stderr",
     "output_type": "stream",
     "text": [
      " [Elapsed Time: 0:00:14] |##################################| (Time:  0:00:14) \n",
      " [Elapsed Time: 0:00:00] |                                  | (ETA:  --:--:--) "
     ]
    },
    {
     "name": "stdout",
     "output_type": "stream",
     "text": [
      "Computing Scores\n",
      "Calculating Weights...\n"
     ]
    },
    {
     "name": "stderr",
     "output_type": "stream",
     "text": [
      " [Elapsed Time: 0:00:14] |##################################| (Time:  0:00:14) \n",
      " [Elapsed Time: 0:00:00] |                                  | (ETA:  --:--:--) "
     ]
    },
    {
     "name": "stdout",
     "output_type": "stream",
     "text": [
      "Computing Scores\n",
      "Calculating Weights...\n"
     ]
    },
    {
     "name": "stderr",
     "output_type": "stream",
     "text": [
      " [Elapsed Time: 0:00:14] |##################################| (Time:  0:00:14) \n",
      " [Elapsed Time: 0:00:00] |                                  | (ETA:  --:--:--) "
     ]
    },
    {
     "name": "stdout",
     "output_type": "stream",
     "text": [
      "Computing Scores\n",
      "Calculating Weights...\n"
     ]
    },
    {
     "name": "stderr",
     "output_type": "stream",
     "text": [
      " [Elapsed Time: 0:00:14] |##################################| (Time:  0:00:14) \n",
      " [Elapsed Time: 0:00:00] |                                  | (ETA:  --:--:--) "
     ]
    },
    {
     "name": "stdout",
     "output_type": "stream",
     "text": [
      "Computing Scores\n",
      "Calculating Weights...\n"
     ]
    },
    {
     "name": "stderr",
     "output_type": "stream",
     "text": [
      " [Elapsed Time: 0:00:15] |##################################| (Time:  0:00:15) \n",
      " [Elapsed Time: 0:00:00] |                                  | (ETA:  --:--:--) "
     ]
    },
    {
     "name": "stdout",
     "output_type": "stream",
     "text": [
      "Computing Scores\n",
      "Calculating Weights...\n"
     ]
    },
    {
     "name": "stderr",
     "output_type": "stream",
     "text": [
      " [Elapsed Time: 0:00:15] |##################################| (Time:  0:00:15) \n",
      " [Elapsed Time: 0:00:00] |                                  | (ETA:  --:--:--) "
     ]
    },
    {
     "name": "stdout",
     "output_type": "stream",
     "text": [
      "Computing Scores\n",
      "Calculating Weights...\n"
     ]
    },
    {
     "name": "stderr",
     "output_type": "stream",
     "text": [
      " [Elapsed Time: 0:00:14] |##################################| (Time:  0:00:14) \n",
      " [Elapsed Time: 0:00:00] |                                  | (ETA:  --:--:--) "
     ]
    },
    {
     "name": "stdout",
     "output_type": "stream",
     "text": [
      "Computing Scores\n",
      "Calculating Weights...\n"
     ]
    },
    {
     "name": "stderr",
     "output_type": "stream",
     "text": [
      " [Elapsed Time: 0:00:14] |##################################| (Time:  0:00:14) \n",
      " [Elapsed Time: 0:00:00] |                                  | (ETA:  --:--:--) "
     ]
    },
    {
     "name": "stdout",
     "output_type": "stream",
     "text": [
      "Computing Scores\n",
      "Calculating Weights...\n"
     ]
    },
    {
     "name": "stderr",
     "output_type": "stream",
     "text": [
      " [Elapsed Time: 0:00:14] |##################################| (Time:  0:00:14) \n",
      " [Elapsed Time: 0:00:00] |                                  | (ETA:  --:--:--) "
     ]
    },
    {
     "name": "stdout",
     "output_type": "stream",
     "text": [
      "Computing Scores\n",
      "Calculating Weights...\n"
     ]
    },
    {
     "name": "stderr",
     "output_type": "stream",
     "text": [
      " [Elapsed Time: 0:00:14] |##################################| (Time:  0:00:14) \n",
      " [Elapsed Time: 0:00:00] |                                  | (ETA:  --:--:--) "
     ]
    },
    {
     "name": "stdout",
     "output_type": "stream",
     "text": [
      "Computing Scores\n",
      "Calculating Weights...\n"
     ]
    },
    {
     "name": "stderr",
     "output_type": "stream",
     "text": [
      " [Elapsed Time: 0:00:14] |##################################| (Time:  0:00:14) \n",
      " [Elapsed Time: 0:00:00] |                                  | (ETA:  --:--:--) "
     ]
    },
    {
     "name": "stdout",
     "output_type": "stream",
     "text": [
      "Computing Scores\n",
      "Calculating Weights...\n"
     ]
    },
    {
     "name": "stderr",
     "output_type": "stream",
     "text": [
      " [Elapsed Time: 0:00:15] |##################################| (Time:  0:00:15) \n",
      " [Elapsed Time: 0:00:00] |                                  | (ETA:  --:--:--) "
     ]
    },
    {
     "name": "stdout",
     "output_type": "stream",
     "text": [
      "Computing Scores\n",
      "Calculating Weights...\n"
     ]
    },
    {
     "name": "stderr",
     "output_type": "stream",
     "text": [
      " [Elapsed Time: 0:00:14] |##################################| (Time:  0:00:14) \n",
      " [Elapsed Time: 0:00:00] |                                  | (ETA:  --:--:--) "
     ]
    },
    {
     "name": "stdout",
     "output_type": "stream",
     "text": [
      "Computing Scores\n",
      "Calculating Weights...\n"
     ]
    },
    {
     "name": "stderr",
     "output_type": "stream",
     "text": [
      " [Elapsed Time: 0:00:14] |##################################| (Time:  0:00:14) \n",
      " [Elapsed Time: 0:00:00] |                                  | (ETA:  --:--:--) "
     ]
    },
    {
     "name": "stdout",
     "output_type": "stream",
     "text": [
      "Computing Scores\n",
      "Calculating Weights...\n"
     ]
    },
    {
     "name": "stderr",
     "output_type": "stream",
     "text": [
      " [Elapsed Time: 0:00:15] |##################################| (Time:  0:00:15) \n",
      " [Elapsed Time: 0:00:00] |                                  | (ETA:  --:--:--) "
     ]
    },
    {
     "name": "stdout",
     "output_type": "stream",
     "text": [
      "Computing Scores\n",
      "Calculating Weights...\n"
     ]
    },
    {
     "name": "stderr",
     "output_type": "stream",
     "text": [
      " [Elapsed Time: 0:00:15] |##################################| (Time:  0:00:15) \n",
      " [Elapsed Time: 0:00:00] |                                  | (ETA:  --:--:--) "
     ]
    },
    {
     "name": "stdout",
     "output_type": "stream",
     "text": [
      "Computing Scores\n",
      "Calculating Weights...\n"
     ]
    },
    {
     "name": "stderr",
     "output_type": "stream",
     "text": [
      " [Elapsed Time: 0:00:14] |##################################| (Time:  0:00:14) \n",
      " [Elapsed Time: 0:00:00] |                                  | (ETA:  --:--:--) "
     ]
    },
    {
     "name": "stdout",
     "output_type": "stream",
     "text": [
      "Computing Scores\n",
      "Calculating Weights...\n"
     ]
    },
    {
     "name": "stderr",
     "output_type": "stream",
     "text": [
      " [Elapsed Time: 0:00:14] |##################################| (Time:  0:00:14) \n",
      " [Elapsed Time: 0:00:00] |                                  | (ETA:  --:--:--) "
     ]
    },
    {
     "name": "stdout",
     "output_type": "stream",
     "text": [
      "Computing Scores\n",
      "Calculating Weights...\n"
     ]
    },
    {
     "name": "stderr",
     "output_type": "stream",
     "text": [
      " [Elapsed Time: 0:00:14] |##################################| (Time:  0:00:14) \n",
      " [Elapsed Time: 0:00:00] |                                  | (ETA:  --:--:--) "
     ]
    },
    {
     "name": "stdout",
     "output_type": "stream",
     "text": [
      "Computing Scores\n",
      "Calculating Weights...\n"
     ]
    },
    {
     "name": "stderr",
     "output_type": "stream",
     "text": [
      " [Elapsed Time: 0:00:14] |##################################| (Time:  0:00:14) \n",
      " [Elapsed Time: 0:00:00] |                                  | (ETA:  --:--:--) "
     ]
    },
    {
     "name": "stdout",
     "output_type": "stream",
     "text": [
      "Computing Scores\n",
      "Calculating Weights...\n"
     ]
    },
    {
     "name": "stderr",
     "output_type": "stream",
     "text": [
      " [Elapsed Time: 0:00:14] |##################################| (Time:  0:00:14) \n",
      " [Elapsed Time: 0:00:00] |                                  | (ETA:  --:--:--) "
     ]
    },
    {
     "name": "stdout",
     "output_type": "stream",
     "text": [
      "Computing Scores\n",
      "Calculating Weights...\n"
     ]
    },
    {
     "name": "stderr",
     "output_type": "stream",
     "text": [
      " [Elapsed Time: 0:00:14] |##################################| (Time:  0:00:14) \n",
      " [Elapsed Time: 0:00:00] |                                  | (ETA:  --:--:--) "
     ]
    },
    {
     "name": "stdout",
     "output_type": "stream",
     "text": [
      "Computing Scores\n",
      "Calculating Weights...\n"
     ]
    },
    {
     "name": "stderr",
     "output_type": "stream",
     "text": [
      " [Elapsed Time: 0:00:15] |##################################| (Time:  0:00:15) \n",
      " [Elapsed Time: 0:00:00] |                                  | (ETA:  --:--:--) "
     ]
    },
    {
     "name": "stdout",
     "output_type": "stream",
     "text": [
      "Computing Scores\n",
      "Calculating Weights...\n"
     ]
    },
    {
     "name": "stderr",
     "output_type": "stream",
     "text": [
      " [Elapsed Time: 0:00:15] |##################################| (Time:  0:00:15) \n",
      " [Elapsed Time: 0:00:00] |                                  | (ETA:  --:--:--) "
     ]
    },
    {
     "name": "stdout",
     "output_type": "stream",
     "text": [
      "Computing Scores\n",
      "Calculating Weights...\n"
     ]
    },
    {
     "name": "stderr",
     "output_type": "stream",
     "text": [
      " [Elapsed Time: 0:00:15] |##################################| (Time:  0:00:15) \n",
      " [Elapsed Time: 0:00:00] |                                  | (ETA:  --:--:--) "
     ]
    },
    {
     "name": "stdout",
     "output_type": "stream",
     "text": [
      "Computing Scores\n",
      "Calculating Weights...\n"
     ]
    },
    {
     "name": "stderr",
     "output_type": "stream",
     "text": [
      " [Elapsed Time: 0:00:15] |##################################| (Time:  0:00:15) \n",
      " [Elapsed Time: 0:00:00] |                                  | (ETA:  --:--:--) "
     ]
    },
    {
     "name": "stdout",
     "output_type": "stream",
     "text": [
      "Computing Scores\n",
      "Calculating Weights...\n"
     ]
    },
    {
     "name": "stderr",
     "output_type": "stream",
     "text": [
      " [Elapsed Time: 0:00:15] |##################################| (Time:  0:00:15) \n",
      " [Elapsed Time: 0:00:00] |                                  | (ETA:  --:--:--) "
     ]
    },
    {
     "name": "stdout",
     "output_type": "stream",
     "text": [
      "Computing Scores\n",
      "Calculating Weights...\n"
     ]
    },
    {
     "name": "stderr",
     "output_type": "stream",
     "text": [
      " [Elapsed Time: 0:00:14] |##################################| (Time:  0:00:14) \n",
      " [Elapsed Time: 0:00:00] |                                  | (ETA:  --:--:--) "
     ]
    },
    {
     "name": "stdout",
     "output_type": "stream",
     "text": [
      "Computing Scores\n",
      "Calculating Weights...\n"
     ]
    },
    {
     "name": "stderr",
     "output_type": "stream",
     "text": [
      " [Elapsed Time: 0:00:14] |##################################| (Time:  0:00:14) \n",
      " [Elapsed Time: 0:00:00] |                                  | (ETA:  --:--:--) "
     ]
    },
    {
     "name": "stdout",
     "output_type": "stream",
     "text": [
      "Computing Scores\n",
      "Calculating Weights...\n"
     ]
    },
    {
     "name": "stderr",
     "output_type": "stream",
     "text": [
      " [Elapsed Time: 0:00:15] |##################################| (Time:  0:00:15) \n"
     ]
    },
    {
     "data": {
      "text/plain": [
       "0"
      ]
     },
     "execution_count": 68,
     "metadata": {},
     "output_type": "execute_result"
    }
   ],
   "source": [
    "bootstrapNB = 100\n",
    "seqnb = len(hemiSeqs)\n",
    "\n",
    "if not os.path.isdir('./tmp'):\n",
    "    os.mkdir('./tmp')\n",
    "\n",
    "for i in range(bootstrapNB):\n",
    "    selectedSeq = np.random.choice(range(len(holoSeqs)), seqnb)\n",
    "    tmpAlign = [holoSeqs[k] for k in selectedSeq]\n",
    "    SeqIO.write(tmpAlign, './tmp/align_{}.fasta'.format(i), 'fasta')\n",
    "\n",
    "results = {'elec': [], 'valdar': []}\n",
    "\n",
    "for i in range(bootstrapNB):\n",
    "    path = './tmp/align_{}.fasta'.format(i)\n",
    "    scores = besse_blondel_conservation_scores.Scores(path)\n",
    "    a = scores.get_Score(['valdar', 'elec'])\n",
    "    results['elec'].append(a['elec'])\n",
    "    results['valdar'].append(a['valdar'])\n",
    "df = pd.DataFrame(results['elec'])\n",
    "bootstrap_elec_mean = df.mean(axis=0).values\n",
    "df.to_csv('../Data/03_Oskar_scores_generation/CSV/elec.csv',index=False)\n",
    "df = pd.DataFrame(results['valdar'])\n",
    "bootstrap_valdar_mean = df.mean(axis=0).values\n",
    "df.to_csv('../Data/03_Oskar_scores_generation/CSV/valdar.csv',index=False)\n",
    "os.system('rm -rf ./tmp')"
   ]
  },
  {
   "cell_type": "code",
   "execution_count": 69,
   "metadata": {},
   "outputs": [
    {
     "data": {
      "text/plain": [
       "<<class 'Bio.Align.MultipleSeqAlignment'> instance (32 records of length 2477, SingleLetterAlphabet()) at 7f599ae93e10>"
      ]
     },
     "execution_count": 69,
     "metadata": {},
     "output_type": "execute_result"
    }
   ],
   "source": [
    "scores = besse_blondel_conservation_scores.Scores(hemiAlignPath)\n",
    "scores.alignment"
   ]
  },
  {
   "cell_type": "code",
   "execution_count": 70,
   "metadata": {},
   "outputs": [],
   "source": [
    "conservation_score = pd.DataFrame()\n",
    "conservation_score['hemi_elec'] = hemi_conservation['elec']\n",
    "conservation_score['hemi_valdar'] = hemi_conservation['valdar']\n",
    "conservation_score['holo_elec'] = bootstrap_elec_mean\n",
    "conservation_score['holo_valdar'] = bootstrap_valdar_mean"
   ]
  },
  {
   "cell_type": "code",
   "execution_count": 71,
   "metadata": {},
   "outputs": [],
   "source": [
    "conservation_score.to_csv('../Data/03_Oskar_scores_generation/CSV/holo_hemi_conservation.csv', index=False)"
   ]
  },
  {
   "cell_type": "markdown",
   "metadata": {},
   "source": [
    "# Calcualtion of the ratio between hemi and holometabola"
   ]
  },
  {
   "cell_type": "code",
   "execution_count": 72,
   "metadata": {},
   "outputs": [],
   "source": [
    "conservation_score = pd.read_csv('../Data/03_Oskar_scores_generation/CSV/holo_hemi_conservation.csv')"
   ]
  },
  {
   "cell_type": "code",
   "execution_count": 73,
   "metadata": {},
   "outputs": [],
   "source": [
    "LOTUS_domain = [mapping[mapping['domain'] == \"LOTUSVASA\"]['alignment'].min(), mapping[mapping['domain'] == \"LOTUSVASA\"]['alignment'].max()]\n",
    "OSK_domain = [mapping[mapping['domain'] == \"OSK\"]['alignment'].min(), mapping[mapping['domain'] == \"OSK\"]['alignment'].max()]"
   ]
  },
  {
   "cell_type": "code",
   "execution_count": 74,
   "metadata": {},
   "outputs": [],
   "source": [
    "conservation_score = conservation_score.merge(mapping[['domain', 'alignment']], how=\"left\", left_index=True, right_on=\"alignment\").reset_index(drop=True)"
   ]
  },
  {
   "cell_type": "code",
   "execution_count": 75,
   "metadata": {},
   "outputs": [],
   "source": [
    "conservation_score['ratio'] = conservation_score['holo_valdar']/conservation_score['hemi_valdar']"
   ]
  },
  {
   "cell_type": "code",
   "execution_count": 76,
   "metadata": {},
   "outputs": [],
   "source": [
    "conservation_score['ratio'] = conservation_score['ratio'].replace([np.inf, -np.inf], np.nan).fillna(1)"
   ]
  },
  {
   "cell_type": "code",
   "execution_count": 77,
   "metadata": {},
   "outputs": [
    {
     "name": "stderr",
     "output_type": "stream",
     "text": [
      "/home/lblondel/anaconda3/envs/datascience/lib/python3.5/site-packages/ipykernel_launcher.py:1: RuntimeWarning: divide by zero encountered in log\n",
      "  \"\"\"Entry point for launching an IPython kernel.\n"
     ]
    }
   ],
   "source": [
    "conservation_score['ratio_log'] = np.log(conservation_score['holo_valdar'])/np.log(conservation_score['hemi_valdar'])"
   ]
  },
  {
   "cell_type": "code",
   "execution_count": 78,
   "metadata": {},
   "outputs": [],
   "source": [
    "conservation_score['ratio_log'] = conservation_score['ratio_log'].replace([np.inf, -np.inf], np.nan).fillna(0)"
   ]
  },
  {
   "cell_type": "code",
   "execution_count": 79,
   "metadata": {},
   "outputs": [
    {
     "name": "stderr",
     "output_type": "stream",
     "text": [
      "/home/lblondel/anaconda3/envs/datascience/lib/python3.5/site-packages/ipykernel_launcher.py:1: RuntimeWarning: divide by zero encountered in log\n",
      "  \"\"\"Entry point for launching an IPython kernel.\n"
     ]
    }
   ],
   "source": [
    "conservation_score['log_ratio'] = np.log(conservation_score['ratio'].values)"
   ]
  },
  {
   "cell_type": "code",
   "execution_count": 80,
   "metadata": {},
   "outputs": [],
   "source": [
    "conservation_score['log_ratio'] = conservation_score['log_ratio'].replace([np.inf, -np.inf], np.nan).fillna(0)"
   ]
  },
  {
   "cell_type": "code",
   "execution_count": 81,
   "metadata": {},
   "outputs": [],
   "source": [
    "conservation_score.to_csv('../Data/03_Oskar_scores_generation/CSV/holo_hemi_conservation.csv', index=False)"
   ]
  },
  {
   "cell_type": "markdown",
   "metadata": {},
   "source": [
    "# Observation accorss the domains"
   ]
  },
  {
   "cell_type": "code",
   "execution_count": 118,
   "metadata": {},
   "outputs": [],
   "source": [
    "conservation_score = pd.read_csv('../Data/03_Oskar_scores_generation/CSV/holo_hemi_conservation.csv')"
   ]
  },
  {
   "cell_type": "code",
   "execution_count": null,
   "metadata": {},
   "outputs": [],
   "source": []
  },
  {
   "cell_type": "code",
   "execution_count": 83,
   "metadata": {},
   "outputs": [
    {
     "data": {
      "text/plain": [
       "Text(0, 0.5, 'Hemi <-- Conservation Bias --> Holo')"
      ]
     },
     "execution_count": 83,
     "metadata": {},
     "output_type": "execute_result"
    },
    {
     "data": {
      "image/png": "[encoded data removed]",
      "text/plain": [
       "<Figure size 432x288 with 1 Axes>"
      ]
     },
     "metadata": {
      "needs_background": "light"
     },
     "output_type": "display_data"
    }
   ],
   "source": [
    "X = conservation_score[conservation_score['domain'] == \"LOTUSVASA\"].index.values\n",
    "Y = conservation_score[conservation_score['domain'] == \"LOTUSVASA\"]['log_ratio'].values\n",
    "\n",
    "fig = plt.figure()\n",
    "plt.plot(X, Y, '.')\n",
    "plt.title('LOTUS Domain Holometabola vs Hemimetabola')\n",
    "plt.ylabel('Hemi <-- Conservation Bias --> Holo')"
   ]
  },
  {
   "cell_type": "code",
   "execution_count": 84,
   "metadata": {},
   "outputs": [
    {
     "data": {
      "text/plain": [
       "Text(0, 0.5, 'Hemi <-- Conservation Bias --> Holo')"
      ]
     },
     "execution_count": 84,
     "metadata": {},
     "output_type": "execute_result"
    },
    {
     "data": {
      "image/png": "[encoded data removed]",
      "text/plain": [
       "<Figure size 432x288 with 1 Axes>"
      ]
     },
     "metadata": {
      "needs_background": "light"
     },
     "output_type": "display_data"
    }
   ],
   "source": [
    "X = conservation_score[conservation_score['domain'] == \"LOTUSVASA\"].index.values\n",
    "Y = conservation_score[conservation_score['domain'] == \"LOTUSVASA\"]['ratio_log'].values\n",
    "\n",
    "fig = plt.figure()\n",
    "plt.plot(X, Y, '.')\n",
    "plt.title('LOTUS Domain Holometabola vs Hemimetabola')\n",
    "plt.ylabel('Hemi <-- Conservation Bias --> Holo')"
   ]
  },
  {
   "cell_type": "code",
   "execution_count": 85,
   "metadata": {},
   "outputs": [
    {
     "data": {
      "text/plain": [
       "Text(0, 0.5, 'Hemi <-- Conservation Bias --> Holo')"
      ]
     },
     "execution_count": 85,
     "metadata": {},
     "output_type": "execute_result"
    },
    {
     "data": {
      "image/png": "[encoded data removed]",
      "text/plain": [
       "<Figure size 432x288 with 1 Axes>"
      ]
     },
     "metadata": {
      "needs_background": "light"
     },
     "output_type": "display_data"
    }
   ],
   "source": [
    "X = conservation_score[conservation_score['domain'] == \"OSK\"].index.values\n",
    "Y = conservation_score[conservation_score['domain'] == \"OSK\"]['log_ratio'].values\n",
    "\n",
    "fig = plt.figure()\n",
    "plt.plot(X, Y, '.')\n",
    "plt.title('OSK Domain Holometabola vs Hemimetabola')\n",
    "plt.ylabel('Hemi <-- Conservation Bias --> Holo')"
   ]
  },
  {
   "cell_type": "code",
   "execution_count": 86,
   "metadata": {},
   "outputs": [
    {
     "data": {
      "text/plain": [
       "Text(0, 0.5, 'Hemi <-- Conservation Bias --> Holo')"
      ]
     },
     "execution_count": 86,
     "metadata": {},
     "output_type": "execute_result"
    },
    {
     "data": {
      "image/png": "[encoded data removed]",
      "text/plain": [
       "<Figure size 432x288 with 1 Axes>"
      ]
     },
     "metadata": {
      "needs_background": "light"
     },
     "output_type": "display_data"
    }
   ],
   "source": [
    "X = conservation_score[conservation_score['domain'] == \"OSK\"].index.values\n",
    "Y = conservation_score[conservation_score['domain'] == \"OSK\"]['ratio_log'].values\n",
    "\n",
    "fig = plt.figure()\n",
    "plt.plot(X, Y, '.')\n",
    "plt.title('OSK Domain Holometabola vs Hemimetabola')\n",
    "plt.ylabel('Hemi <-- Conservation Bias --> Holo')"
   ]
  },
  {
   "cell_type": "markdown",
   "metadata": {},
   "source": [
    "# Comparison of domains LOTUS VS OSK"
   ]
  },
  {
   "cell_type": "code",
   "execution_count": 87,
   "metadata": {},
   "outputs": [],
   "source": [
    "import scipy.stats as stats"
   ]
  },
  {
   "cell_type": "code",
   "execution_count": 88,
   "metadata": {},
   "outputs": [
    {
     "data": {
      "image/png": "[encoded data removed]",
      "text/plain": [
       "<Figure size 216x360 with 1 Axes>"
      ]
     },
     "metadata": {
      "needs_background": "light"
     },
     "output_type": "display_data"
    }
   ],
   "source": [
    "fig = plt.figure(figsize=(3,5))\n",
    "sns.boxplot(data=conservation_score[conservation_score['domain'].isin(['LOTUSVASA', 'OSK'])], x='domain' , y='ratio_log', fliersize=0)\n",
    "plt.ylim(0,2)\n",
    "plt.ylabel('Hemi <-- Conservation Bias --> Holo')\n",
    "plt.title(\"Bias in conservation of the two domains\\nbetween holo and hemi metabola\")\n",
    "fig.savefig('../Figures/RAW/Fig4_boxplot.svg')"
   ]
  },
  {
   "cell_type": "code",
   "execution_count": 89,
   "metadata": {},
   "outputs": [],
   "source": [
    "osk = conservation_score[(conservation_score['domain'] == 'OSK')]['ratio_log']\n",
    "lotus = conservation_score[(conservation_score['domain'] == 'LOTUSVASA')]['ratio_log']"
   ]
  },
  {
   "cell_type": "code",
   "execution_count": 90,
   "metadata": {},
   "outputs": [
    {
     "data": {
      "text/plain": [
       "MannwhitneyuResult(statistic=6887.5, pvalue=5.4805415553452144e-05)"
      ]
     },
     "execution_count": 90,
     "metadata": {},
     "output_type": "execute_result"
    }
   ],
   "source": [
    "stats.mannwhitneyu(osk, lotus)"
   ]
  },
  {
   "cell_type": "markdown",
   "metadata": {},
   "source": [
    "## Computing numbers"
   ]
  },
  {
   "cell_type": "code",
   "execution_count": 93,
   "metadata": {},
   "outputs": [],
   "source": [
    "mapping = pd.read_csv(\"../Data/03_Oskar_scores_generation/CSV/mapping.csv\")"
   ]
  },
  {
   "cell_type": "code",
   "execution_count": 119,
   "metadata": {},
   "outputs": [],
   "source": [
    "conservation_score = conservation_score.merge(mapping[['structure', 'alignment', 'secondary']], how=\"left\", on=\"alignment\")"
   ]
  },
  {
   "cell_type": "code",
   "execution_count": 120,
   "metadata": {},
   "outputs": [
    {
     "data": {
      "text/plain": [
       "1.0544579869571844"
      ]
     },
     "execution_count": 120,
     "metadata": {},
     "output_type": "execute_result"
    }
   ],
   "source": [
    "conservation_score[(conservation_score['secondary'] == 'Beta1') & (conservation_score['domain'] == 'LOTUSVASA')][\"ratio_log\"].mean()"
   ]
  },
  {
   "cell_type": "code",
   "execution_count": 121,
   "metadata": {},
   "outputs": [
    {
     "data": {
      "text/plain": [
       "1.0354428642331883"
      ]
     },
     "execution_count": 121,
     "metadata": {},
     "output_type": "execute_result"
    }
   ],
   "source": [
    "conservation_score[(conservation_score['secondary'] == 'Beta2') & (conservation_score['domain'] == 'LOTUSVASA')][\"ratio_log\"].mean()"
   ]
  },
  {
   "cell_type": "code",
   "execution_count": 122,
   "metadata": {},
   "outputs": [
    {
     "data": {
      "text/html": [
       "<div>\n",
       "<style>\n",
       "    .dataframe thead tr:only-child th {\n",
       "        text-align: right;\n",
       "    }\n",
       "\n",
       "    .dataframe thead th {\n",
       "        text-align: left;\n",
       "    }\n",
       "\n",
       "    .dataframe tbody tr th {\n",
       "        vertical-align: top;\n",
       "    }\n",
       "</style>\n",
       "<table border=\"1\" class=\"dataframe\">\n",
       "  <thead>\n",
       "    <tr style=\"text-align: right;\">\n",
       "      <th></th>\n",
       "      <th>hemi_elec</th>\n",
       "      <th>hemi_valdar</th>\n",
       "      <th>holo_elec</th>\n",
       "      <th>holo_valdar</th>\n",
       "      <th>domain</th>\n",
       "      <th>alignment</th>\n",
       "      <th>ratio</th>\n",
       "      <th>ratio_log</th>\n",
       "      <th>log_ratio</th>\n",
       "      <th>structure</th>\n",
       "      <th>secondary</th>\n",
       "    </tr>\n",
       "  </thead>\n",
       "  <tbody>\n",
       "    <tr>\n",
       "      <th>571</th>\n",
       "      <td>0.000000</td>\n",
       "      <td>0.737690</td>\n",
       "      <td>0.000000</td>\n",
       "      <td>0.684482</td>\n",
       "      <td>LOTUSVASA</td>\n",
       "      <td>571</td>\n",
       "      <td>0.927872</td>\n",
       "      <td>1.246067</td>\n",
       "      <td>-0.074861</td>\n",
       "      <td>205.0</td>\n",
       "      <td>Beta1</td>\n",
       "    </tr>\n",
       "    <tr>\n",
       "      <th>572</th>\n",
       "      <td>0.343750</td>\n",
       "      <td>0.362632</td>\n",
       "      <td>0.108906</td>\n",
       "      <td>0.358068</td>\n",
       "      <td>LOTUSVASA</td>\n",
       "      <td>572</td>\n",
       "      <td>0.987414</td>\n",
       "      <td>1.012487</td>\n",
       "      <td>-0.012666</td>\n",
       "      <td>206.0</td>\n",
       "      <td>Beta1</td>\n",
       "    </tr>\n",
       "    <tr>\n",
       "      <th>573</th>\n",
       "      <td>0.062500</td>\n",
       "      <td>0.483519</td>\n",
       "      <td>0.041406</td>\n",
       "      <td>0.416865</td>\n",
       "      <td>LOTUSVASA</td>\n",
       "      <td>573</td>\n",
       "      <td>0.862150</td>\n",
       "      <td>1.204119</td>\n",
       "      <td>-0.148326</td>\n",
       "      <td>207.0</td>\n",
       "      <td>Beta1</td>\n",
       "    </tr>\n",
       "    <tr>\n",
       "      <th>574</th>\n",
       "      <td>0.109375</td>\n",
       "      <td>0.281470</td>\n",
       "      <td>-0.161875</td>\n",
       "      <td>0.350848</td>\n",
       "      <td>LOTUSVASA</td>\n",
       "      <td>574</td>\n",
       "      <td>1.246482</td>\n",
       "      <td>0.826205</td>\n",
       "      <td>0.220325</td>\n",
       "      <td>208.0</td>\n",
       "      <td>Beta1</td>\n",
       "    </tr>\n",
       "    <tr>\n",
       "      <th>576</th>\n",
       "      <td>0.515625</td>\n",
       "      <td>0.362492</td>\n",
       "      <td>0.340000</td>\n",
       "      <td>0.368645</td>\n",
       "      <td>LOTUSVASA</td>\n",
       "      <td>576</td>\n",
       "      <td>1.016975</td>\n",
       "      <td>0.983413</td>\n",
       "      <td>0.016832</td>\n",
       "      <td>209.0</td>\n",
       "      <td>Beta1</td>\n",
       "    </tr>\n",
       "  </tbody>\n",
       "</table>\n",
       "</div>"
      ],
      "text/plain": [
       "     hemi_elec  hemi_valdar  holo_elec  holo_valdar     domain  alignment  \\\n",
       "571   0.000000     0.737690   0.000000     0.684482  LOTUSVASA        571   \n",
       "572   0.343750     0.362632   0.108906     0.358068  LOTUSVASA        572   \n",
       "573   0.062500     0.483519   0.041406     0.416865  LOTUSVASA        573   \n",
       "574   0.109375     0.281470  -0.161875     0.350848  LOTUSVASA        574   \n",
       "576   0.515625     0.362492   0.340000     0.368645  LOTUSVASA        576   \n",
       "\n",
       "        ratio  ratio_log  log_ratio  structure secondary  \n",
       "571  0.927872   1.246067  -0.074861      205.0     Beta1  \n",
       "572  0.987414   1.012487  -0.012666      206.0     Beta1  \n",
       "573  0.862150   1.204119  -0.148326      207.0     Beta1  \n",
       "574  1.246482   0.826205   0.220325      208.0     Beta1  \n",
       "576  1.016975   0.983413   0.016832      209.0     Beta1  "
      ]
     },
     "execution_count": 122,
     "metadata": {},
     "output_type": "execute_result"
    }
   ],
   "source": [
    "conservation_score[(conservation_score['secondary'] == 'Beta1') & (conservation_score['domain'] == 'LOTUSVASA')]"
   ]
  },
  {
   "cell_type": "code",
   "execution_count": 111,
   "metadata": {},
   "outputs": [
    {
     "data": {
      "text/html": [
       "<div>\n",
       "<style>\n",
       "    .dataframe thead tr:only-child th {\n",
       "        text-align: right;\n",
       "    }\n",
       "\n",
       "    .dataframe thead th {\n",
       "        text-align: left;\n",
       "    }\n",
       "\n",
       "    .dataframe tbody tr th {\n",
       "        vertical-align: top;\n",
       "    }\n",
       "</style>\n",
       "<table border=\"1\" class=\"dataframe\">\n",
       "  <thead>\n",
       "    <tr style=\"text-align: right;\">\n",
       "      <th></th>\n",
       "      <th>hemi_elec</th>\n",
       "      <th>hemi_valdar</th>\n",
       "      <th>holo_elec</th>\n",
       "      <th>holo_valdar</th>\n",
       "      <th>domain</th>\n",
       "      <th>alignment</th>\n",
       "      <th>ratio</th>\n",
       "      <th>ratio_log</th>\n",
       "      <th>log_ratio</th>\n",
       "      <th>secondary</th>\n",
       "    </tr>\n",
       "  </thead>\n",
       "  <tbody>\n",
       "    <tr>\n",
       "      <th>583</th>\n",
       "      <td>-0.156250</td>\n",
       "      <td>0.412513</td>\n",
       "      <td>0.243438</td>\n",
       "      <td>0.376457</td>\n",
       "      <td>LOTUSVASA</td>\n",
       "      <td>583</td>\n",
       "      <td>0.912593</td>\n",
       "      <td>1.103293</td>\n",
       "      <td>-0.091465</td>\n",
       "      <td>Beta2</td>\n",
       "    </tr>\n",
       "    <tr>\n",
       "      <th>584</th>\n",
       "      <td>0.000000</td>\n",
       "      <td>0.622448</td>\n",
       "      <td>0.027031</td>\n",
       "      <td>0.588268</td>\n",
       "      <td>LOTUSVASA</td>\n",
       "      <td>584</td>\n",
       "      <td>0.945088</td>\n",
       "      <td>1.119127</td>\n",
       "      <td>-0.056478</td>\n",
       "      <td>Beta2</td>\n",
       "    </tr>\n",
       "    <tr>\n",
       "      <th>585</th>\n",
       "      <td>0.000000</td>\n",
       "      <td>0.568799</td>\n",
       "      <td>0.000625</td>\n",
       "      <td>0.559221</td>\n",
       "      <td>LOTUSVASA</td>\n",
       "      <td>585</td>\n",
       "      <td>0.983161</td>\n",
       "      <td>1.030098</td>\n",
       "      <td>-0.016982</td>\n",
       "      <td>Beta2</td>\n",
       "    </tr>\n",
       "    <tr>\n",
       "      <th>586</th>\n",
       "      <td>0.109375</td>\n",
       "      <td>0.377478</td>\n",
       "      <td>0.158438</td>\n",
       "      <td>0.378367</td>\n",
       "      <td>LOTUSVASA</td>\n",
       "      <td>586</td>\n",
       "      <td>1.002354</td>\n",
       "      <td>0.997587</td>\n",
       "      <td>0.002351</td>\n",
       "      <td>Beta2</td>\n",
       "    </tr>\n",
       "    <tr>\n",
       "      <th>587</th>\n",
       "      <td>0.031250</td>\n",
       "      <td>0.489090</td>\n",
       "      <td>-0.030312</td>\n",
       "      <td>0.515264</td>\n",
       "      <td>LOTUSVASA</td>\n",
       "      <td>587</td>\n",
       "      <td>1.053515</td>\n",
       "      <td>0.927109</td>\n",
       "      <td>0.052132</td>\n",
       "      <td>Beta2</td>\n",
       "    </tr>\n",
       "  </tbody>\n",
       "</table>\n",
       "</div>"
      ],
      "text/plain": [
       "     hemi_elec  hemi_valdar  holo_elec  holo_valdar     domain  alignment  \\\n",
       "583  -0.156250     0.412513   0.243438     0.376457  LOTUSVASA        583   \n",
       "584   0.000000     0.622448   0.027031     0.588268  LOTUSVASA        584   \n",
       "585   0.000000     0.568799   0.000625     0.559221  LOTUSVASA        585   \n",
       "586   0.109375     0.377478   0.158438     0.378367  LOTUSVASA        586   \n",
       "587   0.031250     0.489090  -0.030312     0.515264  LOTUSVASA        587   \n",
       "\n",
       "        ratio  ratio_log  log_ratio secondary  \n",
       "583  0.912593   1.103293  -0.091465     Beta2  \n",
       "584  0.945088   1.119127  -0.056478     Beta2  \n",
       "585  0.983161   1.030098  -0.016982     Beta2  \n",
       "586  1.002354   0.997587   0.002351     Beta2  \n",
       "587  1.053515   0.927109   0.052132     Beta2  "
      ]
     },
     "execution_count": 111,
     "metadata": {},
     "output_type": "execute_result"
    }
   ],
   "source": [
    "conservation_score[(conservation_score['secondary'] == 'Beta2') & (conservation_score['domain'] == 'LOTUSVASA')]"
   ]
  },
  {
   "cell_type": "code",
   "execution_count": 112,
   "metadata": {},
   "outputs": [
    {
     "data": {
      "text/html": [
       "<div>\n",
       "<style>\n",
       "    .dataframe thead tr:only-child th {\n",
       "        text-align: right;\n",
       "    }\n",
       "\n",
       "    .dataframe thead th {\n",
       "        text-align: left;\n",
       "    }\n",
       "\n",
       "    .dataframe tbody tr th {\n",
       "        vertical-align: top;\n",
       "    }\n",
       "</style>\n",
       "<table border=\"1\" class=\"dataframe\">\n",
       "  <thead>\n",
       "    <tr style=\"text-align: right;\">\n",
       "      <th></th>\n",
       "      <th>hemi_elec</th>\n",
       "      <th>hemi_valdar</th>\n",
       "      <th>holo_elec</th>\n",
       "      <th>holo_valdar</th>\n",
       "      <th>alignment</th>\n",
       "      <th>ratio</th>\n",
       "      <th>ratio_log</th>\n",
       "      <th>log_ratio</th>\n",
       "    </tr>\n",
       "    <tr>\n",
       "      <th>secondary</th>\n",
       "      <th></th>\n",
       "      <th></th>\n",
       "      <th></th>\n",
       "      <th></th>\n",
       "      <th></th>\n",
       "      <th></th>\n",
       "      <th></th>\n",
       "      <th></th>\n",
       "    </tr>\n",
       "  </thead>\n",
       "  <tbody>\n",
       "    <tr>\n",
       "      <th>Alpha1</th>\n",
       "      <td>-0.072917</td>\n",
       "      <td>0.305958</td>\n",
       "      <td>-0.063099</td>\n",
       "      <td>0.333900</td>\n",
       "      <td>1279.500000</td>\n",
       "      <td>1.102917</td>\n",
       "      <td>0.932136</td>\n",
       "      <td>0.089807</td>\n",
       "    </tr>\n",
       "    <tr>\n",
       "      <th>Alpha2</th>\n",
       "      <td>-0.113281</td>\n",
       "      <td>0.584923</td>\n",
       "      <td>-0.129544</td>\n",
       "      <td>0.736965</td>\n",
       "      <td>1356.333333</td>\n",
       "      <td>1.286309</td>\n",
       "      <td>0.541620</td>\n",
       "      <td>0.240461</td>\n",
       "    </tr>\n",
       "    <tr>\n",
       "      <th>Alpha3</th>\n",
       "      <td>0.061080</td>\n",
       "      <td>0.473591</td>\n",
       "      <td>0.170213</td>\n",
       "      <td>0.580709</td>\n",
       "      <td>1401.545455</td>\n",
       "      <td>1.243523</td>\n",
       "      <td>0.720737</td>\n",
       "      <td>0.205282</td>\n",
       "    </tr>\n",
       "    <tr>\n",
       "      <th>Alpha4</th>\n",
       "      <td>-0.185268</td>\n",
       "      <td>0.687567</td>\n",
       "      <td>-0.096719</td>\n",
       "      <td>0.719840</td>\n",
       "      <td>1438.714286</td>\n",
       "      <td>1.061982</td>\n",
       "      <td>0.835358</td>\n",
       "      <td>0.049375</td>\n",
       "    </tr>\n",
       "    <tr>\n",
       "      <th>Alpha5</th>\n",
       "      <td>-0.041118</td>\n",
       "      <td>0.488200</td>\n",
       "      <td>-0.031974</td>\n",
       "      <td>0.519797</td>\n",
       "      <td>1508.000000</td>\n",
       "      <td>1.098974</td>\n",
       "      <td>0.957273</td>\n",
       "      <td>0.067929</td>\n",
       "    </tr>\n",
       "    <tr>\n",
       "      <th>Alpha6</th>\n",
       "      <td>0.028125</td>\n",
       "      <td>0.297482</td>\n",
       "      <td>0.022187</td>\n",
       "      <td>0.621793</td>\n",
       "      <td>1553.800000</td>\n",
       "      <td>2.391002</td>\n",
       "      <td>0.418587</td>\n",
       "      <td>0.809879</td>\n",
       "    </tr>\n",
       "    <tr>\n",
       "      <th>Alpha7</th>\n",
       "      <td>0.068257</td>\n",
       "      <td>0.468289</td>\n",
       "      <td>0.091390</td>\n",
       "      <td>0.476993</td>\n",
       "      <td>1589.684211</td>\n",
       "      <td>1.055577</td>\n",
       "      <td>1.057079</td>\n",
       "      <td>0.030204</td>\n",
       "    </tr>\n",
       "    <tr>\n",
       "      <th>Alpha8</th>\n",
       "      <td>0.047917</td>\n",
       "      <td>0.410493</td>\n",
       "      <td>0.152688</td>\n",
       "      <td>0.496902</td>\n",
       "      <td>1914.666667</td>\n",
       "      <td>1.263865</td>\n",
       "      <td>0.823419</td>\n",
       "      <td>0.191888</td>\n",
       "    </tr>\n",
       "    <tr>\n",
       "      <th>Beta1</th>\n",
       "      <td>0.040625</td>\n",
       "      <td>0.694060</td>\n",
       "      <td>0.038187</td>\n",
       "      <td>0.723943</td>\n",
       "      <td>1347.000000</td>\n",
       "      <td>1.048951</td>\n",
       "      <td>0.725831</td>\n",
       "      <td>0.026291</td>\n",
       "    </tr>\n",
       "    <tr>\n",
       "      <th>Beta2</th>\n",
       "      <td>0.125000</td>\n",
       "      <td>0.333183</td>\n",
       "      <td>0.085000</td>\n",
       "      <td>0.563174</td>\n",
       "      <td>1384.500000</td>\n",
       "      <td>1.683318</td>\n",
       "      <td>0.522269</td>\n",
       "      <td>0.519707</td>\n",
       "    </tr>\n",
       "    <tr>\n",
       "      <th>Beta3</th>\n",
       "      <td>0.072917</td>\n",
       "      <td>0.647255</td>\n",
       "      <td>0.006042</td>\n",
       "      <td>0.688386</td>\n",
       "      <td>1390.333333</td>\n",
       "      <td>1.161383</td>\n",
       "      <td>1.047150</td>\n",
       "      <td>0.119221</td>\n",
       "    </tr>\n",
       "    <tr>\n",
       "      <th>Beta4</th>\n",
       "      <td>0.109375</td>\n",
       "      <td>0.598135</td>\n",
       "      <td>0.129562</td>\n",
       "      <td>0.636423</td>\n",
       "      <td>1421.000000</td>\n",
       "      <td>1.069706</td>\n",
       "      <td>0.898501</td>\n",
       "      <td>0.058415</td>\n",
       "    </tr>\n",
       "    <tr>\n",
       "      <th>Beta5</th>\n",
       "      <td>0.028125</td>\n",
       "      <td>0.536925</td>\n",
       "      <td>0.015563</td>\n",
       "      <td>0.540225</td>\n",
       "      <td>1533.200000</td>\n",
       "      <td>1.003962</td>\n",
       "      <td>0.998687</td>\n",
       "      <td>-0.003571</td>\n",
       "    </tr>\n",
       "  </tbody>\n",
       "</table>\n",
       "</div>"
      ],
      "text/plain": [
       "           hemi_elec  hemi_valdar  holo_elec  holo_valdar    alignment  \\\n",
       "secondary                                                                \n",
       "Alpha1     -0.072917     0.305958  -0.063099     0.333900  1279.500000   \n",
       "Alpha2     -0.113281     0.584923  -0.129544     0.736965  1356.333333   \n",
       "Alpha3      0.061080     0.473591   0.170213     0.580709  1401.545455   \n",
       "Alpha4     -0.185268     0.687567  -0.096719     0.719840  1438.714286   \n",
       "Alpha5     -0.041118     0.488200  -0.031974     0.519797  1508.000000   \n",
       "Alpha6      0.028125     0.297482   0.022187     0.621793  1553.800000   \n",
       "Alpha7      0.068257     0.468289   0.091390     0.476993  1589.684211   \n",
       "Alpha8      0.047917     0.410493   0.152688     0.496902  1914.666667   \n",
       "Beta1       0.040625     0.694060   0.038187     0.723943  1347.000000   \n",
       "Beta2       0.125000     0.333183   0.085000     0.563174  1384.500000   \n",
       "Beta3       0.072917     0.647255   0.006042     0.688386  1390.333333   \n",
       "Beta4       0.109375     0.598135   0.129562     0.636423  1421.000000   \n",
       "Beta5       0.028125     0.536925   0.015563     0.540225  1533.200000   \n",
       "\n",
       "              ratio  ratio_log  log_ratio  \n",
       "secondary                                  \n",
       "Alpha1     1.102917   0.932136   0.089807  \n",
       "Alpha2     1.286309   0.541620   0.240461  \n",
       "Alpha3     1.243523   0.720737   0.205282  \n",
       "Alpha4     1.061982   0.835358   0.049375  \n",
       "Alpha5     1.098974   0.957273   0.067929  \n",
       "Alpha6     2.391002   0.418587   0.809879  \n",
       "Alpha7     1.055577   1.057079   0.030204  \n",
       "Alpha8     1.263865   0.823419   0.191888  \n",
       "Beta1      1.048951   0.725831   0.026291  \n",
       "Beta2      1.683318   0.522269   0.519707  \n",
       "Beta3      1.161383   1.047150   0.119221  \n",
       "Beta4      1.069706   0.898501   0.058415  \n",
       "Beta5      1.003962   0.998687  -0.003571  "
      ]
     },
     "execution_count": 112,
     "metadata": {},
     "output_type": "execute_result"
    }
   ],
   "source": [
    "conservation_score[(conservation_score['domain'] == 'OSK')].groupby('secondary').mean()"
   ]
  },
  {
   "cell_type": "code",
   "execution_count": 124,
   "metadata": {},
   "outputs": [
    {
     "data": {
      "text/html": [
       "<div>\n",
       "<style>\n",
       "    .dataframe thead tr:only-child th {\n",
       "        text-align: right;\n",
       "    }\n",
       "\n",
       "    .dataframe thead th {\n",
       "        text-align: left;\n",
       "    }\n",
       "\n",
       "    .dataframe tbody tr th {\n",
       "        vertical-align: top;\n",
       "    }\n",
       "</style>\n",
       "<table border=\"1\" class=\"dataframe\">\n",
       "  <thead>\n",
       "    <tr style=\"text-align: right;\">\n",
       "      <th></th>\n",
       "      <th>hemi_elec</th>\n",
       "      <th>hemi_valdar</th>\n",
       "      <th>holo_elec</th>\n",
       "      <th>holo_valdar</th>\n",
       "      <th>domain</th>\n",
       "      <th>alignment</th>\n",
       "      <th>ratio</th>\n",
       "      <th>ratio_log</th>\n",
       "      <th>log_ratio</th>\n",
       "      <th>structure</th>\n",
       "      <th>secondary</th>\n",
       "    </tr>\n",
       "  </thead>\n",
       "  <tbody>\n",
       "    <tr>\n",
       "      <th>1358</th>\n",
       "      <td>-0.21875</td>\n",
       "      <td>0.350962</td>\n",
       "      <td>0.361719</td>\n",
       "      <td>0.477396</td>\n",
       "      <td>OSK</td>\n",
       "      <td>1358</td>\n",
       "      <td>1.360251</td>\n",
       "      <td>0.706164</td>\n",
       "      <td>0.307670</td>\n",
       "      <td>436.0</td>\n",
       "      <td>Alpha2</td>\n",
       "    </tr>\n",
       "    <tr>\n",
       "      <th>1370</th>\n",
       "      <td>0.25000</td>\n",
       "      <td>0.292838</td>\n",
       "      <td>0.294219</td>\n",
       "      <td>0.426722</td>\n",
       "      <td>OSK</td>\n",
       "      <td>1370</td>\n",
       "      <td>1.457193</td>\n",
       "      <td>0.693428</td>\n",
       "      <td>0.376512</td>\n",
       "      <td>442.0</td>\n",
       "      <td>NaN</td>\n",
       "    </tr>\n",
       "    <tr>\n",
       "      <th>1839</th>\n",
       "      <td>0.37500</td>\n",
       "      <td>0.255192</td>\n",
       "      <td>0.808125</td>\n",
       "      <td>0.690094</td>\n",
       "      <td>OSK</td>\n",
       "      <td>1839</td>\n",
       "      <td>2.704221</td>\n",
       "      <td>0.271594</td>\n",
       "      <td>0.994814</td>\n",
       "      <td>576.0</td>\n",
       "      <td>NaN</td>\n",
       "    </tr>\n",
       "  </tbody>\n",
       "</table>\n",
       "</div>"
      ],
      "text/plain": [
       "      hemi_elec  hemi_valdar  holo_elec  holo_valdar domain  alignment  \\\n",
       "1358   -0.21875     0.350962   0.361719     0.477396    OSK       1358   \n",
       "1370    0.25000     0.292838   0.294219     0.426722    OSK       1370   \n",
       "1839    0.37500     0.255192   0.808125     0.690094    OSK       1839   \n",
       "\n",
       "         ratio  ratio_log  log_ratio  structure secondary  \n",
       "1358  1.360251   0.706164   0.307670      436.0    Alpha2  \n",
       "1370  1.457193   0.693428   0.376512      442.0       NaN  \n",
       "1839  2.704221   0.271594   0.994814      576.0       NaN  "
      ]
     },
     "execution_count": 124,
     "metadata": {},
     "output_type": "execute_result"
    }
   ],
   "source": [
    "conservation_score[(conservation_score[\"domain\"] == \"OSK\") & (conservation_score[\"structure\"].isin([442, 436, 576]))]"
   ]
  },
  {
   "cell_type": "code",
   "execution_count": 94,
   "metadata": {},
   "outputs": [
    {
     "data": {
      "text/plain": [
       "267    571\n",
       "268    572\n",
       "269    573\n",
       "270    574\n",
       "271    576\n",
       "Name: alignment, dtype: int64"
      ]
     },
     "execution_count": 94,
     "metadata": {},
     "output_type": "execute_result"
    }
   ],
   "source": [
    "mapping[(mapping['secondary'] == 'Beta1') & (mapping['domain'] == 'LOTUSVASA')]['alignment']"
   ]
  },
  {
   "cell_type": "code",
   "execution_count": 91,
   "metadata": {},
   "outputs": [
    {
     "data": {
      "text/plain": [
       "0.8200880445625233"
      ]
     },
     "execution_count": 91,
     "metadata": {},
     "output_type": "execute_result"
    }
   ],
   "source": [
    "osk.mean()"
   ]
  },
  {
   "cell_type": "code",
   "execution_count": 92,
   "metadata": {},
   "outputs": [
    {
     "data": {
      "text/plain": [
       "1.0029910513538125"
      ]
     },
     "execution_count": 92,
     "metadata": {},
     "output_type": "execute_result"
    }
   ],
   "source": [
    "lotus.mean()"
   ]
  },
  {
   "cell_type": "code",
   "execution_count": 125,
   "metadata": {},
   "outputs": [
    {
     "data": {
      "text/html": [
       "<div>\n",
       "<style>\n",
       "    .dataframe thead tr:only-child th {\n",
       "        text-align: right;\n",
       "    }\n",
       "\n",
       "    .dataframe thead th {\n",
       "        text-align: left;\n",
       "    }\n",
       "\n",
       "    .dataframe tbody tr th {\n",
       "        vertical-align: top;\n",
       "    }\n",
       "</style>\n",
       "<table border=\"1\" class=\"dataframe\">\n",
       "  <thead>\n",
       "    <tr style=\"text-align: right;\">\n",
       "      <th></th>\n",
       "      <th>hemi_elec</th>\n",
       "      <th>hemi_valdar</th>\n",
       "      <th>holo_elec</th>\n",
       "      <th>holo_valdar</th>\n",
       "      <th>domain</th>\n",
       "      <th>alignment</th>\n",
       "      <th>ratio</th>\n",
       "      <th>ratio_log</th>\n",
       "      <th>log_ratio</th>\n",
       "      <th>structure</th>\n",
       "      <th>secondary</th>\n",
       "    </tr>\n",
       "  </thead>\n",
       "  <tbody>\n",
       "    <tr>\n",
       "      <th>561</th>\n",
       "      <td>-0.06250</td>\n",
       "      <td>0.421173</td>\n",
       "      <td>-0.382344</td>\n",
       "      <td>0.468241</td>\n",
       "      <td>LOTUSVASA</td>\n",
       "      <td>561</td>\n",
       "      <td>1.111754</td>\n",
       "      <td>0.877487</td>\n",
       "      <td>0.105939</td>\n",
       "      <td>197.0</td>\n",
       "      <td>Alpha4</td>\n",
       "    </tr>\n",
       "    <tr>\n",
       "      <th>583</th>\n",
       "      <td>-0.15625</td>\n",
       "      <td>0.412513</td>\n",
       "      <td>0.243438</td>\n",
       "      <td>0.376457</td>\n",
       "      <td>LOTUSVASA</td>\n",
       "      <td>583</td>\n",
       "      <td>0.912593</td>\n",
       "      <td>1.103293</td>\n",
       "      <td>-0.091465</td>\n",
       "      <td>215.0</td>\n",
       "      <td>Beta2</td>\n",
       "    </tr>\n",
       "  </tbody>\n",
       "</table>\n",
       "</div>"
      ],
      "text/plain": [
       "     hemi_elec  hemi_valdar  holo_elec  holo_valdar     domain  alignment  \\\n",
       "561   -0.06250     0.421173  -0.382344     0.468241  LOTUSVASA        561   \n",
       "583   -0.15625     0.412513   0.243438     0.376457  LOTUSVASA        583   \n",
       "\n",
       "        ratio  ratio_log  log_ratio  structure secondary  \n",
       "561  1.111754   0.877487   0.105939      197.0    Alpha4  \n",
       "583  0.912593   1.103293  -0.091465      215.0     Beta2  "
      ]
     },
     "execution_count": 125,
     "metadata": {},
     "output_type": "execute_result"
    }
   ],
   "source": [
    "conservation_score[(conservation_score[\"domain\"] == \"LOTUSVASA\") & (conservation_score[\"structure\"].isin([197, 215]))]"
   ]
  },
  {
   "cell_type": "code",
   "execution_count": 126,
   "metadata": {},
   "outputs": [],
   "source": [
    "OSK_surface = \"GHTSGTYNdS---iNsDydaylLDfplm--rMELKCrfRRHERvLq-gl-vsgLt-nG-rnRlKrvQlPEGTq-ivnI-s--imrGKPlVQ-eHdfrlliKEmHNMRlVpiltnlaPLgNYCHDKVLCDKiYR-nKFirSECCHLKvId-hsC-inErGVvRfDcfQAspRQVTGSKEPylfwNkI-rqR-lqV-eTSLEY\""
   ]
  },
  {
   "cell_type": "code",
   "execution_count": 129,
   "metadata": {},
   "outputs": [
    {
     "data": {
      "text/html": [
       "<div>\n",
       "<style>\n",
       "    .dataframe thead tr:only-child th {\n",
       "        text-align: right;\n",
       "    }\n",
       "\n",
       "    .dataframe thead th {\n",
       "        text-align: left;\n",
       "    }\n",
       "\n",
       "    .dataframe tbody tr th {\n",
       "        vertical-align: top;\n",
       "    }\n",
       "</style>\n",
       "<table border=\"1\" class=\"dataframe\">\n",
       "  <thead>\n",
       "    <tr style=\"text-align: right;\">\n",
       "      <th></th>\n",
       "      <th>structure</th>\n",
       "      <th>domain</th>\n",
       "      <th>secondary</th>\n",
       "      <th>Dmel_Seq</th>\n",
       "      <th>alignment</th>\n",
       "    </tr>\n",
       "  </thead>\n",
       "  <tbody>\n",
       "    <tr>\n",
       "      <th>58</th>\n",
       "      <td>457</td>\n",
       "      <td>OSK</td>\n",
       "      <td>NaN</td>\n",
       "      <td>S</td>\n",
       "      <td>1393</td>\n",
       "    </tr>\n",
       "  </tbody>\n",
       "</table>\n",
       "</div>"
      ],
      "text/plain": [
       "    structure domain secondary Dmel_Seq  alignment\n",
       "58        457    OSK       NaN        S       1393"
      ]
     },
     "execution_count": 129,
     "metadata": {},
     "output_type": "execute_result"
    }
   ],
   "source": [
    "mapping[mapping['structure'] == 457]"
   ]
  },
  {
   "cell_type": "code",
   "execution_count": 127,
   "metadata": {},
   "outputs": [
    {
     "data": {
      "text/html": [
       "<div>\n",
       "<style>\n",
       "    .dataframe thead tr:only-child th {\n",
       "        text-align: right;\n",
       "    }\n",
       "\n",
       "    .dataframe thead th {\n",
       "        text-align: left;\n",
       "    }\n",
       "\n",
       "    .dataframe tbody tr th {\n",
       "        vertical-align: top;\n",
       "    }\n",
       "</style>\n",
       "<table border=\"1\" class=\"dataframe\">\n",
       "  <thead>\n",
       "    <tr style=\"text-align: right;\">\n",
       "      <th></th>\n",
       "      <th>hemi_elec</th>\n",
       "      <th>hemi_valdar</th>\n",
       "      <th>holo_elec</th>\n",
       "      <th>holo_valdar</th>\n",
       "      <th>domain</th>\n",
       "      <th>alignment</th>\n",
       "      <th>ratio</th>\n",
       "      <th>ratio_log</th>\n",
       "      <th>log_ratio</th>\n",
       "      <th>structure</th>\n",
       "      <th>secondary</th>\n",
       "    </tr>\n",
       "  </thead>\n",
       "  <tbody>\n",
       "    <tr>\n",
       "      <th>0</th>\n",
       "      <td>0.0</td>\n",
       "      <td>0.0</td>\n",
       "      <td>0.000000</td>\n",
       "      <td>0.000016</td>\n",
       "      <td>NaN</td>\n",
       "      <td>0</td>\n",
       "      <td>1.0</td>\n",
       "      <td>0.0</td>\n",
       "      <td>0.0</td>\n",
       "      <td>NaN</td>\n",
       "      <td>NaN</td>\n",
       "    </tr>\n",
       "    <tr>\n",
       "      <th>1</th>\n",
       "      <td>0.0</td>\n",
       "      <td>0.0</td>\n",
       "      <td>0.002500</td>\n",
       "      <td>0.000016</td>\n",
       "      <td>NaN</td>\n",
       "      <td>1</td>\n",
       "      <td>1.0</td>\n",
       "      <td>0.0</td>\n",
       "      <td>0.0</td>\n",
       "      <td>NaN</td>\n",
       "      <td>NaN</td>\n",
       "    </tr>\n",
       "    <tr>\n",
       "      <th>2</th>\n",
       "      <td>0.0</td>\n",
       "      <td>0.0</td>\n",
       "      <td>0.000000</td>\n",
       "      <td>0.000016</td>\n",
       "      <td>NaN</td>\n",
       "      <td>2</td>\n",
       "      <td>1.0</td>\n",
       "      <td>0.0</td>\n",
       "      <td>0.0</td>\n",
       "      <td>NaN</td>\n",
       "      <td>NaN</td>\n",
       "    </tr>\n",
       "    <tr>\n",
       "      <th>3</th>\n",
       "      <td>0.0</td>\n",
       "      <td>0.0</td>\n",
       "      <td>0.000000</td>\n",
       "      <td>0.000016</td>\n",
       "      <td>NaN</td>\n",
       "      <td>3</td>\n",
       "      <td>1.0</td>\n",
       "      <td>0.0</td>\n",
       "      <td>0.0</td>\n",
       "      <td>NaN</td>\n",
       "      <td>NaN</td>\n",
       "    </tr>\n",
       "    <tr>\n",
       "      <th>4</th>\n",
       "      <td>0.0</td>\n",
       "      <td>0.0</td>\n",
       "      <td>0.000000</td>\n",
       "      <td>0.000016</td>\n",
       "      <td>NaN</td>\n",
       "      <td>4</td>\n",
       "      <td>1.0</td>\n",
       "      <td>0.0</td>\n",
       "      <td>0.0</td>\n",
       "      <td>NaN</td>\n",
       "      <td>NaN</td>\n",
       "    </tr>\n",
       "    <tr>\n",
       "      <th>5</th>\n",
       "      <td>0.0</td>\n",
       "      <td>0.0</td>\n",
       "      <td>0.000000</td>\n",
       "      <td>0.000016</td>\n",
       "      <td>NaN</td>\n",
       "      <td>5</td>\n",
       "      <td>1.0</td>\n",
       "      <td>0.0</td>\n",
       "      <td>0.0</td>\n",
       "      <td>NaN</td>\n",
       "      <td>NaN</td>\n",
       "    </tr>\n",
       "    <tr>\n",
       "      <th>6</th>\n",
       "      <td>0.0</td>\n",
       "      <td>0.0</td>\n",
       "      <td>0.000000</td>\n",
       "      <td>0.000016</td>\n",
       "      <td>NaN</td>\n",
       "      <td>6</td>\n",
       "      <td>1.0</td>\n",
       "      <td>0.0</td>\n",
       "      <td>0.0</td>\n",
       "      <td>NaN</td>\n",
       "      <td>NaN</td>\n",
       "    </tr>\n",
       "    <tr>\n",
       "      <th>7</th>\n",
       "      <td>0.0</td>\n",
       "      <td>0.0</td>\n",
       "      <td>0.000000</td>\n",
       "      <td>0.000016</td>\n",
       "      <td>NaN</td>\n",
       "      <td>7</td>\n",
       "      <td>1.0</td>\n",
       "      <td>0.0</td>\n",
       "      <td>0.0</td>\n",
       "      <td>NaN</td>\n",
       "      <td>NaN</td>\n",
       "    </tr>\n",
       "    <tr>\n",
       "      <th>8</th>\n",
       "      <td>0.0</td>\n",
       "      <td>0.0</td>\n",
       "      <td>0.000000</td>\n",
       "      <td>0.000016</td>\n",
       "      <td>NaN</td>\n",
       "      <td>8</td>\n",
       "      <td>1.0</td>\n",
       "      <td>0.0</td>\n",
       "      <td>0.0</td>\n",
       "      <td>NaN</td>\n",
       "      <td>NaN</td>\n",
       "    </tr>\n",
       "    <tr>\n",
       "      <th>9</th>\n",
       "      <td>0.0</td>\n",
       "      <td>0.0</td>\n",
       "      <td>-0.002500</td>\n",
       "      <td>0.000016</td>\n",
       "      <td>NaN</td>\n",
       "      <td>9</td>\n",
       "      <td>1.0</td>\n",
       "      <td>0.0</td>\n",
       "      <td>0.0</td>\n",
       "      <td>NaN</td>\n",
       "      <td>NaN</td>\n",
       "    </tr>\n",
       "    <tr>\n",
       "      <th>10</th>\n",
       "      <td>0.0</td>\n",
       "      <td>0.0</td>\n",
       "      <td>0.000000</td>\n",
       "      <td>0.000016</td>\n",
       "      <td>NaN</td>\n",
       "      <td>10</td>\n",
       "      <td>1.0</td>\n",
       "      <td>0.0</td>\n",
       "      <td>0.0</td>\n",
       "      <td>NaN</td>\n",
       "      <td>NaN</td>\n",
       "    </tr>\n",
       "    <tr>\n",
       "      <th>11</th>\n",
       "      <td>0.0</td>\n",
       "      <td>0.0</td>\n",
       "      <td>0.000000</td>\n",
       "      <td>0.000016</td>\n",
       "      <td>NaN</td>\n",
       "      <td>11</td>\n",
       "      <td>1.0</td>\n",
       "      <td>0.0</td>\n",
       "      <td>0.0</td>\n",
       "      <td>NaN</td>\n",
       "      <td>NaN</td>\n",
       "    </tr>\n",
       "    <tr>\n",
       "      <th>12</th>\n",
       "      <td>0.0</td>\n",
       "      <td>0.0</td>\n",
       "      <td>0.000000</td>\n",
       "      <td>0.000000</td>\n",
       "      <td>NaN</td>\n",
       "      <td>12</td>\n",
       "      <td>1.0</td>\n",
       "      <td>0.0</td>\n",
       "      <td>0.0</td>\n",
       "      <td>NaN</td>\n",
       "      <td>NaN</td>\n",
       "    </tr>\n",
       "    <tr>\n",
       "      <th>13</th>\n",
       "      <td>0.0</td>\n",
       "      <td>0.0</td>\n",
       "      <td>0.000000</td>\n",
       "      <td>0.000016</td>\n",
       "      <td>NaN</td>\n",
       "      <td>13</td>\n",
       "      <td>1.0</td>\n",
       "      <td>0.0</td>\n",
       "      <td>0.0</td>\n",
       "      <td>NaN</td>\n",
       "      <td>NaN</td>\n",
       "    </tr>\n",
       "    <tr>\n",
       "      <th>14</th>\n",
       "      <td>0.0</td>\n",
       "      <td>0.0</td>\n",
       "      <td>0.001250</td>\n",
       "      <td>0.000016</td>\n",
       "      <td>NaN</td>\n",
       "      <td>14</td>\n",
       "      <td>1.0</td>\n",
       "      <td>0.0</td>\n",
       "      <td>0.0</td>\n",
       "      <td>NaN</td>\n",
       "      <td>NaN</td>\n",
       "    </tr>\n",
       "    <tr>\n",
       "      <th>15</th>\n",
       "      <td>0.0</td>\n",
       "      <td>0.0</td>\n",
       "      <td>0.000000</td>\n",
       "      <td>0.000016</td>\n",
       "      <td>NaN</td>\n",
       "      <td>15</td>\n",
       "      <td>1.0</td>\n",
       "      <td>0.0</td>\n",
       "      <td>0.0</td>\n",
       "      <td>NaN</td>\n",
       "      <td>NaN</td>\n",
       "    </tr>\n",
       "    <tr>\n",
       "      <th>16</th>\n",
       "      <td>0.0</td>\n",
       "      <td>0.0</td>\n",
       "      <td>0.000000</td>\n",
       "      <td>0.000016</td>\n",
       "      <td>NaN</td>\n",
       "      <td>16</td>\n",
       "      <td>1.0</td>\n",
       "      <td>0.0</td>\n",
       "      <td>0.0</td>\n",
       "      <td>NaN</td>\n",
       "      <td>NaN</td>\n",
       "    </tr>\n",
       "    <tr>\n",
       "      <th>17</th>\n",
       "      <td>0.0</td>\n",
       "      <td>0.0</td>\n",
       "      <td>0.000000</td>\n",
       "      <td>0.000016</td>\n",
       "      <td>NaN</td>\n",
       "      <td>17</td>\n",
       "      <td>1.0</td>\n",
       "      <td>0.0</td>\n",
       "      <td>0.0</td>\n",
       "      <td>NaN</td>\n",
       "      <td>NaN</td>\n",
       "    </tr>\n",
       "    <tr>\n",
       "      <th>18</th>\n",
       "      <td>0.0</td>\n",
       "      <td>0.0</td>\n",
       "      <td>0.002500</td>\n",
       "      <td>0.000016</td>\n",
       "      <td>NaN</td>\n",
       "      <td>18</td>\n",
       "      <td>1.0</td>\n",
       "      <td>0.0</td>\n",
       "      <td>0.0</td>\n",
       "      <td>NaN</td>\n",
       "      <td>NaN</td>\n",
       "    </tr>\n",
       "    <tr>\n",
       "      <th>19</th>\n",
       "      <td>0.0</td>\n",
       "      <td>0.0</td>\n",
       "      <td>0.000000</td>\n",
       "      <td>0.000016</td>\n",
       "      <td>NaN</td>\n",
       "      <td>19</td>\n",
       "      <td>1.0</td>\n",
       "      <td>0.0</td>\n",
       "      <td>0.0</td>\n",
       "      <td>NaN</td>\n",
       "      <td>NaN</td>\n",
       "    </tr>\n",
       "    <tr>\n",
       "      <th>20</th>\n",
       "      <td>0.0</td>\n",
       "      <td>0.0</td>\n",
       "      <td>0.002500</td>\n",
       "      <td>0.000016</td>\n",
       "      <td>NaN</td>\n",
       "      <td>20</td>\n",
       "      <td>1.0</td>\n",
       "      <td>0.0</td>\n",
       "      <td>0.0</td>\n",
       "      <td>NaN</td>\n",
       "      <td>NaN</td>\n",
       "    </tr>\n",
       "    <tr>\n",
       "      <th>21</th>\n",
       "      <td>0.0</td>\n",
       "      <td>0.0</td>\n",
       "      <td>0.000000</td>\n",
       "      <td>0.000016</td>\n",
       "      <td>NaN</td>\n",
       "      <td>21</td>\n",
       "      <td>1.0</td>\n",
       "      <td>0.0</td>\n",
       "      <td>0.0</td>\n",
       "      <td>NaN</td>\n",
       "      <td>NaN</td>\n",
       "    </tr>\n",
       "    <tr>\n",
       "      <th>22</th>\n",
       "      <td>0.0</td>\n",
       "      <td>0.0</td>\n",
       "      <td>0.000000</td>\n",
       "      <td>0.000016</td>\n",
       "      <td>NaN</td>\n",
       "      <td>22</td>\n",
       "      <td>1.0</td>\n",
       "      <td>0.0</td>\n",
       "      <td>0.0</td>\n",
       "      <td>NaN</td>\n",
       "      <td>NaN</td>\n",
       "    </tr>\n",
       "    <tr>\n",
       "      <th>23</th>\n",
       "      <td>0.0</td>\n",
       "      <td>0.0</td>\n",
       "      <td>0.000000</td>\n",
       "      <td>0.000016</td>\n",
       "      <td>NaN</td>\n",
       "      <td>23</td>\n",
       "      <td>1.0</td>\n",
       "      <td>0.0</td>\n",
       "      <td>0.0</td>\n",
       "      <td>NaN</td>\n",
       "      <td>NaN</td>\n",
       "    </tr>\n",
       "    <tr>\n",
       "      <th>24</th>\n",
       "      <td>0.0</td>\n",
       "      <td>0.0</td>\n",
       "      <td>0.000000</td>\n",
       "      <td>0.000000</td>\n",
       "      <td>NaN</td>\n",
       "      <td>24</td>\n",
       "      <td>1.0</td>\n",
       "      <td>0.0</td>\n",
       "      <td>0.0</td>\n",
       "      <td>NaN</td>\n",
       "      <td>NaN</td>\n",
       "    </tr>\n",
       "    <tr>\n",
       "      <th>25</th>\n",
       "      <td>0.0</td>\n",
       "      <td>0.0</td>\n",
       "      <td>0.000000</td>\n",
       "      <td>0.000016</td>\n",
       "      <td>NaN</td>\n",
       "      <td>25</td>\n",
       "      <td>1.0</td>\n",
       "      <td>0.0</td>\n",
       "      <td>0.0</td>\n",
       "      <td>NaN</td>\n",
       "      <td>NaN</td>\n",
       "    </tr>\n",
       "    <tr>\n",
       "      <th>26</th>\n",
       "      <td>0.0</td>\n",
       "      <td>0.0</td>\n",
       "      <td>0.000000</td>\n",
       "      <td>0.000016</td>\n",
       "      <td>NaN</td>\n",
       "      <td>26</td>\n",
       "      <td>1.0</td>\n",
       "      <td>0.0</td>\n",
       "      <td>0.0</td>\n",
       "      <td>NaN</td>\n",
       "      <td>NaN</td>\n",
       "    </tr>\n",
       "    <tr>\n",
       "      <th>27</th>\n",
       "      <td>0.0</td>\n",
       "      <td>0.0</td>\n",
       "      <td>0.000000</td>\n",
       "      <td>0.000016</td>\n",
       "      <td>NaN</td>\n",
       "      <td>27</td>\n",
       "      <td>1.0</td>\n",
       "      <td>0.0</td>\n",
       "      <td>0.0</td>\n",
       "      <td>NaN</td>\n",
       "      <td>NaN</td>\n",
       "    </tr>\n",
       "    <tr>\n",
       "      <th>28</th>\n",
       "      <td>0.0</td>\n",
       "      <td>0.0</td>\n",
       "      <td>0.000000</td>\n",
       "      <td>0.000016</td>\n",
       "      <td>NaN</td>\n",
       "      <td>28</td>\n",
       "      <td>1.0</td>\n",
       "      <td>0.0</td>\n",
       "      <td>0.0</td>\n",
       "      <td>NaN</td>\n",
       "      <td>NaN</td>\n",
       "    </tr>\n",
       "    <tr>\n",
       "      <th>29</th>\n",
       "      <td>0.0</td>\n",
       "      <td>0.0</td>\n",
       "      <td>0.000000</td>\n",
       "      <td>0.000016</td>\n",
       "      <td>NaN</td>\n",
       "      <td>29</td>\n",
       "      <td>1.0</td>\n",
       "      <td>0.0</td>\n",
       "      <td>0.0</td>\n",
       "      <td>NaN</td>\n",
       "      <td>NaN</td>\n",
       "    </tr>\n",
       "    <tr>\n",
       "      <th>...</th>\n",
       "      <td>...</td>\n",
       "      <td>...</td>\n",
       "      <td>...</td>\n",
       "      <td>...</td>\n",
       "      <td>...</td>\n",
       "      <td>...</td>\n",
       "      <td>...</td>\n",
       "      <td>...</td>\n",
       "      <td>...</td>\n",
       "      <td>...</td>\n",
       "      <td>...</td>\n",
       "    </tr>\n",
       "    <tr>\n",
       "      <th>2447</th>\n",
       "      <td>0.0</td>\n",
       "      <td>0.0</td>\n",
       "      <td>-0.000313</td>\n",
       "      <td>0.000062</td>\n",
       "      <td>NaN</td>\n",
       "      <td>2447</td>\n",
       "      <td>1.0</td>\n",
       "      <td>0.0</td>\n",
       "      <td>0.0</td>\n",
       "      <td>NaN</td>\n",
       "      <td>NaN</td>\n",
       "    </tr>\n",
       "    <tr>\n",
       "      <th>2448</th>\n",
       "      <td>0.0</td>\n",
       "      <td>0.0</td>\n",
       "      <td>0.011562</td>\n",
       "      <td>0.000081</td>\n",
       "      <td>NaN</td>\n",
       "      <td>2448</td>\n",
       "      <td>1.0</td>\n",
       "      <td>0.0</td>\n",
       "      <td>0.0</td>\n",
       "      <td>NaN</td>\n",
       "      <td>NaN</td>\n",
       "    </tr>\n",
       "    <tr>\n",
       "      <th>2449</th>\n",
       "      <td>0.0</td>\n",
       "      <td>0.0</td>\n",
       "      <td>0.008750</td>\n",
       "      <td>0.000061</td>\n",
       "      <td>NaN</td>\n",
       "      <td>2449</td>\n",
       "      <td>1.0</td>\n",
       "      <td>0.0</td>\n",
       "      <td>0.0</td>\n",
       "      <td>NaN</td>\n",
       "      <td>NaN</td>\n",
       "    </tr>\n",
       "    <tr>\n",
       "      <th>2450</th>\n",
       "      <td>0.0</td>\n",
       "      <td>0.0</td>\n",
       "      <td>-0.003125</td>\n",
       "      <td>0.000006</td>\n",
       "      <td>NaN</td>\n",
       "      <td>2450</td>\n",
       "      <td>1.0</td>\n",
       "      <td>0.0</td>\n",
       "      <td>0.0</td>\n",
       "      <td>NaN</td>\n",
       "      <td>NaN</td>\n",
       "    </tr>\n",
       "    <tr>\n",
       "      <th>2451</th>\n",
       "      <td>0.0</td>\n",
       "      <td>0.0</td>\n",
       "      <td>-0.006875</td>\n",
       "      <td>0.000014</td>\n",
       "      <td>NaN</td>\n",
       "      <td>2451</td>\n",
       "      <td>1.0</td>\n",
       "      <td>0.0</td>\n",
       "      <td>0.0</td>\n",
       "      <td>NaN</td>\n",
       "      <td>NaN</td>\n",
       "    </tr>\n",
       "    <tr>\n",
       "      <th>2452</th>\n",
       "      <td>0.0</td>\n",
       "      <td>0.0</td>\n",
       "      <td>0.003750</td>\n",
       "      <td>0.000005</td>\n",
       "      <td>NaN</td>\n",
       "      <td>2452</td>\n",
       "      <td>1.0</td>\n",
       "      <td>0.0</td>\n",
       "      <td>0.0</td>\n",
       "      <td>NaN</td>\n",
       "      <td>NaN</td>\n",
       "    </tr>\n",
       "    <tr>\n",
       "      <th>2453</th>\n",
       "      <td>0.0</td>\n",
       "      <td>0.0</td>\n",
       "      <td>0.003750</td>\n",
       "      <td>0.000002</td>\n",
       "      <td>NaN</td>\n",
       "      <td>2453</td>\n",
       "      <td>1.0</td>\n",
       "      <td>0.0</td>\n",
       "      <td>0.0</td>\n",
       "      <td>NaN</td>\n",
       "      <td>NaN</td>\n",
       "    </tr>\n",
       "    <tr>\n",
       "      <th>2454</th>\n",
       "      <td>0.0</td>\n",
       "      <td>0.0</td>\n",
       "      <td>-0.003750</td>\n",
       "      <td>0.000004</td>\n",
       "      <td>NaN</td>\n",
       "      <td>2454</td>\n",
       "      <td>1.0</td>\n",
       "      <td>0.0</td>\n",
       "      <td>0.0</td>\n",
       "      <td>NaN</td>\n",
       "      <td>NaN</td>\n",
       "    </tr>\n",
       "    <tr>\n",
       "      <th>2455</th>\n",
       "      <td>0.0</td>\n",
       "      <td>0.0</td>\n",
       "      <td>0.000000</td>\n",
       "      <td>0.000005</td>\n",
       "      <td>NaN</td>\n",
       "      <td>2455</td>\n",
       "      <td>1.0</td>\n",
       "      <td>0.0</td>\n",
       "      <td>0.0</td>\n",
       "      <td>NaN</td>\n",
       "      <td>NaN</td>\n",
       "    </tr>\n",
       "    <tr>\n",
       "      <th>2456</th>\n",
       "      <td>0.0</td>\n",
       "      <td>0.0</td>\n",
       "      <td>0.006875</td>\n",
       "      <td>0.000014</td>\n",
       "      <td>NaN</td>\n",
       "      <td>2456</td>\n",
       "      <td>1.0</td>\n",
       "      <td>0.0</td>\n",
       "      <td>0.0</td>\n",
       "      <td>NaN</td>\n",
       "      <td>NaN</td>\n",
       "    </tr>\n",
       "    <tr>\n",
       "      <th>2457</th>\n",
       "      <td>0.0</td>\n",
       "      <td>0.0</td>\n",
       "      <td>0.003750</td>\n",
       "      <td>0.000000</td>\n",
       "      <td>NaN</td>\n",
       "      <td>2457</td>\n",
       "      <td>1.0</td>\n",
       "      <td>0.0</td>\n",
       "      <td>0.0</td>\n",
       "      <td>NaN</td>\n",
       "      <td>NaN</td>\n",
       "    </tr>\n",
       "    <tr>\n",
       "      <th>2458</th>\n",
       "      <td>0.0</td>\n",
       "      <td>0.0</td>\n",
       "      <td>-0.003750</td>\n",
       "      <td>0.000005</td>\n",
       "      <td>NaN</td>\n",
       "      <td>2458</td>\n",
       "      <td>1.0</td>\n",
       "      <td>0.0</td>\n",
       "      <td>0.0</td>\n",
       "      <td>NaN</td>\n",
       "      <td>NaN</td>\n",
       "    </tr>\n",
       "    <tr>\n",
       "      <th>2459</th>\n",
       "      <td>0.0</td>\n",
       "      <td>0.0</td>\n",
       "      <td>0.000000</td>\n",
       "      <td>0.000004</td>\n",
       "      <td>NaN</td>\n",
       "      <td>2459</td>\n",
       "      <td>1.0</td>\n",
       "      <td>0.0</td>\n",
       "      <td>0.0</td>\n",
       "      <td>NaN</td>\n",
       "      <td>NaN</td>\n",
       "    </tr>\n",
       "    <tr>\n",
       "      <th>2460</th>\n",
       "      <td>0.0</td>\n",
       "      <td>0.0</td>\n",
       "      <td>0.006875</td>\n",
       "      <td>0.000014</td>\n",
       "      <td>NaN</td>\n",
       "      <td>2460</td>\n",
       "      <td>1.0</td>\n",
       "      <td>0.0</td>\n",
       "      <td>0.0</td>\n",
       "      <td>NaN</td>\n",
       "      <td>NaN</td>\n",
       "    </tr>\n",
       "    <tr>\n",
       "      <th>2461</th>\n",
       "      <td>0.0</td>\n",
       "      <td>0.0</td>\n",
       "      <td>-0.000625</td>\n",
       "      <td>0.000005</td>\n",
       "      <td>NaN</td>\n",
       "      <td>2461</td>\n",
       "      <td>1.0</td>\n",
       "      <td>0.0</td>\n",
       "      <td>0.0</td>\n",
       "      <td>NaN</td>\n",
       "      <td>NaN</td>\n",
       "    </tr>\n",
       "    <tr>\n",
       "      <th>2462</th>\n",
       "      <td>0.0</td>\n",
       "      <td>0.0</td>\n",
       "      <td>0.000000</td>\n",
       "      <td>0.000000</td>\n",
       "      <td>NaN</td>\n",
       "      <td>2462</td>\n",
       "      <td>1.0</td>\n",
       "      <td>0.0</td>\n",
       "      <td>0.0</td>\n",
       "      <td>NaN</td>\n",
       "      <td>NaN</td>\n",
       "    </tr>\n",
       "    <tr>\n",
       "      <th>2463</th>\n",
       "      <td>0.0</td>\n",
       "      <td>0.0</td>\n",
       "      <td>0.000000</td>\n",
       "      <td>0.000000</td>\n",
       "      <td>NaN</td>\n",
       "      <td>2463</td>\n",
       "      <td>1.0</td>\n",
       "      <td>0.0</td>\n",
       "      <td>0.0</td>\n",
       "      <td>NaN</td>\n",
       "      <td>NaN</td>\n",
       "    </tr>\n",
       "    <tr>\n",
       "      <th>2464</th>\n",
       "      <td>0.0</td>\n",
       "      <td>0.0</td>\n",
       "      <td>0.000000</td>\n",
       "      <td>0.000000</td>\n",
       "      <td>NaN</td>\n",
       "      <td>2464</td>\n",
       "      <td>1.0</td>\n",
       "      <td>0.0</td>\n",
       "      <td>0.0</td>\n",
       "      <td>NaN</td>\n",
       "      <td>NaN</td>\n",
       "    </tr>\n",
       "    <tr>\n",
       "      <th>2465</th>\n",
       "      <td>0.0</td>\n",
       "      <td>0.0</td>\n",
       "      <td>0.000000</td>\n",
       "      <td>0.000000</td>\n",
       "      <td>NaN</td>\n",
       "      <td>2465</td>\n",
       "      <td>1.0</td>\n",
       "      <td>0.0</td>\n",
       "      <td>0.0</td>\n",
       "      <td>NaN</td>\n",
       "      <td>NaN</td>\n",
       "    </tr>\n",
       "    <tr>\n",
       "      <th>2466</th>\n",
       "      <td>0.0</td>\n",
       "      <td>0.0</td>\n",
       "      <td>-0.003750</td>\n",
       "      <td>0.000000</td>\n",
       "      <td>NaN</td>\n",
       "      <td>2466</td>\n",
       "      <td>1.0</td>\n",
       "      <td>0.0</td>\n",
       "      <td>0.0</td>\n",
       "      <td>NaN</td>\n",
       "      <td>NaN</td>\n",
       "    </tr>\n",
       "    <tr>\n",
       "      <th>2467</th>\n",
       "      <td>0.0</td>\n",
       "      <td>0.0</td>\n",
       "      <td>0.003750</td>\n",
       "      <td>0.000000</td>\n",
       "      <td>NaN</td>\n",
       "      <td>2467</td>\n",
       "      <td>1.0</td>\n",
       "      <td>0.0</td>\n",
       "      <td>0.0</td>\n",
       "      <td>NaN</td>\n",
       "      <td>NaN</td>\n",
       "    </tr>\n",
       "    <tr>\n",
       "      <th>2468</th>\n",
       "      <td>0.0</td>\n",
       "      <td>0.0</td>\n",
       "      <td>0.000000</td>\n",
       "      <td>0.000000</td>\n",
       "      <td>NaN</td>\n",
       "      <td>2468</td>\n",
       "      <td>1.0</td>\n",
       "      <td>0.0</td>\n",
       "      <td>0.0</td>\n",
       "      <td>NaN</td>\n",
       "      <td>NaN</td>\n",
       "    </tr>\n",
       "    <tr>\n",
       "      <th>2469</th>\n",
       "      <td>0.0</td>\n",
       "      <td>0.0</td>\n",
       "      <td>0.000000</td>\n",
       "      <td>0.000000</td>\n",
       "      <td>NaN</td>\n",
       "      <td>2469</td>\n",
       "      <td>1.0</td>\n",
       "      <td>0.0</td>\n",
       "      <td>0.0</td>\n",
       "      <td>NaN</td>\n",
       "      <td>NaN</td>\n",
       "    </tr>\n",
       "    <tr>\n",
       "      <th>2470</th>\n",
       "      <td>0.0</td>\n",
       "      <td>0.0</td>\n",
       "      <td>0.000000</td>\n",
       "      <td>0.000000</td>\n",
       "      <td>NaN</td>\n",
       "      <td>2470</td>\n",
       "      <td>1.0</td>\n",
       "      <td>0.0</td>\n",
       "      <td>0.0</td>\n",
       "      <td>NaN</td>\n",
       "      <td>NaN</td>\n",
       "    </tr>\n",
       "    <tr>\n",
       "      <th>2471</th>\n",
       "      <td>0.0</td>\n",
       "      <td>0.0</td>\n",
       "      <td>-0.003750</td>\n",
       "      <td>0.000000</td>\n",
       "      <td>NaN</td>\n",
       "      <td>2471</td>\n",
       "      <td>1.0</td>\n",
       "      <td>0.0</td>\n",
       "      <td>0.0</td>\n",
       "      <td>NaN</td>\n",
       "      <td>NaN</td>\n",
       "    </tr>\n",
       "    <tr>\n",
       "      <th>2472</th>\n",
       "      <td>0.0</td>\n",
       "      <td>0.0</td>\n",
       "      <td>0.003750</td>\n",
       "      <td>0.000000</td>\n",
       "      <td>NaN</td>\n",
       "      <td>2472</td>\n",
       "      <td>1.0</td>\n",
       "      <td>0.0</td>\n",
       "      <td>0.0</td>\n",
       "      <td>NaN</td>\n",
       "      <td>NaN</td>\n",
       "    </tr>\n",
       "    <tr>\n",
       "      <th>2473</th>\n",
       "      <td>0.0</td>\n",
       "      <td>0.0</td>\n",
       "      <td>0.003750</td>\n",
       "      <td>0.000000</td>\n",
       "      <td>NaN</td>\n",
       "      <td>2473</td>\n",
       "      <td>1.0</td>\n",
       "      <td>0.0</td>\n",
       "      <td>0.0</td>\n",
       "      <td>NaN</td>\n",
       "      <td>NaN</td>\n",
       "    </tr>\n",
       "    <tr>\n",
       "      <th>2474</th>\n",
       "      <td>0.0</td>\n",
       "      <td>0.0</td>\n",
       "      <td>0.000000</td>\n",
       "      <td>0.000000</td>\n",
       "      <td>NaN</td>\n",
       "      <td>2474</td>\n",
       "      <td>1.0</td>\n",
       "      <td>0.0</td>\n",
       "      <td>0.0</td>\n",
       "      <td>NaN</td>\n",
       "      <td>NaN</td>\n",
       "    </tr>\n",
       "    <tr>\n",
       "      <th>2475</th>\n",
       "      <td>0.0</td>\n",
       "      <td>0.0</td>\n",
       "      <td>0.003750</td>\n",
       "      <td>0.000000</td>\n",
       "      <td>NaN</td>\n",
       "      <td>2475</td>\n",
       "      <td>1.0</td>\n",
       "      <td>0.0</td>\n",
       "      <td>0.0</td>\n",
       "      <td>NaN</td>\n",
       "      <td>NaN</td>\n",
       "    </tr>\n",
       "    <tr>\n",
       "      <th>2476</th>\n",
       "      <td>0.0</td>\n",
       "      <td>0.0</td>\n",
       "      <td>0.003750</td>\n",
       "      <td>0.000000</td>\n",
       "      <td>NaN</td>\n",
       "      <td>2476</td>\n",
       "      <td>1.0</td>\n",
       "      <td>0.0</td>\n",
       "      <td>0.0</td>\n",
       "      <td>NaN</td>\n",
       "      <td>NaN</td>\n",
       "    </tr>\n",
       "  </tbody>\n",
       "</table>\n",
       "<p>2477 rows × 11 columns</p>\n",
       "</div>"
      ],
      "text/plain": [
       "      hemi_elec  hemi_valdar  holo_elec  holo_valdar domain  alignment  ratio  \\\n",
       "0           0.0          0.0   0.000000     0.000016    NaN          0    1.0   \n",
       "1           0.0          0.0   0.002500     0.000016    NaN          1    1.0   \n",
       "2           0.0          0.0   0.000000     0.000016    NaN          2    1.0   \n",
       "3           0.0          0.0   0.000000     0.000016    NaN          3    1.0   \n",
       "4           0.0          0.0   0.000000     0.000016    NaN          4    1.0   \n",
       "5           0.0          0.0   0.000000     0.000016    NaN          5    1.0   \n",
       "6           0.0          0.0   0.000000     0.000016    NaN          6    1.0   \n",
       "7           0.0          0.0   0.000000     0.000016    NaN          7    1.0   \n",
       "8           0.0          0.0   0.000000     0.000016    NaN          8    1.0   \n",
       "9           0.0          0.0  -0.002500     0.000016    NaN          9    1.0   \n",
       "10          0.0          0.0   0.000000     0.000016    NaN         10    1.0   \n",
       "11          0.0          0.0   0.000000     0.000016    NaN         11    1.0   \n",
       "12          0.0          0.0   0.000000     0.000000    NaN         12    1.0   \n",
       "13          0.0          0.0   0.000000     0.000016    NaN         13    1.0   \n",
       "14          0.0          0.0   0.001250     0.000016    NaN         14    1.0   \n",
       "15          0.0          0.0   0.000000     0.000016    NaN         15    1.0   \n",
       "16          0.0          0.0   0.000000     0.000016    NaN         16    1.0   \n",
       "17          0.0          0.0   0.000000     0.000016    NaN         17    1.0   \n",
       "18          0.0          0.0   0.002500     0.000016    NaN         18    1.0   \n",
       "19          0.0          0.0   0.000000     0.000016    NaN         19    1.0   \n",
       "20          0.0          0.0   0.002500     0.000016    NaN         20    1.0   \n",
       "21          0.0          0.0   0.000000     0.000016    NaN         21    1.0   \n",
       "22          0.0          0.0   0.000000     0.000016    NaN         22    1.0   \n",
       "23          0.0          0.0   0.000000     0.000016    NaN         23    1.0   \n",
       "24          0.0          0.0   0.000000     0.000000    NaN         24    1.0   \n",
       "25          0.0          0.0   0.000000     0.000016    NaN         25    1.0   \n",
       "26          0.0          0.0   0.000000     0.000016    NaN         26    1.0   \n",
       "27          0.0          0.0   0.000000     0.000016    NaN         27    1.0   \n",
       "28          0.0          0.0   0.000000     0.000016    NaN         28    1.0   \n",
       "29          0.0          0.0   0.000000     0.000016    NaN         29    1.0   \n",
       "...         ...          ...        ...          ...    ...        ...    ...   \n",
       "2447        0.0          0.0  -0.000313     0.000062    NaN       2447    1.0   \n",
       "2448        0.0          0.0   0.011562     0.000081    NaN       2448    1.0   \n",
       "2449        0.0          0.0   0.008750     0.000061    NaN       2449    1.0   \n",
       "2450        0.0          0.0  -0.003125     0.000006    NaN       2450    1.0   \n",
       "2451        0.0          0.0  -0.006875     0.000014    NaN       2451    1.0   \n",
       "2452        0.0          0.0   0.003750     0.000005    NaN       2452    1.0   \n",
       "2453        0.0          0.0   0.003750     0.000002    NaN       2453    1.0   \n",
       "2454        0.0          0.0  -0.003750     0.000004    NaN       2454    1.0   \n",
       "2455        0.0          0.0   0.000000     0.000005    NaN       2455    1.0   \n",
       "2456        0.0          0.0   0.006875     0.000014    NaN       2456    1.0   \n",
       "2457        0.0          0.0   0.003750     0.000000    NaN       2457    1.0   \n",
       "2458        0.0          0.0  -0.003750     0.000005    NaN       2458    1.0   \n",
       "2459        0.0          0.0   0.000000     0.000004    NaN       2459    1.0   \n",
       "2460        0.0          0.0   0.006875     0.000014    NaN       2460    1.0   \n",
       "2461        0.0          0.0  -0.000625     0.000005    NaN       2461    1.0   \n",
       "2462        0.0          0.0   0.000000     0.000000    NaN       2462    1.0   \n",
       "2463        0.0          0.0   0.000000     0.000000    NaN       2463    1.0   \n",
       "2464        0.0          0.0   0.000000     0.000000    NaN       2464    1.0   \n",
       "2465        0.0          0.0   0.000000     0.000000    NaN       2465    1.0   \n",
       "2466        0.0          0.0  -0.003750     0.000000    NaN       2466    1.0   \n",
       "2467        0.0          0.0   0.003750     0.000000    NaN       2467    1.0   \n",
       "2468        0.0          0.0   0.000000     0.000000    NaN       2468    1.0   \n",
       "2469        0.0          0.0   0.000000     0.000000    NaN       2469    1.0   \n",
       "2470        0.0          0.0   0.000000     0.000000    NaN       2470    1.0   \n",
       "2471        0.0          0.0  -0.003750     0.000000    NaN       2471    1.0   \n",
       "2472        0.0          0.0   0.003750     0.000000    NaN       2472    1.0   \n",
       "2473        0.0          0.0   0.003750     0.000000    NaN       2473    1.0   \n",
       "2474        0.0          0.0   0.000000     0.000000    NaN       2474    1.0   \n",
       "2475        0.0          0.0   0.003750     0.000000    NaN       2475    1.0   \n",
       "2476        0.0          0.0   0.003750     0.000000    NaN       2476    1.0   \n",
       "\n",
       "      ratio_log  log_ratio  structure secondary  \n",
       "0           0.0        0.0        NaN       NaN  \n",
       "1           0.0        0.0        NaN       NaN  \n",
       "2           0.0        0.0        NaN       NaN  \n",
       "3           0.0        0.0        NaN       NaN  \n",
       "4           0.0        0.0        NaN       NaN  \n",
       "5           0.0        0.0        NaN       NaN  \n",
       "6           0.0        0.0        NaN       NaN  \n",
       "7           0.0        0.0        NaN       NaN  \n",
       "8           0.0        0.0        NaN       NaN  \n",
       "9           0.0        0.0        NaN       NaN  \n",
       "10          0.0        0.0        NaN       NaN  \n",
       "11          0.0        0.0        NaN       NaN  \n",
       "12          0.0        0.0        NaN       NaN  \n",
       "13          0.0        0.0        NaN       NaN  \n",
       "14          0.0        0.0        NaN       NaN  \n",
       "15          0.0        0.0        NaN       NaN  \n",
       "16          0.0        0.0        NaN       NaN  \n",
       "17          0.0        0.0        NaN       NaN  \n",
       "18          0.0        0.0        NaN       NaN  \n",
       "19          0.0        0.0        NaN       NaN  \n",
       "20          0.0        0.0        NaN       NaN  \n",
       "21          0.0        0.0        NaN       NaN  \n",
       "22          0.0        0.0        NaN       NaN  \n",
       "23          0.0        0.0        NaN       NaN  \n",
       "24          0.0        0.0        NaN       NaN  \n",
       "25          0.0        0.0        NaN       NaN  \n",
       "26          0.0        0.0        NaN       NaN  \n",
       "27          0.0        0.0        NaN       NaN  \n",
       "28          0.0        0.0        NaN       NaN  \n",
       "29          0.0        0.0        NaN       NaN  \n",
       "...         ...        ...        ...       ...  \n",
       "2447        0.0        0.0        NaN       NaN  \n",
       "2448        0.0        0.0        NaN       NaN  \n",
       "2449        0.0        0.0        NaN       NaN  \n",
       "2450        0.0        0.0        NaN       NaN  \n",
       "2451        0.0        0.0        NaN       NaN  \n",
       "2452        0.0        0.0        NaN       NaN  \n",
       "2453        0.0        0.0        NaN       NaN  \n",
       "2454        0.0        0.0        NaN       NaN  \n",
       "2455        0.0        0.0        NaN       NaN  \n",
       "2456        0.0        0.0        NaN       NaN  \n",
       "2457        0.0        0.0        NaN       NaN  \n",
       "2458        0.0        0.0        NaN       NaN  \n",
       "2459        0.0        0.0        NaN       NaN  \n",
       "2460        0.0        0.0        NaN       NaN  \n",
       "2461        0.0        0.0        NaN       NaN  \n",
       "2462        0.0        0.0        NaN       NaN  \n",
       "2463        0.0        0.0        NaN       NaN  \n",
       "2464        0.0        0.0        NaN       NaN  \n",
       "2465        0.0        0.0        NaN       NaN  \n",
       "2466        0.0        0.0        NaN       NaN  \n",
       "2467        0.0        0.0        NaN       NaN  \n",
       "2468        0.0        0.0        NaN       NaN  \n",
       "2469        0.0        0.0        NaN       NaN  \n",
       "2470        0.0        0.0        NaN       NaN  \n",
       "2471        0.0        0.0        NaN       NaN  \n",
       "2472        0.0        0.0        NaN       NaN  \n",
       "2473        0.0        0.0        NaN       NaN  \n",
       "2474        0.0        0.0        NaN       NaN  \n",
       "2475        0.0        0.0        NaN       NaN  \n",
       "2476        0.0        0.0        NaN       NaN  \n",
       "\n",
       "[2477 rows x 11 columns]"
      ]
     },
     "execution_count": 127,
     "metadata": {},
     "output_type": "execute_result"
    }
   ],
   "source": [
    "conservation_score"
   ]
  },
  {
   "cell_type": "code",
   "execution_count": null,
   "metadata": {},
   "outputs": [
    {
     "name": "stdout",
     "output_type": "stream",
     "text": [
      "Username for 'https://github.com': "
     ]
    }
   ],
   "source": [
    "!git push\n"
   ]
  },
  {
   "cell_type": "code",
   "execution_count": null,
   "metadata": {},
   "outputs": [],
   "source": []
  }
 ],
 "metadata": {
  "kernelspec": {
   "display_name": "Python 3",
   "language": "python",
   "name": "python3"
  },
  "language_info": {
   "codemirror_mode": {
    "name": "ipython",
    "version": 3
   },
   "file_extension": ".py",
   "mimetype": "text/x-python",
   "name": "python",
   "nbconvert_exporter": "python",
   "pygments_lexer": "ipython3",
   "version": "3.5.6"
  },
  "widgets": {
   "application/vnd.jupyter.widget-state+json": {
    "state": {},
    "version_major": 2,
    "version_minor": 0
   }
  }
 },
 "nbformat": 4,
 "nbformat_minor": 4
}
