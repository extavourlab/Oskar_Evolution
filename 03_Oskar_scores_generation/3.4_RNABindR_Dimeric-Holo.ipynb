{
 "cells": [
  {
   "cell_type": "code",
   "execution_count": 229,
   "metadata": {},
   "outputs": [],
   "source": [
    "import numpy as np\n",
    "import pandas as pd\n",
    "import os, progressbar, re, sys, time\n",
    "\n",
    "from Bio import Seq\n",
    "from Bio import AlignIO, SeqIO\n",
    "from Bio.SeqRecord import SeqRecord\n",
    "from Bio.Alphabet import generic_protein\n",
    "from Bio.Align import MultipleSeqAlignment"
   ]
  },
  {
   "cell_type": "code",
   "execution_count": 15,
   "metadata": {},
   "outputs": [],
   "source": [
    "res = []\n",
    "for f in os.listdir('./RNABindR_raw_sources/'):\n",
    "    if \"predictionsFor\" in f:\n",
    "        spec = \" \".join(f.split('.txt')[0].split('_')[-2:])\n",
    "        o = open(os.path.join('.', 'RNABindR_raw_sources', f), 'r')\n",
    "        line = o.readline()\n",
    "        if not 'XP' in line:\n",
    "            ID = line.split('>')[1].split('|')[0][:4]\n",
    "        else:\n",
    "            ID = line.split('>')[1].split('|')[0]\n",
    "        res.append([f, spec, ID])"
   ]
  },
  {
   "cell_type": "code",
   "execution_count": 17,
   "metadata": {},
   "outputs": [],
   "source": [
    "df = pd.DataFrame(res, columns=['path', 'specie', 'ID'])"
   ]
  },
  {
   "cell_type": "code",
   "execution_count": 19,
   "metadata": {},
   "outputs": [],
   "source": [
    "search_results = pd.read_csv('../Data/01_Oskar_identification/oskar_tracker_results/search_results.csv')"
   ]
  },
  {
   "cell_type": "code",
   "execution_count": 112,
   "metadata": {},
   "outputs": [],
   "source": [
    "lost_seq = {\n",
    "    \"ADM0\": \"Messor pergandei\",\n",
    "    \"JXPJ010\": \"Drosophila lebanonensis\",\n",
    "    \"XP_0113\": \"Cerapachys biroi\",\n",
    "    \"PRJN\": \"Atrachya menetriesi\"\n",
    "}\n",
    "\n",
    "lost_seq_meta = {\n",
    "    \"Messor pergandei\" : {\"family\": \"Formicidae\", \"order\": \"Hymenoptera\"},\n",
    "    \"Drosophila lebanonensis\": {\"family\": \"Drosophilidae\", \"order\": \"Diptera\"},\n",
    "    \"Cerapachys biroi\": {\"family\": \"Formicidae\", \"order\": \"Hymenoptera\"},\n",
    "    \"Atrachya menetriesi\": {\"family\": \"Chrysomelidae\", \"order\": \"Coleoptera\"}\n",
    "}"
   ]
  },
  {
   "cell_type": "code",
   "execution_count": 119,
   "metadata": {},
   "outputs": [],
   "source": [
    "def match_ID_spec(x):\n",
    "    res = search_results[search_results['id'].str.match(x)]\n",
    "    if len(res) > 0:\n",
    "        return res['species'].values[0]\n",
    "    else:\n",
    "        return None\n",
    "    \n",
    "def match_spec_spec(x):\n",
    "    res = search_results[search_results['species'].str.lower().str.match(x)]\n",
    "    if len(res) > 0:\n",
    "        return res['species'].values[0]\n",
    "    else:\n",
    "        return None\n",
    "    \n",
    "def merge(y):\n",
    "    if y['matched_ID_spec'] and y['matched_spec_spec']:\n",
    "        if y['matched_ID_spec'] == y['matched_spec_spec']:\n",
    "            return y['matched_ID_spec']\n",
    "        else:\n",
    "            print(y['matched_ID_spec'], y['matched_spec_spec'])\n",
    "    elif y['matched_ID_spec'] or y['matched_spec_spec']:\n",
    "        if y['matched_ID_spec']:\n",
    "            return y['matched_ID_spec']\n",
    "        else:\n",
    "            return y['matched_spec_spec']\n",
    "    else:\n",
    "        return lost_seq[y['ID']]\n",
    "\n",
    "def family(x):\n",
    "    r = search_results[search_results['species'] == x]['family_name']\n",
    "    if len(r) > 0:\n",
    "        return r.values[0]\n",
    "    else:\n",
    "        return lost_seq_meta[x]['family']    \n",
    "    \n",
    "def order(x):\n",
    "    r = search_results[search_results['species'] == x]['order_name']\n",
    "    if len(r) > 0:\n",
    "        return r.values[0]\n",
    "    else:\n",
    "        return lost_seq_meta[x]['order']    "
   ]
  },
  {
   "cell_type": "code",
   "execution_count": 114,
   "metadata": {},
   "outputs": [],
   "source": [
    "df['matched_ID_spec'] = df['ID'].apply(match_ID_spec)"
   ]
  },
  {
   "cell_type": "code",
   "execution_count": 115,
   "metadata": {},
   "outputs": [],
   "source": [
    "df['matched_spec_spec'] = df['specie'].apply(match_spec_spec)"
   ]
  },
  {
   "cell_type": "code",
   "execution_count": 116,
   "metadata": {},
   "outputs": [],
   "source": [
    "df['species'] = df.apply(merge, axis=1)"
   ]
  },
  {
   "cell_type": "code",
   "execution_count": 118,
   "metadata": {},
   "outputs": [],
   "source": [
    "df['family_name'] = df['species'].apply(family)"
   ]
  },
  {
   "cell_type": "code",
   "execution_count": 120,
   "metadata": {},
   "outputs": [],
   "source": [
    "df['order_name'] = df['species'].apply(order)"
   ]
  },
  {
   "cell_type": "code",
   "execution_count": 122,
   "metadata": {},
   "outputs": [],
   "source": [
    "del[df['specie']]\n",
    "del[df['ID']]\n",
    "del[df['matched_ID_spec']]\n",
    "del[df['matched_spec_spec']]"
   ]
  },
  {
   "cell_type": "code",
   "execution_count": 124,
   "metadata": {},
   "outputs": [],
   "source": [
    "df.to_csv('./RNABindR_raw_sources/RNA_binding_meta.csv', index=False)"
   ]
  },
  {
   "cell_type": "markdown",
   "metadata": {},
   "source": [
    "## Remapping Dimeric Monomeric "
   ]
  },
  {
   "cell_type": "code",
   "execution_count": 126,
   "metadata": {},
   "outputs": [],
   "source": [
    "mapping = {\n",
    "        'Gryllidae':\"monomeric\",\n",
    "        'Formicidae':\"monomeric\",\n",
    "        'Culicidae':\"monomeric\",\n",
    "        'Pteromalidae':\"dimeric\",\n",
    "        'Drosophilidae':\"dimeric\",\n",
    "        'Tephritidae':\"dimeric\"\n",
    "}\n",
    "\n",
    "def mapdimer(x):\n",
    "    if x in mapping:\n",
    "        return mapping[x]\n",
    "    else:\n",
    "        return None"
   ]
  },
  {
   "cell_type": "code",
   "execution_count": 127,
   "metadata": {},
   "outputs": [],
   "source": [
    "df['dimer_state'] = df['family_name'].apply(mapdimer)"
   ]
  },
  {
   "cell_type": "code",
   "execution_count": 130,
   "metadata": {},
   "outputs": [],
   "source": [
    "dimer_sate_df = df[~df['dimer_state'].isnull()]"
   ]
  },
  {
   "cell_type": "code",
   "execution_count": 220,
   "metadata": {},
   "outputs": [],
   "source": [
    "# Filter out duplicate sequences\n",
    "tmp = dimer_sate_df.groupby('species', as_index=False).count()\n",
    "duplicated = tmp[tmp[\"path\"] > 1]['species'].values"
   ]
  },
  {
   "cell_type": "code",
   "execution_count": 217,
   "metadata": {},
   "outputs": [
    {
     "name": "stderr",
     "output_type": "stream",
     "text": [
      "/home/lblondel/anaconda3/envs/datascience/lib/python3.5/site-packages/ipykernel_launcher.py:7: SettingWithCopyWarning: \n",
      "A value is trying to be set on a copy of a slice from a DataFrame.\n",
      "Try using .loc[row_indexer,col_indexer] = value instead\n",
      "\n",
      "See the caveats in the documentation: http://pandas.pydata.org/pandas-docs/stable/indexing.html#indexing-view-versus-copy\n",
      "  import sys\n"
     ]
    }
   ],
   "source": [
    "seqlen = []\n",
    "for path, specie, dimer in dimer_sate_df[['path', 'species', 'dimer_state']].values:\n",
    "    f = open(os.path.join('.','RNABindR_raw_sources', path))\n",
    "    lines = f.readlines()\n",
    "    sequence = lines[1].split('sequence:')[1].strip()\n",
    "    seqlen.append(len(sequence))\n",
    "dimer_sate_df['seqlen'] = seqlen"
   ]
  },
  {
   "cell_type": "code",
   "execution_count": 224,
   "metadata": {},
   "outputs": [],
   "source": [
    "idx = dimer_sate_df.groupby(['species'])['seqlen'].transform(max) == dimer_sate_df['seqlen']"
   ]
  },
  {
   "cell_type": "code",
   "execution_count": 191,
   "metadata": {},
   "outputs": [],
   "source": [
    "!mkdir tmp "
   ]
  },
  {
   "cell_type": "code",
   "execution_count": 239,
   "metadata": {},
   "outputs": [
    {
     "data": {
      "text/plain": [
       "70"
      ]
     },
     "execution_count": 239,
     "metadata": {},
     "output_type": "execute_result"
    }
   ],
   "source": [
    "seqs = []\n",
    "for path, specie, dimer in dimer_sate_df[idx][['path', 'species', 'dimer_state']].values:\n",
    "    f = open(os.path.join('.','RNABindR_raw_sources', path))\n",
    "    lines = f.readlines()\n",
    "    sequence = lines[1].split('sequence:')[1].strip()\n",
    "    seq = SeqIO.SeqRecord(Seq.Seq(sequence), id=\"RNABindR_{}\".format(specie), name=\"RNABindR_{}\".format(specie), description=specie)\n",
    "    seqs.append(seq)\n",
    "SeqIO.write(seqs, './tmp/RNABindR_sequences.fasta', 'fasta')"
   ]
  },
  {
   "cell_type": "code",
   "execution_count": 240,
   "metadata": {},
   "outputs": [
    {
     "name": "stdout",
     "output_type": "stream",
     "text": [
      "\n",
      "nadd = 70\n",
      "nthread = 0\n",
      "stacksize: 8192 kb\n",
      "Gap Penalty = -1.53, +0.00, +0.00\n",
      "\n",
      "\n",
      "\n",
      "Making a distance matrix ..\n",
      "\n",
      "There are 1561 ambiguous characters.\n",
      "  401 / 449\n",
      "done.\n",
      "\n",
      "Constructing a UPGMA tree (efffree=0) ... \n",
      "  440 / 449\n",
      "done.\n",
      "\n",
      "Progressive alignment 1/2... \n",
      "STEP   144 / 448 f\n",
      "done.\n",
      "\n",
      "Making a distance matrix from msa.. \n",
      "  400 / 449\n",
      "done.\n",
      "\n",
      "Constructing a UPGMA tree (efffree=1) ... \n",
      "  440 / 449\n",
      "done.\n",
      "\n",
      "Progressive alignment 2/2... \n",
      "STEP   147 / 448 f\n",
      "done.\n",
      "\n",
      "disttbfast (aa) Version 7.310 alg=A, model=BLOSUM62, 1.53, -0.00, -0.00, noshift, amax=0.0\n",
      "0 thread(s)\n",
      "\n",
      "\n",
      "To keep the alignment length, 96 letters were DELETED.\n",
      "To know the positions of deleted letters, rerun the same command with the --mapout option.\n",
      "\n",
      "Strategy:\n",
      " FFT-NS-2 (Fast but rough)\n",
      " Progressive method (guide trees were built 2 times.)\n",
      "\n",
      "If unsure which option to use, try 'mafft --auto input > output'.\n",
      "For more information, see 'mafft --help', 'mafft --man' and the mafft page.\n",
      "\n",
      "The default gap scoring scheme has been changed in version 7.110 (2013 Oct).\n",
      "It tends to insert more gaps into gap-rich regions than previous versions.\n",
      "To disable this change, add the --leavegappyregion option.\n",
      "\n"
     ]
    }
   ],
   "source": [
    "!mafft --add ./tmp/RNABindR_sequences.fasta --keeplength --reorder ../Data/01_Oskar_identification/oskar_tracker_results/oskar_filtered.aligned.fasta > ./tmp/RNABindR_sequences_aligned.fasta"
   ]
  },
  {
   "cell_type": "code",
   "execution_count": 241,
   "metadata": {},
   "outputs": [],
   "source": [
    "align_path = \"./tmp/RNABindR_sequences_aligned.fasta\"\n",
    "align_handle = SeqIO.parse(align_path, 'fasta')\n",
    "alignment = [s for s in align_handle if 'RNABindR' in s.id]"
   ]
  },
  {
   "cell_type": "code",
   "execution_count": 244,
   "metadata": {},
   "outputs": [],
   "source": [
    "species = {\n",
    "    'dimeric': [],\n",
    "    'monomeric': []\n",
    "}\n",
    "sequences = {\n",
    "    'dimeric': [],\n",
    "    'monomeric': []\n",
    "}\n",
    "scores = {\n",
    "    'dimeric': [],\n",
    "    'monomeric': []\n",
    "}\n",
    "for path, specie, dimer in dimer_sate_df[idx][['path', 'species', 'dimer_state']].values:\n",
    "    f = open(os.path.join('.','RNABindR_raw_sources', path))\n",
    "    lines = f.readlines()\n",
    "    sequence = lines[1].split('sequence:')[1].strip()\n",
    "    score = [float(i) for i in lines[3].split(\"predicted score:\")[1].strip().split(',')]\n",
    "    for seq in alignment:\n",
    "        if specie in seq.description:\n",
    "            break\n",
    "    aligned_sequence = []\n",
    "    aligned_score = []\n",
    "    pos = 0\n",
    "    for i in range(len(seq.seq)):\n",
    "        if pos < len(sequence) and seq.seq[i] == sequence[pos]:\n",
    "            aligned_sequence.append(sequence[pos])\n",
    "            aligned_score.append(score[pos])\n",
    "            pos += 1\n",
    "        else:\n",
    "            aligned_sequence.append('-')\n",
    "            aligned_score.append(np.nan)\n",
    "    if \"\".join(aligned_sequence) == seq.seq:\n",
    "        species[dimer].append(specie)\n",
    "        sequences[dimer].append(aligned_sequence)\n",
    "        scores[dimer].append(aligned_score)"
   ]
  },
  {
   "cell_type": "code",
   "execution_count": 274,
   "metadata": {},
   "outputs": [
    {
     "ename": "KeyError",
     "evalue": "'dimeric'",
     "output_type": "error",
     "traceback": [
      "\u001b[1;31m\u001b[0m",
      "\u001b[1;31mKeyError\u001b[0mTraceback (most recent call last)",
      "\u001b[1;32m<ipython-input-274-d5b98c8af9f7>\u001b[0m in \u001b[0;36m<module>\u001b[1;34m()\u001b[0m\n\u001b[1;32m----> 1\u001b[1;33m \u001b[0mdimeric_score\u001b[0m \u001b[1;33m=\u001b[0m \u001b[0mnp\u001b[0m\u001b[1;33m.\u001b[0m\u001b[0mnanmean\u001b[0m\u001b[1;33m(\u001b[0m\u001b[0mnp\u001b[0m\u001b[1;33m.\u001b[0m\u001b[0marray\u001b[0m\u001b[1;33m(\u001b[0m\u001b[0mscores\u001b[0m\u001b[1;33m[\u001b[0m\u001b[1;34m'dimeric'\u001b[0m\u001b[1;33m]\u001b[0m\u001b[1;33m)\u001b[0m\u001b[1;33m,\u001b[0m \u001b[0maxis\u001b[0m\u001b[1;33m=\u001b[0m\u001b[1;36m0\u001b[0m\u001b[1;33m)\u001b[0m\u001b[1;33m\u001b[0m\u001b[0m\n\u001b[0m\u001b[0;32m      2\u001b[0m \u001b[0mmonomeric_score\u001b[0m \u001b[1;33m=\u001b[0m \u001b[0mnp\u001b[0m\u001b[1;33m.\u001b[0m\u001b[0mnanmean\u001b[0m\u001b[1;33m(\u001b[0m\u001b[0mnp\u001b[0m\u001b[1;33m.\u001b[0m\u001b[0marray\u001b[0m\u001b[1;33m(\u001b[0m\u001b[0mscores\u001b[0m\u001b[1;33m[\u001b[0m\u001b[1;34m'monomeric'\u001b[0m\u001b[1;33m]\u001b[0m\u001b[1;33m)\u001b[0m\u001b[1;33m,\u001b[0m \u001b[0maxis\u001b[0m\u001b[1;33m=\u001b[0m\u001b[1;36m0\u001b[0m\u001b[1;33m)\u001b[0m\u001b[1;33m\u001b[0m\u001b[0m\n",
      "\u001b[1;31mKeyError\u001b[0m: 'dimeric'"
     ]
    }
   ],
   "source": [
    "dimeric_score = np.nanmean(np.array(scores['dimeric']), axis=0)\n",
    "monomeric_score = np.nanmean(np.array(scores['monomeric']), axis=0)"
   ]
  },
  {
   "cell_type": "code",
   "execution_count": 260,
   "metadata": {},
   "outputs": [],
   "source": [
    "scores = pd.read_csv('../Data/03_Oskar_scores_generation/CSV/scores.csv')\n",
    "scores['RNABindR_dimeric'] = dimeric_score\n",
    "scores['RNABindR_monomeric'] = monomeric_score\n",
    "scores.to_csv('../Data/03_Oskar_scores_generation/CSV/scores.csv', index=False)"
   ]
  },
  {
   "cell_type": "markdown",
   "metadata": {},
   "source": [
    "# Same for Holo Hemi"
   ]
  },
  {
   "cell_type": "code",
   "execution_count": 262,
   "metadata": {},
   "outputs": [],
   "source": [
    "PGC_mode = {\n",
    "    'Collembola':'Induction',\n",
    "    'Diplura':'Induction',\n",
    "    'Archaeognatha':'Induction',\n",
    "    'Zygentoma':'Induction',\n",
    "    'Odonata':'Induction',\n",
    "    'Ephemeroptera':'Induction',\n",
    "    'Zoraptera':'Induction',\n",
    "    'Dermaptera':'Induction',\n",
    "    'Plecoptera':'Induction',\n",
    "    'Orthoptera':'Induction',\n",
    "    'Mantophasmatodea':'Induction',\n",
    "    'Grylloblattodea':'Induction',\n",
    "    'Embioptera':'Induction',\n",
    "    'Phasmatodea':'Induction',\n",
    "    'Mantodea':'Induction',\n",
    "    'Blattodea':'Induction',\n",
    "    'Isoptera':'Induction',\n",
    "    'Thysanoptera':'Induction',\n",
    "    'Hemiptera':'Induction',\n",
    "    'Psocoptera':'Induction',\n",
    "    'Phthiraptera': 'Induction',\n",
    "    'Hymenoptera':'Inheritance',\n",
    "    'Raphidioptera':'Inheritance',\n",
    "    'Megaloptera':'Inheritance',\n",
    "    'Neuroptera':'Inheritance',\n",
    "    'Strepsiptera':'Inheritance',\n",
    "    'Coleoptera':'Inheritance',\n",
    "    'Trichoptera':'Inheritance',\n",
    "    'Lepidoptera':'Inheritance',\n",
    "    'Siphonaptera':'Inheritance',\n",
    "    'Mecoptera':'Inheritance',\n",
    "    'Diptera':'Inheritance'\n",
    "}\n",
    "\n",
    "def set_germ_cell_formation(x):\n",
    "    return PGC_mode[x]"
   ]
  },
  {
   "cell_type": "code",
   "execution_count": 263,
   "metadata": {},
   "outputs": [],
   "source": [
    "df['pgc_state'] = df['order_name'].apply(set_germ_cell_formation)"
   ]
  },
  {
   "cell_type": "code",
   "execution_count": 264,
   "metadata": {},
   "outputs": [],
   "source": [
    "pgc_state_df = df[~df['pgc_state'].isnull()]"
   ]
  },
  {
   "cell_type": "code",
   "execution_count": 265,
   "metadata": {},
   "outputs": [],
   "source": [
    "# Filter out duplicate sequences\n",
    "tmp = pgc_state_df.groupby('species', as_index=False).count()\n",
    "duplicated = tmp[tmp[\"path\"] > 1]['species'].values"
   ]
  },
  {
   "cell_type": "code",
   "execution_count": 266,
   "metadata": {},
   "outputs": [],
   "source": [
    "seqlen = []\n",
    "for path, specie in pgc_state_df[['path', 'species']].values:\n",
    "    f = open(os.path.join('.','RNABindR_raw_sources', path))\n",
    "    lines = f.readlines()\n",
    "    sequence = lines[1].split('sequence:')[1].strip()\n",
    "    seqlen.append(len(sequence))\n",
    "pgc_state_df['seqlen'] = seqlen"
   ]
  },
  {
   "cell_type": "code",
   "execution_count": 267,
   "metadata": {},
   "outputs": [],
   "source": [
    "idx = pgc_state_df.groupby(['species'])['seqlen'].transform(max) == pgc_state_df['seqlen']"
   ]
  },
  {
   "cell_type": "code",
   "execution_count": 191,
   "metadata": {},
   "outputs": [],
   "source": [
    "!mkdir tmp "
   ]
  },
  {
   "cell_type": "code",
   "execution_count": 269,
   "metadata": {},
   "outputs": [
    {
     "data": {
      "text/plain": [
       "181"
      ]
     },
     "execution_count": 269,
     "metadata": {},
     "output_type": "execute_result"
    }
   ],
   "source": [
    "seqs = []\n",
    "for path, specie in pgc_state_df[idx][['path', 'species']].values:\n",
    "    f = open(os.path.join('.','RNABindR_raw_sources', path))\n",
    "    lines = f.readlines()\n",
    "    sequence = lines[1].split('sequence:')[1].strip()\n",
    "    seq = SeqIO.SeqRecord(Seq.Seq(sequence), id=\"RNABindR_{}\".format(specie), name=\"RNABindR_{}\".format(specie), description=specie)\n",
    "    seqs.append(seq)\n",
    "SeqIO.write(seqs, './tmp/RNABindR_sequences.fasta', 'fasta')"
   ]
  },
  {
   "cell_type": "code",
   "execution_count": 270,
   "metadata": {},
   "outputs": [
    {
     "name": "stdout",
     "output_type": "stream",
     "text": [
      "\n",
      "nadd = 181\n",
      "nthread = 0\n",
      "stacksize: 8192 kb\n",
      "Gap Penalty = -1.53, +0.00, +0.00\n",
      "\n",
      "\n",
      "\n",
      "Making a distance matrix ..\n",
      "\n",
      "There are 1568 ambiguous characters.\n",
      "  501 / 560\n",
      "done.\n",
      "\n",
      "Constructing a UPGMA tree (efffree=0) ... \n",
      "  550 / 560\n",
      "done.\n",
      "\n",
      "Progressive alignment 1/2... \n",
      "STEP   523 / 559 f\n",
      "done.\n",
      "\n",
      "Making a distance matrix from msa.. \n",
      "  500 / 560\n",
      "done.\n",
      "\n",
      "Constructing a UPGMA tree (efffree=1) ... \n",
      "  550 / 560\n",
      "done.\n",
      "\n",
      "Progressive alignment 2/2... \n",
      "STEP   511 / 559 f\n",
      "done.\n",
      "\n",
      "disttbfast (aa) Version 7.310 alg=A, model=BLOSUM62, 1.53, -0.00, -0.00, noshift, amax=0.0\n",
      "0 thread(s)\n",
      "\n",
      "\n",
      "To keep the alignment length, 233 letters were DELETED.\n",
      "To know the positions of deleted letters, rerun the same command with the --mapout option.\n",
      "\n",
      "Strategy:\n",
      " FFT-NS-2 (Fast but rough)\n",
      " Progressive method (guide trees were built 2 times.)\n",
      "\n",
      "If unsure which option to use, try 'mafft --auto input > output'.\n",
      "For more information, see 'mafft --help', 'mafft --man' and the mafft page.\n",
      "\n",
      "The default gap scoring scheme has been changed in version 7.110 (2013 Oct).\n",
      "It tends to insert more gaps into gap-rich regions than previous versions.\n",
      "To disable this change, add the --leavegappyregion option.\n",
      "\n"
     ]
    }
   ],
   "source": [
    "!mafft --add ./tmp/RNABindR_sequences.fasta --keeplength --reorder ../Data/01_Oskar_identification/oskar_tracker_results/oskar_filtered.aligned.fasta > ./tmp/RNABindR_sequences_aligned.fasta"
   ]
  },
  {
   "cell_type": "code",
   "execution_count": 271,
   "metadata": {},
   "outputs": [],
   "source": [
    "align_path = \"./tmp/RNABindR_sequences_aligned.fasta\"\n",
    "align_handle = SeqIO.parse(align_path, 'fasta')\n",
    "alignment = [s for s in align_handle if 'RNABindR' in s.id]"
   ]
  },
  {
   "cell_type": "code",
   "execution_count": 272,
   "metadata": {},
   "outputs": [
    {
     "name": "stdout",
     "output_type": "stream",
     "text": [
      "Palaephatus luteolus\n",
      "Philopotamus ludificatus\n",
      "Corethrella appendiculata\n",
      "Drosophila albomicans\n",
      "Drosophila serrata\n",
      "Cryptocercus wrighti\n",
      "Triarthria setipennis\n",
      "Solenopsis invicta\n",
      "Ceratitis capitata\n",
      "Aedes aegypti\n",
      "Drosophila simulans\n",
      "Euwallacea fornicatus\n",
      "Rhynchophorus ferrugineus\n",
      "Anopheles quadriannulatus\n",
      "Telenomus podisi\n",
      "Atrachya menetriesi\n",
      "Culex tarsalis\n"
     ]
    }
   ],
   "source": [
    "species = {\n",
    "    'Induction': [],\n",
    "    'Inheritance': []\n",
    "}\n",
    "sequences = {\n",
    "    'Induction': [],\n",
    "    'Inheritance': []\n",
    "}\n",
    "scores = {\n",
    "    'Induction': [],\n",
    "    'Inheritance': []\n",
    "}\n",
    "for path, specie, dimer in pgc_state_df[idx][['path', 'species', 'pgc_state']].values:\n",
    "    f = open(os.path.join('.','RNABindR_raw_sources', path))\n",
    "    lines = f.readlines()\n",
    "    sequence = lines[1].split('sequence:')[1].strip()\n",
    "    score = [float(i) for i in lines[3].split(\"predicted score:\")[1].strip().split(',')]\n",
    "    for seq in alignment:\n",
    "        if specie in seq.description:\n",
    "            break\n",
    "    aligned_sequence = []\n",
    "    aligned_score = []\n",
    "    pos = 0\n",
    "    for i in range(len(seq.seq)):\n",
    "        if pos < len(sequence) and seq.seq[i] == sequence[pos]:\n",
    "            aligned_sequence.append(sequence[pos])\n",
    "            aligned_score.append(score[pos])\n",
    "            pos += 1\n",
    "        else:\n",
    "            aligned_sequence.append('-')\n",
    "            aligned_score.append(np.nan)\n",
    "    if \"\".join(aligned_sequence) == seq.seq:\n",
    "        species[dimer].append(specie)\n",
    "        sequences[dimer].append(aligned_sequence)\n",
    "        scores[dimer].append(aligned_score)\n",
    "    else:\n",
    "        print(specie)"
   ]
  },
  {
   "cell_type": "code",
   "execution_count": 273,
   "metadata": {},
   "outputs": [
    {
     "name": "stderr",
     "output_type": "stream",
     "text": [
      "/home/lblondel/anaconda3/envs/datascience/lib/python3.5/site-packages/numpy/lib/nanfunctions.py:703: RuntimeWarning: Mean of empty slice\n",
      "  warnings.warn(\"Mean of empty slice\", RuntimeWarning)\n",
      "/home/lblondel/anaconda3/envs/datascience/lib/python3.5/site-packages/numpy/lib/nanfunctions.py:703: RuntimeWarning: Mean of empty slice\n",
      "  warnings.warn(\"Mean of empty slice\", RuntimeWarning)\n"
     ]
    }
   ],
   "source": [
    "induction_score = np.nanmean(np.array(scores['Induction']), axis=0)\n",
    "inheritance_score = np.nanmean(np.array(scores['Inheritance']), axis=0)"
   ]
  },
  {
   "cell_type": "code",
   "execution_count": 260,
   "metadata": {},
   "outputs": [],
   "source": [
    "scores = pd.read_csv('../Data/03_Oskar_scores_generation/CSV/scores.csv')\n",
    "scores['RNABindR_h'] = induction_score\n",
    "scores['RNABindR_monomeric'] = inheritance_score\n",
    "scores.to_csv('../Data/03_Oskar_scores_generation/CSV/scores.csv', index=False)"
   ]
  },
  {
   "cell_type": "code",
   "execution_count": null,
   "metadata": {},
   "outputs": [],
   "source": []
  }
 ],
 "metadata": {
  "kernelspec": {
   "display_name": "Python 3",
   "language": "python",
   "name": "python3"
  },
  "language_info": {
   "codemirror_mode": {
    "name": "ipython",
    "version": 3
   },
   "file_extension": ".py",
   "mimetype": "text/x-python",
   "name": "python",
   "nbconvert_exporter": "python",
   "pygments_lexer": "ipython3",
   "version": "3.5.6"
  }
 },
 "nbformat": 4,
 "nbformat_minor": 2
}
