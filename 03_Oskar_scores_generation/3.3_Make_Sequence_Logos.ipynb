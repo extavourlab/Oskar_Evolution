{
 "cells": [
  {
   "cell_type": "markdown",
   "metadata": {},
   "source": [
    "# Create Sequence Logos with Weblogo\n",
    "- Author: Leo BLONDEL\n",
    "\n",
    "### Required inputs\n",
    "- ../Data/03_Oskar_scores_generation/CSV/mapping.csv\n",
    "- ../Data/01_Oskar_identification/oskar_tracker_results/oskar_filtered.aligned.fasta\n",
    "\n",
    "### Description\n",
    "Creates Weblogo figures shown in Figure 6 and Figure 7. "
   ]
  },
  {
   "cell_type": "code",
   "execution_count": 5,
   "metadata": {},
   "outputs": [
    {
     "ename": "ImportError",
     "evalue": "No module named 'weblogo'",
     "output_type": "error",
     "traceback": [
      "\u001b[1;31m\u001b[0m",
      "\u001b[1;31mImportError\u001b[0mTraceback (most recent call last)",
      "\u001b[1;32m<ipython-input-5-b7fafed1253a>\u001b[0m in \u001b[0;36m<module>\u001b[1;34m()\u001b[0m\n\u001b[1;32m----> 1\u001b[1;33m \u001b[1;32mimport\u001b[0m \u001b[0mweblogo\u001b[0m\u001b[1;33m\u001b[0m\u001b[0m\n\u001b[0m\u001b[0;32m      2\u001b[0m \u001b[1;32mfrom\u001b[0m \u001b[0mIPython\u001b[0m\u001b[1;33m.\u001b[0m\u001b[0mdisplay\u001b[0m \u001b[1;32mimport\u001b[0m \u001b[0mImage\u001b[0m\u001b[1;33m\u001b[0m\u001b[0m\n\u001b[0;32m      3\u001b[0m \u001b[1;32mimport\u001b[0m \u001b[0mpandas\u001b[0m \u001b[1;32mas\u001b[0m \u001b[0mpd\u001b[0m\u001b[1;33m\u001b[0m\u001b[0m\n",
      "\u001b[1;31mImportError\u001b[0m: No module named 'weblogo'"
     ]
    }
   ],
   "source": [
    "import weblogo\n",
    "from IPython.display import Image \n",
    "import pandas as pd"
   ]
  },
  {
   "cell_type": "code",
   "execution_count": 2,
   "metadata": {},
   "outputs": [
    {
     "ename": "NameError",
     "evalue": "name 'pd' is not defined",
     "output_type": "error",
     "traceback": [
      "\u001b[1;31m\u001b[0m",
      "\u001b[1;31mNameError\u001b[0mTraceback (most recent call last)",
      "\u001b[1;32m<ipython-input-2-acf43359e192>\u001b[0m in \u001b[0;36m<module>\u001b[1;34m()\u001b[0m\n\u001b[1;32m----> 1\u001b[1;33m \u001b[0mmapping\u001b[0m \u001b[1;33m=\u001b[0m \u001b[0mpd\u001b[0m\u001b[1;33m.\u001b[0m\u001b[0mread_csv\u001b[0m\u001b[1;33m(\u001b[0m\u001b[1;34m'../Data/03_Oskar_scores_generation/CSV/mapping.csv'\u001b[0m\u001b[1;33m)\u001b[0m\u001b[1;33m\u001b[0m\u001b[0m\n\u001b[0m",
      "\u001b[1;31mNameError\u001b[0m: name 'pd' is not defined"
     ]
    }
   ],
   "source": [
    "mapping = pd.read_csv('../Data/03_Oskar_scores_generation/CSV/mapping.csv')"
   ]
  },
  {
   "cell_type": "code",
   "execution_count": 91,
   "metadata": {},
   "outputs": [],
   "source": [
    "def get_start_stop(domain, start, stop, seqs):\n",
    "    values = mapping[(mapping['domain'] == domain) & (mapping['structure'].isin(range(start,stop+1)))]['alignment'].values\n",
    "    print(values)\n",
    "    newseqs = []\n",
    "    for i in range(len(seqs)):\n",
    "        seq = seqs[i]\n",
    "        tmp = []\n",
    "        for j in values:\n",
    "            tmp.append(seq[j])\n",
    "        seqs[i] = seq.replace(str(seq), ''.join(tmp))\n",
    "    return seqs"
   ]
  },
  {
   "cell_type": "code",
   "execution_count": 80,
   "metadata": {},
   "outputs": [],
   "source": [
    "f = open(fasta_file)\n",
    "seqs = weblogo.read_seq_data(f)"
   ]
  },
  {
   "cell_type": "code",
   "execution_count": 66,
   "metadata": {},
   "outputs": [],
   "source": [
    "seq = seqs[0]"
   ]
  },
  {
   "cell_type": "code",
   "execution_count": 65,
   "metadata": {},
   "outputs": [
    {
     "data": {
      "text/plain": [
       "'AEH'"
      ]
     },
     "execution_count": 65,
     "metadata": {},
     "output_type": "execute_result"
    }
   ],
   "source": [
    "weblogo.seq.Seq('AEH')"
   ]
  },
  {
   "cell_type": "code",
   "execution_count": 81,
   "metadata": {
    "collapsed": true,
    "jupyter": {
     "outputs_hidden": true
    }
   },
   "outputs": [
    {
     "name": "stdout",
     "output_type": "stream",
     "text": [
      "[301 302 304 305 306]\n"
     ]
    },
    {
     "data": {
      "text/plain": [
       "['KSCI-',\n",
       " 'KSCI-',\n",
       " 'KSCI-',\n",
       " 'KSCI-',\n",
       " 'KSCI-',\n",
       " 'KSCI-',\n",
       " 'KSCI-',\n",
       " 'KSCI-',\n",
       " 'IACIG',\n",
       " 'KSCI-',\n",
       " 'KSIIN',\n",
       " 'ISIIN',\n",
       " 'ISIIN',\n",
       " 'LSIIC',\n",
       " 'TSCIT',\n",
       " 'TSCIT',\n",
       " 'ISLIC',\n",
       " 'ISIIC',\n",
       " 'ISIIC',\n",
       " 'VSIIC',\n",
       " 'ISLIC',\n",
       " 'RT---',\n",
       " 'RSIIC',\n",
       " 'RSILL',\n",
       " 'KSILV',\n",
       " 'KSILV',\n",
       " 'RSILI',\n",
       " 'RSILT',\n",
       " 'RSILT',\n",
       " 'RGMVM',\n",
       " 'KGIIV',\n",
       " 'KSILN',\n",
       " 'KSVHK',\n",
       " 'KSLLS',\n",
       " 'RCLIN',\n",
       " '-----',\n",
       " 'KSILV',\n",
       " 'RSILV',\n",
       " 'KP---',\n",
       " 'RAVIV',\n",
       " 'RGILI',\n",
       " 'RSIIV',\n",
       " 'RCVII',\n",
       " 'RAIII',\n",
       " 'RSVII',\n",
       " 'RSVII',\n",
       " 'RSVII',\n",
       " 'RSVII',\n",
       " 'RSVII',\n",
       " 'RSVII',\n",
       " 'RSVII',\n",
       " 'RSVII',\n",
       " 'RSVII',\n",
       " 'RSVII',\n",
       " 'RSVII',\n",
       " 'RSVII',\n",
       " 'RSVII',\n",
       " 'RSVII',\n",
       " '-----',\n",
       " 'RSVII',\n",
       " 'CSVII',\n",
       " 'RSVII',\n",
       " 'KSIIV',\n",
       " 'KAIII',\n",
       " 'KSIIV',\n",
       " 'RSVII',\n",
       " 'RSVII',\n",
       " 'RSVII',\n",
       " 'KSILV',\n",
       " 'RSILI',\n",
       " 'QNLIK',\n",
       " 'RAILL',\n",
       " 'RSILL',\n",
       " 'RAILM',\n",
       " 'RAILL',\n",
       " 'RAILL',\n",
       " 'RGILL',\n",
       " 'RAILL',\n",
       " 'RAILL',\n",
       " 'RAILL',\n",
       " 'RAILL',\n",
       " 'RAILL',\n",
       " 'RAILL',\n",
       " 'RAILL',\n",
       " 'RAILL',\n",
       " 'RAILL',\n",
       " 'RGILL',\n",
       " 'RAILL',\n",
       " 'RAILL',\n",
       " 'RAILL',\n",
       " 'RAILL',\n",
       " 'RAILL',\n",
       " 'RAILL',\n",
       " 'RGILL',\n",
       " 'RSILL',\n",
       " 'RAILL',\n",
       " 'RAILL',\n",
       " 'RAILL',\n",
       " 'RAILL',\n",
       " 'RAILL',\n",
       " 'RAILL',\n",
       " 'RAILL',\n",
       " 'RAILL',\n",
       " 'RAILL',\n",
       " 'RAILL',\n",
       " 'RAILL',\n",
       " 'RAILL',\n",
       " 'RAILL',\n",
       " 'RAILL',\n",
       " 'RAILL',\n",
       " 'RAILL',\n",
       " 'RAILL',\n",
       " 'RAILL',\n",
       " 'RAILL',\n",
       " 'RAILL',\n",
       " 'RAILL',\n",
       " 'RAILM',\n",
       " 'RAILL',\n",
       " 'RAILL',\n",
       " 'RSILL',\n",
       " 'RAILL',\n",
       " 'RAILL',\n",
       " 'RAILL',\n",
       " 'RAILM',\n",
       " 'RAILM',\n",
       " 'RAILM',\n",
       " 'RAILT',\n",
       " 'RSILL',\n",
       " 'RSILL',\n",
       " 'RAILL',\n",
       " 'RAILL',\n",
       " 'RSILL',\n",
       " 'RAILL',\n",
       " 'RSILL',\n",
       " 'RAILL',\n",
       " 'RAILL',\n",
       " 'RGILL',\n",
       " 'RGILL',\n",
       " 'RGILL',\n",
       " 'KAILT',\n",
       " 'RGILM',\n",
       " 'RGILT',\n",
       " 'RSILT',\n",
       " 'RSILT',\n",
       " 'RSILT',\n",
       " 'RSILL',\n",
       " 'RSILT',\n",
       " 'RSILT',\n",
       " 'KGIIV',\n",
       " 'KSILI',\n",
       " 'RSIIL',\n",
       " 'RSILL',\n",
       " 'RGILM',\n",
       " 'KSIL-',\n",
       " 'KSIL-',\n",
       " 'RSILT',\n",
       " 'RSILT',\n",
       " 'RSILV',\n",
       " 'RSILM',\n",
       " 'RGILI',\n",
       " 'RGILM',\n",
       " 'RAILM',\n",
       " 'RGILM',\n",
       " 'RSILT',\n",
       " 'RSILT',\n",
       " '-----',\n",
       " 'RSILM',\n",
       " 'RSILL',\n",
       " 'RSILL',\n",
       " 'RSILM',\n",
       " 'RSILM',\n",
       " 'RSILL',\n",
       " 'RSCI-',\n",
       " 'KSCI-',\n",
       " 'IACI-',\n",
       " 'KSVI-',\n",
       " 'KAIV-',\n",
       " 'INLLQ',\n",
       " 'KACI-',\n",
       " 'KSCV-',\n",
       " 'KSCI-',\n",
       " 'RAVI-',\n",
       " 'KAVI-',\n",
       " 'KSAI-',\n",
       " 'KSFV-',\n",
       " 'TACI-',\n",
       " 'KALI-',\n",
       " 'TACI-',\n",
       " 'KALI-',\n",
       " 'KSFI-',\n",
       " 'KSFI-',\n",
       " 'KAVI-',\n",
       " 'KSLV-',\n",
       " 'KSLV-',\n",
       " 'KSLI-',\n",
       " 'KSII-',\n",
       " 'KSIV-',\n",
       " 'KSIV-',\n",
       " 'KALI-',\n",
       " 'KAII-',\n",
       " 'KAII-',\n",
       " 'GSISC',\n",
       " 'KSCI-',\n",
       " 'KSCI-',\n",
       " 'KSCI-',\n",
       " 'KACI-',\n",
       " 'RACI-',\n",
       " 'KACI-',\n",
       " 'KSCI-',\n",
       " 'KSII-',\n",
       " 'RACI-',\n",
       " 'KSCI-',\n",
       " 'KSCI-',\n",
       " 'KACI-',\n",
       " 'RSCI-',\n",
       " 'RSCI-',\n",
       " 'KAVI-',\n",
       " 'KALI-',\n",
       " 'KAII-',\n",
       " 'QAII-',\n",
       " 'KSLI-',\n",
       " 'KAII-',\n",
       " 'KALI-',\n",
       " 'KALI-',\n",
       " 'QAII-',\n",
       " 'KALI-',\n",
       " 'KSCI-',\n",
       " 'KSCI-',\n",
       " 'KSCI-',\n",
       " '-----',\n",
       " 'KSCI-',\n",
       " 'KSCI-',\n",
       " 'KSCI-',\n",
       " 'KSCI-',\n",
       " 'KSCI-',\n",
       " 'KSCI-',\n",
       " 'KSCI-',\n",
       " 'KSCI-',\n",
       " 'KSCI-',\n",
       " 'KSCI-',\n",
       " 'KSCI-',\n",
       " 'KSCI-',\n",
       " 'KSCV-',\n",
       " 'KSCI-',\n",
       " 'KSCV-',\n",
       " 'KSCI-',\n",
       " 'KSCI-',\n",
       " 'KSCI-',\n",
       " 'KSCI-',\n",
       " 'SELI-',\n",
       " 'KSCI-',\n",
       " 'KSCI-',\n",
       " 'KSCI-',\n",
       " 'KSCI-',\n",
       " 'KSCI-',\n",
       " 'KSCI-',\n",
       " 'KSCI-',\n",
       " 'KSCI-',\n",
       " 'KKCIS',\n",
       " 'KSCI-',\n",
       " 'KSCI-',\n",
       " 'KSCI-',\n",
       " 'KSCI-',\n",
       " 'KACI-',\n",
       " 'KSCV-',\n",
       " 'KACI-',\n",
       " 'KCCI-',\n",
       " 'KACI-',\n",
       " 'KACI-',\n",
       " 'KACI-',\n",
       " 'KACI-',\n",
       " 'KACV-',\n",
       " 'KACI-',\n",
       " 'KSCI-',\n",
       " 'KSCV-',\n",
       " 'KNLIK',\n",
       " 'KSII-',\n",
       " 'KSCI-',\n",
       " 'KQLLK',\n",
       " 'KSII-',\n",
       " 'RTLIR',\n",
       " 'KSCIT',\n",
       " 'KSCIT',\n",
       " 'KSCIT',\n",
       " 'KACI-',\n",
       " 'KSCI-',\n",
       " 'KACI-',\n",
       " 'KSCI-',\n",
       " 'KSCV-',\n",
       " 'KSCI-',\n",
       " 'KSCI-',\n",
       " 'KSVV-',\n",
       " 'KSCI-',\n",
       " 'RSCI-',\n",
       " 'KSCI-',\n",
       " 'KSCI-',\n",
       " 'KSFI-',\n",
       " 'KSCI-',\n",
       " '-----',\n",
       " 'KSCI-',\n",
       " 'KSCI-',\n",
       " 'KSCI-',\n",
       " 'KSTI-',\n",
       " 'KSTI-',\n",
       " 'KSCI-',\n",
       " 'KSCI-',\n",
       " 'KSCI-',\n",
       " 'KSCI-',\n",
       " 'KSCI-',\n",
       " 'KATI-',\n",
       " 'KATI-',\n",
       " 'SN---',\n",
       " 'KACI-',\n",
       " 'KACI-',\n",
       " 'KSVI-',\n",
       " 'KSCI-',\n",
       " 'KSCI-',\n",
       " 'KACI-',\n",
       " 'KSCI-',\n",
       " 'KSCV-',\n",
       " 'KSCI-',\n",
       " 'KACI-',\n",
       " '-----',\n",
       " 'KSCI-',\n",
       " 'KSCI-',\n",
       " 'KSCI-',\n",
       " 'KSCV-',\n",
       " 'KSCI-',\n",
       " 'KSCL-',\n",
       " 'KSCI-',\n",
       " 'KSCI-',\n",
       " 'KSCI-',\n",
       " 'KSCL-',\n",
       " 'KSCL-',\n",
       " 'KSCI-',\n",
       " 'KSCI-',\n",
       " 'KSCI-',\n",
       " 'KSCI-',\n",
       " 'KSCI-',\n",
       " 'KSCI-',\n",
       " 'KSCI-',\n",
       " 'KSCI-',\n",
       " 'KSCI-',\n",
       " '--MI-',\n",
       " 'KSCI-',\n",
       " 'KSCI-',\n",
       " 'KSIV-',\n",
       " 'RACI-',\n",
       " 'KACV-',\n",
       " 'KSCI-',\n",
       " 'KSCI-',\n",
       " '-----',\n",
       " 'KSCI-',\n",
       " 'KSCI-',\n",
       " 'CQVLH',\n",
       " 'KSCV-',\n",
       " 'KSCI-',\n",
       " 'KSCI-',\n",
       " 'KGVI-',\n",
       " 'RSSL-',\n",
       " 'KAII-',\n",
       " 'KSCV-',\n",
       " '-----',\n",
       " 'KSIVI',\n",
       " 'KSIV-',\n",
       " 'KSCV-',\n",
       " 'KSLV-',\n",
       " 'KS-LA',\n",
       " 'RT---',\n",
       " 'KS-LA',\n",
       " 'HRLVP',\n",
       " 'KSLI-',\n",
       " 'KSFI-',\n",
       " 'KSLI-',\n",
       " 'KSLI-',\n",
       " 'KSLI-',\n",
       " 'KSCI-',\n",
       " 'LKCI-',\n",
       " 'KACI-',\n",
       " 'KSCI-']"
      ]
     },
     "execution_count": 81,
     "metadata": {},
     "output_type": "execute_result"
    }
   ],
   "source": [
    "get_start_stop(\"LOTUSVASA\", start, stop, seqs)"
   ]
  },
  {
   "cell_type": "code",
   "execution_count": 110,
   "metadata": {},
   "outputs": [
    {
     "name": "stdout",
     "output_type": "stream",
     "text": [
      "[300 301 302 304 305 306]\n"
     ]
    },
    {
     "data": {
      "image/png": "[encoded data removed]",
      "text/plain": [
       "<IPython.core.display.Image object>"
      ]
     },
     "metadata": {},
     "output_type": "display_data"
    }
   ],
   "source": [
    "title = \"LOTUS\"\n",
    "domain = \"LOTUSVASA\"\n",
    "fasta_file = \"../Data/01_Oskar_identification/oskar_tracker_results/oskar_filtered.aligned.fasta\"\n",
    "outpath = '../Figures/RAW/Fig6_logo_c.png'\n",
    "start, stop = 160, 165\n",
    "f = open(fasta_file)\n",
    "seqs = weblogo.read_seq_data(f)\n",
    "seqs = get_start_stop(domain, start, stop, seqs)\n",
    "logodata = weblogo.LogoData.from_seqs(seqs)\n",
    "logooptions = weblogo.LogoOptions()\n",
    "logooptions.title = title\n",
    "logooptions.stacks_per_line = 52\n",
    "logooptions.scale_width = False\n",
    "logoformat = weblogo.LogoFormat(logodata, logooptions)\n",
    "png = weblogo.png_print_formatter(logodata, logoformat)\n",
    "f = open(outpath, 'wb')\n",
    "f.write(png)\n",
    "f.close()\n",
    "display(Image(png))"
   ]
  },
  {
   "cell_type": "code",
   "execution_count": 105,
   "metadata": {},
   "outputs": [
    {
     "name": "stdout",
     "output_type": "stream",
     "text": [
      "[429 430 431 432 437 438 439 440 441 442]\n"
     ]
    },
    {
     "data": {
      "image/png": "[encoded data removed]",
      "text/plain": [
       "<IPython.core.display.Image object>"
      ]
     },
     "metadata": {},
     "output_type": "display_data"
    }
   ],
   "source": [
    "title = \"LOTUS\"\n",
    "domain = \"LOTUSVASA\"\n",
    "fasta_file = \"../Data/01_Oskar_identification/oskar_tracker_results/oskar_filtered.aligned.fasta\"\n",
    "outpath = '../Figures/RAW/Fig6_logo_b.png'\n",
    "start, stop = 227, 236\n",
    "f = open(fasta_file)\n",
    "seqs = weblogo.read_seq_data(f)\n",
    "seqs = get_start_stop(domain, start, stop, seqs)\n",
    "logodata = weblogo.LogoData.from_seqs(seqs)\n",
    "logooptions = weblogo.LogoOptions()\n",
    "logooptions.title = title\n",
    "logooptions.stacks_per_line = 52\n",
    "logooptions.scale_width = False\n",
    "logoformat = weblogo.LogoFormat(logodata, logooptions)\n",
    "png = weblogo.png_print_formatter(logodata, logoformat)\n",
    "f = open(outpath, 'wb')\n",
    "f.write(png)\n",
    "f.close()\n",
    "display(Image(png))"
   ]
  },
  {
   "cell_type": "code",
   "execution_count": 106,
   "metadata": {},
   "outputs": [
    {
     "name": "stdout",
     "output_type": "stream",
     "text": [
      "[1106 1107 1108 1109 1110 1111 1112 1113 1114 1115 1116 1117 1118 1119\n",
      " 1120]\n"
     ]
    },
    {
     "data": {
      "image/png": "[encoded data removed]",
      "text/plain": [
       "<IPython.core.display.Image object>"
      ]
     },
     "metadata": {},
     "output_type": "display_data"
    }
   ],
   "source": [
    "title = \"OSK\"\n",
    "domain = \"OSK\"\n",
    "fasta_file = \"../Data/01_Oskar_identification/oskar_tracker_results/oskar_filtered.aligned.fasta\"\n",
    "outpath = '../Figures/RAW/Fig7_logo_c_1.png'\n",
    "start, stop = 422, 436\n",
    "f = open(fasta_file)\n",
    "seqs = weblogo.read_seq_data(f)\n",
    "seqs = get_start_stop(domain, start, stop, seqs)\n",
    "logodata = weblogo.LogoData.from_seqs(seqs)\n",
    "logooptions = weblogo.LogoOptions()\n",
    "logooptions.title = title\n",
    "logooptions.stacks_per_line = 52\n",
    "logooptions.scale_width = False\n",
    "logoformat = weblogo.LogoFormat(logodata, logooptions)\n",
    "png = weblogo.png_print_formatter(logodata, logoformat)\n",
    "f = open(outpath, 'wb')\n",
    "f.write(png)\n",
    "f.close()\n",
    "display(Image(png))"
   ]
  },
  {
   "cell_type": "code",
   "execution_count": 107,
   "metadata": {},
   "outputs": [
    {
     "name": "stdout",
     "output_type": "stream",
     "text": [
      "[1148 1151 1152 1153 1155 1156 1157 1158 1159 1160]\n"
     ]
    },
    {
     "data": {
      "image/png": "[encoded data removed]",
      "text/plain": [
       "<IPython.core.display.Image object>"
      ]
     },
     "metadata": {},
     "output_type": "display_data"
    }
   ],
   "source": [
    "title = \"OSK\"\n",
    "domain = \"OSK\"\n",
    "fasta_file = \"../Data/01_Oskar_identification/oskar_tracker_results/oskar_filtered.aligned.fasta\"\n",
    "outpath = '../Figures/RAW/Fig7_logo_c_2.png'\n",
    "start, stop = 452, 461\n",
    "f = open(fasta_file)\n",
    "seqs = weblogo.read_seq_data(f)\n",
    "seqs = get_start_stop(domain, start, stop, seqs)\n",
    "logodata = weblogo.LogoData.from_seqs(seqs)\n",
    "logooptions = weblogo.LogoOptions()\n",
    "logooptions.title = title\n",
    "logooptions.stacks_per_line = 52\n",
    "logooptions.scale_width = False\n",
    "logoformat = weblogo.LogoFormat(logodata, logooptions)\n",
    "png = weblogo.png_print_formatter(logodata, logoformat)\n",
    "f = open(outpath, 'wb')\n",
    "f.write(png)\n",
    "f.close()\n",
    "display(Image(png))"
   ]
  },
  {
   "cell_type": "code",
   "execution_count": 108,
   "metadata": {},
   "outputs": [
    {
     "name": "stdout",
     "output_type": "stream",
     "text": [
      "[1182 1183 1184 1185 1186 1187 1188 1189 1190 1191 1192 1193 1194]\n"
     ]
    },
    {
     "data": {
      "image/png": "[encoded data removed]",
      "text/plain": [
       "<IPython.core.display.Image object>"
      ]
     },
     "metadata": {},
     "output_type": "display_data"
    }
   ],
   "source": [
    "title = \"OSK\"\n",
    "domain = \"OSK\"\n",
    "fasta_file = \"../Data/01_Oskar_identification/oskar_tracker_results/oskar_filtered.aligned.fasta\"\n",
    "outpath = '../Figures/RAW/Fig7_logo_c_3.png'\n",
    "start, stop = 477, 489\n",
    "f = open(fasta_file)\n",
    "seqs = weblogo.read_seq_data(f)\n",
    "seqs = get_start_stop(domain, start, stop, seqs)\n",
    "logodata = weblogo.LogoData.from_seqs(seqs)\n",
    "logooptions = weblogo.LogoOptions()\n",
    "logooptions.title = title\n",
    "logooptions.stacks_per_line = 52\n",
    "logooptions.scale_width = False\n",
    "logoformat = weblogo.LogoFormat(logodata, logooptions)\n",
    "png = weblogo.png_print_formatter(logodata, logoformat)\n",
    "f = open(outpath, 'wb')\n",
    "f.write(png)\n",
    "f.close()\n",
    "display(Image(png))"
   ]
  },
  {
   "cell_type": "code",
   "execution_count": 109,
   "metadata": {},
   "outputs": [
    {
     "name": "stdout",
     "output_type": "stream",
     "text": [
      "[1303 1322 1323 1324 1325 1326 1327 1328 1332 1333 1334]\n"
     ]
    },
    {
     "data": {
      "image/png": "[encoded data removed]",
      "text/plain": [
       "<IPython.core.display.Image object>"
      ]
     },
     "metadata": {},
     "output_type": "display_data"
    }
   ],
   "source": [
    "title = \"OSK\"\n",
    "domain = \"OSK\"\n",
    "fasta_file = \"../Data/01_Oskar_identification/oskar_tracker_results/oskar_filtered.aligned.fasta\"\n",
    "outpath = '../Figures/RAW/Fig7_logo_c_4.png'\n",
    "start, stop = 516, 526\n",
    "f = open(fasta_file)\n",
    "seqs = weblogo.read_seq_data(f)\n",
    "seqs = get_start_stop(domain, start, stop, seqs)\n",
    "logodata = weblogo.LogoData.from_seqs(seqs)\n",
    "logooptions = weblogo.LogoOptions()\n",
    "logooptions.title = title\n",
    "logooptions.stacks_per_line = 52\n",
    "logooptions.scale_width = False\n",
    "logoformat = weblogo.LogoFormat(logodata, logooptions)\n",
    "png = weblogo.png_print_formatter(logodata, logoformat)\n",
    "f = open(outpath, 'wb')\n",
    "f.write(png)\n",
    "f.close()\n",
    "display(Image(png))"
   ]
  }
 ],
 "metadata": {
  "kernelspec": {
   "display_name": "Python 3",
   "language": "python",
   "name": "python3"
  },
  "language_info": {
   "codemirror_mode": {
    "name": "ipython",
    "version": 3
   },
   "file_extension": ".py",
   "mimetype": "text/x-python",
   "name": "python",
   "nbconvert_exporter": "python",
   "pygments_lexer": "ipython3",
   "version": "3.5.6"
  },
  "widgets": {
   "application/vnd.jupyter.widget-state+json": {
    "state": {},
    "version_major": 2,
    "version_minor": 0
   }
  }
 },
 "nbformat": 4,
 "nbformat_minor": 4
}
