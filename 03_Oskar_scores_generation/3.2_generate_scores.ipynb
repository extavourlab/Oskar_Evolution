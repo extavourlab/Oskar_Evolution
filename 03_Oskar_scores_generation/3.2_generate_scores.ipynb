{
 "cells": [
  {
   "cell_type": "markdown",
   "metadata": {},
   "source": [
    "# Script for generating scores for Pymol visualization\n",
    "- Author: Savandara BESSE & Leo BLONDEL\n",
    "- Creation: 06-30-2017\n",
    "- Last modification : 09-03-2019\n",
    "\n",
    "\n",
    "### Required inputs\n",
    "- ../Data/01_Oskar_identification/oskar_tracker_results/oskar_filtered.aligned.fasta\n",
    "- ../Data/02_Oskar_analyses/2.5/FASTA/OSKAR_Monomeric_alignment.fasta\n",
    "- ../Data/02_Oskar_analyses/2.5/FASTA/OSKAR_Dimeric_alignment.fasta\n",
    "- ../Data/02_Oskar_analyses/2.4/FASTA/OSKAR_hemimetabola.fasta\n",
    "- ../Data/02_Oskar_analyses/2.4/FASTA/OSKAR_holometabola.fasta\n",
    "\n",
    "#### If CSV already generated: \n",
    "- Directly use createTable(CSV_PATH)\n",
    "> Note: logratio.csv and RNABindR_scores.csv need to be provided\n",
    "\n",
    "### Description\n",
    "Computes all possible scores for Oskar alignment using `score_conservation.py` and `besse_blondel_conservation_scores.py`\n",
    "\n",
    "### Generated outputs\n",
    "Available in `./Data/03_Oskar_scores_generation/CSV/`\n",
    "- scores.csv\n",
    "- mapping.csv"
   ]
  },
  {
   "cell_type": "code",
   "execution_count": 297,
   "metadata": {
    "inputHidden": false,
    "outputHidden": false
   },
   "outputs": [],
   "source": [
    "import numpy as np\n",
    "import pandas as pd\n",
    "import os, progressbar, re, sys, time\n",
    "\n",
    "from Bio.Seq import Seq\n",
    "from Bio import AlignIO, SeqIO\n",
    "from Bio.SeqRecord import SeqRecord\n",
    "from Bio.Alphabet import generic_protein\n",
    "from Bio.Align import MultipleSeqAlignment"
   ]
  },
  {
   "cell_type": "markdown",
   "metadata": {},
   "source": [
    "## STEP 1 : Run all Python scripts to generate the scores tables for each alignment (optional if CSV files already generated)"
   ]
  },
  {
   "cell_type": "code",
   "execution_count": 298,
   "metadata": {},
   "outputs": [],
   "source": [
    "fasta_files = {\n",
    "    'OSKAR': \"../Data/01_Oskar_identification/oskar_tracker_results/oskar_filtered.aligned.fasta\",\n",
    "    'OSKAR_Monomers': \"../Data/02_Oskar_analyses/2.5/FASTA/OSKAR_Monomeric_alignment.fasta\",\n",
    "    'OSKAR_Dimers': \"../Data/02_Oskar_analyses/2.5/FASTA/OSKAR_Dimeric_alignment.fasta\",\n",
    "    'OSKAR_Hemimetabola': \"../Data/02_Oskar_analyses/2.4/FASTA/OSKAR_hemimetabola.fasta\",\n",
    "    'OSKAR_Holometabola': \"../Data/02_Oskar_analyses/2.4/FASTA/OSKAR_holometabola.fasta\"\n",
    "}"
   ]
  },
  {
   "cell_type": "code",
   "execution_count": 299,
   "metadata": {},
   "outputs": [],
   "source": [
    "CSV_PATH = '../Data/03_Oskar_scores_generation/CSV'"
   ]
  },
  {
   "cell_type": "code",
   "execution_count": 245,
   "metadata": {},
   "outputs": [],
   "source": [
    "fasta_files = {\n",
    "    'OSKAR_Monomers': \"../Data/02_Oskar_analyses/2.5/FASTA/OSKAR_Monomeric_alignment.fasta\",\n",
    "    'OSKAR_Dimers': \"../Data/02_Oskar_analyses/2.5/FASTA/OSKAR_Dimeric_alignment.fasta\",\n",
    "}"
   ]
  },
  {
   "cell_type": "code",
   "execution_count": 300,
   "metadata": {
    "inputHidden": false,
    "outputHidden": false
   },
   "outputs": [
    {
     "name": "stderr",
     "output_type": "stream",
     "text": [
      "N/A% (0 of 5) |                          | Elapsed Time: 0:00:00 ETA:  --:--:--"
     ]
    },
    {
     "name": "stdout",
     "output_type": "stream",
     "text": [
      "Computing Scores\n",
      " [Elapsed Time: 0:00:00] |                                  | (ETA:  --:--:--) Calculating Weights...\n",
      " [Elapsed Time: 0:00:07] |##################################| (Time:  0:00:07) \n"
     ]
    },
    {
     "name": "stderr",
     "output_type": "stream",
     "text": [
      " 20% (1 of 5) |#####                     | Elapsed Time: 0:00:12 ETA:   0:00:50"
     ]
    },
    {
     "name": "stdout",
     "output_type": "stream",
     "text": [
      "Computing Scores\n",
      " [Elapsed Time: 0:00:00] |                                  | (ETA:  --:--:--) Calculating Weights...\n",
      "^C\n",
      "Traceback (most recent call last):\n",
      "  File \"besse_blondel_conservation_scores.py\", line 276, in <module>\n",
      "    scores.save_Score(score_type, output, weighted)\n",
      "  File \"besse_blondel_conservation_scores.py\", line 172, in save_Score\n",
      "    results = self.get_Score(score_type, weighted)\n",
      "  File \"besse_blondel_conservation_scores.py\", line 160, in get_Score\n",
      "    scores['valdar'].append(self.Score_Valdar(position))\n",
      "  File \"besse_blondel_conservation_scores.py\", line 70, in Score_Valdar\n",
      "    self.get_weight_sequences()\n",
      "  File \"besse_blondel_conservation_scores.py\", line 50, in get_weight_sequences\n",
      "    W.append(self.weight(i))\n",
      "  File \"besse_blondel_conservation_scores.py\", line 42, in weight\n",
      "    w += self.distance_seq(list(self.alignment[i].seq),list(self.alignment[j].seq))\n",
      "  File \"/home/lblondel/.local/lib/python3.5/site-packages/Bio/Seq.py\", line 237, in __getitem__\n",
      "    return self._data[index]\n",
      "KeyboardInterrupt\n",
      " [Elapsed Time: 0:00:09] |##################################| (Time:  0:00:09) \n"
     ]
    },
    {
     "name": "stderr",
     "output_type": "stream",
     "text": [
      " 40% (2 of 5) |##########                | Elapsed Time: 0:00:23 ETA:   0:00:32"
     ]
    },
    {
     "name": "stdout",
     "output_type": "stream",
     "text": [
      "Computing Scores\n",
      " [Elapsed Time: 0:00:00] |                                  | (ETA:  --:--:--) Calculating Weights...\n",
      " [Elapsed Time: 0:00:10] |######                            | (ETA:   0:00:45) ^C\n",
      "Traceback (most recent call last):\n",
      "  File \"besse_blondel_conservation_scores.py\", line 276, in <module>\n",
      "    scores.save_Score(score_type, output, weighted)\n",
      "  File \"besse_blondel_conservation_scores.py\", line 172, in save_Score\n",
      "    results = self.get_Score(score_type, weighted)\n",
      "  File \"besse_blondel_conservation_scores.py\", line 160, in get_Score\n",
      "    scores['valdar'].append(self.Score_Valdar(position))\n",
      "  File \"besse_blondel_conservation_scores.py\", line 85, in Score_Valdar\n",
      "    M = self.valdar_table[Six][Sjx]\n",
      "KeyboardInterrupt\n",
      " [Elapsed Time: 0:00:10] |##################################| (Time:  0:00:10) \n"
     ]
    },
    {
     "name": "stderr",
     "output_type": "stream",
     "text": [
      " 60% (3 of 5) |###############           | Elapsed Time: 0:00:35 ETA:   0:00:22"
     ]
    },
    {
     "name": "stdout",
     "output_type": "stream",
     "text": [
      "^C\n",
      "Traceback (most recent call last):\n",
      "  File \"./score_conservation.py\", line 813, in <module>\n",
      "    names, alignment = read_fasta_alignment(align_file)\n",
      "  File \"./score_conservation.py\", line 664, in read_fasta_alignment\n",
      "    if aa not in iupac_alphabet:\n",
      "KeyboardInterrupt\n",
      "^C\n",
      "Traceback (most recent call last):\n",
      "  File \"besse_blondel_conservation_scores.py\", line 14, in <module>\n",
      "    import pandas as pd\n",
      "  File \"/home/lblondel/.local/lib/python3.5/site-packages/pandas/__init__.py\", line 42, in <module>\n",
      "    from pandas.core.api import *\n",
      "  File \"/home/lblondel/.local/lib/python3.5/site-packages/pandas/core/api.py\", line 10, in <module>\n",
      "    from pandas.core.groupby import Grouper\n",
      "  File \"/home/lblondel/.local/lib/python3.5/site-packages/pandas/core/groupby.py\", line 49, in <module>\n",
      "    from pandas.core.frame import DataFrame\n",
      "  File \"/home/lblondel/.local/lib/python3.5/site-packages/pandas/core/frame.py\", line 67, in <module>\n",
      "    from pandas.core.generic import NDFrame, _shared_docs\n",
      "  File \"/home/lblondel/.local/lib/python3.5/site-packages/pandas/core/generic.py\", line 41, in <module>\n",
      "    import pandas.core.indexing as indexing\n",
      "  File \"/home/lblondel/.local/lib/python3.5/site-packages/pandas/core/indexing.py\", line 41, in <module>\n",
      "    _NS = slice(None, None)\n",
      "KeyboardInterrupt\n"
     ]
    },
    {
     "name": "stderr",
     "output_type": "stream",
     "text": [
      " 80% (4 of 5) |####################      | Elapsed Time: 0:00:35 ETA:   0:00:06"
     ]
    },
    {
     "name": "stdout",
     "output_type": "stream",
     "text": [
      "Computing Scores\n",
      " [Elapsed Time: 0:00:00] |                                  | (ETA:  --:--:--) Calculating Weights...\n",
      "^C\n",
      "Traceback (most recent call last):\n",
      "  File \"besse_blondel_conservation_scores.py\", line 276, in <module>\n",
      "    scores.save_Score(score_type, output, weighted)\n",
      "  File \"besse_blondel_conservation_scores.py\", line 172, in save_Score\n",
      "    results = self.get_Score(score_type, weighted)\n",
      "  File \"besse_blondel_conservation_scores.py\", line 160, in get_Score\n",
      "    scores['valdar'].append(self.Score_Valdar(position))\n",
      "  File \"besse_blondel_conservation_scores.py\", line 70, in Score_Valdar\n",
      "    self.get_weight_sequences()\n",
      "  File \"besse_blondel_conservation_scores.py\", line 50, in get_weight_sequences\n",
      "    W.append(self.weight(i))\n",
      "  File \"besse_blondel_conservation_scores.py\", line 42, in weight\n",
      "    w += self.distance_seq(list(self.alignment[i].seq),list(self.alignment[j].seq))\n",
      "  File \"/home/lblondel/.local/lib/python3.5/site-packages/Bio/Seq.py\", line 230, in __getitem__\n",
      "    def __getitem__(self, index):  # Seq API requirement\n",
      "KeyboardInterrupt\n",
      " [Elapsed Time: 0:00:05] |##################################| (Time:  0:00:05) \n"
     ]
    },
    {
     "name": "stderr",
     "output_type": "stream",
     "text": [
      "100% (5 of 5) |##########################| Elapsed Time: 0:00:42 Time:  0:00:42\n"
     ]
    }
   ],
   "source": [
    "bar = progressbar.ProgressBar()\n",
    "for alignment in bar(fasta_files):\n",
    "    ## JSD_scores\n",
    "    !python2 ./score_conservation.py -o {os.path.join(CSV_PATH, alignment + \"_JSD_scores.csv\")} {fasta_files[alignment]} \n",
    "    !python3 besse_blondel_conservation_scores.py -a {fasta_files[alignment]} -o {os.path.join(CSV_PATH, alignment)}_other_scores.csv  "
   ]
  },
  {
   "cell_type": "code",
   "execution_count": 186,
   "metadata": {},
   "outputs": [],
   "source": [
    "RNA = pd.read_csv('../Data/03_Oskar_scores_generation/CSV/RNABindR_scores.csv')"
   ]
  },
  {
   "cell_type": "code",
   "execution_count": 187,
   "metadata": {},
   "outputs": [],
   "source": [
    "mapping  = pd.read_csv('../Data/03_Oskar_scores_generation/CSV/mapping.csv')"
   ]
  },
  {
   "cell_type": "code",
   "execution_count": 188,
   "metadata": {},
   "outputs": [],
   "source": [
    "RNA = RNA.merge(mapping[['structure', 'alignment']], on=\"structure\")\n",
    "RNA.to_csv('../Data/03_Oskar_scores_generation/CSV/RNABindR_scores.csv', index=False)"
   ]
  },
  {
   "cell_type": "markdown",
   "metadata": {},
   "source": [
    "## STEP 2: Merge CSV tables and make scores.csv table"
   ]
  },
  {
   "cell_type": "code",
   "execution_count": 192,
   "metadata": {
    "inputHidden": false,
    "outputHidden": false
   },
   "outputs": [],
   "source": [
    "def collectScores(CSV_PATH, length):\n",
    "    scores = pd.DataFrame()\n",
    "    scores['position'] = range(length)\n",
    "    for i in range(len(os.listdir(CSV_PATH))) :\n",
    "        CSV = os.listdir(CSV_PATH)[i]\n",
    "        if 'holo_hemi_conservation' in CSV :\n",
    "            tmp = pd.read_csv(os.path.join(CSV_PATH, CSV))\n",
    "            tmp = tmp.rename(columns={'alignment': 'position', 'ratio_log':'Logratio'})\n",
    "            if len(scores) == 0:\n",
    "                scores['position'] = tmp['position']\n",
    "            scores = scores.merge(tmp, on='position', how='outer')\n",
    "        if 'RNABindR' in CSV:\n",
    "            tmp = pd.read_csv(os.path.join(CSV_PATH, CSV))\n",
    "            tmp = tmp.rename(columns={'alignment': 'position'})\n",
    "            scores = scores.merge(tmp, on='position', how='outer')\n",
    "        if 'OSKAR' in CSV: \n",
    "            if 'JSD' in CSV :\n",
    "                if 'Holo' in CSV : \n",
    "                    suf = 'holo'\n",
    "                elif 'Hemi' in CSV :\n",
    "                    suf = 'hemi' \n",
    "                elif 'Dim' in CSV :\n",
    "                    suf = 'dim'\n",
    "                elif 'Mon' in CSV : \n",
    "                    suf = 'mon'\n",
    "                else :\n",
    "                    suf = ''\n",
    "                tmp = pd.read_csv(os.path.join(CSV_PATH, CSV), comment='#', sep='\\t', names=['JSD{}'.format(suf), 'column']).reset_index()\n",
    "                tmp = tmp.rename(columns={'index':'position'})\n",
    "                tmp = tmp[['position', 'JSD{}'.format(suf)]]\n",
    "                tmp = tmp.replace(-1000, 0)\n",
    "                if len(scores) == 0:\n",
    "                    scores['position'] = tmp['position']\n",
    "                scores = scores.merge(tmp, on='position', how='outer')\n",
    "            else : \n",
    "                if 'Holo' in CSV : \n",
    "                    suf = 'holo'\n",
    "                elif 'Hemi' in CSV :\n",
    "                    suf = 'hemi' \n",
    "                elif 'Dim' in CSV :\n",
    "                    suf = 'dim'\n",
    "                elif 'Mon' in CSV : \n",
    "                    suf = 'mon'\n",
    "                else :\n",
    "                    suf = ''\n",
    "                tmp = pd.read_csv(os.path.join(CSV_PATH, CSV))\n",
    "                tmp = tmp.rename(columns={'Unnamed: 0': 'position', 'valdar':'Valdar{}'.format(suf), 'hydro':'Hydro{}'.format(suf),  'elec':'Elec{}'.format(suf) })\n",
    "                if len(scores) == 0:\n",
    "                    scores['position'] = tmp['position']\n",
    "                scores = scores.merge(tmp, on='position', how='outer')\n",
    "    del(scores['domain_x'])\n",
    "    scores = scores.rename(columns={'domain_y':'domain'})\n",
    "    return scores \n",
    "                \n",
    "    # Checking that all the data is here and nothing is missing\n",
    "    for col in scores.columns:\n",
    "        print(col, len(scores[scores[col].isna()]))\n",
    "        if col != 'RNABindR':\n",
    "            assert(len(scores[scores[col].isna()]) == 0)\n",
    "    return scores \n"
   ]
  },
  {
   "cell_type": "code",
   "execution_count": 247,
   "metadata": {},
   "outputs": [],
   "source": [
    "OskarAlignPath = \"../Data/01_Oskar_identification/oskar_tracker_results/oskar_filtered.aligned.fasta\"\n",
    "OskarAlign = SeqIO.parse(OskarAlignPath,'fasta')\n",
    "OskarSeqs = [seq for seq in OskarAlign]"
   ]
  },
  {
   "cell_type": "code",
   "execution_count": 248,
   "metadata": {
    "inputHidden": false,
    "outputHidden": false
   },
   "outputs": [],
   "source": [
    "scores = collectScores(CSV_PATH, len(OskarSeqs[0]))\n",
    "scores.to_csv('../Data/03_Oskar_scores_generation/CSV/scores.csv', index=False)"
   ]
  },
  {
   "cell_type": "code",
   "execution_count": 102,
   "metadata": {},
   "outputs": [],
   "source": [
    "OSK_surface = \"GHTSGTYNdS---iNsDydaylLDfplm--rMELKCrfRRHERvLq-gl-vsgLt-nG-rnRlKrvQlPEGTq-ivnI-s--imrGKPlVQ-eHdfrlliKEmHNMRlVpiltnlaPLgNYCHDKVLCDKiYR-nKFirSECCHLKvId-hsC-inErGVvRfDcfQAspRQVTGSKEPylfwNkI-rqR-lqV-eTSLEY\""
   ]
  },
  {
   "cell_type": "code",
   "execution_count": 111,
   "metadata": {},
   "outputs": [],
   "source": [
    "dmel = [s for s in OskarSeqs if \"melanoga\" in s.description][0]"
   ]
  },
  {
   "cell_type": "code",
   "execution_count": 162,
   "metadata": {},
   "outputs": [
    {
     "data": {
      "text/plain": [
       "1192"
      ]
     },
     "execution_count": 162,
     "metadata": {},
     "output_type": "execute_result"
    }
   ],
   "source": [
    "res = [0 for i in range(dmel.seq.find(\"TSGT\"))]\n",
    "len(res)"
   ]
  },
  {
   "cell_type": "code",
   "execution_count": 163,
   "metadata": {},
   "outputs": [],
   "source": [
    "for i in range(2, len(OSK_surface)):\n",
    "    l = OSK_surface[i]\n",
    "    if l == '-':\n",
    "        res.append(0)\n",
    "    elif l.upper() == l:\n",
    "        res.append(1)\n",
    "    else:\n",
    "        res.append(0.5)"
   ]
  },
  {
   "cell_type": "code",
   "execution_count": 166,
   "metadata": {},
   "outputs": [],
   "source": [
    "for i in range(len(res), len(dmel.seq)):\n",
    "    res.append(0)"
   ]
  },
  {
   "cell_type": "code",
   "execution_count": 167,
   "metadata": {},
   "outputs": [],
   "source": [
    "scores['OSK_surface'] = res"
   ]
  },
  {
   "cell_type": "code",
   "execution_count": 169,
   "metadata": {},
   "outputs": [],
   "source": [
    "scores.to_csv('tmp_scores.csv')"
   ]
  },
  {
   "cell_type": "code",
   "execution_count": 172,
   "metadata": {},
   "outputs": [
    {
     "data": {
      "text/plain": [
       "0.23123268518828735"
      ]
     },
     "execution_count": 172,
     "metadata": {},
     "output_type": "execute_result"
    }
   ],
   "source": [
    "scores[scores['OSK_surface'] == 1]['Valdar'].mean()"
   ]
  },
  {
   "cell_type": "code",
   "execution_count": 175,
   "metadata": {},
   "outputs": [
    {
     "data": {
      "text/plain": [
       "0.23128881162268236"
      ]
     },
     "execution_count": 175,
     "metadata": {},
     "output_type": "execute_result"
    }
   ],
   "source": [
    "scores[scores['OSK_surface'] == 0.5]['Valdar'].mean()"
   ]
  },
  {
   "cell_type": "code",
   "execution_count": 174,
   "metadata": {},
   "outputs": [
    {
     "data": {
      "text/plain": [
       "0.4957269877508402"
      ]
     },
     "execution_count": 174,
     "metadata": {},
     "output_type": "execute_result"
    }
   ],
   "source": [
    "scores[(scores['domain'] == 'OSK') & (scores['OSK_surface'] == 0)]['Valdar'].mean()"
   ]
  },
  {
   "cell_type": "code",
   "execution_count": null,
   "metadata": {},
   "outputs": [],
   "source": [
    "scores[scores['OSK_surface'] == 0]['Valdar'].mean()"
   ]
  },
  {
   "cell_type": "code",
   "execution_count": 176,
   "metadata": {},
   "outputs": [
    {
     "data": {
      "text/plain": [
       "0.5075840381423258"
      ]
     },
     "execution_count": 176,
     "metadata": {},
     "output_type": "execute_result"
    }
   ],
   "source": [
    "scores[(scores['domain'] == 'OSK')]['Valdar'].mean()"
   ]
  },
  {
   "cell_type": "code",
   "execution_count": 177,
   "metadata": {},
   "outputs": [
    {
     "data": {
      "text/plain": [
       "0.4883670619729115"
      ]
     },
     "execution_count": 177,
     "metadata": {},
     "output_type": "execute_result"
    }
   ],
   "source": [
    "scores[(scores['domain'] == 'LOTUSVASA')]['Valdar'].mean()"
   ]
  },
  {
   "cell_type": "code",
   "execution_count": null,
   "metadata": {},
   "outputs": [],
   "source": [
    "scores[scores['position'].isin(range(1380,1393)]"
   ]
  },
  {
   "cell_type": "markdown",
   "metadata": {},
   "source": [
    "### OSK alleles\n",
    "\n",
    "424, 435, 438, 441, 452, 457, 561, 566, 584, 593, 595"
   ]
  },
  {
   "cell_type": "code",
   "execution_count": 282,
   "metadata": {},
   "outputs": [
    {
     "data": {
      "text/plain": [
       "array([465, 468, 472, 473, 478, 539])"
      ]
     },
     "execution_count": 282,
     "metadata": {},
     "output_type": "execute_result"
    }
   ],
   "source": [
    "mapping[mapping['structure'].isin([158, 161, 162, 165, 155, 184])]['alignment'].values"
   ]
  },
  {
   "cell_type": "code",
   "execution_count": 290,
   "metadata": {},
   "outputs": [
    {
     "data": {
      "text/html": [
       "<div>\n",
       "<style>\n",
       "    .dataframe thead tr:only-child th {\n",
       "        text-align: right;\n",
       "    }\n",
       "\n",
       "    .dataframe thead th {\n",
       "        text-align: left;\n",
       "    }\n",
       "\n",
       "    .dataframe tbody tr th {\n",
       "        vertical-align: top;\n",
       "    }\n",
       "</style>\n",
       "<table border=\"1\" class=\"dataframe\">\n",
       "  <thead>\n",
       "    <tr style=\"text-align: right;\">\n",
       "      <th></th>\n",
       "      <th>structure</th>\n",
       "      <th>Dmel_Seq</th>\n",
       "      <th>Valdar</th>\n",
       "      <th>Elec</th>\n",
       "      <th>Hydro</th>\n",
       "    </tr>\n",
       "  </thead>\n",
       "  <tbody>\n",
       "    <tr>\n",
       "      <th>465</th>\n",
       "      <td>155.0</td>\n",
       "      <td>D</td>\n",
       "      <td>0.601302</td>\n",
       "      <td>-0.741425</td>\n",
       "      <td>2.107018</td>\n",
       "    </tr>\n",
       "    <tr>\n",
       "      <th>468</th>\n",
       "      <td>158.0</td>\n",
       "      <td>S</td>\n",
       "      <td>0.420062</td>\n",
       "      <td>0.051451</td>\n",
       "      <td>1.142401</td>\n",
       "    </tr>\n",
       "    <tr>\n",
       "      <th>472</th>\n",
       "      <td>161.0</td>\n",
       "      <td>R</td>\n",
       "      <td>0.694775</td>\n",
       "      <td>0.910290</td>\n",
       "      <td>4.328918</td>\n",
       "    </tr>\n",
       "    <tr>\n",
       "      <th>473</th>\n",
       "      <td>162.0</td>\n",
       "      <td>A</td>\n",
       "      <td>0.638443</td>\n",
       "      <td>0.005277</td>\n",
       "      <td>1.255594</td>\n",
       "    </tr>\n",
       "    <tr>\n",
       "      <th>478</th>\n",
       "      <td>165.0</td>\n",
       "      <td>L</td>\n",
       "      <td>0.090067</td>\n",
       "      <td>0.009235</td>\n",
       "      <td>-0.291293</td>\n",
       "    </tr>\n",
       "    <tr>\n",
       "      <th>539</th>\n",
       "      <td>184.0</td>\n",
       "      <td>L</td>\n",
       "      <td>0.486447</td>\n",
       "      <td>-0.002639</td>\n",
       "      <td>-0.689024</td>\n",
       "    </tr>\n",
       "  </tbody>\n",
       "</table>\n",
       "</div>"
      ],
      "text/plain": [
       "     structure Dmel_Seq    Valdar      Elec     Hydro\n",
       "465      155.0        D  0.601302 -0.741425  2.107018\n",
       "468      158.0        S  0.420062  0.051451  1.142401\n",
       "472      161.0        R  0.694775  0.910290  4.328918\n",
       "473      162.0        A  0.638443  0.005277  1.255594\n",
       "478      165.0        L  0.090067  0.009235 -0.291293\n",
       "539      184.0        L  0.486447 -0.002639 -0.689024"
      ]
     },
     "execution_count": 290,
     "metadata": {},
     "output_type": "execute_result"
    }
   ],
   "source": [
    "scores[scores['position'].isin([465, 468, 472, 473, 478, 539])][['structure', 'Dmel_Seq', 'Valdar', 'Elec', 'Hydro']]"
   ]
  },
  {
   "cell_type": "code",
   "execution_count": 296,
   "metadata": {},
   "outputs": [
    {
     "data": {
      "text/html": [
       "<div>\n",
       "<style>\n",
       "    .dataframe thead tr:only-child th {\n",
       "        text-align: right;\n",
       "    }\n",
       "\n",
       "    .dataframe thead th {\n",
       "        text-align: left;\n",
       "    }\n",
       "\n",
       "    .dataframe tbody tr th {\n",
       "        vertical-align: top;\n",
       "    }\n",
       "</style>\n",
       "<table border=\"1\" class=\"dataframe\">\n",
       "  <thead>\n",
       "    <tr style=\"text-align: right;\">\n",
       "      <th></th>\n",
       "      <th>structure</th>\n",
       "      <th>Dmel_Seq</th>\n",
       "      <th>Valdarholo</th>\n",
       "      <th>Valdarhemi</th>\n",
       "      <th>Elecholo</th>\n",
       "      <th>Elechemi</th>\n",
       "      <th>Hydroholo</th>\n",
       "      <th>Hydrohemi</th>\n",
       "    </tr>\n",
       "  </thead>\n",
       "  <tbody>\n",
       "    <tr>\n",
       "      <th>465</th>\n",
       "      <td>155.0</td>\n",
       "      <td>D</td>\n",
       "      <td>0.610468</td>\n",
       "      <td>0.504420</td>\n",
       "      <td>-0.749280</td>\n",
       "      <td>-0.656250</td>\n",
       "      <td>2.141412</td>\n",
       "      <td>1.734063</td>\n",
       "    </tr>\n",
       "    <tr>\n",
       "      <th>468</th>\n",
       "      <td>158.0</td>\n",
       "      <td>S</td>\n",
       "      <td>0.427892</td>\n",
       "      <td>0.413289</td>\n",
       "      <td>0.053314</td>\n",
       "      <td>0.031250</td>\n",
       "      <td>1.134294</td>\n",
       "      <td>1.230312</td>\n",
       "    </tr>\n",
       "    <tr>\n",
       "      <th>472</th>\n",
       "      <td>161.0</td>\n",
       "      <td>R</td>\n",
       "      <td>0.695469</td>\n",
       "      <td>0.747159</td>\n",
       "      <td>0.912104</td>\n",
       "      <td>0.890625</td>\n",
       "      <td>4.287752</td>\n",
       "      <td>4.775312</td>\n",
       "    </tr>\n",
       "    <tr>\n",
       "      <th>473</th>\n",
       "      <td>162.0</td>\n",
       "      <td>A</td>\n",
       "      <td>0.636110</td>\n",
       "      <td>0.730870</td>\n",
       "      <td>0.002882</td>\n",
       "      <td>0.031250</td>\n",
       "      <td>1.209942</td>\n",
       "      <td>1.750625</td>\n",
       "    </tr>\n",
       "    <tr>\n",
       "      <th>478</th>\n",
       "      <td>165.0</td>\n",
       "      <td>L</td>\n",
       "      <td>0.106256</td>\n",
       "      <td>0.000000</td>\n",
       "      <td>0.008646</td>\n",
       "      <td>0.015625</td>\n",
       "      <td>-0.331873</td>\n",
       "      <td>0.148750</td>\n",
       "    </tr>\n",
       "    <tr>\n",
       "      <th>539</th>\n",
       "      <td>184.0</td>\n",
       "      <td>L</td>\n",
       "      <td>0.497876</td>\n",
       "      <td>0.396095</td>\n",
       "      <td>0.005764</td>\n",
       "      <td>-0.093750</td>\n",
       "      <td>-0.732450</td>\n",
       "      <td>-0.218125</td>\n",
       "    </tr>\n",
       "  </tbody>\n",
       "</table>\n",
       "</div>"
      ],
      "text/plain": [
       "     structure Dmel_Seq  Valdarholo  Valdarhemi  Elecholo  Elechemi  \\\n",
       "465      155.0        D    0.610468    0.504420 -0.749280 -0.656250   \n",
       "468      158.0        S    0.427892    0.413289  0.053314  0.031250   \n",
       "472      161.0        R    0.695469    0.747159  0.912104  0.890625   \n",
       "473      162.0        A    0.636110    0.730870  0.002882  0.031250   \n",
       "478      165.0        L    0.106256    0.000000  0.008646  0.015625   \n",
       "539      184.0        L    0.497876    0.396095  0.005764 -0.093750   \n",
       "\n",
       "     Hydroholo  Hydrohemi  \n",
       "465   2.141412   1.734063  \n",
       "468   1.134294   1.230312  \n",
       "472   4.287752   4.775312  \n",
       "473   1.209942   1.750625  \n",
       "478  -0.331873   0.148750  \n",
       "539  -0.732450  -0.218125  "
      ]
     },
     "execution_count": 296,
     "metadata": {},
     "output_type": "execute_result"
    }
   ],
   "source": [
    "scores[scores['position'].isin([465, 468, 472, 473, 478, 539])][['structure', 'Dmel_Seq', 'Valdarholo', 'Valdarhemi', 'Elecholo', 'Elechemi', 'Hydroholo', 'Hydrohemi']]"
   ]
  },
  {
   "cell_type": "code",
   "execution_count": 295,
   "metadata": {},
   "outputs": [
    {
     "data": {
      "text/plain": [
       "Index(['position', 'RNABindR', 'structure', 'Dmel_Seq', 'JSDmon', 'hemi_elec',\n",
       "       'hemi_valdar', 'holo_elec', 'holo_valdar', 'domain', 'ratio',\n",
       "       'Logratio', 'log_ratio', 'JSDholo', 'Elecholo', 'Hydroholo',\n",
       "       'Valdarholo', 'Elecdim', 'Valdardim', 'Hydrodim', 'JSD', 'JSDhemi',\n",
       "       'Elec', 'Hydro', 'Valdar', 'Valdarmon', 'Elecmon', 'Hydromon', 'JSDdim',\n",
       "       'Valdarhemi', 'Hydrohemi', 'Elechemi'],\n",
       "      dtype='object')"
      ]
     },
     "execution_count": 295,
     "metadata": {},
     "output_type": "execute_result"
    }
   ],
   "source": [
    "scores.columns"
   ]
  },
  {
   "cell_type": "code",
   "execution_count": 294,
   "metadata": {},
   "outputs": [
    {
     "data": {
      "text/html": [
       "<div>\n",
       "<style>\n",
       "    .dataframe thead tr:only-child th {\n",
       "        text-align: right;\n",
       "    }\n",
       "\n",
       "    .dataframe thead th {\n",
       "        text-align: left;\n",
       "    }\n",
       "\n",
       "    .dataframe tbody tr th {\n",
       "        vertical-align: top;\n",
       "    }\n",
       "</style>\n",
       "<table border=\"1\" class=\"dataframe\">\n",
       "  <thead>\n",
       "    <tr style=\"text-align: right;\">\n",
       "      <th></th>\n",
       "      <th>structure</th>\n",
       "      <th>Dmel_Seq</th>\n",
       "      <th>Valdardim</th>\n",
       "      <th>Valdarmon</th>\n",
       "      <th>Elecdim</th>\n",
       "      <th>Elecmon</th>\n",
       "      <th>Hydrodim</th>\n",
       "      <th>Hydromon</th>\n",
       "    </tr>\n",
       "  </thead>\n",
       "  <tbody>\n",
       "    <tr>\n",
       "      <th>465</th>\n",
       "      <td>155.0</td>\n",
       "      <td>D</td>\n",
       "      <td>0.809940</td>\n",
       "      <td>0.798875</td>\n",
       "      <td>-0.953488</td>\n",
       "      <td>-0.878788</td>\n",
       "      <td>2.620349</td>\n",
       "      <td>1.669545</td>\n",
       "    </tr>\n",
       "    <tr>\n",
       "      <th>468</th>\n",
       "      <td>158.0</td>\n",
       "      <td>S</td>\n",
       "      <td>0.525440</td>\n",
       "      <td>0.565621</td>\n",
       "      <td>0.000000</td>\n",
       "      <td>0.090909</td>\n",
       "      <td>0.610930</td>\n",
       "      <td>0.229848</td>\n",
       "    </tr>\n",
       "    <tr>\n",
       "      <th>472</th>\n",
       "      <td>161.0</td>\n",
       "      <td>R</td>\n",
       "      <td>0.865410</td>\n",
       "      <td>0.736631</td>\n",
       "      <td>0.976744</td>\n",
       "      <td>0.931818</td>\n",
       "      <td>3.858140</td>\n",
       "      <td>4.574545</td>\n",
       "    </tr>\n",
       "    <tr>\n",
       "      <th>473</th>\n",
       "      <td>162.0</td>\n",
       "      <td>A</td>\n",
       "      <td>0.682488</td>\n",
       "      <td>0.836787</td>\n",
       "      <td>0.000000</td>\n",
       "      <td>0.000000</td>\n",
       "      <td>0.613256</td>\n",
       "      <td>1.740303</td>\n",
       "    </tr>\n",
       "    <tr>\n",
       "      <th>478</th>\n",
       "      <td>165.0</td>\n",
       "      <td>L</td>\n",
       "      <td>0.616669</td>\n",
       "      <td>0.127867</td>\n",
       "      <td>0.000000</td>\n",
       "      <td>0.007576</td>\n",
       "      <td>-1.354884</td>\n",
       "      <td>-0.455606</td>\n",
       "    </tr>\n",
       "    <tr>\n",
       "      <th>539</th>\n",
       "      <td>184.0</td>\n",
       "      <td>L</td>\n",
       "      <td>0.495584</td>\n",
       "      <td>0.809248</td>\n",
       "      <td>0.011628</td>\n",
       "      <td>0.015152</td>\n",
       "      <td>0.577209</td>\n",
       "      <td>-1.503030</td>\n",
       "    </tr>\n",
       "  </tbody>\n",
       "</table>\n",
       "</div>"
      ],
      "text/plain": [
       "     structure Dmel_Seq  Valdardim  Valdarmon   Elecdim   Elecmon  Hydrodim  \\\n",
       "465      155.0        D   0.809940   0.798875 -0.953488 -0.878788  2.620349   \n",
       "468      158.0        S   0.525440   0.565621  0.000000  0.090909  0.610930   \n",
       "472      161.0        R   0.865410   0.736631  0.976744  0.931818  3.858140   \n",
       "473      162.0        A   0.682488   0.836787  0.000000  0.000000  0.613256   \n",
       "478      165.0        L   0.616669   0.127867  0.000000  0.007576 -1.354884   \n",
       "539      184.0        L   0.495584   0.809248  0.011628  0.015152  0.577209   \n",
       "\n",
       "     Hydromon  \n",
       "465  1.669545  \n",
       "468  0.229848  \n",
       "472  4.574545  \n",
       "473  1.740303  \n",
       "478 -0.455606  \n",
       "539 -1.503030  "
      ]
     },
     "execution_count": 294,
     "metadata": {},
     "output_type": "execute_result"
    }
   ],
   "source": [
    "scores[scores['position'].isin([465, 468, 472, 473, 478, 539])][['structure', 'Dmel_Seq', 'Valdardim', 'Valdarmon', 'Elecdim', 'Elecmon', 'Hydrodim', 'Hydromon']]"
   ]
  },
  {
   "cell_type": "code",
   "execution_count": null,
   "metadata": {},
   "outputs": [],
   "source": [
    "mapping[mapping['structure'].isin([424, 435, 438, 441, 452, 457, 561, 566, 584, 593, 595])]"
   ]
  },
  {
   "cell_type": "markdown",
   "metadata": {},
   "source": [
    "# STEP 3: Create base mapping table"
   ]
  },
  {
   "cell_type": "code",
   "execution_count": 23,
   "metadata": {},
   "outputs": [],
   "source": [
    "df = pd.read_csv('../Data/03_Oskar_scores_generation/CSV/structure_dmel_mapping.csv')"
   ]
  },
  {
   "cell_type": "code",
   "execution_count": 24,
   "metadata": {},
   "outputs": [],
   "source": [
    "handle = SeqIO.parse('../Data/01_Oskar_identification/oskar_tracker_results/oskar_filtered.aligned.fasta', 'fasta')\n",
    "dmel = [seq for seq in handle if 'melanogaster' in seq.description][0]"
   ]
  },
  {
   "cell_type": "code",
   "execution_count": 25,
   "metadata": {},
   "outputs": [],
   "source": [
    "def make_map(df, domain, seq):\n",
    "    results = []\n",
    "    for domain in df['domain'].unique(): \n",
    "        PDB_pos = df[df['domain'] == domain]['structure'].values\n",
    "        domain_seq = df[df['domain'] == domain]['Dmel_Seq'].values\n",
    "        pos = 0\n",
    "        #Get a unique nMer that binds\n",
    "        for n in range(2,10):\n",
    "            nMer = ''.join(domain_seq[:n])\n",
    "            if seq.seq.count(nMer) == 1:\n",
    "                break\n",
    "        start_pos = seq.seq.find(nMer)\n",
    "        mapping = {}\n",
    "        check = {}\n",
    "\n",
    "        domain_index = 0\n",
    "        for pos in range(start_pos, len(seq)):\n",
    "            if domain_seq[domain_index] == seq.seq[pos]:\n",
    "                mapping[PDB_pos[domain_index]] = pos\n",
    "                check[PDB_pos[domain_index]] = seq.seq[pos]\n",
    "                domain_index += 1\n",
    "            if domain_index >= len(domain_seq):\n",
    "                break\n",
    "        recovered_seq = \"\"\n",
    "        for key in sorted(check.keys()):\n",
    "            recovered_seq += check[key]\n",
    "        assert(''.join(domain_seq) == recovered_seq)\n",
    "        for key in sorted(mapping.keys()):\n",
    "            results.append([key, domain, mapping[key]])\n",
    "    res = pd.DataFrame(results, columns=['structure', 'domain', 'alignment'])\n",
    "    return res"
   ]
  },
  {
   "cell_type": "code",
   "execution_count": 26,
   "metadata": {},
   "outputs": [],
   "source": [
    "mapping = make_map(df, 'OSK', dmel)"
   ]
  },
  {
   "cell_type": "code",
   "execution_count": 27,
   "metadata": {},
   "outputs": [],
   "source": [
    "mapping = df.merge(mapping, on=['structure', 'domain'], how='outer')"
   ]
  },
  {
   "cell_type": "code",
   "execution_count": 66,
   "metadata": {},
   "outputs": [],
   "source": [
    "mapping.to_csv('../Data/03_Oskar_scores_generation/CSV/mapping.csv')"
   ]
  },
  {
   "cell_type": "markdown",
   "metadata": {},
   "source": [
    "## STEP 4 : Create RNABindR scores table (Run if RNABindR\\_scores.csv not provided)"
   ]
  },
  {
   "cell_type": "markdown",
   "metadata": {},
   "source": [
    "### 1. Format OSKAR alignment into dataframe"
   ]
  },
  {
   "cell_type": "code",
   "execution_count": 9,
   "metadata": {
    "inputHidden": false,
    "outputHidden": false
   },
   "outputs": [],
   "source": [
    "fastaFile = '../Data/01_Oskar_identification/oskar_tracker_results/oskar_filtered.aligned.fasta'\n",
    "MSA = AlignIO.read(open(fastaFile), 'fasta')\n",
    "length = MSA.get_alignment_length()\n",
    "records = list(SeqIO.parse(fastaFile, 'fasta'))\n",
    "\n",
    "ID = [record.id for record in records]\n",
    "seq = [str(record.seq) for record in records]\n",
    "description = [record.description for record in records]\n",
    "description = [descr.split('|') for descr in description]\n",
    "description = [descr[len(descr)-1] for descr in description]\n",
    "\n",
    "seqInfos = [ID, description, seq]\n",
    "MSA_DF = pd.DataFrame(data=seqInfos).T\n",
    "MSA_DF.columns = ['ID', 'Description', 'Sequence']"
   ]
  },
  {
   "cell_type": "markdown",
   "metadata": {},
   "source": [
    "### 2. Create alignment mapping table"
   ]
  },
  {
   "cell_type": "code",
   "execution_count": 10,
   "metadata": {
    "inputHidden": false,
    "outputHidden": false
   },
   "outputs": [],
   "source": [
    "def MSA_MAP(MSA_DF):\n",
    "    alignment_mapping = {}\n",
    "\n",
    "    for index in MSA_DF.index:\n",
    "        name = MSA_DF['ID'][index]\n",
    "        List = []\n",
    "        cpt = 0\n",
    "        for i in MSA_DF['Sequence'][index]:\n",
    "            if i != '-':\n",
    "                List.append(cpt)\n",
    "            cpt += 1\n",
    "        alignment_mapping[name] = List\n",
    "    return alignment_mapping "
   ]
  },
  {
   "cell_type": "code",
   "execution_count": 11,
   "metadata": {
    "inputHidden": false,
    "outputHidden": false
   },
   "outputs": [],
   "source": [
    "alignment_mapping = MSA_MAP(MSA_DF)"
   ]
  },
  {
   "cell_type": "markdown",
   "metadata": {},
   "source": [
    "### 3. Collect Oskar sequences into a dictionary"
   ]
  },
  {
   "cell_type": "code",
   "execution_count": 12,
   "metadata": {
    "inputHidden": false,
    "outputHidden": false
   },
   "outputs": [],
   "source": [
    "seqFile = '../Data/01_Oskar_identification/oskar_tracker_results/oskar_filtered.fasta'\n",
    "\n",
    "records = list(SeqIO.parse(seqFile, 'fasta'))\n",
    "ID = [record.id for record in records]\n",
    "seq = [str(record.seq) for record in records]\n",
    "\n",
    "oskInfos = {}\n",
    "for i in range(len(ID)) :\n",
    "    oskInfos[seq[i]] = ID[i]"
   ]
  },
  {
   "cell_type": "markdown",
   "metadata": {
    "inputHidden": false,
    "outputHidden": false
   },
   "source": [
    "### 4. Collect scores for RNA prediction from RNABindR outputs\n",
    "\n",
    "#### A. Collect RNABindR scores per protein positions"
   ]
  },
  {
   "cell_type": "code",
   "execution_count": 13,
   "metadata": {
    "inputHidden": false,
    "outputHidden": false
   },
   "outputs": [],
   "source": [
    "def return_id(seq):\n",
    "    if seq in oskInfos.keys():\n",
    "        return oskInfos[seq]"
   ]
  },
  {
   "cell_type": "code",
   "execution_count": 14,
   "metadata": {
    "inputHidden": false,
    "outputHidden": false
   },
   "outputs": [],
   "source": [
    "rna_scores = {}\n",
    "cpt = 0\n",
    "RNABindR_PATH = './RNABindR_raw_sources'\n",
    "for file in os.listdir(RNABindR_PATH):\n",
    "    score_file = open(os.path.join(RNABindR_PATH, file))\n",
    "    allLines = [line for line in score_file.readlines()]\n",
    "    score_file.close()\n",
    "    sequence = allLines[1].replace('sequence:\\t\\t','').strip('\\n')\n",
    "    scores = allLines[3].strip('\\n').replace('predicted score:\\t','').split(',')\n",
    "    name = return_id(sequence)\n",
    "    if name !='None':\n",
    "        rna_scores[name] = scores"
   ]
  },
  {
   "cell_type": "markdown",
   "metadata": {},
   "source": [
    "#### B. Add nan numbers to represent gap positions for each protein"
   ]
  },
  {
   "cell_type": "code",
   "execution_count": 15,
   "metadata": {
    "inputHidden": false,
    "outputHidden": false
   },
   "outputs": [],
   "source": [
    "def get_position(ID, position):\n",
    "    if position in alignment_mapping[ID]:\n",
    "        return alignment_mapping[ID].index(position)"
   ]
  },
  {
   "cell_type": "code",
   "execution_count": 16,
   "metadata": {
    "inputHidden": false,
    "outputHidden": false
   },
   "outputs": [],
   "source": [
    "scores_matrix = {}\n",
    "for ID in rna_scores.keys() :\n",
    "    if ID in MSA_DF['ID'].values:\n",
    "        name = ID\n",
    "        List = []\n",
    "        for i in range(length):\n",
    "            indice = get_position(name,i)   \n",
    "            if indice :\n",
    "                List.append(float(rna_scores[ID][indice]))             \n",
    "            else :\n",
    "                List.append(float('Nan'))\n",
    "        scores_matrix[name] = List"
   ]
  },
  {
   "cell_type": "markdown",
   "metadata": {},
   "source": [
    "#### C. Save final table score"
   ]
  },
  {
   "cell_type": "code",
   "execution_count": 18,
   "metadata": {
    "inputHidden": false,
    "outputHidden": false
   },
   "outputs": [],
   "source": [
    "DF = pd.DataFrame.from_dict(scores_matrix).T\n",
    "DF = DF.fillna(0)\n",
    "\n",
    "Scores = []\n",
    "Prediction = []\n",
    "for column in DF.columns:\n",
    "    score = sum(DF[column])/len(DF.index)\n",
    "    Scores.append(score)\n",
    "    \n",
    "RNA_scores_df = pd.DataFrame(Scores,columns=['scores']).reset_index()\n",
    "RNA_scores_df = RNA_scores_df.rename(columns={'index':'position'})"
   ]
  },
  {
   "cell_type": "code",
   "execution_count": 186,
   "metadata": {
    "inputHidden": false,
    "outputHidden": false
   },
   "outputs": [],
   "source": [
    "RNA_scores_df.to_csv('../Data/03_Oskar_scores_generation/CSV/RNABindR_scores.csv', index=False)"
   ]
  }
 ],
 "metadata": {
  "kernel_info": {
   "name": "python3"
  },
  "kernelspec": {
   "display_name": "Python 3",
   "language": "python",
   "name": "python3"
  },
  "language_info": {
   "codemirror_mode": {
    "name": "ipython",
    "version": 3
   },
   "file_extension": ".py",
   "mimetype": "text/x-python",
   "name": "python",
   "nbconvert_exporter": "python",
   "pygments_lexer": "ipython3",
   "version": "3.7.8"
  },
  "widgets": {
   "application/vnd.jupyter.widget-state+json": {
    "state": {},
    "version_major": 2,
    "version_minor": 0
   }
  }
 },
 "nbformat": 4,
 "nbformat_minor": 4
}
